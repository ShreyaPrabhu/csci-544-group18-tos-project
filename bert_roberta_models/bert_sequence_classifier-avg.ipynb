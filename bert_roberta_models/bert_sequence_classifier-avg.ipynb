{
 "cells": [
  {
   "cell_type": "markdown",
   "id": "16b53c15",
   "metadata": {},
   "source": [
    "#### BERT Sequence Classifier Reference Blogpost \n",
    "https://towardsdatascience.com/text-classification-with-bert-in-pytorch-887965e5820f"
   ]
  },
  {
   "cell_type": "code",
   "execution_count": 1,
   "id": "2746b124",
   "metadata": {},
   "outputs": [
    {
     "name": "stdout",
     "output_type": "stream",
     "text": [
      "Requirement already satisfied: torch==1.9.0 in /Library/Frameworks/Python.framework/Versions/3.8/lib/python3.8/site-packages (1.9.0)\n",
      "Requirement already satisfied: typing-extensions in /Library/Frameworks/Python.framework/Versions/3.8/lib/python3.8/site-packages (from torch==1.9.0) (4.4.0)\n"
     ]
    }
   ],
   "source": [
    "!pip install -U torch==1.9.0"
   ]
  },
  {
   "cell_type": "code",
   "execution_count": 2,
   "id": "a6dc0751",
   "metadata": {},
   "outputs": [
    {
     "name": "stdout",
     "output_type": "stream",
     "text": [
      "Requirement already satisfied: transformers in /Library/Frameworks/Python.framework/Versions/3.8/lib/python3.8/site-packages (4.24.0.dev0)\n",
      "Requirement already satisfied: tqdm>=4.27 in /Library/Frameworks/Python.framework/Versions/3.8/lib/python3.8/site-packages (from transformers) (4.49.0)\n",
      "Requirement already satisfied: requests in /Library/Frameworks/Python.framework/Versions/3.8/lib/python3.8/site-packages (from transformers) (2.28.1)\n",
      "Requirement already satisfied: packaging>=20.0 in /Library/Frameworks/Python.framework/Versions/3.8/lib/python3.8/site-packages (from transformers) (21.3)\n",
      "Requirement already satisfied: pyyaml>=5.1 in /Library/Frameworks/Python.framework/Versions/3.8/lib/python3.8/site-packages (from transformers) (5.4.1)\n",
      "Requirement already satisfied: tokenizers!=0.11.3,<0.14,>=0.11.1 in /Library/Frameworks/Python.framework/Versions/3.8/lib/python3.8/site-packages (from transformers) (0.13.1)\n",
      "Requirement already satisfied: filelock in /Library/Frameworks/Python.framework/Versions/3.8/lib/python3.8/site-packages (from transformers) (3.8.0)\n",
      "Requirement already satisfied: regex!=2019.12.17 in /Library/Frameworks/Python.framework/Versions/3.8/lib/python3.8/site-packages (from transformers) (2022.9.13)\n",
      "Requirement already satisfied: numpy>=1.17 in /Library/Frameworks/Python.framework/Versions/3.8/lib/python3.8/site-packages (from transformers) (1.23.4)\n",
      "Requirement already satisfied: huggingface-hub<1.0,>=0.10.0 in /Library/Frameworks/Python.framework/Versions/3.8/lib/python3.8/site-packages (from transformers) (0.10.1)\n",
      "Requirement already satisfied: typing-extensions>=3.7.4.3 in /Library/Frameworks/Python.framework/Versions/3.8/lib/python3.8/site-packages (from huggingface-hub<1.0,>=0.10.0->transformers) (4.4.0)\n",
      "Requirement already satisfied: pyparsing!=3.0.5,>=2.0.2 in /Library/Frameworks/Python.framework/Versions/3.8/lib/python3.8/site-packages (from packaging>=20.0->transformers) (3.0.9)\n",
      "Requirement already satisfied: idna<4,>=2.5 in /Library/Frameworks/Python.framework/Versions/3.8/lib/python3.8/site-packages (from requests->transformers) (3.4)\n",
      "Requirement already satisfied: certifi>=2017.4.17 in /Library/Frameworks/Python.framework/Versions/3.8/lib/python3.8/site-packages (from requests->transformers) (2022.9.24)\n",
      "Requirement already satisfied: urllib3<1.27,>=1.21.1 in /Library/Frameworks/Python.framework/Versions/3.8/lib/python3.8/site-packages (from requests->transformers) (1.26.12)\n",
      "Requirement already satisfied: charset-normalizer<3,>=2 in /Library/Frameworks/Python.framework/Versions/3.8/lib/python3.8/site-packages (from requests->transformers) (2.1.1)\n"
     ]
    }
   ],
   "source": [
    "!pip install transformers"
   ]
  },
  {
   "cell_type": "code",
   "execution_count": 3,
   "id": "67654b74",
   "metadata": {},
   "outputs": [
    {
     "name": "stdout",
     "output_type": "stream",
     "text": [
      "Requirement already satisfied: pickle5 in /Library/Frameworks/Python.framework/Versions/3.8/lib/python3.8/site-packages (0.0.11)\r\n"
     ]
    }
   ],
   "source": [
    "!pip install pickle5"
   ]
  },
  {
   "cell_type": "code",
   "execution_count": 4,
   "id": "9d387a55",
   "metadata": {},
   "outputs": [],
   "source": [
    "import pandas as pd \n",
    "import numpy as np\n",
    "import matplotlib.pyplot as plt\n",
    "import pandas as pd\n",
    "import torch\n",
    "import torch.nn as nn\n",
    "from transformers import BertTokenizer, BertForSequenceClassification, BertModel, AdamW, BertConfig, get_linear_schedule_with_warmup\n",
    "import torch.optim as optim\n",
    "from sklearn.metrics import accuracy_score, classification_report, confusion_matrix\n",
    "import seaborn as sns\n",
    "import pickle5 as pkl\n",
    "from torch.utils.data.sampler import SubsetRandomSampler\n",
    "import torch.nn.functional as F\n",
    "from torch.utils.data import DataLoader\n",
    "from torch.utils.data import Dataset\n",
    "from torch.optim import Adam\n",
    "from tqdm import tqdm\n",
    "from sklearn.utils.class_weight import compute_class_weight"
   ]
  },
  {
   "cell_type": "code",
   "execution_count": 5,
   "id": "ef25ee35",
   "metadata": {},
   "outputs": [],
   "source": [
    "train_dataset_path = \"tos_clauses_train.csv\"\n",
    "test_dataset_path = \"tos_clauses_dev.csv\"\n",
    "train_df = pd.read_csv(train_dataset_path, header=0)\n",
    "test_df = pd.read_csv(test_dataset_path, header=0)"
   ]
  },
  {
   "cell_type": "code",
   "execution_count": 6,
   "id": "fa4050e6",
   "metadata": {},
   "outputs": [],
   "source": [
    "def read_embeddings():\n",
    "    train_avg_embeddings_file_path = \"train_avg_embeddings.pkl\"\n",
    "    with open(train_avg_embeddings_file_path, mode=\"rb\") as train_file:\n",
    "        train_data = pkl.load(train_file) \n",
    "    test_avg_embeddings_file_path = \"test_avg_embeddings.pkl\"\n",
    "    with open(test_avg_embeddings_file_path, mode=\"rb\") as test_file:\n",
    "        test_data = pkl.load(test_file) \n",
    "    return train_data, test_data\n",
    "\n",
    "train_data, test_data = read_embeddings()\n"
   ]
  },
  {
   "cell_type": "code",
   "execution_count": 7,
   "id": "6da0f2de",
   "metadata": {},
   "outputs": [],
   "source": [
    "df_train = pd.DataFrame(train_data)\n",
    "df_train[\"embeddings\"] = df_train.values.tolist()\n",
    "df_train = df_train[[\"embeddings\"]]\n",
    "df_train[\"label\"] = train_df[\"label\"]"
   ]
  },
  {
   "cell_type": "code",
   "execution_count": 8,
   "id": "0e876965",
   "metadata": {},
   "outputs": [
    {
     "data": {
      "text/html": [
       "<div>\n",
       "<style scoped>\n",
       "    .dataframe tbody tr th:only-of-type {\n",
       "        vertical-align: middle;\n",
       "    }\n",
       "\n",
       "    .dataframe tbody tr th {\n",
       "        vertical-align: top;\n",
       "    }\n",
       "\n",
       "    .dataframe thead th {\n",
       "        text-align: right;\n",
       "    }\n",
       "</style>\n",
       "<table border=\"1\" class=\"dataframe\">\n",
       "  <thead>\n",
       "    <tr style=\"text-align: right;\">\n",
       "      <th></th>\n",
       "      <th>embeddings</th>\n",
       "      <th>label</th>\n",
       "    </tr>\n",
       "  </thead>\n",
       "  <tbody>\n",
       "    <tr>\n",
       "      <th>0</th>\n",
       "      <td>[0.13353028893470764, 0.7151040434837341, 0.25...</td>\n",
       "      <td>0</td>\n",
       "    </tr>\n",
       "  </tbody>\n",
       "</table>\n",
       "</div>"
      ],
      "text/plain": [
       "                                          embeddings  label\n",
       "0  [0.13353028893470764, 0.7151040434837341, 0.25...      0"
      ]
     },
     "execution_count": 8,
     "metadata": {},
     "output_type": "execute_result"
    }
   ],
   "source": [
    "df_test = pd.DataFrame(test_data)\n",
    "df_test[\"embeddings\"] = df_test.values.tolist()\n",
    "df_test = df_test[[\"embeddings\"]]\n",
    "df_test[\"label\"] = test_df[\"label\"]\n",
    "df_test.head(1)"
   ]
  },
  {
   "cell_type": "code",
   "execution_count": 9,
   "id": "3ee5a122",
   "metadata": {},
   "outputs": [
    {
     "name": "stdout",
     "output_type": "stream",
     "text": [
      "6025\n",
      "1506\n"
     ]
    }
   ],
   "source": [
    "class TensorDataset(Dataset):\n",
    "    def __init__(self, dataframe):\n",
    "        self.data = dataframe\n",
    "\n",
    "    def __len__(self):\n",
    "        return len(self.data)\n",
    "\n",
    "    def __getitem__(self, index):\n",
    "        features = np.array(self.data.loc[index, 'embeddings'])\n",
    "        label = int(self.data.loc[index, 'label'])\n",
    "        return torch.from_numpy(features).float(), label\n",
    "    \n",
    "    def __getindexlist__(self):\n",
    "        return list(self.data.index.values)\n",
    "\n",
    "work_train = df_train.copy()\n",
    "work_test = df_test.copy()\n",
    "X_train_tensor = TensorDataset(work_train)\n",
    "X_test_tensor = TensorDataset(work_test)\n",
    "\n",
    "num_of_workers = 0\n",
    "batch_size = 100\n",
    "valid_size = 0.2\n",
    "\n",
    "num_train = len(X_train_tensor)\n",
    "indices = list(range(num_train))\n",
    "np.random.shuffle(indices)\n",
    "split = int(np.floor(valid_size * num_train))\n",
    "train_idx, valid_idx = indices[split:], indices[:split]\n",
    "\n",
    "print(len(train_idx))\n",
    "print(len(valid_idx))\n",
    "train_sampler = SubsetRandomSampler(train_idx)\n",
    "valid_sampler = SubsetRandomSampler(valid_idx)\n",
    "\n",
    "train_loader = torch.utils.data.DataLoader(X_train_tensor, batch_size=batch_size,\n",
    "    sampler=train_sampler, num_workers=num_of_workers, drop_last=True)\n",
    "valid_loader = torch.utils.data.DataLoader(X_train_tensor, batch_size=batch_size, \n",
    "    sampler=valid_sampler, num_workers=num_of_workers, drop_last=True)\n",
    "test_loader = torch.utils.data.DataLoader(X_test_tensor, batch_size=batch_size, \n",
    "    num_workers=num_of_workers, drop_last=True)"
   ]
  },
  {
   "cell_type": "code",
   "execution_count": 10,
   "id": "996636b0",
   "metadata": {},
   "outputs": [
    {
     "name": "stdout",
     "output_type": "stream",
     "text": [
      "train_fair:5362\n",
      "train_unfair:663\n",
      "val_fair:1343\n",
      "val_unfair:163\n"
     ]
    }
   ],
   "source": [
    "train_df_by_index = work_train.loc[train_idx]\n",
    "val_df_by_index = work_train.loc[valid_idx]\n",
    "train_fair = sum(train_df_by_index['label'] == 0)\n",
    "train_unfair = sum(train_df_by_index['label'] == 1)\n",
    "val_fair = sum(val_df_by_index['label'] == 0)\n",
    "val_unfair = sum(val_df_by_index['label'] == 1)\n",
    "\n",
    "print(\"train_fair:\" + str(train_fair))\n",
    "print(\"train_unfair:\" + str(train_unfair))\n",
    "print(\"val_fair:\" + str(val_fair))\n",
    "print(\"val_unfair:\" + str(val_unfair))"
   ]
  },
  {
   "cell_type": "code",
   "execution_count": 11,
   "id": "c92a37db",
   "metadata": {},
   "outputs": [
    {
     "name": "stderr",
     "output_type": "stream",
     "text": [
      "Some weights of the model checkpoint at bert-base-uncased were not used when initializing BertForSequenceClassification: ['cls.predictions.transform.dense.weight', 'cls.predictions.transform.LayerNorm.weight', 'cls.predictions.bias', 'cls.predictions.transform.LayerNorm.bias', 'cls.predictions.transform.dense.bias', 'cls.predictions.decoder.weight', 'cls.seq_relationship.bias', 'cls.seq_relationship.weight']\n",
      "- This IS expected if you are initializing BertForSequenceClassification from the checkpoint of a model trained on another task or with another architecture (e.g. initializing a BertForSequenceClassification model from a BertForPreTraining model).\n",
      "- This IS NOT expected if you are initializing BertForSequenceClassification from the checkpoint of a model that you expect to be exactly identical (initializing a BertForSequenceClassification model from a BertForSequenceClassification model).\n",
      "Some weights of BertForSequenceClassification were not initialized from the model checkpoint at bert-base-uncased and are newly initialized: ['classifier.weight', 'classifier.bias']\n",
      "You should probably TRAIN this model on a down-stream task to be able to use it for predictions and inference.\n"
     ]
    },
    {
     "name": "stdout",
     "output_type": "stream",
     "text": [
      "The BERT model has 201 different named parameters.\n",
      "\n",
      "==== Embedding Layer ====\n",
      "\n",
      "bert.embeddings.word_embeddings.weight                  (30522, 768)\n",
      "bert.embeddings.position_embeddings.weight                (512, 768)\n",
      "bert.embeddings.token_type_embeddings.weight                (2, 768)\n",
      "bert.embeddings.LayerNorm.weight                              (768,)\n",
      "bert.embeddings.LayerNorm.bias                                (768,)\n",
      "\n",
      "==== First Transformer ====\n",
      "\n",
      "bert.encoder.layer.0.attention.self.query.weight          (768, 768)\n",
      "bert.encoder.layer.0.attention.self.query.bias                (768,)\n",
      "bert.encoder.layer.0.attention.self.key.weight            (768, 768)\n",
      "bert.encoder.layer.0.attention.self.key.bias                  (768,)\n",
      "bert.encoder.layer.0.attention.self.value.weight          (768, 768)\n",
      "bert.encoder.layer.0.attention.self.value.bias                (768,)\n",
      "bert.encoder.layer.0.attention.output.dense.weight        (768, 768)\n",
      "bert.encoder.layer.0.attention.output.dense.bias              (768,)\n",
      "bert.encoder.layer.0.attention.output.LayerNorm.weight        (768,)\n",
      "bert.encoder.layer.0.attention.output.LayerNorm.bias          (768,)\n",
      "bert.encoder.layer.0.intermediate.dense.weight           (3072, 768)\n",
      "bert.encoder.layer.0.intermediate.dense.bias                 (3072,)\n",
      "bert.encoder.layer.0.output.dense.weight                 (768, 3072)\n",
      "bert.encoder.layer.0.output.dense.bias                        (768,)\n",
      "bert.encoder.layer.0.output.LayerNorm.weight                  (768,)\n",
      "bert.encoder.layer.0.output.LayerNorm.bias                    (768,)\n",
      "\n",
      "==== Output Layer ====\n",
      "\n",
      "bert.pooler.dense.weight                                  (768, 768)\n",
      "bert.pooler.dense.bias                                        (768,)\n",
      "classifier.weight                                           (2, 768)\n",
      "classifier.bias                                                 (2,)\n"
     ]
    },
    {
     "name": "stderr",
     "output_type": "stream",
     "text": [
      "/Library/Frameworks/Python.framework/Versions/3.8/lib/python3.8/site-packages/transformers/optimization.py:306: FutureWarning: This implementation of AdamW is deprecated and will be removed in a future version. Use the PyTorch implementation torch.optim.AdamW instead, or set `no_deprecation_warning=True` to disable this warning\n",
      "  warnings.warn(\n"
     ]
    }
   ],
   "source": [
    "model = BertForSequenceClassification.from_pretrained(\n",
    "    \"bert-base-uncased\",\n",
    "    num_labels = 2,\n",
    "    output_attentions = False,\n",
    "    output_hidden_states = False,\n",
    ")\n",
    "\n",
    "params = list(model.named_parameters())\n",
    "\n",
    "print('The BERT model has {:} different named parameters.\\n'.format(len(params)))\n",
    "\n",
    "print('==== Embedding Layer ====\\n')\n",
    "\n",
    "for p in params[0:5]:\n",
    "    print(\"{:<55} {:>12}\".format(p[0], str(tuple(p[1].size()))))\n",
    "\n",
    "print('\\n==== First Transformer ====\\n')\n",
    "\n",
    "for p in params[5:21]:\n",
    "    print(\"{:<55} {:>12}\".format(p[0], str(tuple(p[1].size()))))\n",
    "\n",
    "print('\\n==== Output Layer ====\\n')\n",
    "\n",
    "for p in params[-4:]:\n",
    "    print(\"{:<55} {:>12}\".format(p[0], str(tuple(p[1].size()))))\n",
    "    \n",
    "    \n",
    "optimizer = AdamW(model.parameters(),lr = 5e-5, eps = 1e-8)\n",
    "\n",
    "epochs = 4\n",
    "total_steps = len(train_loader) * epochs\n",
    "\n"
   ]
  },
  {
   "cell_type": "code",
   "execution_count": 12,
   "id": "8634097b",
   "metadata": {},
   "outputs": [],
   "source": [
    "def flat_accuracy(preds, labels):\n",
    "    pred_flat = np.argmax(preds, axis=1).flatten()\n",
    "    labels_flat = labels.flatten()\n",
    "    return np.sum(pred_flat == labels_flat) / len(labels_flat)"
   ]
  },
  {
   "cell_type": "code",
   "execution_count": 13,
   "id": "b882c379",
   "metadata": {},
   "outputs": [],
   "source": [
    "import time\n",
    "import datetime\n",
    "\n",
    "def format_time(elapsed):\n",
    "    '''\n",
    "    Takes a time in seconds and returns a string hh:mm:ss\n",
    "    '''\n",
    "    # Round to the nearest second.\n",
    "    elapsed_rounded = int(round((elapsed)))\n",
    "    \n",
    "    # Format as hh:mm:ss\n",
    "    return str(datetime.timedelta(seconds=elapsed_rounded))\n"
   ]
  },
  {
   "cell_type": "code",
   "execution_count": 14,
   "id": "6810324c",
   "metadata": {},
   "outputs": [
    {
     "data": {
      "text/plain": [
       "tensor([0.5616, 4.5587])"
      ]
     },
     "execution_count": 14,
     "metadata": {},
     "output_type": "execute_result"
    }
   ],
   "source": [
    "y = torch.FloatTensor(df_train.label.tolist())\n",
    "class_weights=compute_class_weight('balanced',classes=np.unique(y),y=y.numpy())\n",
    "class_weights=torch.tensor(class_weights,dtype=torch.float)\n",
    "class_weights"
   ]
  },
  {
   "cell_type": "code",
   "execution_count": 15,
   "id": "174cc69a",
   "metadata": {
    "scrolled": false
   },
   "outputs": [
    {
     "name": "stderr",
     "output_type": "stream",
     "text": [
      "\r",
      "  0%|                                                    | 0/60 [00:00<?, ?it/s]"
     ]
    },
    {
     "name": "stdout",
     "output_type": "stream",
     "text": [
      "Epoch: 0\n"
     ]
    },
    {
     "name": "stderr",
     "output_type": "stream",
     "text": [
      "100%|███████████████████████████████████████████| 60/60 [00:19<00:00,  3.02it/s]\n",
      "  0%|                                                    | 0/60 [00:00<?, ?it/s]"
     ]
    },
    {
     "name": "stdout",
     "output_type": "stream",
     "text": [
      "Epochs: 1 | Train Loss:  0.007                 | Train Accuracy:  0.543                 | Val Loss:  0.007                 | Val Accuracy:  0.311\n",
      "Epoch: 1\n"
     ]
    },
    {
     "name": "stderr",
     "output_type": "stream",
     "text": [
      "100%|███████████████████████████████████████████| 60/60 [00:19<00:00,  3.07it/s]\n"
     ]
    },
    {
     "name": "stdout",
     "output_type": "stream",
     "text": [
      "Epochs: 2 | Train Loss:  0.007                 | Train Accuracy:  0.553                 | Val Loss:  0.007                 | Val Accuracy:  0.390\n"
     ]
    },
    {
     "name": "stderr",
     "output_type": "stream",
     "text": [
      "\r",
      "  0%|                                                    | 0/60 [00:00<?, ?it/s]"
     ]
    },
    {
     "name": "stdout",
     "output_type": "stream",
     "text": [
      "Epoch: 2\n"
     ]
    },
    {
     "name": "stderr",
     "output_type": "stream",
     "text": [
      "100%|███████████████████████████████████████████| 60/60 [00:19<00:00,  3.06it/s]\n",
      "  0%|                                                    | 0/60 [00:00<?, ?it/s]"
     ]
    },
    {
     "name": "stdout",
     "output_type": "stream",
     "text": [
      "Epochs: 3 | Train Loss:  0.007                 | Train Accuracy:  0.591                 | Val Loss:  0.007                 | Val Accuracy:  0.861\n",
      "Epoch: 3\n"
     ]
    },
    {
     "name": "stderr",
     "output_type": "stream",
     "text": [
      "100%|███████████████████████████████████████████| 60/60 [00:19<00:00,  3.06it/s]\n",
      "  0%|                                                    | 0/60 [00:00<?, ?it/s]"
     ]
    },
    {
     "name": "stdout",
     "output_type": "stream",
     "text": [
      "Epochs: 4 | Train Loss:  0.007                 | Train Accuracy:  0.578                 | Val Loss:  0.007                 | Val Accuracy:  0.297\n",
      "Epoch: 4\n"
     ]
    },
    {
     "name": "stderr",
     "output_type": "stream",
     "text": [
      "100%|███████████████████████████████████████████| 60/60 [00:19<00:00,  3.07it/s]\n",
      "  0%|                                                    | 0/60 [00:00<?, ?it/s]"
     ]
    },
    {
     "name": "stdout",
     "output_type": "stream",
     "text": [
      "Epochs: 5 | Train Loss:  0.007                 | Train Accuracy:  0.573                 | Val Loss:  0.008                 | Val Accuracy:  0.464\n",
      "Epoch: 5\n"
     ]
    },
    {
     "name": "stderr",
     "output_type": "stream",
     "text": [
      "100%|███████████████████████████████████████████| 60/60 [00:19<00:00,  3.05it/s]\n"
     ]
    },
    {
     "name": "stdout",
     "output_type": "stream",
     "text": [
      "Epochs: 6 | Train Loss:  0.007                 | Train Accuracy:  0.669                 | Val Loss:  0.007                 | Val Accuracy:  0.154\n"
     ]
    },
    {
     "name": "stderr",
     "output_type": "stream",
     "text": [
      "\r",
      "  0%|                                                    | 0/60 [00:00<?, ?it/s]"
     ]
    },
    {
     "name": "stdout",
     "output_type": "stream",
     "text": [
      "Epoch: 6\n"
     ]
    },
    {
     "name": "stderr",
     "output_type": "stream",
     "text": [
      "100%|███████████████████████████████████████████| 60/60 [00:19<00:00,  3.09it/s]\n",
      "  0%|                                                    | 0/60 [00:00<?, ?it/s]"
     ]
    },
    {
     "name": "stdout",
     "output_type": "stream",
     "text": [
      "Epochs: 7 | Train Loss:  0.007                 | Train Accuracy:  0.598                 | Val Loss:  0.008                 | Val Accuracy:  0.813\n",
      "Epoch: 7\n"
     ]
    },
    {
     "name": "stderr",
     "output_type": "stream",
     "text": [
      "100%|███████████████████████████████████████████| 60/60 [00:19<00:00,  3.09it/s]\n",
      "  0%|                                                    | 0/60 [00:00<?, ?it/s]"
     ]
    },
    {
     "name": "stdout",
     "output_type": "stream",
     "text": [
      "Epochs: 8 | Train Loss:  0.007                 | Train Accuracy:  0.672                 | Val Loss:  0.007                 | Val Accuracy:  0.709\n",
      "Epoch: 8\n"
     ]
    },
    {
     "name": "stderr",
     "output_type": "stream",
     "text": [
      "100%|███████████████████████████████████████████| 60/60 [00:19<00:00,  3.09it/s]\n",
      "  0%|                                                    | 0/60 [00:00<?, ?it/s]"
     ]
    },
    {
     "name": "stdout",
     "output_type": "stream",
     "text": [
      "Epochs: 9 | Train Loss:  0.006                 | Train Accuracy:  0.623                 | Val Loss:  0.008                 | Val Accuracy:  0.629\n",
      "Epoch: 9\n"
     ]
    },
    {
     "name": "stderr",
     "output_type": "stream",
     "text": [
      "100%|███████████████████████████████████████████| 60/60 [00:19<00:00,  3.08it/s]\n",
      "  0%|                                                    | 0/60 [00:00<?, ?it/s]"
     ]
    },
    {
     "name": "stdout",
     "output_type": "stream",
     "text": [
      "Epochs: 10 | Train Loss:  0.006                 | Train Accuracy:  0.681                 | Val Loss:  0.007                 | Val Accuracy:  0.863\n",
      "Epoch: 10\n"
     ]
    },
    {
     "name": "stderr",
     "output_type": "stream",
     "text": [
      "100%|███████████████████████████████████████████| 60/60 [00:19<00:00,  3.08it/s]\n"
     ]
    },
    {
     "name": "stdout",
     "output_type": "stream",
     "text": [
      "Epochs: 11 | Train Loss:  0.006                 | Train Accuracy:  0.677                 | Val Loss:  0.007                 | Val Accuracy:  0.793\n"
     ]
    },
    {
     "name": "stderr",
     "output_type": "stream",
     "text": [
      "\r",
      "  0%|                                                    | 0/60 [00:00<?, ?it/s]"
     ]
    },
    {
     "name": "stdout",
     "output_type": "stream",
     "text": [
      "Epoch: 11\n"
     ]
    },
    {
     "name": "stderr",
     "output_type": "stream",
     "text": [
      "100%|███████████████████████████████████████████| 60/60 [00:19<00:00,  3.08it/s]\n",
      "  0%|                                                    | 0/60 [00:00<?, ?it/s]"
     ]
    },
    {
     "name": "stdout",
     "output_type": "stream",
     "text": [
      "Epochs: 12 | Train Loss:  0.006                 | Train Accuracy:  0.654                 | Val Loss:  0.007                 | Val Accuracy:  0.477\n",
      "Epoch: 12\n"
     ]
    },
    {
     "name": "stderr",
     "output_type": "stream",
     "text": [
      "100%|███████████████████████████████████████████| 60/60 [00:19<00:00,  3.08it/s]\n",
      "  0%|                                                    | 0/60 [00:00<?, ?it/s]"
     ]
    },
    {
     "name": "stdout",
     "output_type": "stream",
     "text": [
      "Epochs: 13 | Train Loss:  0.006                 | Train Accuracy:  0.672                 | Val Loss:  0.008                 | Val Accuracy:  0.593\n",
      "Epoch: 13\n"
     ]
    },
    {
     "name": "stderr",
     "output_type": "stream",
     "text": [
      "100%|███████████████████████████████████████████| 60/60 [00:19<00:00,  3.08it/s]\n",
      "  0%|                                                    | 0/60 [00:00<?, ?it/s]"
     ]
    },
    {
     "name": "stdout",
     "output_type": "stream",
     "text": [
      "Epochs: 14 | Train Loss:  0.006                 | Train Accuracy:  0.679                 | Val Loss:  0.007                 | Val Accuracy:  0.705\n",
      "Epoch: 14\n"
     ]
    },
    {
     "name": "stderr",
     "output_type": "stream",
     "text": [
      "100%|███████████████████████████████████████████| 60/60 [00:19<00:00,  3.08it/s]\n",
      "  0%|                                                    | 0/60 [00:00<?, ?it/s]"
     ]
    },
    {
     "name": "stdout",
     "output_type": "stream",
     "text": [
      "Epochs: 15 | Train Loss:  0.006                 | Train Accuracy:  0.658                 | Val Loss:  0.007                 | Val Accuracy:  0.749\n",
      "Epoch: 15\n"
     ]
    },
    {
     "name": "stderr",
     "output_type": "stream",
     "text": [
      "100%|███████████████████████████████████████████| 60/60 [00:19<00:00,  3.08it/s]\n",
      "  0%|                                                    | 0/60 [00:00<?, ?it/s]"
     ]
    },
    {
     "name": "stdout",
     "output_type": "stream",
     "text": [
      "Epochs: 16 | Train Loss:  0.006                 | Train Accuracy:  0.663                 | Val Loss:  0.008                 | Val Accuracy:  0.876\n",
      "Epoch: 16\n"
     ]
    },
    {
     "name": "stderr",
     "output_type": "stream",
     "text": [
      "100%|███████████████████████████████████████████| 60/60 [00:19<00:00,  3.08it/s]\n",
      "  0%|                                                    | 0/60 [00:00<?, ?it/s]"
     ]
    },
    {
     "name": "stdout",
     "output_type": "stream",
     "text": [
      "Epochs: 17 | Train Loss:  0.006                 | Train Accuracy:  0.711                 | Val Loss:  0.009                 | Val Accuracy:  0.718\n",
      "Epoch: 17\n"
     ]
    },
    {
     "name": "stderr",
     "output_type": "stream",
     "text": [
      "100%|███████████████████████████████████████████| 60/60 [00:19<00:00,  3.08it/s]\n",
      "  0%|                                                    | 0/60 [00:00<?, ?it/s]"
     ]
    },
    {
     "name": "stdout",
     "output_type": "stream",
     "text": [
      "Epochs: 18 | Train Loss:  0.007                 | Train Accuracy:  0.553                 | Val Loss:  0.008                 | Val Accuracy:  0.741\n",
      "Epoch: 18\n"
     ]
    },
    {
     "name": "stderr",
     "output_type": "stream",
     "text": [
      "100%|███████████████████████████████████████████| 60/60 [00:19<00:00,  3.08it/s]\n",
      "  0%|                                                    | 0/60 [00:00<?, ?it/s]"
     ]
    },
    {
     "name": "stdout",
     "output_type": "stream",
     "text": [
      "Epochs: 19 | Train Loss:  0.006                 | Train Accuracy:  0.737                 | Val Loss:  0.007                 | Val Accuracy:  0.827\n",
      "Epoch: 19\n"
     ]
    },
    {
     "name": "stderr",
     "output_type": "stream",
     "text": [
      "100%|███████████████████████████████████████████| 60/60 [00:19<00:00,  3.09it/s]\n",
      "  0%|                                                    | 0/60 [00:00<?, ?it/s]"
     ]
    },
    {
     "name": "stdout",
     "output_type": "stream",
     "text": [
      "Epochs: 20 | Train Loss:  0.007                 | Train Accuracy:  0.688                 | Val Loss:  0.007                 | Val Accuracy:  0.527\n",
      "Epoch: 20\n"
     ]
    },
    {
     "name": "stderr",
     "output_type": "stream",
     "text": [
      "100%|███████████████████████████████████████████| 60/60 [00:19<00:00,  3.09it/s]\n"
     ]
    },
    {
     "name": "stdout",
     "output_type": "stream",
     "text": [
      "Epochs: 21 | Train Loss:  0.007                 | Train Accuracy:  0.657                 | Val Loss:  0.008                 | Val Accuracy:  0.851\n"
     ]
    },
    {
     "name": "stderr",
     "output_type": "stream",
     "text": [
      "\r",
      "  0%|                                                    | 0/60 [00:00<?, ?it/s]"
     ]
    },
    {
     "name": "stdout",
     "output_type": "stream",
     "text": [
      "Epoch: 21\n"
     ]
    },
    {
     "name": "stderr",
     "output_type": "stream",
     "text": [
      "100%|███████████████████████████████████████████| 60/60 [00:19<00:00,  3.08it/s]\n",
      "  0%|                                                    | 0/60 [00:00<?, ?it/s]"
     ]
    },
    {
     "name": "stdout",
     "output_type": "stream",
     "text": [
      "Epochs: 22 | Train Loss:  0.006                 | Train Accuracy:  0.715                 | Val Loss:  0.007                 | Val Accuracy:  0.790\n",
      "Epoch: 22\n"
     ]
    },
    {
     "name": "stderr",
     "output_type": "stream",
     "text": [
      "100%|███████████████████████████████████████████| 60/60 [00:19<00:00,  3.09it/s]\n",
      "  0%|                                                    | 0/60 [00:00<?, ?it/s]"
     ]
    },
    {
     "name": "stdout",
     "output_type": "stream",
     "text": [
      "Epochs: 23 | Train Loss:  0.006                 | Train Accuracy:  0.704                 | Val Loss:  0.008                 | Val Accuracy:  0.721\n",
      "Epoch: 23\n"
     ]
    },
    {
     "name": "stderr",
     "output_type": "stream",
     "text": [
      "100%|███████████████████████████████████████████| 60/60 [00:19<00:00,  3.07it/s]\n",
      "  0%|                                                    | 0/60 [00:00<?, ?it/s]"
     ]
    },
    {
     "name": "stdout",
     "output_type": "stream",
     "text": [
      "Epochs: 24 | Train Loss:  0.007                 | Train Accuracy:  0.599                 | Val Loss:  0.008                 | Val Accuracy:  0.797\n",
      "Epoch: 24\n"
     ]
    },
    {
     "name": "stderr",
     "output_type": "stream",
     "text": [
      "100%|███████████████████████████████████████████| 60/60 [00:19<00:00,  3.02it/s]\n",
      "  0%|                                                    | 0/60 [00:00<?, ?it/s]"
     ]
    },
    {
     "name": "stdout",
     "output_type": "stream",
     "text": [
      "Epochs: 25 | Train Loss:  0.006                 | Train Accuracy:  0.709                 | Val Loss:  0.008                 | Val Accuracy:  0.829\n",
      "Epoch: 25\n"
     ]
    },
    {
     "name": "stderr",
     "output_type": "stream",
     "text": [
      "100%|███████████████████████████████████████████| 60/60 [00:19<00:00,  3.00it/s]\n",
      "  0%|                                                    | 0/60 [00:00<?, ?it/s]"
     ]
    },
    {
     "name": "stdout",
     "output_type": "stream",
     "text": [
      "Epochs: 26 | Train Loss:  0.006                 | Train Accuracy:  0.636                 | Val Loss:  0.007                 | Val Accuracy:  0.824\n",
      "Epoch: 26\n"
     ]
    },
    {
     "name": "stderr",
     "output_type": "stream",
     "text": [
      "100%|███████████████████████████████████████████| 60/60 [00:19<00:00,  3.08it/s]\n",
      "  0%|                                                    | 0/60 [00:00<?, ?it/s]"
     ]
    },
    {
     "name": "stdout",
     "output_type": "stream",
     "text": [
      "Epochs: 27 | Train Loss:  0.006                 | Train Accuracy:  0.731                 | Val Loss:  0.008                 | Val Accuracy:  0.700\n",
      "Epoch: 27\n"
     ]
    },
    {
     "name": "stderr",
     "output_type": "stream",
     "text": [
      "100%|███████████████████████████████████████████| 60/60 [00:19<00:00,  3.08it/s]\n",
      "  0%|                                                    | 0/60 [00:00<?, ?it/s]"
     ]
    },
    {
     "name": "stdout",
     "output_type": "stream",
     "text": [
      "Epochs: 28 | Train Loss:  0.006                 | Train Accuracy:  0.669                 | Val Loss:  0.007                 | Val Accuracy:  0.312\n",
      "Epoch: 28\n"
     ]
    },
    {
     "name": "stderr",
     "output_type": "stream",
     "text": [
      "100%|███████████████████████████████████████████| 60/60 [00:19<00:00,  3.08it/s]\n",
      "  0%|                                                    | 0/60 [00:00<?, ?it/s]"
     ]
    },
    {
     "name": "stdout",
     "output_type": "stream",
     "text": [
      "Epochs: 29 | Train Loss:  0.007                 | Train Accuracy:  0.635                 | Val Loss:  0.008                 | Val Accuracy:  0.195\n",
      "Epoch: 29\n"
     ]
    },
    {
     "name": "stderr",
     "output_type": "stream",
     "text": [
      "100%|███████████████████████████████████████████| 60/60 [00:19<00:00,  3.07it/s]\n",
      "  0%|                                                    | 0/60 [00:00<?, ?it/s]"
     ]
    },
    {
     "name": "stdout",
     "output_type": "stream",
     "text": [
      "Epochs: 30 | Train Loss:  0.007                 | Train Accuracy:  0.733                 | Val Loss:  0.007                 | Val Accuracy:  0.691\n",
      "Epoch: 30\n"
     ]
    },
    {
     "name": "stderr",
     "output_type": "stream",
     "text": [
      "100%|███████████████████████████████████████████| 60/60 [00:19<00:00,  3.06it/s]\n"
     ]
    },
    {
     "name": "stdout",
     "output_type": "stream",
     "text": [
      "Epochs: 31 | Train Loss:  0.006                 | Train Accuracy:  0.738                 | Val Loss:  0.007                 | Val Accuracy:  0.645\n"
     ]
    },
    {
     "name": "stderr",
     "output_type": "stream",
     "text": [
      "\r",
      "  0%|                                                    | 0/60 [00:00<?, ?it/s]"
     ]
    },
    {
     "name": "stdout",
     "output_type": "stream",
     "text": [
      "Epoch: 31\n"
     ]
    },
    {
     "name": "stderr",
     "output_type": "stream",
     "text": [
      "100%|███████████████████████████████████████████| 60/60 [00:19<00:00,  3.01it/s]\n",
      "  0%|                                                    | 0/60 [00:00<?, ?it/s]"
     ]
    },
    {
     "name": "stdout",
     "output_type": "stream",
     "text": [
      "Epochs: 32 | Train Loss:  0.007                 | Train Accuracy:  0.654                 | Val Loss:  0.007                 | Val Accuracy:  0.701\n",
      "Epoch: 32\n"
     ]
    },
    {
     "name": "stderr",
     "output_type": "stream",
     "text": [
      "100%|███████████████████████████████████████████| 60/60 [00:19<00:00,  3.01it/s]\n",
      "  0%|                                                    | 0/60 [00:00<?, ?it/s]"
     ]
    },
    {
     "name": "stdout",
     "output_type": "stream",
     "text": [
      "Epochs: 33 | Train Loss:  0.006                 | Train Accuracy:  0.699                 | Val Loss:  0.008                 | Val Accuracy:  0.642\n",
      "Epoch: 33\n"
     ]
    },
    {
     "name": "stderr",
     "output_type": "stream",
     "text": [
      "100%|███████████████████████████████████████████| 60/60 [00:19<00:00,  3.03it/s]\n",
      "  0%|                                                    | 0/60 [00:00<?, ?it/s]"
     ]
    },
    {
     "name": "stdout",
     "output_type": "stream",
     "text": [
      "Epochs: 34 | Train Loss:  0.006                 | Train Accuracy:  0.699                 | Val Loss:  0.009                 | Val Accuracy:  0.683\n",
      "Epoch: 34\n"
     ]
    },
    {
     "name": "stderr",
     "output_type": "stream",
     "text": [
      "100%|███████████████████████████████████████████| 60/60 [00:20<00:00,  2.89it/s]\n",
      "  0%|                                                    | 0/60 [00:00<?, ?it/s]"
     ]
    },
    {
     "name": "stdout",
     "output_type": "stream",
     "text": [
      "Epochs: 35 | Train Loss:  0.006                 | Train Accuracy:  0.694                 | Val Loss:  0.008                 | Val Accuracy:  0.615\n",
      "Epoch: 35\n"
     ]
    },
    {
     "name": "stderr",
     "output_type": "stream",
     "text": [
      "100%|███████████████████████████████████████████| 60/60 [00:20<00:00,  2.94it/s]\n",
      "  0%|                                                    | 0/60 [00:00<?, ?it/s]"
     ]
    },
    {
     "name": "stdout",
     "output_type": "stream",
     "text": [
      "Epochs: 36 | Train Loss:  0.006                 | Train Accuracy:  0.720                 | Val Loss:  0.009                 | Val Accuracy:  0.837\n",
      "Epoch: 36\n"
     ]
    },
    {
     "name": "stderr",
     "output_type": "stream",
     "text": [
      "100%|███████████████████████████████████████████| 60/60 [00:20<00:00,  2.95it/s]\n",
      "  0%|                                                    | 0/60 [00:00<?, ?it/s]"
     ]
    },
    {
     "name": "stdout",
     "output_type": "stream",
     "text": [
      "Epochs: 37 | Train Loss:  0.006                 | Train Accuracy:  0.698                 | Val Loss:  0.008                 | Val Accuracy:  0.477\n",
      "Epoch: 37\n"
     ]
    },
    {
     "name": "stderr",
     "output_type": "stream",
     "text": [
      "100%|███████████████████████████████████████████| 60/60 [00:20<00:00,  2.93it/s]\n",
      "  0%|                                                    | 0/60 [00:00<?, ?it/s]"
     ]
    },
    {
     "name": "stdout",
     "output_type": "stream",
     "text": [
      "Epochs: 38 | Train Loss:  0.006                 | Train Accuracy:  0.694                 | Val Loss:  0.009                 | Val Accuracy:  0.716\n",
      "Epoch: 38\n"
     ]
    },
    {
     "name": "stderr",
     "output_type": "stream",
     "text": [
      "100%|███████████████████████████████████████████| 60/60 [00:20<00:00,  2.97it/s]\n",
      "  0%|                                                    | 0/60 [00:00<?, ?it/s]"
     ]
    },
    {
     "name": "stdout",
     "output_type": "stream",
     "text": [
      "Epochs: 39 | Train Loss:  0.006                 | Train Accuracy:  0.750                 | Val Loss:  0.008                 | Val Accuracy:  0.793\n",
      "Epoch: 39\n"
     ]
    },
    {
     "name": "stderr",
     "output_type": "stream",
     "text": [
      "100%|███████████████████████████████████████████| 60/60 [00:20<00:00,  2.91it/s]\n",
      "  0%|                                                    | 0/60 [00:00<?, ?it/s]"
     ]
    },
    {
     "name": "stdout",
     "output_type": "stream",
     "text": [
      "Epochs: 40 | Train Loss:  0.006                 | Train Accuracy:  0.769                 | Val Loss:  0.008                 | Val Accuracy:  0.687\n",
      "Epoch: 40\n"
     ]
    },
    {
     "name": "stderr",
     "output_type": "stream",
     "text": [
      "100%|███████████████████████████████████████████| 60/60 [00:19<00:00,  3.06it/s]\n"
     ]
    },
    {
     "name": "stdout",
     "output_type": "stream",
     "text": [
      "Epochs: 41 | Train Loss:  0.007                 | Train Accuracy:  0.701                 | Val Loss:  0.008                 | Val Accuracy:  0.830\n"
     ]
    },
    {
     "name": "stderr",
     "output_type": "stream",
     "text": [
      "\r",
      "  0%|                                                    | 0/60 [00:00<?, ?it/s]"
     ]
    },
    {
     "name": "stdout",
     "output_type": "stream",
     "text": [
      "Epoch: 41\n"
     ]
    },
    {
     "name": "stderr",
     "output_type": "stream",
     "text": [
      "100%|███████████████████████████████████████████| 60/60 [00:20<00:00,  2.91it/s]\n",
      "  0%|                                                    | 0/60 [00:00<?, ?it/s]"
     ]
    },
    {
     "name": "stdout",
     "output_type": "stream",
     "text": [
      "Epochs: 42 | Train Loss:  0.007                 | Train Accuracy:  0.677                 | Val Loss:  0.007                 | Val Accuracy:  0.149\n",
      "Epoch: 42\n"
     ]
    },
    {
     "name": "stderr",
     "output_type": "stream",
     "text": [
      "100%|███████████████████████████████████████████| 60/60 [00:20<00:00,  2.99it/s]\n",
      "  0%|                                                    | 0/60 [00:00<?, ?it/s]"
     ]
    },
    {
     "name": "stdout",
     "output_type": "stream",
     "text": [
      "Epochs: 43 | Train Loss:  0.007                 | Train Accuracy:  0.585                 | Val Loss:  0.007                 | Val Accuracy:  0.113\n",
      "Epoch: 43\n"
     ]
    },
    {
     "name": "stderr",
     "output_type": "stream",
     "text": [
      "100%|███████████████████████████████████████████| 60/60 [00:20<00:00,  2.90it/s]\n",
      "  0%|                                                    | 0/60 [00:00<?, ?it/s]"
     ]
    },
    {
     "name": "stdout",
     "output_type": "stream",
     "text": [
      "Epochs: 44 | Train Loss:  0.007                 | Train Accuracy:  0.444                 | Val Loss:  0.007                 | Val Accuracy:  0.633\n",
      "Epoch: 44\n"
     ]
    },
    {
     "name": "stderr",
     "output_type": "stream",
     "text": [
      "100%|███████████████████████████████████████████| 60/60 [00:20<00:00,  2.92it/s]\n",
      "  0%|                                                    | 0/60 [00:00<?, ?it/s]"
     ]
    },
    {
     "name": "stdout",
     "output_type": "stream",
     "text": [
      "Epochs: 45 | Train Loss:  0.007                 | Train Accuracy:  0.521                 | Val Loss:  0.007                 | Val Accuracy:  0.854\n",
      "Epoch: 45\n"
     ]
    },
    {
     "name": "stderr",
     "output_type": "stream",
     "text": [
      "100%|███████████████████████████████████████████| 60/60 [00:20<00:00,  2.97it/s]\n",
      "  0%|                                                    | 0/60 [00:00<?, ?it/s]"
     ]
    },
    {
     "name": "stdout",
     "output_type": "stream",
     "text": [
      "Epochs: 46 | Train Loss:  0.007                 | Train Accuracy:  0.654                 | Val Loss:  0.007                 | Val Accuracy:  0.835\n",
      "Epoch: 46\n"
     ]
    },
    {
     "name": "stderr",
     "output_type": "stream",
     "text": [
      "100%|███████████████████████████████████████████| 60/60 [00:20<00:00,  2.94it/s]\n",
      "  0%|                                                    | 0/60 [00:00<?, ?it/s]"
     ]
    },
    {
     "name": "stdout",
     "output_type": "stream",
     "text": [
      "Epochs: 47 | Train Loss:  0.007                 | Train Accuracy:  0.567                 | Val Loss:  0.006                 | Val Accuracy:  0.831\n",
      "Epoch: 47\n"
     ]
    },
    {
     "name": "stderr",
     "output_type": "stream",
     "text": [
      "100%|███████████████████████████████████████████| 60/60 [00:20<00:00,  2.95it/s]\n",
      "  0%|                                                    | 0/60 [00:00<?, ?it/s]"
     ]
    },
    {
     "name": "stdout",
     "output_type": "stream",
     "text": [
      "Epochs: 48 | Train Loss:  0.007                 | Train Accuracy:  0.573                 | Val Loss:  0.007                 | Val Accuracy:  0.881\n",
      "Epoch: 48\n"
     ]
    },
    {
     "name": "stderr",
     "output_type": "stream",
     "text": [
      "100%|███████████████████████████████████████████| 60/60 [00:19<00:00,  3.08it/s]\n",
      "  0%|                                                    | 0/60 [00:00<?, ?it/s]"
     ]
    },
    {
     "name": "stdout",
     "output_type": "stream",
     "text": [
      "Epochs: 49 | Train Loss:  0.007                 | Train Accuracy:  0.551                 | Val Loss:  0.007                 | Val Accuracy:  0.395\n",
      "Epoch: 49\n"
     ]
    },
    {
     "name": "stderr",
     "output_type": "stream",
     "text": [
      "100%|███████████████████████████████████████████| 60/60 [00:19<00:00,  3.01it/s]\n"
     ]
    },
    {
     "name": "stdout",
     "output_type": "stream",
     "text": [
      "Epochs: 50 | Train Loss:  0.007                 | Train Accuracy:  0.460                 | Val Loss:  0.007                 | Val Accuracy:  0.177\n"
     ]
    }
   ],
   "source": [
    "def train(model, train_dataloader, val_dataloader, learning_rate, epochs, train_idx, val_idx):\n",
    "    epoch_nums_list = []\n",
    "    train_loss_list = []\n",
    "    val_loss_list = []\n",
    "    model.train()\n",
    "    criterion = nn.CrossEntropyLoss(weight = class_weights)\n",
    "    for epoch_num in range(epochs):\n",
    "        print(\"Epoch: \" + str(epoch_num))\n",
    "        total_acc_train = 0\n",
    "        total_loss_train = 0\n",
    "\n",
    "        for train_input, train_label in tqdm(train_dataloader):\n",
    "            model.zero_grad()\n",
    "            train_input = torch.reshape(train_input, (batch_size, 1, 768))\n",
    "            output = model(inputs_embeds = train_input, labels = train_label.long())\n",
    "            logits = output[1]\n",
    "            loss = criterion(logits, train_label.long())\n",
    "            total_loss_train += loss.item()\n",
    "            loss.backward()\n",
    "            torch.nn.utils.clip_grad_norm_(model.parameters(), 1.0)\n",
    "            \n",
    "            \n",
    "            logits = logits.detach().numpy()\n",
    "            acc = flat_accuracy(logits, train_label.numpy())\n",
    "            total_acc_train += acc\n",
    "            optimizer.step()\n",
    "            \n",
    "        total_acc_val = 0\n",
    "        total_loss_val = 0\n",
    "\n",
    "        with torch.no_grad():\n",
    "\n",
    "            for val_input, val_label in val_dataloader:\n",
    "                val_input = torch.reshape(val_input, (batch_size, 1, 768))\n",
    "                output = model(inputs_embeds = val_input, labels = train_label.long())\n",
    "                logits = output[1]\n",
    "                loss = criterion(logits, train_label.long())\n",
    "                total_loss_val += loss.item()\n",
    "                    \n",
    "                \n",
    "                logits = logits.detach().numpy()\n",
    "                acc = flat_accuracy(logits, val_label.numpy())\n",
    "                total_acc_val += acc\n",
    "            \n",
    "        print(\n",
    "                f'Epochs: {epoch_num + 1} | Train Loss: {total_loss_train / len(train_idx): .3f} \\\n",
    "                | Train Accuracy: {total_acc_train / len(train_dataloader): .3f} \\\n",
    "                | Val Loss: {total_loss_val / len(val_idx): .3f} \\\n",
    "                | Val Accuracy: {total_acc_val / len(val_dataloader): .3f}')\n",
    "        epoch_nums_list.append(epoch_num)\n",
    "        train_loss_list.append(1- (total_acc_train / len(train_dataloader)))\n",
    "        val_loss_list.append(1- (total_acc_val / len(val_dataloader)))\n",
    "        if epoch_num in [1, 5, 10, 20, 30, 40, 50]:\n",
    "            torch.save(model.state_dict(), \"bert_sc_avg_models/\" + \"bscmod_\" + str(epoch_num) + \"_file.pt\")\n",
    "    return epoch_nums_list, train_loss_list, val_loss_list\n",
    "EPOCHS = 50\n",
    "LR = 1e-6\n",
    "              \n",
    "epoch_nums_list, train_loss_list, val_loss_list = train(model, train_loader, valid_loader, LR, EPOCHS, train_idx, valid_idx)"
   ]
  },
  {
   "cell_type": "code",
   "execution_count": 16,
   "id": "0da14cdd",
   "metadata": {},
   "outputs": [
    {
     "data": {
      "image/png": "[encoded data removed]",
      "text/plain": [
       "<Figure size 640x480 with 1 Axes>"
      ]
     },
     "metadata": {},
     "output_type": "display_data"
    }
   ],
   "source": [
    "plt.plot(epoch_nums_list, val_loss_list, color = 'green', label = 'val loss')\n",
    "plt.plot(epoch_nums_list, train_loss_list, color = 'red', label = 'train loss')\n",
    "plt.legend(loc = 'upper left')\n",
    "plt.ylabel('error')\n",
    "plt.xlabel('epochs')\n",
    "plt.show()"
   ]
  },
  {
   "cell_type": "code",
   "execution_count": 17,
   "id": "ab1f1446",
   "metadata": {},
   "outputs": [
    {
     "name": "stdout",
     "output_type": "stream",
     "text": [
      "[[-1.3910445   0.9654546 ]\n",
      " [-0.31363028 -0.45822918]\n",
      " [-0.6206039  -0.45509967]\n",
      " ...\n",
      " [-0.55615383 -0.11399452]\n",
      " [-0.6475568  -0.45252803]\n",
      " [-0.5860856  -0.2593333 ]]\n",
      "Test Accuracy:  0.172\n"
     ]
    },
    {
     "data": {
      "text/plain": [
       "{'0': {'precision': 0.86875,\n",
       "  'recall': 0.0828861061419201,\n",
       "  'f1-score': 0.15133369624387588,\n",
       "  'support': 1677},\n",
       " '1': {'precision': 0.1073708647707487,\n",
       "  'recall': 0.8980582524271845,\n",
       "  'f1-score': 0.1918092275790565,\n",
       "  'support': 206},\n",
       " 'accuracy': 0.17206585236325014,\n",
       " 'macro avg': {'precision': 0.48806043238537433,\n",
       "  'recall': 0.49047217928455233,\n",
       "  'f1-score': 0.1715714619114662,\n",
       "  'support': 1883},\n",
       " 'weighted avg': {'precision': 0.7854552034746544,\n",
       "  'recall': 0.17206585236325014,\n",
       "  'f1-score': 0.1557617150728972,\n",
       "  'support': 1883}}"
      ]
     },
     "execution_count": 17,
     "metadata": {},
     "output_type": "execute_result"
    }
   ],
   "source": [
    "def evaluate(model, test_dataloader, test_data):\n",
    "    prediction_list = []\n",
    "    actual_list = []\n",
    "    total_acc_test = 0\n",
    "    with torch.no_grad():\n",
    "\n",
    "        for test_input, test_label in test_dataloader:\n",
    "            test_input = torch.reshape(test_input, (len(test_data), 1, 768))\n",
    "            output = model(inputs_embeds = test_input)\n",
    "            logits = output[0]\n",
    "            logits = logits.detach().numpy()\n",
    "            print(logits)\n",
    "            acc = flat_accuracy(logits, test_label.numpy())\n",
    "            total_acc_test += acc\n",
    "            \n",
    "            prediction_list.append(logits.argmax(axis=1))\n",
    "            actual_list.append(test_label)\n",
    "    \n",
    "    print(f'Test Accuracy: {total_acc_test / len(test_dataloader): .3f}')\n",
    "    \n",
    "    return prediction_list[0].tolist(), actual_list[0].tolist()\n",
    "\n",
    "test_loader = torch.utils.data.DataLoader(X_test_tensor, batch_size=len(df_test), num_workers=num_of_workers, drop_last=True)\n",
    "prediction_list, actual_list = evaluate(model, test_loader, df_test)\n",
    "report = classification_report(actual_list, prediction_list, output_dict=True)\n",
    "report"
   ]
  },
  {
   "cell_type": "code",
   "execution_count": 18,
   "id": "34fd24dd",
   "metadata": {
    "scrolled": false
   },
   "outputs": [
    {
     "name": "stdout",
     "output_type": "stream",
     "text": [
      "Model Epoch: bscmod_30_file.pt\n"
     ]
    },
    {
     "name": "stderr",
     "output_type": "stream",
     "text": [
      "Some weights of the model checkpoint at bert-base-uncased were not used when initializing BertForSequenceClassification: ['cls.predictions.transform.dense.weight', 'cls.predictions.transform.LayerNorm.weight', 'cls.predictions.bias', 'cls.predictions.transform.LayerNorm.bias', 'cls.predictions.transform.dense.bias', 'cls.predictions.decoder.weight', 'cls.seq_relationship.bias', 'cls.seq_relationship.weight']\n",
      "- This IS expected if you are initializing BertForSequenceClassification from the checkpoint of a model trained on another task or with another architecture (e.g. initializing a BertForSequenceClassification model from a BertForPreTraining model).\n",
      "- This IS NOT expected if you are initializing BertForSequenceClassification from the checkpoint of a model that you expect to be exactly identical (initializing a BertForSequenceClassification model from a BertForSequenceClassification model).\n",
      "Some weights of BertForSequenceClassification were not initialized from the model checkpoint at bert-base-uncased and are newly initialized: ['classifier.weight', 'classifier.bias']\n",
      "You should probably TRAIN this model on a down-stream task to be able to use it for predictions and inference.\n"
     ]
    },
    {
     "name": "stdout",
     "output_type": "stream",
     "text": [
      "[[-0.24246478 -0.9180114 ]\n",
      " [-0.24244367 -0.9196203 ]\n",
      " [-0.6188512  -0.2601377 ]\n",
      " ...\n",
      " [-0.2588895  -0.8380239 ]\n",
      " [-0.38352785  1.1968216 ]\n",
      " [-0.24240191 -0.91614836]]\n",
      "Test Accuracy:  0.672\n",
      "              precision    recall  f1-score   support\n",
      "\n",
      "           0       0.92      0.69      0.79      1677\n",
      "           1       0.17      0.53      0.26       206\n",
      "\n",
      "    accuracy                           0.67      1883\n",
      "   macro avg       0.55      0.61      0.53      1883\n",
      "weighted avg       0.84      0.67      0.73      1883\n",
      "\n",
      "Model Epoch: bscmod_20_file.pt\n"
     ]
    },
    {
     "name": "stderr",
     "output_type": "stream",
     "text": [
      "Some weights of the model checkpoint at bert-base-uncased were not used when initializing BertForSequenceClassification: ['cls.predictions.transform.dense.weight', 'cls.predictions.transform.LayerNorm.weight', 'cls.predictions.bias', 'cls.predictions.transform.LayerNorm.bias', 'cls.predictions.transform.dense.bias', 'cls.predictions.decoder.weight', 'cls.seq_relationship.bias', 'cls.seq_relationship.weight']\n",
      "- This IS expected if you are initializing BertForSequenceClassification from the checkpoint of a model trained on another task or with another architecture (e.g. initializing a BertForSequenceClassification model from a BertForPreTraining model).\n",
      "- This IS NOT expected if you are initializing BertForSequenceClassification from the checkpoint of a model that you expect to be exactly identical (initializing a BertForSequenceClassification model from a BertForSequenceClassification model).\n",
      "Some weights of BertForSequenceClassification were not initialized from the model checkpoint at bert-base-uncased and are newly initialized: ['classifier.weight', 'classifier.bias']\n",
      "You should probably TRAIN this model on a down-stream task to be able to use it for predictions and inference.\n"
     ]
    },
    {
     "name": "stdout",
     "output_type": "stream",
     "text": [
      "[[-0.31239715  1.4253678 ]\n",
      " [-0.3047231   1.431568  ]\n",
      " [-0.03744207 -1.0691504 ]\n",
      " ...\n",
      " [-0.03503022 -1.0797017 ]\n",
      " [-0.7784205   0.1568086 ]\n",
      " [-0.32172972  1.4170558 ]]\n",
      "Test Accuracy:  0.847\n",
      "              precision    recall  f1-score   support\n",
      "\n",
      "           0       0.92      0.91      0.91      1677\n",
      "           1       0.32      0.35      0.33       206\n",
      "\n",
      "    accuracy                           0.85      1883\n",
      "   macro avg       0.62      0.63      0.62      1883\n",
      "weighted avg       0.85      0.85      0.85      1883\n",
      "\n",
      "Model Epoch: bscmod_40_file.pt\n"
     ]
    },
    {
     "name": "stderr",
     "output_type": "stream",
     "text": [
      "Some weights of the model checkpoint at bert-base-uncased were not used when initializing BertForSequenceClassification: ['cls.predictions.transform.dense.weight', 'cls.predictions.transform.LayerNorm.weight', 'cls.predictions.bias', 'cls.predictions.transform.LayerNorm.bias', 'cls.predictions.transform.dense.bias', 'cls.predictions.decoder.weight', 'cls.seq_relationship.bias', 'cls.seq_relationship.weight']\n",
      "- This IS expected if you are initializing BertForSequenceClassification from the checkpoint of a model trained on another task or with another architecture (e.g. initializing a BertForSequenceClassification model from a BertForPreTraining model).\n",
      "- This IS NOT expected if you are initializing BertForSequenceClassification from the checkpoint of a model that you expect to be exactly identical (initializing a BertForSequenceClassification model from a BertForSequenceClassification model).\n",
      "Some weights of BertForSequenceClassification were not initialized from the model checkpoint at bert-base-uncased and are newly initialized: ['classifier.weight', 'classifier.bias']\n",
      "You should probably TRAIN this model on a down-stream task to be able to use it for predictions and inference.\n"
     ]
    },
    {
     "name": "stdout",
     "output_type": "stream",
     "text": [
      "[[-1.3983207   0.99287975]\n",
      " [-1.3778375   0.99010754]\n",
      " [-0.40957314 -0.7607508 ]\n",
      " ...\n",
      " [-0.4095312  -0.76201946]\n",
      " [-1.027358    0.2673858 ]\n",
      " [-1.4141288   0.9736421 ]]\n",
      "Test Accuracy:  0.839\n",
      "              precision    recall  f1-score   support\n",
      "\n",
      "           0       0.93      0.89      0.91      1677\n",
      "           1       0.32      0.42      0.36       206\n",
      "\n",
      "    accuracy                           0.84      1883\n",
      "   macro avg       0.62      0.66      0.64      1883\n",
      "weighted avg       0.86      0.84      0.85      1883\n",
      "\n",
      "Model Epoch: bscmod_1_file.pt\n"
     ]
    },
    {
     "name": "stderr",
     "output_type": "stream",
     "text": [
      "Some weights of the model checkpoint at bert-base-uncased were not used when initializing BertForSequenceClassification: ['cls.predictions.transform.dense.weight', 'cls.predictions.transform.LayerNorm.weight', 'cls.predictions.bias', 'cls.predictions.transform.LayerNorm.bias', 'cls.predictions.transform.dense.bias', 'cls.predictions.decoder.weight', 'cls.seq_relationship.bias', 'cls.seq_relationship.weight']\n",
      "- This IS expected if you are initializing BertForSequenceClassification from the checkpoint of a model trained on another task or with another architecture (e.g. initializing a BertForSequenceClassification model from a BertForPreTraining model).\n",
      "- This IS NOT expected if you are initializing BertForSequenceClassification from the checkpoint of a model that you expect to be exactly identical (initializing a BertForSequenceClassification model from a BertForSequenceClassification model).\n",
      "Some weights of BertForSequenceClassification were not initialized from the model checkpoint at bert-base-uncased and are newly initialized: ['classifier.weight', 'classifier.bias']\n",
      "You should probably TRAIN this model on a down-stream task to be able to use it for predictions and inference.\n"
     ]
    },
    {
     "name": "stdout",
     "output_type": "stream",
     "text": [
      "[[-0.64774793 -0.41569316]\n",
      " [-0.5039948  -0.3849487 ]\n",
      " [-0.52476305 -0.34505624]\n",
      " ...\n",
      " [-0.45753857 -0.451393  ]\n",
      " [-0.55045867 -0.3009372 ]\n",
      " [-0.645686   -0.39247712]]\n",
      "Test Accuracy:  0.202\n",
      "              precision    recall  f1-score   support\n",
      "\n",
      "           0       0.95      0.11      0.20      1677\n",
      "           1       0.12      0.96      0.21       206\n",
      "\n",
      "    accuracy                           0.20      1883\n",
      "   macro avg       0.53      0.53      0.20      1883\n",
      "weighted avg       0.86      0.20      0.20      1883\n",
      "\n",
      "Model Epoch: bscmod_10_file.pt\n"
     ]
    },
    {
     "name": "stderr",
     "output_type": "stream",
     "text": [
      "Some weights of the model checkpoint at bert-base-uncased were not used when initializing BertForSequenceClassification: ['cls.predictions.transform.dense.weight', 'cls.predictions.transform.LayerNorm.weight', 'cls.predictions.bias', 'cls.predictions.transform.LayerNorm.bias', 'cls.predictions.transform.dense.bias', 'cls.predictions.decoder.weight', 'cls.seq_relationship.bias', 'cls.seq_relationship.weight']\n",
      "- This IS expected if you are initializing BertForSequenceClassification from the checkpoint of a model trained on another task or with another architecture (e.g. initializing a BertForSequenceClassification model from a BertForPreTraining model).\n",
      "- This IS NOT expected if you are initializing BertForSequenceClassification from the checkpoint of a model that you expect to be exactly identical (initializing a BertForSequenceClassification model from a BertForSequenceClassification model).\n",
      "Some weights of BertForSequenceClassification were not initialized from the model checkpoint at bert-base-uncased and are newly initialized: ['classifier.weight', 'classifier.bias']\n",
      "You should probably TRAIN this model on a down-stream task to be able to use it for predictions and inference.\n"
     ]
    },
    {
     "name": "stdout",
     "output_type": "stream",
     "text": [
      "[[-1.0353335   0.88804424]\n",
      " [-1.0505445   0.7656844 ]\n",
      " [-0.17421977 -0.7052465 ]\n",
      " ...\n",
      " [ 0.12162696 -1.2131742 ]\n",
      " [-1.0476683   0.7516622 ]\n",
      " [-1.0390204   0.87815535]]\n",
      "Test Accuracy:  0.777\n",
      "              precision    recall  f1-score   support\n",
      "\n",
      "           0       0.94      0.81      0.87      1677\n",
      "           1       0.26      0.55      0.35       206\n",
      "\n",
      "    accuracy                           0.78      1883\n",
      "   macro avg       0.60      0.68      0.61      1883\n",
      "weighted avg       0.86      0.78      0.81      1883\n",
      "\n",
      "Model Epoch: bscmod_5_file.pt\n"
     ]
    },
    {
     "name": "stderr",
     "output_type": "stream",
     "text": [
      "Some weights of the model checkpoint at bert-base-uncased were not used when initializing BertForSequenceClassification: ['cls.predictions.transform.dense.weight', 'cls.predictions.transform.LayerNorm.weight', 'cls.predictions.bias', 'cls.predictions.transform.LayerNorm.bias', 'cls.predictions.transform.dense.bias', 'cls.predictions.decoder.weight', 'cls.seq_relationship.bias', 'cls.seq_relationship.weight']\n",
      "- This IS expected if you are initializing BertForSequenceClassification from the checkpoint of a model trained on another task or with another architecture (e.g. initializing a BertForSequenceClassification model from a BertForPreTraining model).\n",
      "- This IS NOT expected if you are initializing BertForSequenceClassification from the checkpoint of a model that you expect to be exactly identical (initializing a BertForSequenceClassification model from a BertForSequenceClassification model).\n",
      "Some weights of BertForSequenceClassification were not initialized from the model checkpoint at bert-base-uncased and are newly initialized: ['classifier.weight', 'classifier.bias']\n",
      "You should probably TRAIN this model on a down-stream task to be able to use it for predictions and inference.\n"
     ]
    },
    {
     "name": "stdout",
     "output_type": "stream",
     "text": [
      "[[-1.087293    0.37157652]\n",
      " [-0.69399256 -0.34763703]\n",
      " [-0.67555624 -0.34113795]\n",
      " ...\n",
      " [-0.6637771  -0.3504065 ]\n",
      " [-1.0357461   0.31071046]\n",
      " [-1.0874041   0.35885856]]\n",
      "Test Accuracy:  0.109\n",
      "              precision    recall  f1-score   support\n",
      "\n",
      "           0       0.00      0.00      0.00      1677\n",
      "           1       0.11      1.00      0.20       206\n",
      "\n",
      "    accuracy                           0.11      1883\n",
      "   macro avg       0.05      0.50      0.10      1883\n",
      "weighted avg       0.01      0.11      0.02      1883\n",
      "\n"
     ]
    },
    {
     "name": "stderr",
     "output_type": "stream",
     "text": [
      "/Library/Frameworks/Python.framework/Versions/3.8/lib/python3.8/site-packages/sklearn/metrics/_classification.py:1334: UndefinedMetricWarning: Precision and F-score are ill-defined and being set to 0.0 in labels with no predicted samples. Use `zero_division` parameter to control this behavior.\n",
      "  _warn_prf(average, modifier, msg_start, len(result))\n",
      "/Library/Frameworks/Python.framework/Versions/3.8/lib/python3.8/site-packages/sklearn/metrics/_classification.py:1334: UndefinedMetricWarning: Precision and F-score are ill-defined and being set to 0.0 in labels with no predicted samples. Use `zero_division` parameter to control this behavior.\n",
      "  _warn_prf(average, modifier, msg_start, len(result))\n",
      "/Library/Frameworks/Python.framework/Versions/3.8/lib/python3.8/site-packages/sklearn/metrics/_classification.py:1334: UndefinedMetricWarning: Precision and F-score are ill-defined and being set to 0.0 in labels with no predicted samples. Use `zero_division` parameter to control this behavior.\n",
      "  _warn_prf(average, modifier, msg_start, len(result))\n"
     ]
    }
   ],
   "source": [
    "from tabulate import tabulate\n",
    "import os \n",
    "\n",
    "def evaluate(test_dataloader, test_data):\n",
    "    #bert_sc_avg_models\n",
    "    path = \"bert_sc_avg_models/\"\n",
    "    files = os.listdir(\"./bert_sc_avg_models/\")\n",
    "    for file in files:\n",
    "        print(\"Model Epoch: \" + file)\n",
    "        curr_model = BertForSequenceClassification.from_pretrained(\n",
    "            \"bert-base-uncased\",\n",
    "            num_labels = 2,\n",
    "            output_attentions = False,\n",
    "            output_hidden_states = False,)\n",
    "\n",
    "        curr_model.load_state_dict(torch.load(path + file))\n",
    "        prediction_list = []\n",
    "        actual_list = []\n",
    "        total_acc_test = 0\n",
    "        with torch.no_grad():\n",
    "            for test_input, test_label in test_dataloader:\n",
    "                test_input = torch.reshape(test_input, (len(test_data), 1, 768))\n",
    "                output = curr_model(inputs_embeds = test_input)\n",
    "                logits = output[0]\n",
    "                logits = logits.detach().numpy()\n",
    "                print(logits)\n",
    "                acc = flat_accuracy(logits, test_label.numpy())\n",
    "                total_acc_test += acc\n",
    "            \n",
    "                prediction_list.append(logits.argmax(axis=1))\n",
    "                actual_list.append(test_label)\n",
    "    \n",
    "        print(f'Test Accuracy: {total_acc_test / len(test_dataloader): .3f}')\n",
    "        report = classification_report(actual_list[0].tolist(), prediction_list[0].tolist())\n",
    "        print(report)\n",
    "\n",
    "test_loader = torch.utils.data.DataLoader(X_test_tensor, batch_size=len(df_test), num_workers=num_of_workers, drop_last=True)\n",
    "evaluate(test_loader, df_test)"
   ]
  },
  {
   "attachments": {
    "Screen%20Shot%202022-11-15%20at%2011.01.57%20PM.png": {
     "image/png": "[encoded data removed]"
    }
   },
   "cell_type": "markdown",
   "id": "50d17b16",
   "metadata": {},
   "source": [
    "##### Best F1 score is found at epoch 40\n",
    "\n",
    "![Screen%20Shot%202022-11-15%20at%2011.01.57%20PM.png](attachment:Screen%20Shot%202022-11-15%20at%2011.01.57%20PM.png)"
   ]
  },
  {
   "cell_type": "code",
   "execution_count": null,
   "id": "da04c183",
   "metadata": {},
   "outputs": [],
   "source": []
  }
 ],
 "metadata": {
  "kernelspec": {
   "display_name": "Python 3 (ipykernel)",
   "language": "python",
   "name": "python3"
  },
  "language_info": {
   "codemirror_mode": {
    "name": "ipython",
    "version": 3
   },
   "file_extension": ".py",
   "mimetype": "text/x-python",
   "name": "python",
   "nbconvert_exporter": "python",
   "pygments_lexer": "ipython3",
   "version": "3.8.10"
  }
 },
 "nbformat": 4,
 "nbformat_minor": 5
}
