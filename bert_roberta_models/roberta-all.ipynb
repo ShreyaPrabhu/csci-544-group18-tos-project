{
 "cells": [
  {
   "cell_type": "markdown",
   "id": "16b53c15",
   "metadata": {},
   "source": [
    "#### BERT Sequence Classifier Reference Blogpost \n",
    "https://towardsdatascience.com/text-classification-with-bert-in-pytorch-887965e5820f"
   ]
  },
  {
   "cell_type": "code",
   "execution_count": 1,
   "id": "9d387a55",
   "metadata": {},
   "outputs": [],
   "source": [
    "import pandas as pd \n",
    "import numpy as np\n",
    "import matplotlib.pyplot as plt\n",
    "import pandas as pd\n",
    "import torch\n",
    "import torch.nn as nn\n",
    "from transformers import RobertaModel, RobertaTokenizer\n",
    "from transformers import RobertaForSequenceClassification, RobertaConfig\n",
    "\n",
    "from transformers import AdamW, BertConfig, get_linear_schedule_with_warmup\n",
    "import torch.optim as optim\n",
    "from sklearn.metrics import accuracy_score, classification_report, confusion_matrix\n",
    "import seaborn as sns\n",
    "import pickle5 as pkl\n",
    "from torch.utils.data.sampler import SubsetRandomSampler\n",
    "import torch.nn.functional as F\n",
    "from torch.utils.data import DataLoader\n",
    "from torch.utils.data import Dataset\n",
    "from torch.optim import Adam\n",
    "from tqdm import tqdm\n",
    "import time"
   ]
  },
  {
   "cell_type": "code",
   "execution_count": 2,
   "id": "c27ffcff",
   "metadata": {},
   "outputs": [
    {
     "name": "stdout",
     "output_type": "stream",
     "text": [
      "Training on GPU.\n"
     ]
    }
   ],
   "source": [
    "# First checking if GPU is available\n",
    "train_on_gpu=torch.backends.mps.is_available()\n",
    "if(train_on_gpu):\n",
    "    print('Training on GPU.')\n",
    "    device = torch.device(\"mps\")\n",
    "else:\n",
    "    print('No GPU available, training on CPU.')"
   ]
  },
  {
   "cell_type": "code",
   "execution_count": 3,
   "id": "ef25ee35",
   "metadata": {},
   "outputs": [],
   "source": [
    "train_dataset_path = \"tos_clauses_train.csv\"\n",
    "test_dataset_path = \"tos_clauses_dev.csv\"\n",
    "train_df = pd.read_csv(train_dataset_path, header=0)\n",
    "test_df = pd.read_csv(test_dataset_path, header=0)"
   ]
  },
  {
   "cell_type": "code",
   "execution_count": 4,
   "id": "fa4050e6",
   "metadata": {},
   "outputs": [],
   "source": [
    "def read_embeddings(embeddings_file_path):\n",
    "    with open(embeddings_file_path, mode=\"rb\") as file:\n",
    "        data = pkl.load(file) \n",
    "    return data\n",
    "\n",
    "train_data = read_embeddings(\"train_bert_embeddings.pkl\")\n",
    "test_data = read_embeddings(\"test_bert_embeddings.pkl\")\n"
   ]
  },
  {
   "cell_type": "code",
   "execution_count": 5,
   "id": "3ee5a122",
   "metadata": {},
   "outputs": [
    {
     "name": "stdout",
     "output_type": "stream",
     "text": [
      "6025\n",
      "1506\n"
     ]
    }
   ],
   "source": [
    "class TenDataset(Dataset):\n",
    "    def __init__(self, X, Y):\n",
    "        self.data1 = X\n",
    "        self.data2 = Y\n",
    "        \n",
    "    def __len__(self):\n",
    "        return len(self.data1)\n",
    "    \n",
    "    def __getitem__(self, index):\n",
    "        x = self.data1[index]\n",
    "        y = self.data2[index]      \n",
    "        return torch.tensor(x), y \n",
    "\n",
    "test_len = len(train_data)\n",
    "train_len = len(test_data)\n",
    "X_train_tensor = TenDataset(train_data[\"embeddings\"], train_df[\"label\"].values)\n",
    "X_test_tensor = TenDataset(test_data[\"embeddings\"], test_df[\"label\"].values)\n",
    "\n",
    "num_of_workers = 0\n",
    "batch_size = 10\n",
    "valid_size = 0.2\n",
    "\n",
    "num_train = len(X_train_tensor)\n",
    "indices = list(range(num_train))\n",
    "np.random.shuffle(indices)\n",
    "split = int(np.floor(valid_size * num_train))\n",
    "train_idx, valid_idx = indices[split:], indices[:split]\n",
    "\n",
    "print(len(train_idx))\n",
    "print(len(valid_idx))\n",
    "train_sampler = SubsetRandomSampler(train_idx)\n",
    "valid_sampler = SubsetRandomSampler(valid_idx)\n",
    "\n",
    "train_loader = torch.utils.data.DataLoader(X_train_tensor, batch_size=batch_size,\n",
    "    sampler=train_sampler, num_workers=num_of_workers, drop_last=True)\n",
    "valid_loader = torch.utils.data.DataLoader(X_train_tensor, batch_size=batch_size, \n",
    "    sampler=valid_sampler, num_workers=num_of_workers, drop_last=True)\n",
    "test_loader = torch.utils.data.DataLoader(X_test_tensor, batch_size=batch_size, \n",
    "    num_workers=num_of_workers, drop_last=True)"
   ]
  },
  {
   "cell_type": "code",
   "execution_count": 6,
   "id": "996636b0",
   "metadata": {},
   "outputs": [
    {
     "name": "stdout",
     "output_type": "stream",
     "text": [
      "train_fair:6705\n",
      "train_unfair:826\n"
     ]
    }
   ],
   "source": [
    "train_fair = sum(train_df['label'] == 0)\n",
    "train_unfair = sum(train_df['label'] == 1)\n",
    "\n",
    "print(\"train_fair:\" + str(train_fair))\n",
    "print(\"train_unfair:\" + str(train_unfair))"
   ]
  },
  {
   "cell_type": "code",
   "execution_count": 7,
   "id": "c92a37db",
   "metadata": {},
   "outputs": [
    {
     "name": "stderr",
     "output_type": "stream",
     "text": [
      "Some weights of the model checkpoint at bert-base-uncased were not used when initializing BertForSequenceClassification: ['cls.predictions.transform.LayerNorm.weight', 'cls.predictions.transform.dense.weight', 'cls.predictions.transform.LayerNorm.bias', 'cls.predictions.bias', 'cls.predictions.transform.dense.bias', 'cls.predictions.decoder.weight', 'cls.seq_relationship.bias', 'cls.seq_relationship.weight']\n",
      "- This IS expected if you are initializing BertForSequenceClassification from the checkpoint of a model trained on another task or with another architecture (e.g. initializing a BertForSequenceClassification model from a BertForPreTraining model).\n",
      "- This IS NOT expected if you are initializing BertForSequenceClassification from the checkpoint of a model that you expect to be exactly identical (initializing a BertForSequenceClassification model from a BertForSequenceClassification model).\n",
      "Some weights of BertForSequenceClassification were not initialized from the model checkpoint at bert-base-uncased and are newly initialized: ['classifier.weight', 'classifier.bias']\n",
      "You should probably TRAIN this model on a down-stream task to be able to use it for predictions and inference.\n"
     ]
    },
    {
     "name": "stdout",
     "output_type": "stream",
     "text": [
      "The BERT model has 201 different named parameters.\n",
      "\n",
      "==== Embedding Layer ====\n",
      "\n",
      "bert.embeddings.word_embeddings.weight                  (30522, 768)\n",
      "bert.embeddings.position_embeddings.weight                (512, 768)\n",
      "bert.embeddings.token_type_embeddings.weight                (2, 768)\n",
      "bert.embeddings.LayerNorm.weight                              (768,)\n",
      "bert.embeddings.LayerNorm.bias                                (768,)\n",
      "\n",
      "==== First Transformer ====\n",
      "\n",
      "bert.encoder.layer.0.attention.self.query.weight          (768, 768)\n",
      "bert.encoder.layer.0.attention.self.query.bias                (768,)\n",
      "bert.encoder.layer.0.attention.self.key.weight            (768, 768)\n",
      "bert.encoder.layer.0.attention.self.key.bias                  (768,)\n",
      "bert.encoder.layer.0.attention.self.value.weight          (768, 768)\n",
      "bert.encoder.layer.0.attention.self.value.bias                (768,)\n",
      "bert.encoder.layer.0.attention.output.dense.weight        (768, 768)\n",
      "bert.encoder.layer.0.attention.output.dense.bias              (768,)\n",
      "bert.encoder.layer.0.attention.output.LayerNorm.weight        (768,)\n",
      "bert.encoder.layer.0.attention.output.LayerNorm.bias          (768,)\n",
      "bert.encoder.layer.0.intermediate.dense.weight           (3072, 768)\n",
      "bert.encoder.layer.0.intermediate.dense.bias                 (3072,)\n",
      "bert.encoder.layer.0.output.dense.weight                 (768, 3072)\n",
      "bert.encoder.layer.0.output.dense.bias                        (768,)\n",
      "bert.encoder.layer.0.output.LayerNorm.weight                  (768,)\n",
      "bert.encoder.layer.0.output.LayerNorm.bias                    (768,)\n",
      "\n",
      "==== Output Layer ====\n",
      "\n",
      "bert.pooler.dense.weight                                  (768, 768)\n",
      "bert.pooler.dense.bias                                        (768,)\n",
      "classifier.weight                                           (2, 768)\n",
      "classifier.bias                                                 (2,)\n"
     ]
    },
    {
     "name": "stderr",
     "output_type": "stream",
     "text": [
      "/Library/Frameworks/Python.framework/Versions/3.8/lib/python3.8/site-packages/transformers/optimization.py:306: FutureWarning: This implementation of AdamW is deprecated and will be removed in a future version. Use the PyTorch implementation torch.optim.AdamW instead, or set `no_deprecation_warning=True` to disable this warning\n",
      "  warnings.warn(\n"
     ]
    }
   ],
   "source": [
    "model = RobertaForSequenceClassification.from_pretrained(\n",
    "    \"roberta-base\",\n",
    "    num_labels = 2,\n",
    "    output_attentions = False,\n",
    "    output_hidden_states = False,\n",
    ")\n",
    "\n",
    "params = list(model.named_parameters())\n",
    "\n",
    "print('The RoBERTa model has {:} different named parameters.\\n'.format(len(params)))\n",
    "\n",
    "print('==== Embedding Layer ====\\n')\n",
    "\n",
    "for p in params[0:5]:\n",
    "    print(\"{:<55} {:>12}\".format(p[0], str(tuple(p[1].size()))))\n",
    "\n",
    "print('\\n==== First Transformer ====\\n')\n",
    "\n",
    "for p in params[5:21]:\n",
    "    print(\"{:<55} {:>12}\".format(p[0], str(tuple(p[1].size()))))\n",
    "\n",
    "print('\\n==== Output Layer ====\\n')\n",
    "\n",
    "for p in params[-4:]:\n",
    "    print(\"{:<55} {:>12}\".format(p[0], str(tuple(p[1].size()))))\n",
    "    \n",
    "    \n",
    "optimizer = AdamW(model.parameters(),lr = 5e-5, eps = 1e-8)\n",
    "\n",
    "epochs = 4\n",
    "total_steps = len(train_loader) * epochs\n",
    "\n"
   ]
  },
  {
   "cell_type": "code",
   "execution_count": 8,
   "id": "8634097b",
   "metadata": {},
   "outputs": [],
   "source": [
    "def flat_accuracy(preds, labels):\n",
    "    pred_flat = np.argmax(preds, axis=1).flatten()\n",
    "    labels_flat = labels.flatten()\n",
    "    return np.sum(pred_flat == labels_flat) / len(labels_flat)"
   ]
  },
  {
   "cell_type": "code",
   "execution_count": 9,
   "id": "b882c379",
   "metadata": {},
   "outputs": [],
   "source": [
    "import time\n",
    "import datetime\n",
    "\n",
    "def format_time(elapsed):\n",
    "    '''\n",
    "    Takes a time in seconds and returns a string hh:mm:ss\n",
    "    '''\n",
    "    # Round to the nearest second.\n",
    "    elapsed_rounded = int(round((elapsed)))\n",
    "    \n",
    "    # Format as hh:mm:ss\n",
    "    return str(datetime.timedelta(seconds=elapsed_rounded))\n"
   ]
  },
  {
   "cell_type": "code",
   "execution_count": null,
   "id": "174cc69a",
   "metadata": {
    "scrolled": false
   },
   "outputs": [
    {
     "name": "stderr",
     "output_type": "stream",
     "text": [
      "  0%|                                                   | 0/602 [00:00<?, ?it/s]/var/folders/h2/g7bly03j6zz2n3q1_1k9k6ym0000gn/T/ipykernel_1161/3151710266.py:12: UserWarning: To copy construct from a tensor, it is recommended to use sourceTensor.clone().detach() or sourceTensor.clone().detach().requires_grad_(True), rather than torch.tensor(sourceTensor).\n",
      "  return torch.tensor(x), y\n"
     ]
    },
    {
     "name": "stdout",
     "output_type": "stream",
     "text": [
      "Epoch: 0\n"
     ]
    },
    {
     "name": "stderr",
     "output_type": "stream",
     "text": [
      " 18%|██████▊                                | 106/602 [18:26<1:28:13, 10.67s/it]"
     ]
    }
   ],
   "source": [
    "def train(model, train_dataloader, val_dataloader, learning_rate, epochs, train_idx, val_idx):\n",
    "    epoch_nums_list = []\n",
    "    train_loss_list = []\n",
    "    val_loss_list = []\n",
    "    model.train()\n",
    "    criterion = nn.CrossEntropyLoss(weight = torch.FloatTensor([1/train_fair, 1/train_unfair]))\n",
    "    for epoch_num in range(epochs):\n",
    "        print(\"Epoch: \" + str(epoch_num))\n",
    "        total_acc_train = 0\n",
    "        total_loss_train = 0\n",
    "\n",
    "        for train_input, train_label in tqdm(train_dataloader):\n",
    "            model.zero_grad()\n",
    "            train_input = torch.reshape(train_input, (batch_size, 512, 768))\n",
    "            \n",
    "            output = model(inputs_embeds = train_input, labels = train_label.long())\n",
    "            logits = output[1]\n",
    "            loss = criterion(logits, train_label.long())\n",
    "            total_loss_train += loss.item()\n",
    "            loss.backward()\n",
    "            torch.nn.utils.clip_grad_norm_(model.parameters(), 1.0)\n",
    "            logits = logits.detach().numpy()\n",
    "            acc = flat_accuracy(logits, train_label.numpy())\n",
    "            total_acc_train += acc\n",
    "            optimizer.step()\n",
    "            \n",
    "        total_acc_val = 0\n",
    "        total_loss_val = 0\n",
    "\n",
    "        with torch.no_grad():\n",
    "\n",
    "            for val_input, val_label in val_dataloader:\n",
    "                val_input = torch.reshape(val_input, (batch_size, 512, 768))\n",
    "                output = model(inputs_embeds = val_input, labels = val_label.long())\n",
    "                logits = output[1]\n",
    "                loss = criterion(logits, val_label.long())\n",
    "                total_loss_val += loss.item()\n",
    "                    \n",
    "                \n",
    "                logits = logits.detach().numpy()\n",
    "                acc = flat_accuracy(logits, val_label.numpy())\n",
    "                total_acc_val += acc\n",
    "            \n",
    "        print(\n",
    "                f'Epochs: {epoch_num + 1} | Train Loss: {total_loss_train / len(train_idx): .3f} \\\n",
    "                | Train Accuracy: {total_acc_train / len(train_dataloader): .3f} \\\n",
    "                | Val Loss: {total_loss_val / len(val_idx): .3f} \\\n",
    "                | Val Accuracy: {total_acc_val / len(val_dataloader): .3f}')\n",
    "        epoch_nums_list.append(epoch_num)\n",
    "        train_loss_list.append(1- (total_acc_train / len(train_dataloader)))\n",
    "        val_loss_list.append(1- (total_acc_val / len(val_dataloader)))\n",
    "        if epoch_num in [0, 1, 2, 3, 4, 5]:\n",
    "            torch.save(model.state_dict(), \"roberta_sc_all_models/\" + \"rbscmod_\" + str(epoch_num) + \"_file.pt\")\n",
    "    return epoch_nums_list, train_loss_list, val_loss_list\n",
    "EPOCHS = 5\n",
    "LR = 1e-6\n",
    "              \n",
    "epoch_nums_list, train_loss_list, val_loss_list = train(model, train_loader, valid_loader, LR, EPOCHS, train_idx, valid_idx)"
   ]
  },
  {
   "cell_type": "code",
   "execution_count": null,
   "id": "0da14cdd",
   "metadata": {},
   "outputs": [],
   "source": [
    "plt.plot(epoch_nums_list, val_loss_list, color = 'green', label = 'val loss')\n",
    "plt.plot(epoch_nums_list, train_loss_list, color = 'red', label = 'train loss')\n",
    "plt.legend(loc = 'upper left')\n",
    "plt.ylabel('error')\n",
    "plt.xlabel('epochs')\n",
    "plt.show()"
   ]
  },
  {
   "cell_type": "code",
   "execution_count": null,
   "id": "ab1f1446",
   "metadata": {},
   "outputs": [],
   "source": [
    "def evaluate(model, test_dataloader, test_data):\n",
    "    prediction_list = []\n",
    "    actual_list = []\n",
    "    total_acc_test = 0\n",
    "    with torch.no_grad():\n",
    "\n",
    "        for test_input, test_label in test_dataloader:\n",
    "            test_input = torch.reshape(test_input, (len(test_data), 512, 768))\n",
    "            output = model(inputs_embeds = test_input)\n",
    "            logits = output[0]\n",
    "            logits = logits.detach().numpy()\n",
    "            print(logits)\n",
    "            acc = flat_accuracy(logits, test_label.numpy())\n",
    "            total_acc_test += acc\n",
    "            \n",
    "            prediction_list.append(logits.argmax(axis=1))\n",
    "            actual_list.append(test_label)\n",
    "    \n",
    "    print(f'Test Accuracy: {total_acc_test / len(test_dataloader): .3f}')\n",
    "    \n",
    "    return prediction_list[0].tolist(), actual_list[0].tolist()\n",
    "\n",
    "test_loader = torch.utils.data.DataLoader(X_test_tensor, batch_size=len(df_test), num_workers=num_of_workers, drop_last=True)\n",
    "prediction_list, actual_list = evaluate(model, test_loader, df_test)\n",
    "report = classification_report(actual_list, prediction_list, output_dict=True)\n",
    "report"
   ]
  },
  {
   "cell_type": "code",
   "execution_count": null,
   "id": "34fd24dd",
   "metadata": {
    "scrolled": false
   },
   "outputs": [],
   "source": [
    "from tabulate import tabulate\n",
    "import os \n",
    "\n",
    "def evaluate(test_dataloader, test_data):\n",
    "    #bert_sc_avg_models\n",
    "    path = \"roberta_sc_all_models/\"\n",
    "    files = os.listdir(\"./roberta_sc_all_models/\")\n",
    "    files.sort()\n",
    "    for file in files:\n",
    "        print(\"Model Epoch: \" + file)\n",
    "        curr_model = BertForSequenceClassification.from_pretrained(\n",
    "            \"bert-base-uncased\",\n",
    "            num_labels = 2,\n",
    "            output_attentions = False,\n",
    "            output_hidden_states = False,)\n",
    "\n",
    "        curr_model.load_state_dict(torch.load(path + file))\n",
    "        prediction_list = []\n",
    "        actual_list = []\n",
    "        total_acc_test = 0\n",
    "        with torch.no_grad():\n",
    "            for test_input, test_label in test_dataloader:\n",
    "                test_input = torch.reshape(test_input, (len(test_data), 512, 768))\n",
    "                output = curr_model(inputs_embeds = test_input)\n",
    "                logits = output[0]\n",
    "                logits = logits.detach().numpy()\n",
    "                print(logits)\n",
    "                acc = flat_accuracy(logits, test_label.numpy())\n",
    "                total_acc_test += acc\n",
    "            \n",
    "                prediction_list.append(logits.argmax(axis=1))\n",
    "                actual_list.append(test_label)\n",
    "    \n",
    "        print(f'Test Accuracy: {total_acc_test / len(test_dataloader): .3f}')\n",
    "        report = classification_report(actual_list[0].tolist(), prediction_list[0].tolist())\n",
    "        print(report)\n",
    "\n",
    "test_loader = torch.utils.data.DataLoader(X_test_tensor, batch_size=len(df_test), num_workers=num_of_workers, drop_last=True)\n",
    "evaluate(test_loader, df_test)"
   ]
  }
 ],
 "metadata": {
  "kernelspec": {
   "display_name": "Python 3 (ipykernel)",
   "language": "python",
   "name": "python3"
  },
  "language_info": {
   "codemirror_mode": {
    "name": "ipython",
    "version": 3
   },
   "file_extension": ".py",
   "mimetype": "text/x-python",
   "name": "python",
   "nbconvert_exporter": "python",
   "pygments_lexer": "ipython3",
   "version": "3.8.10"
  }
 },
 "nbformat": 4,
 "nbformat_minor": 5
}
