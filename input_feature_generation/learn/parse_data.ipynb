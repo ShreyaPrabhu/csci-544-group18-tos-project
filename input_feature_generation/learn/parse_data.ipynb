{
  "cells": [
    {
      "cell_type": "markdown",
      "metadata": {
        "id": "jmV9H6mqvWD9"
      },
      "source": [
        "# Using BERT Tokenizer and BERT Model from Huggingface"
      ]
    },
    {
      "cell_type": "markdown",
      "metadata": {
        "id": "VxZbM6Hova5G"
      },
      "source": [
        "# Aggregated Preprocessing Steps"
      ]
    },
    {
      "cell_type": "code",
      "execution_count": 100,
      "metadata": {
        "id": "mVEJFD3J5d0F"
      },
      "outputs": [],
      "source": [
        "import pandas as pd"
      ]
    },
    {
      "cell_type": "code",
      "execution_count": 101,
      "metadata": {
        "colab": {
          "base_uri": "https://localhost:8080/"
        },
        "id": "8z9-51v1vkfZ",
        "outputId": "ceeb02c8-1d72-4551-8d3b-104a365c1ec4"
      },
      "outputs": [
        {
          "name": "stdout",
          "output_type": "stream",
          "text": [
            "Requirement already satisfied: contractions in /Users/aditya/.pyenv/versions/3.10.6/envs/csci544/lib/python3.10/site-packages (0.1.72)\n",
            "Requirement already satisfied: textsearch>=0.0.21 in /Users/aditya/.pyenv/versions/3.10.6/envs/csci544/lib/python3.10/site-packages (from contractions) (0.0.21)\n",
            "Requirement already satisfied: anyascii in /Users/aditya/.pyenv/versions/3.10.6/envs/csci544/lib/python3.10/site-packages (from textsearch>=0.0.21->contractions) (0.3.1)\n",
            "Requirement already satisfied: pyahocorasick in /Users/aditya/.pyenv/versions/3.10.6/envs/csci544/lib/python3.10/site-packages (from textsearch>=0.0.21->contractions) (1.4.4)\n",
            "Note: you may need to restart the kernel to use updated packages.\n"
          ]
        }
      ],
      "source": [
        "%pip install contractions"
      ]
    },
    {
      "cell_type": "code",
      "execution_count": 102,
      "metadata": {
        "id": "nr-qJW_pvSwv"
      },
      "outputs": [],
      "source": [
        "# Convert all reviews to lower case (optional according to study)\n",
        "def to_lower(data: pd.Series):\n",
        "    return data.str.lower()\n"
      ]
    },
    {
      "cell_type": "code",
      "execution_count": 103,
      "metadata": {
        "id": "55QDEpu44_l-"
      },
      "outputs": [],
      "source": [
        "def remove_accented_characters(data: pd.Series):\n",
        "    import unicodedata\n",
        "\n",
        "    \"\"\"Removes accented characters from the Series\n",
        "\n",
        "    Args:\n",
        "        data (pd.Series): Series of string\n",
        "\n",
        "    Returns:\n",
        "        _type_: pd.Series\n",
        "    \"\"\"\n",
        "    import unicodedata\n",
        "\n",
        "    return data.apply(lambda x: unicodedata.normalize(\"NFKD\", x).encode(\"ascii\", \"ignore\").decode(\"utf-8\", \"ignore\"))\n"
      ]
    },
    {
      "cell_type": "code",
      "execution_count": 104,
      "metadata": {
        "id": "xgxvlVyH4_j4"
      },
      "outputs": [],
      "source": [
        "def remove_html_encodings(data: pd.Series):\n",
        "  return data.str.replace(r\"&#\\d+;\", \" \", regex=True)"
      ]
    },
    {
      "cell_type": "code",
      "execution_count": 105,
      "metadata": {
        "id": "Jj_laKmv4_h0"
      },
      "outputs": [],
      "source": [
        "def remove_html_tags(data: pd.Series):\n",
        "  return data.str.replace(r\"<[a-zA-Z]+\\s?/?>\", \" \", regex=True)"
      ]
    },
    {
      "cell_type": "code",
      "execution_count": 106,
      "metadata": {
        "id": "2SCBxfm54_fe"
      },
      "outputs": [],
      "source": [
        "def remove_url(data: pd.Series):\n",
        "  return data.str.replace(r\"https?://([\\w\\-\\._]+){2,}/[\\w\\-\\.\\-/=\\+_\\?]+\", \" \", regex=True)"
      ]
    },
    {
      "cell_type": "code",
      "execution_count": 107,
      "metadata": {
        "id": "6k59XuMR4_dY"
      },
      "outputs": [],
      "source": [
        "def remove_html_and_url(data: pd.Series):\n",
        "    \"\"\"Function to remove\n",
        "             1. HTML encodings\n",
        "             2. HTML tags (both closed and open)\n",
        "             3. URLs\n",
        "\n",
        "    Args:\n",
        "        data (pd.Series): A Pandas series of type string\n",
        "\n",
        "    Returns:\n",
        "        _type_: pd.Series\n",
        "    \"\"\"\n",
        "    # Remove HTML encodings\n",
        "    data.str.replace(r\"&#\\d+;\", \" \", regex=True)\n",
        "\n",
        "    # Remove HTML tags (both open and closed)\n",
        "    data.str.replace(r\"<[a-zA-Z]+\\s?/?>\", \" \", regex=True)\n",
        "\n",
        "    # Remove URLs\n",
        "    data.str.replace(r\"https?://([\\w\\-\\._]+){2,}/[\\w\\-\\.\\-/=\\+_\\?]+\", \" \", regex=True)\n",
        "\n",
        "    return data\n"
      ]
    },
    {
      "cell_type": "code",
      "execution_count": 108,
      "metadata": {
        "id": "nAxCkw3Z4_bT"
      },
      "outputs": [],
      "source": [
        "# Remove non-alphabetical characters\n",
        "def remove_non_alpha_characters(data: pd.Series):\n",
        "    return data.str.replace(r\"_+|\\\\|[^a-zA-Z0-9\\s]\", \" \", regex=True)\n"
      ]
    },
    {
      "cell_type": "code",
      "execution_count": 109,
      "metadata": {
        "id": "oH9UdmFv5LFZ"
      },
      "outputs": [],
      "source": [
        "# Remove extra spaces\n",
        "def remove_extra_spaces(data: pd.Series):\n",
        "    return data.str.replace(r\"^\\s*|\\s\\s*\", \" \", regex=True)\n"
      ]
    },
    {
      "cell_type": "code",
      "execution_count": 110,
      "metadata": {
        "id": "ax3lfFii5LDV"
      },
      "outputs": [],
      "source": [
        "# Expanding contractions\n",
        "def fix_contractions(data: pd.Series):\n",
        "    import contractions\n",
        "\n",
        "    def contraction_fixer(txt: str):\n",
        "        return \" \".join([contractions.fix(word) for word in txt.split()])\n",
        "\n",
        "    return data.apply(contraction_fixer)\n"
      ]
    },
    {
      "cell_type": "code",
      "execution_count": 111,
      "metadata": {
        "id": "DvY0sG_X5LBN"
      },
      "outputs": [],
      "source": [
        "# remove \"-lrb-\"\n",
        "def remove_special_words(data: pd.Series):\n",
        "  return data.str.replace(r\"\\-[^a-zA-Z]{3}\\-\", \" \", regex=True)"
      ]
    },
    {
      "cell_type": "code",
      "execution_count": null,
      "metadata": {
        "id": "MVJX0mwP5K_A"
      },
      "outputs": [],
      "source": []
    },
    {
      "cell_type": "code",
      "execution_count": null,
      "metadata": {
        "id": "4crTpw3L4_ZN"
      },
      "outputs": [],
      "source": []
    },
    {
      "cell_type": "code",
      "execution_count": null,
      "metadata": {
        "id": "_PkNC2de4_XI"
      },
      "outputs": [],
      "source": []
    },
    {
      "cell_type": "code",
      "execution_count": 112,
      "metadata": {
        "colab": {
          "base_uri": "https://localhost:8080/"
        },
        "id": "VIX2JXAxviGT",
        "outputId": "ff595c6b-e71e-4708-f7cc-90a1aed1fa54"
      },
      "outputs": [
        {
          "name": "stdout",
          "output_type": "stream",
          "text": [
            "Requirement already satisfied: transformers in /Users/aditya/.pyenv/versions/3.10.6/envs/csci544/lib/python3.10/site-packages (4.24.0)\n",
            "Requirement already satisfied: filelock in /Users/aditya/.pyenv/versions/3.10.6/envs/csci544/lib/python3.10/site-packages (from transformers) (3.8.0)\n",
            "Requirement already satisfied: numpy>=1.17 in /Users/aditya/.pyenv/versions/3.10.6/envs/csci544/lib/python3.10/site-packages (from transformers) (1.23.2)\n",
            "Requirement already satisfied: tqdm>=4.27 in /Users/aditya/.pyenv/versions/3.10.6/envs/csci544/lib/python3.10/site-packages (from transformers) (4.64.0)\n",
            "Requirement already satisfied: huggingface-hub<1.0,>=0.10.0 in /Users/aditya/.pyenv/versions/3.10.6/envs/csci544/lib/python3.10/site-packages (from transformers) (0.10.1)\n",
            "Requirement already satisfied: pyyaml>=5.1 in /Users/aditya/.pyenv/versions/3.10.6/envs/csci544/lib/python3.10/site-packages (from transformers) (6.0)\n",
            "Requirement already satisfied: tokenizers!=0.11.3,<0.14,>=0.11.1 in /Users/aditya/.pyenv/versions/3.10.6/envs/csci544/lib/python3.10/site-packages (from transformers) (0.13.1)\n",
            "Requirement already satisfied: requests in /Users/aditya/.pyenv/versions/3.10.6/envs/csci544/lib/python3.10/site-packages (from transformers) (2.28.1)\n",
            "Requirement already satisfied: packaging>=20.0 in /Users/aditya/.pyenv/versions/3.10.6/envs/csci544/lib/python3.10/site-packages (from transformers) (21.3)\n",
            "Requirement already satisfied: regex!=2019.12.17 in /Users/aditya/.pyenv/versions/3.10.6/envs/csci544/lib/python3.10/site-packages (from transformers) (2022.8.17)\n",
            "Requirement already satisfied: typing-extensions>=3.7.4.3 in /Users/aditya/.pyenv/versions/3.10.6/envs/csci544/lib/python3.10/site-packages (from huggingface-hub<1.0,>=0.10.0->transformers) (4.3.0)\n",
            "Requirement already satisfied: pyparsing!=3.0.5,>=2.0.2 in /Users/aditya/.pyenv/versions/3.10.6/envs/csci544/lib/python3.10/site-packages (from packaging>=20.0->transformers) (3.0.9)\n",
            "Requirement already satisfied: urllib3<1.27,>=1.21.1 in /Users/aditya/.pyenv/versions/3.10.6/envs/csci544/lib/python3.10/site-packages (from requests->transformers) (1.26.12)\n",
            "Requirement already satisfied: charset-normalizer<3,>=2 in /Users/aditya/.pyenv/versions/3.10.6/envs/csci544/lib/python3.10/site-packages (from requests->transformers) (2.1.1)\n",
            "Requirement already satisfied: idna<4,>=2.5 in /Users/aditya/.pyenv/versions/3.10.6/envs/csci544/lib/python3.10/site-packages (from requests->transformers) (3.3)\n",
            "Requirement already satisfied: certifi>=2017.4.17 in /Users/aditya/.pyenv/versions/3.10.6/envs/csci544/lib/python3.10/site-packages (from requests->transformers) (2022.6.15)\n"
          ]
        }
      ],
      "source": [
        "!pip install transformers"
      ]
    },
    {
      "cell_type": "code",
      "execution_count": 113,
      "metadata": {
        "id": "KB3m-Z1cv4ZP"
      },
      "outputs": [],
      "source": [
        "from transformers import BertTokenizer"
      ]
    },
    {
      "cell_type": "markdown",
      "metadata": {
        "id": "UtsBNBqGByOh"
      },
      "source": [
        "### Load Data"
      ]
    },
    {
      "cell_type": "code",
      "execution_count": 206,
      "metadata": {},
      "outputs": [],
      "source": [
        "import os\n",
        "import numpy as np"
      ]
    },
    {
      "cell_type": "code",
      "execution_count": 237,
      "metadata": {},
      "outputs": [
        {
          "name": "stderr",
          "output_type": "stream",
          "text": [
            "/Users/aditya/.pyenv/versions/3.10.6/envs/csci544/lib/python3.10/site-packages/pandas/util/_decorators.py:311: ParserWarning: Falling back to the 'python' engine because the 'c' engine does not support regex separators (separators > 1 char and different from '\\s+' are interpreted as regex); you can avoid this warning by specifying engine='python'.\n",
            "  return func(*args, **kwargs)\n"
          ]
        }
      ],
      "source": [
        "files = os.listdir(\"./data/Sentences/\")\n",
        "prefix_sentence = \"./data/Sentences/\"\n",
        "prefix_label = \"./data/Labels/\"\n",
        "\n",
        "clauses = []\n",
        "for file in files:\n",
        "    sentence_file_path = prefix_sentence + file \n",
        "    label_file_path = prefix_label + file\n",
        "    sentences_df = pd.read_csv(sentence_file_path, sep=\"dummy_separator\", header=None)\n",
        "    sentences_df.columns = [\"sentences\"]\n",
        "    label_df = pd.read_csv(label_file_path, sep=\" \", header=None)\n",
        "    label_df.columns = [\"label\"]\n",
        "    label_df[\"label_converted\"] = np.where(label_df[\"label\"] == -1, 0, 1)\n",
        "    sentences_df[\"document\"] = file\n",
        "    df_concat = pd.concat([label_df[\"label_converted\"], sentences_df], axis=1)\n",
        "    clauses.append(df_concat)"
      ]
    },
    {
      "cell_type": "code",
      "execution_count": 238,
      "metadata": {},
      "outputs": [],
      "source": [
        "colnames = [\"sentences\", \"label_converted\", \"document\"]\n",
        "clauses_df = pd.DataFrame(columns = colnames)\n",
        "for df in clauses:\n",
        "    clauses_df = clauses_df.append(df)"
      ]
    },
    {
      "cell_type": "code",
      "execution_count": 239,
      "metadata": {},
      "outputs": [],
      "source": [
        "clauses_df.rename(columns={'label_converted': 'label', 'sentences': 'sentences', 'document' : 'document'}, inplace=True)\n"
      ]
    },
    {
      "cell_type": "code",
      "execution_count": 240,
      "metadata": {},
      "outputs": [
        {
          "data": {
            "text/html": [
              "<div>\n",
              "<style scoped>\n",
              "    .dataframe tbody tr th:only-of-type {\n",
              "        vertical-align: middle;\n",
              "    }\n",
              "\n",
              "    .dataframe tbody tr th {\n",
              "        vertical-align: top;\n",
              "    }\n",
              "\n",
              "    .dataframe thead th {\n",
              "        text-align: right;\n",
              "    }\n",
              "</style>\n",
              "<table border=\"1\" class=\"dataframe\">\n",
              "  <thead>\n",
              "    <tr style=\"text-align: right;\">\n",
              "      <th></th>\n",
              "      <th>sentences</th>\n",
              "      <th>label</th>\n",
              "      <th>document</th>\n",
              "    </tr>\n",
              "  </thead>\n",
              "  <tbody>\n",
              "    <tr>\n",
              "      <th>0</th>\n",
              "      <td>thanks for sending us good vibes by using the ...</td>\n",
              "      <td>0</td>\n",
              "      <td>Viber.txt</td>\n",
              "    </tr>\n",
              "    <tr>\n",
              "      <th>1</th>\n",
              "      <td>you may be surprised , but we will refer to al...</td>\n",
              "      <td>0</td>\n",
              "      <td>Viber.txt</td>\n",
              "    </tr>\n",
              "    <tr>\n",
              "      <th>2</th>\n",
              "      <td>the terms of use -lrb- or , the `` terms '' -r...</td>\n",
              "      <td>0</td>\n",
              "      <td>Viber.txt</td>\n",
              "    </tr>\n",
              "    <tr>\n",
              "      <th>3</th>\n",
              "      <td>the language of the terms will seem legal -lrb...</td>\n",
              "      <td>0</td>\n",
              "      <td>Viber.txt</td>\n",
              "    </tr>\n",
              "    <tr>\n",
              "      <th>4</th>\n",
              "      <td>when you use our services , in addition to enj...</td>\n",
              "      <td>1</td>\n",
              "      <td>Viber.txt</td>\n",
              "    </tr>\n",
              "  </tbody>\n",
              "</table>\n",
              "</div>"
            ],
            "text/plain": [
              "                                           sentences label   document\n",
              "0  thanks for sending us good vibes by using the ...     0  Viber.txt\n",
              "1  you may be surprised , but we will refer to al...     0  Viber.txt\n",
              "2  the terms of use -lrb- or , the `` terms '' -r...     0  Viber.txt\n",
              "3  the language of the terms will seem legal -lrb...     0  Viber.txt\n",
              "4  when you use our services , in addition to enj...     1  Viber.txt"
            ]
          },
          "execution_count": 240,
          "metadata": {},
          "output_type": "execute_result"
        }
      ],
      "source": [
        "clauses_df.head()"
      ]
    },
    {
      "cell_type": "code",
      "execution_count": 242,
      "metadata": {},
      "outputs": [
        {
          "data": {
            "text/plain": [
              "0    thanks for sending us good vibes by using the ...\n",
              "0                  version : 06.2017 -lrb- en-eu -rrb-\n",
              "0    notice to california subscribers : you may can...\n",
              "0                           posted : december 8 , 2016\n",
              "0    if you live in -lrb- or your principal place o...\n",
              "0    when you -lrb- `` you '' -rrb- sign up with be...\n",
              "0    we 've recently updated our : -lrb- 1 -rrb- te...\n",
              "0      end user license agreement and terms of service\n",
              "0    crowdtangle , inc. -lrb- `` crowdtangle , '' `...\n",
              "0    welcome to the tripadvisor website or mobile p...\n",
              "0            deliveroo terms and conditions of service\n",
              "0                        effective date : may 5 , 2014\n",
              "0                        • terms and conditions of use\n",
              "0                     effective date : august 1 , 2017\n",
              "0                     * accepting the terms of service\n",
              "0    these terms and conditions , as may be amended...\n",
              "0    these terms & conditions -lrb- these `` terms ...\n",
              "0                    we recently revised these terms .\n",
              "0        do n't want to share your number on sync.me ?\n",
              "0                        last updated : march 3 , 2017\n",
              "0                     last updated : 19 september 2017\n",
              "0                     last revised : january 20 , 2016\n",
              "0    these terms of use are effective on january 19...\n",
              "0    this agreement -lrb- the `` agreement '' or th...\n",
              "0                       world of warcraft terms of use\n",
              "0    1.1 your use of the youtube website -lrb- the ...\n",
              "0                    last updated date : may 15 , 2017\n",
              "0    yahoo holdings , inc. -lrb- `` yahoo '' -rrb- ...\n",
              "0    last modified : august 25 , 2016 -lrb- archive...\n",
              "0    last modified : april 14 , 2014 -lrb- view arc...\n",
              "0                           effective july 26 , 2016 .\n",
              "0    facebook statement of rights and responsibilities\n",
              "0                         last updated : may 30 , 2017\n",
              "0    please read these terms of use carefully befor...\n",
              "0    netflix provides a subscription service that a...\n",
              "0                         last updated : july 1 , 2016\n",
              "0    please read carefully before downloading the s...\n",
              "0                  snap group limited terms of service\n",
              "0    this user agreement , the user privacy notice ...\n",
              "0                      effective date : june 28 , 2016\n",
              "0            -lrb- if you live outside of the us -rrb-\n",
              "0                           effective on june 7 , 2017\n",
              "0                        last updated : 5 january 2016\n",
              "0    duolingo websites -lrb- `` websites '' -rrb- a...\n",
              "0    true software scandinavia ab -lrb- `` truecall...\n",
              "0                       last updated : march 16 , 2017\n",
              "0    terms of service and end user license agreemen...\n",
              "0    this website is owned and operated by atlas so...\n",
              "0    effective date : august 28 , 2017 - what 's ne...\n",
              "0    this terms of service agreement -lrb- the `` a...\n",
              "Name: sentences, dtype: object"
            ]
          },
          "execution_count": 242,
          "metadata": {},
          "output_type": "execute_result"
        }
      ],
      "source": [
        "clauses_df.sentences[0]"
      ]
    },
    {
      "cell_type": "code",
      "execution_count": 234,
      "metadata": {},
      "outputs": [],
      "source": [
        "clauses_df.to_csv(\"./data/data.csv\", index=False)"
      ]
    },
    {
      "cell_type": "markdown",
      "metadata": {
        "id": "jCUaVzt5B3bl"
      },
      "source": [
        "### Clean the Data"
      ]
    },
    {
      "cell_type": "code",
      "execution_count": 217,
      "metadata": {
        "id": "2jTvjwxN5q4k"
      },
      "outputs": [],
      "source": [
        "# A dictionary containing the columns and a list of functions to perform on it in order\n",
        "def cleaning(df):\n",
        "  data_cleaning_pipeline = {\n",
        "      \"sentences\": [\n",
        "          to_lower,\n",
        "          remove_special_words,\n",
        "          remove_accented_characters,\n",
        "          remove_html_encodings,\n",
        "          remove_html_tags,\n",
        "          remove_url,\n",
        "          fix_contractions,\n",
        "          remove_non_alpha_characters,\n",
        "          remove_extra_spaces,\n",
        "      ]\n",
        "  }\n",
        "\n",
        "  cleaned_data = df.copy()\n",
        "\n",
        "  # Process all the cleaning instructions\n",
        "  for col, pipeline in data_cleaning_pipeline.items():\n",
        "      # Get the column to perform cleaning on\n",
        "      temp_data = cleaned_data[col].copy()\n",
        "\n",
        "      # Perform all the cleaning functions sequencially\n",
        "      for func in pipeline:\n",
        "          print(f\"Starting: {func.__name__}\")\n",
        "          temp_data = func(temp_data)\n",
        "          print(f\"Ended: {func.__name__}\")\n",
        "\n",
        "      # Replace the old column with cleaned one.\n",
        "      cleaned_data[col] = temp_data.copy()\n",
        "\n",
        "  return cleaned_data\n"
      ]
    },
    {
      "cell_type": "code",
      "execution_count": 218,
      "metadata": {
        "colab": {
          "base_uri": "https://localhost:8080/"
        },
        "id": "pPqnz5yVxn4_",
        "outputId": "0dd2811b-1b05-41dc-8e2a-6117b7ede31f"
      },
      "outputs": [
        {
          "name": "stdout",
          "output_type": "stream",
          "text": [
            "Starting: to_lower\n",
            "Ended: to_lower\n",
            "Starting: remove_special_words\n",
            "Ended: remove_special_words\n",
            "Starting: remove_accented_characters\n",
            "Ended: remove_accented_characters\n",
            "Starting: remove_html_encodings\n",
            "Ended: remove_html_encodings\n",
            "Starting: remove_html_tags\n",
            "Ended: remove_html_tags\n",
            "Starting: remove_url\n",
            "Ended: remove_url\n",
            "Starting: fix_contractions\n",
            "Ended: fix_contractions\n",
            "Starting: remove_non_alpha_characters\n",
            "Ended: remove_non_alpha_characters\n",
            "Starting: remove_extra_spaces\n",
            "Ended: remove_extra_spaces\n"
          ]
        }
      ],
      "source": [
        "cleaned_data = cleaning(clauses_df)\n"
      ]
    },
    {
      "cell_type": "code",
      "execution_count": 220,
      "metadata": {},
      "outputs": [],
      "source": [
        "cleaned_data.to_csv(\"./data/cleaned.csv\", index=False)"
      ]
    },
    {
      "cell_type": "markdown",
      "metadata": {
        "id": "sCcsbzgVB7Xb"
      },
      "source": [
        "### Using BERT Tokenizer and BERT Model to get Embeddings"
      ]
    },
    {
      "cell_type": "code",
      "execution_count": 151,
      "metadata": {
        "id": "fFop5h2J4FnU"
      },
      "outputs": [],
      "source": [
        "cls = \"[CLS]\"\n",
        "sep = \"[SEP]\"\n",
        "pad = \"[PAD]\"\n",
        "bert_pad_len = 512"
      ]
    },
    {
      "cell_type": "code",
      "execution_count": 152,
      "metadata": {
        "id": "ipO7FNbD3fnz"
      },
      "outputs": [],
      "source": [
        "import logging\n",
        "import torch\n",
        "import numpy as np\n",
        "import warnings\n",
        "from transformers import BertTokenizer, BertModel"
      ]
    },
    {
      "cell_type": "code",
      "execution_count": 153,
      "metadata": {
        "id": "3dwEs6Z44PS2"
      },
      "outputs": [],
      "source": [
        "device = torch.device(\"cuda\" if torch.cuda.is_available() else \"cpu\")\n"
      ]
    },
    {
      "cell_type": "markdown",
      "metadata": {
        "id": "l-47_yioCIYR"
      },
      "source": [
        "### Functions"
      ]
    },
    {
      "cell_type": "code",
      "execution_count": 154,
      "metadata": {
        "id": "GMfr4OCPyQLQ"
      },
      "outputs": [],
      "source": [
        "def create_tensors_BERT(text):\n",
        "  \"\"\"\n",
        "    Tokenize using BERT Tokenizer for the pd.Series\n",
        "  \"\"\"\n",
        "  print(\"Tokenizing text...\")\n",
        "  logging.basicConfig(level = logging.INFO)\n",
        "\n",
        "  # Load the `bert-base-uncased` model\n",
        "  tokenizer = BertTokenizer.from_pretrained(\"bert-base-uncased\")\n",
        "\n",
        "  # Tokenize every sentence in the pd.Series\n",
        "  tokenized_text = [tokenizer.tokenize(x) for x in text]\n",
        "\n",
        "  # Pad the tokens to be used for BERT Model; BERT takes fixed lengend sequence\n",
        "  tokenized_text = [x + ([pad] * (bert_pad_len - len(x))) for x in tokenized_text]\n",
        "\n",
        "  # Convert the tokens to their IDs\n",
        "  indexed_text = [tokenizer.convert_tokens_to_ids(x) for x in tokenized_text]\n",
        "\n",
        "  # BERTModel has Q&A format, so setting the context to one for every sentence\n",
        "  segment_ids = [[1] * len(x) for x in tokenized_text]\n",
        "\n",
        "  # Convert to tensor\n",
        "  torch_idx_text = torch.LongTensor(indexed_text)\n",
        "  torch_seg_ids = torch.LongTensor(segment_ids)\n",
        "  \n",
        "  return tokenized_text, torch_idx_text, torch_seg_ids "
      ]
    },
    {
      "cell_type": "code",
      "execution_count": 155,
      "metadata": {
        "id": "L9s9ud-G3WjQ"
      },
      "outputs": [],
      "source": [
        "#takes in the index and segment tensors and returns the bert embeddings as a list\n",
        "def get_embeddings(torch_idx_text, torch_seg_ids):\n",
        "    \"\"\"\n",
        "      Create BERT embeddings from tokens\n",
        "    \"\"\"\n",
        "    print(\"Getting Embeddings...\")\n",
        "\n",
        "    # Load pretrained `bert-base-uncased` model, and set to inference\n",
        "    model = BertModel.from_pretrained('bert-base-uncased', output_hidden_states = True)\n",
        "    model.eval()\n",
        "\n",
        "    torch_idx_text, torch_seg_ids = torch_idx_text.to(\"cpu\"), torch_seg_ids.to(\"cpu\")\n",
        "    model.to(device)\n",
        "\n",
        "    # Disable gradient and get BERT embeddings\n",
        "    with torch.no_grad():\n",
        "        bert_embeddings = []\n",
        "        for i in range(len(torch_idx_text)):\n",
        "            print(i, end = \"\\r\")\n",
        "            text_temp = torch.unsqueeze(torch_idx_text[i], dim = 0).to(device)\n",
        "            sgmt_temp = torch.unsqueeze(torch_seg_ids[i], dim = 0).to(device)\n",
        "            output = model(text_temp, sgmt_temp)\n",
        "            bert_embeddings.append(output[0])\n",
        "            del text_temp, sgmt_temp\n",
        "    del model\n",
        "  \n",
        "    return bert_embeddings\n"
      ]
    },
    {
      "cell_type": "markdown",
      "metadata": {
        "id": "B7Gnd6OZCnAH"
      },
      "source": [
        "Note: As an additional improvement to reduce the dimentionality, we can aggregate expansions of words like - `running` -> \"run\", \"##ing\". This is an additional step is not mandatory and can be used when trying out the embeddings."
      ]
    },
    {
      "cell_type": "code",
      "execution_count": 156,
      "metadata": {
        "id": "c01j1jvn3Wgp"
      },
      "outputs": [],
      "source": [
        "def embeddings_to_words(tokenized_text, embeddings):\n",
        "    \"\"\"\n",
        "      Clubbing same word tokens to reduce dimensionality\n",
        "      Note: Need to run this locally and tweak virtual memory, as the colab\n",
        "      runtime crashes\n",
        "    \"\"\"\n",
        "    print(\"Untokenizing text and embeddings...\")\n",
        "    embeddings = [x.cpu().detach().numpy() for x in embeddings]\n",
        "    embeddings = np.concatenate(embeddings, axis = 0)\n",
        "    sentences = []\n",
        "    final_emb = []\n",
        "\n",
        "    # Iterate over every sentence\n",
        "    for i in range(len(tokenized_text)):\n",
        "        txt = tokenized_text[i]\n",
        "        sub_len = 0\n",
        "        sent = []\n",
        "        sub = []\n",
        "        emb = []\n",
        "        sub_emb = None\n",
        "        try:\n",
        "            idx = txt.index(pad)\n",
        "        except:\n",
        "            idx = len(txt)\n",
        "        for j in range(idx):\n",
        "            # For the token that starts with ## process it; remove ## and\n",
        "            # club that with previous token;\n",
        "            # For the embedding, take the average of token's embeddings\n",
        "            if txt[j].startswith(\"##\"):\n",
        "                if sub == []:\n",
        "                    sub.append(sent.pop())\n",
        "                    emb.pop()\n",
        "                    sub_emb = embeddings[i][j - 1] + embeddings[i][j]\n",
        "                    sub.append(txt[j][2:])\n",
        "                    sub_len = 2\n",
        "                else:\n",
        "                    sub.append(txt[j][2:])\n",
        "                    sub_emb += embeddings[i][j]\n",
        "                    sub_len += 1\n",
        "            else:\n",
        "                if sub != []:\n",
        "                    sent.append(\"\".join(sub))\n",
        "                    emb.append(sub_emb / sub_len)\n",
        "                    sub = []\n",
        "                    sub_emb = None\n",
        "                    sub_len = 0\n",
        "                sent.append(txt[j])\n",
        "                emb.append(embeddings[i][j])\n",
        "        sentences.append(sent)\n",
        "        final_emb.append(emb)\n",
        "    return sentences, final_emb"
      ]
    },
    {
      "cell_type": "markdown",
      "metadata": {
        "id": "qGfTWmkECMx_"
      },
      "source": [
        "### Tokenize and Create Embeddings"
      ]
    },
    {
      "cell_type": "code",
      "execution_count": 157,
      "metadata": {
        "colab": {
          "base_uri": "https://localhost:8080/",
          "height": 149,
          "referenced_widgets": [
            "fc77dcbf701847e585606868b6ef6229",
            "fa4e1fd670a242aa8311e8125326f695",
            "d48ab84f850b4bcc8099dec359ff67c9",
            "ec769fb2a2764752b1dba89fe0992ce9",
            "8025af1ad7f0495b98ada2c47f2a81bd",
            "43ab18b80e8e4d8c939144c732ab7a1e",
            "100154056bef4ac8a5d047a49da25d1e",
            "91d31f5970e14cf490ac6859836967ff",
            "9bef0f1d465b4ffc8c2b1e311807e330",
            "7680c62f1de84b42a8b6b946a9c13703",
            "0de066061c3e49a28a9451d8052226ed",
            "eb47e3798ba241248693494b05dfd484",
            "f2d953f4b0fa40699e7fb73c38b95b44",
            "811eabce77814bc09f3a8f30a1751105",
            "85717b06514a491f8e65012931ee617e",
            "87ed2880bbd84e0ba254d2423b81a0a7",
            "6d886be687ff445db2410afbbf0653b6",
            "0138adc27c8b49e29d12450a7133f7d2",
            "dff4397ce89345449183c6b47961a02b",
            "94ea66230cd84c5d8b3a87ed32664ebb",
            "73e649d9a3f44a26b1726bfe62d7ed75",
            "66db9e9e777345639efbbd774cbf1c95",
            "7e3b82d9a78d44729d14094a1903d84a",
            "b516d55d10054d4f89d02b45361172b4",
            "8f4f7cc9a8a84401865f02a98b542b1a",
            "6a897c474c5440f5acf128359d199c01",
            "534e0feb4c2c4a6c884ce8a624ee551d",
            "2fa3c71bf5ab4fc097614b83cf70faa2",
            "ecc221ff710a4982b5311fe257ee9345",
            "4cee2fd2ad6a4e2fad8a257c3b583b09",
            "ee7dca904fd44b2ca0bf3bd4ba5686e4",
            "d7605eda104046a1b7640eca686053c3",
            "d0f058b72b594dc1a17c36e7449c33d1"
          ]
        },
        "id": "Zvy7oRWW3WeT",
        "outputId": "c3d63253-19c1-47d0-fb4c-70e85b8d39af"
      },
      "outputs": [
        {
          "name": "stdout",
          "output_type": "stream",
          "text": [
            "Tokenizing text...\n"
          ]
        }
      ],
      "source": [
        "tokenized_text, torch_idx_text, torch_seg_ids = create_tensors_BERT(cleaned_data.sentences)"
      ]
    },
    {
      "cell_type": "code",
      "execution_count": 158,
      "metadata": {
        "colab": {
          "base_uri": "https://localhost:8080/",
          "height": 140,
          "referenced_widgets": [
            "24ea183104be4af3a65175f299d4097c",
            "f83c94ccea0d426c83b4a9f10d4556b4",
            "74c1e70038354949b73aeacc1b47dc3d",
            "74683248dc9f4da59ce2bda9f1ec32d1",
            "511a6f5a1c9044a3bbc8045630b542d8",
            "526ad1a3e0cf4810b8aa81b39c12db33",
            "f4a2ba9f99894604befb18dd9fbf6929",
            "0b77529e1ea140ad806127bfc5610b1a",
            "36e7a9fe17354e5b8c7b8f70d521c7b5",
            "650dd01d08d04c5dabb81c13c7fffee9",
            "c7c0aae7039a4f35b332a4fa1f521d41"
          ]
        },
        "id": "tD3blHxX3qVu",
        "outputId": "de245390-ed9e-473c-8516-0748a381f0f5"
      },
      "outputs": [
        {
          "name": "stdout",
          "output_type": "stream",
          "text": [
            "Getting Embeddings...\n"
          ]
        },
        {
          "name": "stderr",
          "output_type": "stream",
          "text": [
            "Some weights of the model checkpoint at bert-base-uncased were not used when initializing BertModel: ['cls.predictions.transform.LayerNorm.weight', 'cls.predictions.transform.dense.bias', 'cls.predictions.transform.LayerNorm.bias', 'cls.predictions.transform.dense.weight', 'cls.predictions.decoder.weight', 'cls.predictions.bias', 'cls.seq_relationship.bias', 'cls.seq_relationship.weight']\n",
            "- This IS expected if you are initializing BertModel from the checkpoint of a model trained on another task or with another architecture (e.g. initializing a BertForSequenceClassification model from a BertForPreTraining model).\n",
            "- This IS NOT expected if you are initializing BertModel from the checkpoint of a model that you expect to be exactly identical (initializing a BertForSequenceClassification model from a BertForSequenceClassification model).\n"
          ]
        },
        {
          "name": "stdout",
          "output_type": "stream",
          "text": [
            "9413\r"
          ]
        }
      ],
      "source": [
        "bert_embeddings = get_embeddings(torch_idx_text, torch_seg_ids)\n"
      ]
    },
    {
      "cell_type": "markdown",
      "metadata": {
        "id": "9GdcKhLU-uLv"
      },
      "source": [
        "Most computationally time consuming part is to get embeddings"
      ]
    },
    {
      "cell_type": "markdown",
      "metadata": {
        "id": "acjPcuWNwOFD"
      },
      "source": [
        "Store the embeddings for using in other models."
      ]
    },
    {
      "cell_type": "code",
      "execution_count": 159,
      "metadata": {
        "id": "VsZpW7BS-tX5"
      },
      "outputs": [],
      "source": [
        "import pickle as pkl\n",
        "embeddings_file_path = \"./embeddings/bert_embeddings.pkl\"\n",
        "\n",
        "def save_embeddings(embeddings_file_path, embeddings, tokenized_text):\n",
        "  with open(embeddings_file_path, mode=\"wb\") as file:\n",
        "    pkl.dump({\"embeddings\": embeddings, \"tokenized_txt\": tokenized_text}, file, protocol=pkl.HIGHEST_PROTOCOL)"
      ]
    },
    {
      "cell_type": "code",
      "execution_count": 160,
      "metadata": {
        "id": "MObhBZzHzk0I"
      },
      "outputs": [],
      "source": [
        "save_embeddings(embeddings_file_path, bert_embeddings, tokenized_text)"
      ]
    },
    {
      "cell_type": "code",
      "execution_count": null,
      "metadata": {
        "colab": {
          "base_uri": "https://localhost:8080/"
        },
        "id": "SSGxvazo3rj2",
        "outputId": "051045f5-8dc5-47bf-e678-16785bd8ed5d"
      },
      "outputs": [
        {
          "name": "stdout",
          "output_type": "stream",
          "text": [
            "Untokenizing text and embeddings...\n"
          ]
        }
      ],
      "source": [
        "# text, bert = embeddings_to_words(tokenized_text[:10], bert_embeddings[:10])\n"
      ]
    },
    {
      "cell_type": "code",
      "execution_count": 161,
      "metadata": {
        "id": "LILDKatJ8PDd"
      },
      "outputs": [
        {
          "data": {
            "text/plain": [
              "(9414, torch.Size([1, 512, 768]))"
            ]
          },
          "execution_count": 161,
          "metadata": {},
          "output_type": "execute_result"
        }
      ],
      "source": [
        "len(bert_embeddings), bert_embeddings[0].shape"
      ]
    },
    {
      "cell_type": "markdown",
      "metadata": {},
      "source": [
        "### Using Avg Embeddings"
      ]
    },
    {
      "cell_type": "code",
      "execution_count": 162,
      "metadata": {},
      "outputs": [],
      "source": [
        "bert_embeddings = torch.cat(bert_embeddings)"
      ]
    },
    {
      "cell_type": "code",
      "execution_count": 163,
      "metadata": {},
      "outputs": [],
      "source": [
        "avg_embeddings = torch.sum(bert_embeddings, dim=1) / 512"
      ]
    },
    {
      "cell_type": "code",
      "execution_count": 164,
      "metadata": {},
      "outputs": [
        {
          "data": {
            "text/plain": [
              "torch.Size([9414, 768])"
            ]
          },
          "execution_count": 164,
          "metadata": {},
          "output_type": "execute_result"
        }
      ],
      "source": [
        "avg_embeddings.shape"
      ]
    },
    {
      "cell_type": "code",
      "execution_count": 166,
      "metadata": {},
      "outputs": [],
      "source": [
        "avg_embeddings_file_path = \"./embeddings/avg_embeddings.pkl\"\n",
        "\n",
        "with open(avg_embeddings_file_path, mode=\"wb\") as file:\n",
        "    import pickle as pkl\n",
        "\n",
        "    pkl.dump(avg_embeddings.numpy(), file, protocol=pkl.HIGHEST_PROTOCOL)"
      ]
    },
    {
      "cell_type": "markdown",
      "metadata": {},
      "source": [
        "### Simple SVM"
      ]
    },
    {
      "cell_type": "markdown",
      "metadata": {},
      "source": [
        "#### Split the Data"
      ]
    },
    {
      "cell_type": "code",
      "execution_count": 182,
      "metadata": {},
      "outputs": [
        {
          "ename": "AttributeError",
          "evalue": "'numpy.ndarray' object has no attribute 'numpy'",
          "output_type": "error",
          "traceback": [
            "\u001b[0;31m---------------------------------------------------------------------------\u001b[0m",
            "\u001b[0;31mAttributeError\u001b[0m                            Traceback (most recent call last)",
            "\u001b[1;32m/Volumes/dataTwo/usc/CSCI_544_NLP_FINAL_PROJECT/input_feature_generation/svm_with_bert.ipynb Cell 55\u001b[0m in \u001b[0;36m<cell line: 1>\u001b[0;34m()\u001b[0m\n\u001b[0;32m----> <a href='vscode-notebook-cell:/Volumes/dataTwo/usc/CSCI_544_NLP_FINAL_PROJECT/input_feature_generation/svm_with_bert.ipynb#Y151sZmlsZQ%3D%3D?line=0'>1</a>\u001b[0m avg_embeddings \u001b[39m=\u001b[39m avg_embeddings\u001b[39m.\u001b[39;49mnumpy()\n",
            "\u001b[0;31mAttributeError\u001b[0m: 'numpy.ndarray' object has no attribute 'numpy'"
          ]
        }
      ],
      "source": [
        "avg_embeddings = avg_embeddings.numpy()"
      ]
    },
    {
      "cell_type": "code",
      "execution_count": 221,
      "metadata": {},
      "outputs": [],
      "source": [
        "from sklearn.model_selection import train_test_split\n",
        "\n",
        "X_train, X_test, y_train, y_test = train_test_split(\n",
        "    avg_embeddings,\n",
        "    cleaned_data['label'],\n",
        "    train_size=0.8, \n",
        "    test_size=0.2, \n",
        "    random_state=0, \n",
        "    shuffle=True,\n",
        "    stratify=cleaned_data['label']\n",
        ")"
      ]
    },
    {
      "cell_type": "code",
      "execution_count": 222,
      "metadata": {},
      "outputs": [],
      "source": [
        "RANDOM_STATE = 42"
      ]
    },
    {
      "cell_type": "code",
      "execution_count": 223,
      "metadata": {
        "id": "qUi-RhsNwTth"
      },
      "outputs": [],
      "source": [
        "from sklearn.svm import SVC\n",
        "\n",
        "clf = SVC(gamma=\"auto\", class_weight=\"balanced\", random_state=RANDOM_STATE)\n"
      ]
    },
    {
      "cell_type": "code",
      "execution_count": 224,
      "metadata": {
        "id": "opEOy4DMxTfS"
      },
      "outputs": [
        {
          "ename": "ValueError",
          "evalue": "Unknown label type: 'unknown'",
          "output_type": "error",
          "traceback": [
            "\u001b[0;31m---------------------------------------------------------------------------\u001b[0m",
            "\u001b[0;31mValueError\u001b[0m                                Traceback (most recent call last)",
            "\u001b[1;32m/Volumes/dataTwo/usc/CSCI_544_NLP_FINAL_PROJECT/input_feature_generation/svm_with_bert.ipynb Cell 60\u001b[0m in \u001b[0;36m<cell line: 1>\u001b[0;34m()\u001b[0m\n\u001b[0;32m----> <a href='vscode-notebook-cell:/Volumes/dataTwo/usc/CSCI_544_NLP_FINAL_PROJECT/input_feature_generation/svm_with_bert.ipynb#X65sZmlsZQ%3D%3D?line=0'>1</a>\u001b[0m clf\u001b[39m.\u001b[39;49mfit(X_train, y_train)\n",
            "File \u001b[0;32m~/.pyenv/versions/3.10.6/envs/csci544/lib/python3.10/site-packages/sklearn/svm/_base.py:182\u001b[0m, in \u001b[0;36mBaseLibSVM.fit\u001b[0;34m(self, X, y, sample_weight)\u001b[0m\n\u001b[1;32m    172\u001b[0m \u001b[39melse\u001b[39;00m:\n\u001b[1;32m    173\u001b[0m     X, y \u001b[39m=\u001b[39m \u001b[39mself\u001b[39m\u001b[39m.\u001b[39m_validate_data(\n\u001b[1;32m    174\u001b[0m         X,\n\u001b[1;32m    175\u001b[0m         y,\n\u001b[0;32m   (...)\u001b[0m\n\u001b[1;32m    179\u001b[0m         accept_large_sparse\u001b[39m=\u001b[39m\u001b[39mFalse\u001b[39;00m,\n\u001b[1;32m    180\u001b[0m     )\n\u001b[0;32m--> 182\u001b[0m y \u001b[39m=\u001b[39m \u001b[39mself\u001b[39;49m\u001b[39m.\u001b[39;49m_validate_targets(y)\n\u001b[1;32m    184\u001b[0m sample_weight \u001b[39m=\u001b[39m np\u001b[39m.\u001b[39masarray(\n\u001b[1;32m    185\u001b[0m     [] \u001b[39mif\u001b[39;00m sample_weight \u001b[39mis\u001b[39;00m \u001b[39mNone\u001b[39;00m \u001b[39melse\u001b[39;00m sample_weight, dtype\u001b[39m=\u001b[39mnp\u001b[39m.\u001b[39mfloat64\n\u001b[1;32m    186\u001b[0m )\n\u001b[1;32m    187\u001b[0m solver_type \u001b[39m=\u001b[39m LIBSVM_IMPL\u001b[39m.\u001b[39mindex(\u001b[39mself\u001b[39m\u001b[39m.\u001b[39m_impl)\n",
            "File \u001b[0;32m~/.pyenv/versions/3.10.6/envs/csci544/lib/python3.10/site-packages/sklearn/svm/_base.py:735\u001b[0m, in \u001b[0;36mBaseSVC._validate_targets\u001b[0;34m(self, y)\u001b[0m\n\u001b[1;32m    733\u001b[0m \u001b[39mdef\u001b[39;00m \u001b[39m_validate_targets\u001b[39m(\u001b[39mself\u001b[39m, y):\n\u001b[1;32m    734\u001b[0m     y_ \u001b[39m=\u001b[39m column_or_1d(y, warn\u001b[39m=\u001b[39m\u001b[39mTrue\u001b[39;00m)\n\u001b[0;32m--> 735\u001b[0m     check_classification_targets(y)\n\u001b[1;32m    736\u001b[0m     \u001b[39mcls\u001b[39m, y \u001b[39m=\u001b[39m np\u001b[39m.\u001b[39munique(y_, return_inverse\u001b[39m=\u001b[39m\u001b[39mTrue\u001b[39;00m)\n\u001b[1;32m    737\u001b[0m     \u001b[39mself\u001b[39m\u001b[39m.\u001b[39mclass_weight_ \u001b[39m=\u001b[39m compute_class_weight(\u001b[39mself\u001b[39m\u001b[39m.\u001b[39mclass_weight, classes\u001b[39m=\u001b[39m\u001b[39mcls\u001b[39m, y\u001b[39m=\u001b[39my_)\n",
            "File \u001b[0;32m~/.pyenv/versions/3.10.6/envs/csci544/lib/python3.10/site-packages/sklearn/utils/multiclass.py:200\u001b[0m, in \u001b[0;36mcheck_classification_targets\u001b[0;34m(y)\u001b[0m\n\u001b[1;32m    192\u001b[0m y_type \u001b[39m=\u001b[39m type_of_target(y, input_name\u001b[39m=\u001b[39m\u001b[39m\"\u001b[39m\u001b[39my\u001b[39m\u001b[39m\"\u001b[39m)\n\u001b[1;32m    193\u001b[0m \u001b[39mif\u001b[39;00m y_type \u001b[39mnot\u001b[39;00m \u001b[39min\u001b[39;00m [\n\u001b[1;32m    194\u001b[0m     \u001b[39m\"\u001b[39m\u001b[39mbinary\u001b[39m\u001b[39m\"\u001b[39m,\n\u001b[1;32m    195\u001b[0m     \u001b[39m\"\u001b[39m\u001b[39mmulticlass\u001b[39m\u001b[39m\"\u001b[39m,\n\u001b[0;32m   (...)\u001b[0m\n\u001b[1;32m    198\u001b[0m     \u001b[39m\"\u001b[39m\u001b[39mmultilabel-sequences\u001b[39m\u001b[39m\"\u001b[39m,\n\u001b[1;32m    199\u001b[0m ]:\n\u001b[0;32m--> 200\u001b[0m     \u001b[39mraise\u001b[39;00m \u001b[39mValueError\u001b[39;00m(\u001b[39m\"\u001b[39m\u001b[39mUnknown label type: \u001b[39m\u001b[39m%r\u001b[39;00m\u001b[39m\"\u001b[39m \u001b[39m%\u001b[39m y_type)\n",
            "\u001b[0;31mValueError\u001b[0m: Unknown label type: 'unknown'"
          ]
        }
      ],
      "source": [
        "clf.fit(X_train, y_train)"
      ]
    },
    {
      "cell_type": "code",
      "execution_count": 87,
      "metadata": {
        "id": "LTy1jJfQxT38"
      },
      "outputs": [],
      "source": [
        "from sklearn.metrics import classification_report"
      ]
    },
    {
      "cell_type": "code",
      "execution_count": 88,
      "metadata": {},
      "outputs": [
        {
          "name": "stdout",
          "output_type": "stream",
          "text": [
            "              precision    recall  f1-score   support\n",
            "\n",
            "           0       0.95      0.71      0.82      6705\n",
            "           1       0.23      0.70      0.35       826\n",
            "\n",
            "    accuracy                           0.71      7531\n",
            "   macro avg       0.59      0.71      0.58      7531\n",
            "weighted avg       0.87      0.71      0.76      7531\n",
            "\n"
          ]
        }
      ],
      "source": [
        "print(classification_report(y_train, clf.predict(X_train)))"
      ]
    },
    {
      "cell_type": "code",
      "execution_count": 89,
      "metadata": {
        "id": "7DbwBYBiwTPP"
      },
      "outputs": [
        {
          "name": "stdout",
          "output_type": "stream",
          "text": [
            "              precision    recall  f1-score   support\n",
            "\n",
            "           0       0.95      0.73      0.82      1677\n",
            "           1       0.24      0.69      0.35       206\n",
            "\n",
            "    accuracy                           0.72      1883\n",
            "   macro avg       0.59      0.71      0.59      1883\n",
            "weighted avg       0.87      0.72      0.77      1883\n",
            "\n"
          ]
        }
      ],
      "source": [
        "print(classification_report(y_test, clf.predict(X_test)))"
      ]
    },
    {
      "cell_type": "markdown",
      "metadata": {},
      "source": [
        "### SVM with LeaveOneGroupOut"
      ]
    },
    {
      "cell_type": "code",
      "execution_count": 93,
      "metadata": {},
      "outputs": [],
      "source": [
        "from sklearn.model_selection import LeaveOneGroupOut\n",
        "from sklearn.model_selection import GridSearchCV, cross_val_score\n",
        "from sklearn.svm import SVC"
      ]
    },
    {
      "cell_type": "code",
      "execution_count": 94,
      "metadata": {},
      "outputs": [],
      "source": [
        "logo = LeaveOneGroupOut()\n",
        "\n",
        "X = avg_embeddings\n",
        "y = cleaned_data['label']\n",
        "group = cleaned_data['document']\n",
        "\n",
        "\n",
        "logo.get_n_splits(X, y, group)\n"
      ]
    },
    {
      "cell_type": "code",
      "execution_count": null,
      "metadata": {},
      "outputs": [],
      "source": [
        "scores = []\n",
        "for train_idx, test_idx in logo.split(X, y, group):\n",
        "    for train, test in train_val_test:\n",
        "        X_train, y_train = X[train_idx], y[train_idx].astype(np.int8)\n",
        "        X_test, y_test = X[test_idx], y[test_idx].astype(np.int8)\n",
        "        train_groups = cleaned_data.iloc[train_idx][\"document\"]\n",
        "\n",
        "        svm = SVC(gamma=\"auto\", max_iter = 5000, class_weights=\"balanced\", random_state=RANDOM_STATE)\n",
        "        clf = GridSearchCV(estimator=svm,n_jobs=-1, scoring = 'f1_macro', refit = True)\n",
        "        clf.fit(X_train, y_train, groups = train_groups)\n",
        "        score = clf.score(X_test, y_test)\n",
        "        scores.append(score)\n",
        "average_test_f1_score = sum(scores)/len(scores)"
      ]
    },
    {
      "cell_type": "code",
      "execution_count": null,
      "metadata": {},
      "outputs": [],
      "source": [
        "print(f\"Average F1 score from Leave one out document : {average_test_f1_score}\")"
      ]
    },
    {
      "cell_type": "code",
      "execution_count": null,
      "metadata": {},
      "outputs": [],
      "source": []
    }
  ],
  "metadata": {
    "accelerator": "GPU",
    "colab": {
      "collapsed_sections": [],
      "provenance": []
    },
    "gpuClass": "standard",
    "kernelspec": {
      "display_name": "Python 3.10.6 64-bit ('csci544')",
      "language": "python",
      "name": "python3"
    },
    "language_info": {
      "codemirror_mode": {
        "name": "ipython",
        "version": 3
      },
      "file_extension": ".py",
      "mimetype": "text/x-python",
      "name": "python",
      "nbconvert_exporter": "python",
      "pygments_lexer": "ipython3",
      "version": "3.10.6"
    },
    "vscode": {
      "interpreter": {
        "hash": "e78917e7f90f3892e7e12462ef46781cf5994bd706032ea53be00d0b1f29dcb9"
      }
    },
    "widgets": {
      "application/vnd.jupyter.widget-state+json": {
        "0138adc27c8b49e29d12450a7133f7d2": {
          "model_module": "@jupyter-widgets/controls",
          "model_module_version": "1.5.0",
          "model_name": "DescriptionStyleModel",
          "state": {
            "_model_module": "@jupyter-widgets/controls",
            "_model_module_version": "1.5.0",
            "_model_name": "DescriptionStyleModel",
            "_view_count": null,
            "_view_module": "@jupyter-widgets/base",
            "_view_module_version": "1.2.0",
            "_view_name": "StyleView",
            "description_width": ""
          }
        },
        "0b77529e1ea140ad806127bfc5610b1a": {
          "model_module": "@jupyter-widgets/base",
          "model_module_version": "1.2.0",
          "model_name": "LayoutModel",
          "state": {
            "_model_module": "@jupyter-widgets/base",
            "_model_module_version": "1.2.0",
            "_model_name": "LayoutModel",
            "_view_count": null,
            "_view_module": "@jupyter-widgets/base",
            "_view_module_version": "1.2.0",
            "_view_name": "LayoutView",
            "align_content": null,
            "align_items": null,
            "align_self": null,
            "border": null,
            "bottom": null,
            "display": null,
            "flex": null,
            "flex_flow": null,
            "grid_area": null,
            "grid_auto_columns": null,
            "grid_auto_flow": null,
            "grid_auto_rows": null,
            "grid_column": null,
            "grid_gap": null,
            "grid_row": null,
            "grid_template_areas": null,
            "grid_template_columns": null,
            "grid_template_rows": null,
            "height": null,
            "justify_content": null,
            "justify_items": null,
            "left": null,
            "margin": null,
            "max_height": null,
            "max_width": null,
            "min_height": null,
            "min_width": null,
            "object_fit": null,
            "object_position": null,
            "order": null,
            "overflow": null,
            "overflow_x": null,
            "overflow_y": null,
            "padding": null,
            "right": null,
            "top": null,
            "visibility": null,
            "width": null
          }
        },
        "0de066061c3e49a28a9451d8052226ed": {
          "model_module": "@jupyter-widgets/controls",
          "model_module_version": "1.5.0",
          "model_name": "DescriptionStyleModel",
          "state": {
            "_model_module": "@jupyter-widgets/controls",
            "_model_module_version": "1.5.0",
            "_model_name": "DescriptionStyleModel",
            "_view_count": null,
            "_view_module": "@jupyter-widgets/base",
            "_view_module_version": "1.2.0",
            "_view_name": "StyleView",
            "description_width": ""
          }
        },
        "100154056bef4ac8a5d047a49da25d1e": {
          "model_module": "@jupyter-widgets/controls",
          "model_module_version": "1.5.0",
          "model_name": "DescriptionStyleModel",
          "state": {
            "_model_module": "@jupyter-widgets/controls",
            "_model_module_version": "1.5.0",
            "_model_name": "DescriptionStyleModel",
            "_view_count": null,
            "_view_module": "@jupyter-widgets/base",
            "_view_module_version": "1.2.0",
            "_view_name": "StyleView",
            "description_width": ""
          }
        },
        "24ea183104be4af3a65175f299d4097c": {
          "model_module": "@jupyter-widgets/controls",
          "model_module_version": "1.5.0",
          "model_name": "HBoxModel",
          "state": {
            "_dom_classes": [],
            "_model_module": "@jupyter-widgets/controls",
            "_model_module_version": "1.5.0",
            "_model_name": "HBoxModel",
            "_view_count": null,
            "_view_module": "@jupyter-widgets/controls",
            "_view_module_version": "1.5.0",
            "_view_name": "HBoxView",
            "box_style": "",
            "children": [
              "IPY_MODEL_f83c94ccea0d426c83b4a9f10d4556b4",
              "IPY_MODEL_74c1e70038354949b73aeacc1b47dc3d",
              "IPY_MODEL_74683248dc9f4da59ce2bda9f1ec32d1"
            ],
            "layout": "IPY_MODEL_511a6f5a1c9044a3bbc8045630b542d8"
          }
        },
        "2fa3c71bf5ab4fc097614b83cf70faa2": {
          "model_module": "@jupyter-widgets/base",
          "model_module_version": "1.2.0",
          "model_name": "LayoutModel",
          "state": {
            "_model_module": "@jupyter-widgets/base",
            "_model_module_version": "1.2.0",
            "_model_name": "LayoutModel",
            "_view_count": null,
            "_view_module": "@jupyter-widgets/base",
            "_view_module_version": "1.2.0",
            "_view_name": "LayoutView",
            "align_content": null,
            "align_items": null,
            "align_self": null,
            "border": null,
            "bottom": null,
            "display": null,
            "flex": null,
            "flex_flow": null,
            "grid_area": null,
            "grid_auto_columns": null,
            "grid_auto_flow": null,
            "grid_auto_rows": null,
            "grid_column": null,
            "grid_gap": null,
            "grid_row": null,
            "grid_template_areas": null,
            "grid_template_columns": null,
            "grid_template_rows": null,
            "height": null,
            "justify_content": null,
            "justify_items": null,
            "left": null,
            "margin": null,
            "max_height": null,
            "max_width": null,
            "min_height": null,
            "min_width": null,
            "object_fit": null,
            "object_position": null,
            "order": null,
            "overflow": null,
            "overflow_x": null,
            "overflow_y": null,
            "padding": null,
            "right": null,
            "top": null,
            "visibility": null,
            "width": null
          }
        },
        "36e7a9fe17354e5b8c7b8f70d521c7b5": {
          "model_module": "@jupyter-widgets/controls",
          "model_module_version": "1.5.0",
          "model_name": "ProgressStyleModel",
          "state": {
            "_model_module": "@jupyter-widgets/controls",
            "_model_module_version": "1.5.0",
            "_model_name": "ProgressStyleModel",
            "_view_count": null,
            "_view_module": "@jupyter-widgets/base",
            "_view_module_version": "1.2.0",
            "_view_name": "StyleView",
            "bar_color": null,
            "description_width": ""
          }
        },
        "43ab18b80e8e4d8c939144c732ab7a1e": {
          "model_module": "@jupyter-widgets/base",
          "model_module_version": "1.2.0",
          "model_name": "LayoutModel",
          "state": {
            "_model_module": "@jupyter-widgets/base",
            "_model_module_version": "1.2.0",
            "_model_name": "LayoutModel",
            "_view_count": null,
            "_view_module": "@jupyter-widgets/base",
            "_view_module_version": "1.2.0",
            "_view_name": "LayoutView",
            "align_content": null,
            "align_items": null,
            "align_self": null,
            "border": null,
            "bottom": null,
            "display": null,
            "flex": null,
            "flex_flow": null,
            "grid_area": null,
            "grid_auto_columns": null,
            "grid_auto_flow": null,
            "grid_auto_rows": null,
            "grid_column": null,
            "grid_gap": null,
            "grid_row": null,
            "grid_template_areas": null,
            "grid_template_columns": null,
            "grid_template_rows": null,
            "height": null,
            "justify_content": null,
            "justify_items": null,
            "left": null,
            "margin": null,
            "max_height": null,
            "max_width": null,
            "min_height": null,
            "min_width": null,
            "object_fit": null,
            "object_position": null,
            "order": null,
            "overflow": null,
            "overflow_x": null,
            "overflow_y": null,
            "padding": null,
            "right": null,
            "top": null,
            "visibility": null,
            "width": null
          }
        },
        "4cee2fd2ad6a4e2fad8a257c3b583b09": {
          "model_module": "@jupyter-widgets/base",
          "model_module_version": "1.2.0",
          "model_name": "LayoutModel",
          "state": {
            "_model_module": "@jupyter-widgets/base",
            "_model_module_version": "1.2.0",
            "_model_name": "LayoutModel",
            "_view_count": null,
            "_view_module": "@jupyter-widgets/base",
            "_view_module_version": "1.2.0",
            "_view_name": "LayoutView",
            "align_content": null,
            "align_items": null,
            "align_self": null,
            "border": null,
            "bottom": null,
            "display": null,
            "flex": null,
            "flex_flow": null,
            "grid_area": null,
            "grid_auto_columns": null,
            "grid_auto_flow": null,
            "grid_auto_rows": null,
            "grid_column": null,
            "grid_gap": null,
            "grid_row": null,
            "grid_template_areas": null,
            "grid_template_columns": null,
            "grid_template_rows": null,
            "height": null,
            "justify_content": null,
            "justify_items": null,
            "left": null,
            "margin": null,
            "max_height": null,
            "max_width": null,
            "min_height": null,
            "min_width": null,
            "object_fit": null,
            "object_position": null,
            "order": null,
            "overflow": null,
            "overflow_x": null,
            "overflow_y": null,
            "padding": null,
            "right": null,
            "top": null,
            "visibility": null,
            "width": null
          }
        },
        "511a6f5a1c9044a3bbc8045630b542d8": {
          "model_module": "@jupyter-widgets/base",
          "model_module_version": "1.2.0",
          "model_name": "LayoutModel",
          "state": {
            "_model_module": "@jupyter-widgets/base",
            "_model_module_version": "1.2.0",
            "_model_name": "LayoutModel",
            "_view_count": null,
            "_view_module": "@jupyter-widgets/base",
            "_view_module_version": "1.2.0",
            "_view_name": "LayoutView",
            "align_content": null,
            "align_items": null,
            "align_self": null,
            "border": null,
            "bottom": null,
            "display": null,
            "flex": null,
            "flex_flow": null,
            "grid_area": null,
            "grid_auto_columns": null,
            "grid_auto_flow": null,
            "grid_auto_rows": null,
            "grid_column": null,
            "grid_gap": null,
            "grid_row": null,
            "grid_template_areas": null,
            "grid_template_columns": null,
            "grid_template_rows": null,
            "height": null,
            "justify_content": null,
            "justify_items": null,
            "left": null,
            "margin": null,
            "max_height": null,
            "max_width": null,
            "min_height": null,
            "min_width": null,
            "object_fit": null,
            "object_position": null,
            "order": null,
            "overflow": null,
            "overflow_x": null,
            "overflow_y": null,
            "padding": null,
            "right": null,
            "top": null,
            "visibility": null,
            "width": null
          }
        },
        "526ad1a3e0cf4810b8aa81b39c12db33": {
          "model_module": "@jupyter-widgets/base",
          "model_module_version": "1.2.0",
          "model_name": "LayoutModel",
          "state": {
            "_model_module": "@jupyter-widgets/base",
            "_model_module_version": "1.2.0",
            "_model_name": "LayoutModel",
            "_view_count": null,
            "_view_module": "@jupyter-widgets/base",
            "_view_module_version": "1.2.0",
            "_view_name": "LayoutView",
            "align_content": null,
            "align_items": null,
            "align_self": null,
            "border": null,
            "bottom": null,
            "display": null,
            "flex": null,
            "flex_flow": null,
            "grid_area": null,
            "grid_auto_columns": null,
            "grid_auto_flow": null,
            "grid_auto_rows": null,
            "grid_column": null,
            "grid_gap": null,
            "grid_row": null,
            "grid_template_areas": null,
            "grid_template_columns": null,
            "grid_template_rows": null,
            "height": null,
            "justify_content": null,
            "justify_items": null,
            "left": null,
            "margin": null,
            "max_height": null,
            "max_width": null,
            "min_height": null,
            "min_width": null,
            "object_fit": null,
            "object_position": null,
            "order": null,
            "overflow": null,
            "overflow_x": null,
            "overflow_y": null,
            "padding": null,
            "right": null,
            "top": null,
            "visibility": null,
            "width": null
          }
        },
        "534e0feb4c2c4a6c884ce8a624ee551d": {
          "model_module": "@jupyter-widgets/base",
          "model_module_version": "1.2.0",
          "model_name": "LayoutModel",
          "state": {
            "_model_module": "@jupyter-widgets/base",
            "_model_module_version": "1.2.0",
            "_model_name": "LayoutModel",
            "_view_count": null,
            "_view_module": "@jupyter-widgets/base",
            "_view_module_version": "1.2.0",
            "_view_name": "LayoutView",
            "align_content": null,
            "align_items": null,
            "align_self": null,
            "border": null,
            "bottom": null,
            "display": null,
            "flex": null,
            "flex_flow": null,
            "grid_area": null,
            "grid_auto_columns": null,
            "grid_auto_flow": null,
            "grid_auto_rows": null,
            "grid_column": null,
            "grid_gap": null,
            "grid_row": null,
            "grid_template_areas": null,
            "grid_template_columns": null,
            "grid_template_rows": null,
            "height": null,
            "justify_content": null,
            "justify_items": null,
            "left": null,
            "margin": null,
            "max_height": null,
            "max_width": null,
            "min_height": null,
            "min_width": null,
            "object_fit": null,
            "object_position": null,
            "order": null,
            "overflow": null,
            "overflow_x": null,
            "overflow_y": null,
            "padding": null,
            "right": null,
            "top": null,
            "visibility": null,
            "width": null
          }
        },
        "650dd01d08d04c5dabb81c13c7fffee9": {
          "model_module": "@jupyter-widgets/base",
          "model_module_version": "1.2.0",
          "model_name": "LayoutModel",
          "state": {
            "_model_module": "@jupyter-widgets/base",
            "_model_module_version": "1.2.0",
            "_model_name": "LayoutModel",
            "_view_count": null,
            "_view_module": "@jupyter-widgets/base",
            "_view_module_version": "1.2.0",
            "_view_name": "LayoutView",
            "align_content": null,
            "align_items": null,
            "align_self": null,
            "border": null,
            "bottom": null,
            "display": null,
            "flex": null,
            "flex_flow": null,
            "grid_area": null,
            "grid_auto_columns": null,
            "grid_auto_flow": null,
            "grid_auto_rows": null,
            "grid_column": null,
            "grid_gap": null,
            "grid_row": null,
            "grid_template_areas": null,
            "grid_template_columns": null,
            "grid_template_rows": null,
            "height": null,
            "justify_content": null,
            "justify_items": null,
            "left": null,
            "margin": null,
            "max_height": null,
            "max_width": null,
            "min_height": null,
            "min_width": null,
            "object_fit": null,
            "object_position": null,
            "order": null,
            "overflow": null,
            "overflow_x": null,
            "overflow_y": null,
            "padding": null,
            "right": null,
            "top": null,
            "visibility": null,
            "width": null
          }
        },
        "66db9e9e777345639efbbd774cbf1c95": {
          "model_module": "@jupyter-widgets/controls",
          "model_module_version": "1.5.0",
          "model_name": "DescriptionStyleModel",
          "state": {
            "_model_module": "@jupyter-widgets/controls",
            "_model_module_version": "1.5.0",
            "_model_name": "DescriptionStyleModel",
            "_view_count": null,
            "_view_module": "@jupyter-widgets/base",
            "_view_module_version": "1.2.0",
            "_view_name": "StyleView",
            "description_width": ""
          }
        },
        "6a897c474c5440f5acf128359d199c01": {
          "model_module": "@jupyter-widgets/controls",
          "model_module_version": "1.5.0",
          "model_name": "HTMLModel",
          "state": {
            "_dom_classes": [],
            "_model_module": "@jupyter-widgets/controls",
            "_model_module_version": "1.5.0",
            "_model_name": "HTMLModel",
            "_view_count": null,
            "_view_module": "@jupyter-widgets/controls",
            "_view_module_version": "1.5.0",
            "_view_name": "HTMLView",
            "description": "",
            "description_tooltip": null,
            "layout": "IPY_MODEL_d7605eda104046a1b7640eca686053c3",
            "placeholder": "​",
            "style": "IPY_MODEL_d0f058b72b594dc1a17c36e7449c33d1",
            "value": " 570/570 [00:00&lt;00:00, 18.4kB/s]"
          }
        },
        "6d886be687ff445db2410afbbf0653b6": {
          "model_module": "@jupyter-widgets/base",
          "model_module_version": "1.2.0",
          "model_name": "LayoutModel",
          "state": {
            "_model_module": "@jupyter-widgets/base",
            "_model_module_version": "1.2.0",
            "_model_name": "LayoutModel",
            "_view_count": null,
            "_view_module": "@jupyter-widgets/base",
            "_view_module_version": "1.2.0",
            "_view_name": "LayoutView",
            "align_content": null,
            "align_items": null,
            "align_self": null,
            "border": null,
            "bottom": null,
            "display": null,
            "flex": null,
            "flex_flow": null,
            "grid_area": null,
            "grid_auto_columns": null,
            "grid_auto_flow": null,
            "grid_auto_rows": null,
            "grid_column": null,
            "grid_gap": null,
            "grid_row": null,
            "grid_template_areas": null,
            "grid_template_columns": null,
            "grid_template_rows": null,
            "height": null,
            "justify_content": null,
            "justify_items": null,
            "left": null,
            "margin": null,
            "max_height": null,
            "max_width": null,
            "min_height": null,
            "min_width": null,
            "object_fit": null,
            "object_position": null,
            "order": null,
            "overflow": null,
            "overflow_x": null,
            "overflow_y": null,
            "padding": null,
            "right": null,
            "top": null,
            "visibility": null,
            "width": null
          }
        },
        "73e649d9a3f44a26b1726bfe62d7ed75": {
          "model_module": "@jupyter-widgets/base",
          "model_module_version": "1.2.0",
          "model_name": "LayoutModel",
          "state": {
            "_model_module": "@jupyter-widgets/base",
            "_model_module_version": "1.2.0",
            "_model_name": "LayoutModel",
            "_view_count": null,
            "_view_module": "@jupyter-widgets/base",
            "_view_module_version": "1.2.0",
            "_view_name": "LayoutView",
            "align_content": null,
            "align_items": null,
            "align_self": null,
            "border": null,
            "bottom": null,
            "display": null,
            "flex": null,
            "flex_flow": null,
            "grid_area": null,
            "grid_auto_columns": null,
            "grid_auto_flow": null,
            "grid_auto_rows": null,
            "grid_column": null,
            "grid_gap": null,
            "grid_row": null,
            "grid_template_areas": null,
            "grid_template_columns": null,
            "grid_template_rows": null,
            "height": null,
            "justify_content": null,
            "justify_items": null,
            "left": null,
            "margin": null,
            "max_height": null,
            "max_width": null,
            "min_height": null,
            "min_width": null,
            "object_fit": null,
            "object_position": null,
            "order": null,
            "overflow": null,
            "overflow_x": null,
            "overflow_y": null,
            "padding": null,
            "right": null,
            "top": null,
            "visibility": null,
            "width": null
          }
        },
        "74683248dc9f4da59ce2bda9f1ec32d1": {
          "model_module": "@jupyter-widgets/controls",
          "model_module_version": "1.5.0",
          "model_name": "HTMLModel",
          "state": {
            "_dom_classes": [],
            "_model_module": "@jupyter-widgets/controls",
            "_model_module_version": "1.5.0",
            "_model_name": "HTMLModel",
            "_view_count": null,
            "_view_module": "@jupyter-widgets/controls",
            "_view_module_version": "1.5.0",
            "_view_name": "HTMLView",
            "description": "",
            "description_tooltip": null,
            "layout": "IPY_MODEL_650dd01d08d04c5dabb81c13c7fffee9",
            "placeholder": "​",
            "style": "IPY_MODEL_c7c0aae7039a4f35b332a4fa1f521d41",
            "value": " 440M/440M [00:11&lt;00:00, 32.0MB/s]"
          }
        },
        "74c1e70038354949b73aeacc1b47dc3d": {
          "model_module": "@jupyter-widgets/controls",
          "model_module_version": "1.5.0",
          "model_name": "FloatProgressModel",
          "state": {
            "_dom_classes": [],
            "_model_module": "@jupyter-widgets/controls",
            "_model_module_version": "1.5.0",
            "_model_name": "FloatProgressModel",
            "_view_count": null,
            "_view_module": "@jupyter-widgets/controls",
            "_view_module_version": "1.5.0",
            "_view_name": "ProgressView",
            "bar_style": "success",
            "description": "",
            "description_tooltip": null,
            "layout": "IPY_MODEL_0b77529e1ea140ad806127bfc5610b1a",
            "max": 440473133,
            "min": 0,
            "orientation": "horizontal",
            "style": "IPY_MODEL_36e7a9fe17354e5b8c7b8f70d521c7b5",
            "value": 440473133
          }
        },
        "7680c62f1de84b42a8b6b946a9c13703": {
          "model_module": "@jupyter-widgets/base",
          "model_module_version": "1.2.0",
          "model_name": "LayoutModel",
          "state": {
            "_model_module": "@jupyter-widgets/base",
            "_model_module_version": "1.2.0",
            "_model_name": "LayoutModel",
            "_view_count": null,
            "_view_module": "@jupyter-widgets/base",
            "_view_module_version": "1.2.0",
            "_view_name": "LayoutView",
            "align_content": null,
            "align_items": null,
            "align_self": null,
            "border": null,
            "bottom": null,
            "display": null,
            "flex": null,
            "flex_flow": null,
            "grid_area": null,
            "grid_auto_columns": null,
            "grid_auto_flow": null,
            "grid_auto_rows": null,
            "grid_column": null,
            "grid_gap": null,
            "grid_row": null,
            "grid_template_areas": null,
            "grid_template_columns": null,
            "grid_template_rows": null,
            "height": null,
            "justify_content": null,
            "justify_items": null,
            "left": null,
            "margin": null,
            "max_height": null,
            "max_width": null,
            "min_height": null,
            "min_width": null,
            "object_fit": null,
            "object_position": null,
            "order": null,
            "overflow": null,
            "overflow_x": null,
            "overflow_y": null,
            "padding": null,
            "right": null,
            "top": null,
            "visibility": null,
            "width": null
          }
        },
        "7e3b82d9a78d44729d14094a1903d84a": {
          "model_module": "@jupyter-widgets/controls",
          "model_module_version": "1.5.0",
          "model_name": "HBoxModel",
          "state": {
            "_dom_classes": [],
            "_model_module": "@jupyter-widgets/controls",
            "_model_module_version": "1.5.0",
            "_model_name": "HBoxModel",
            "_view_count": null,
            "_view_module": "@jupyter-widgets/controls",
            "_view_module_version": "1.5.0",
            "_view_name": "HBoxView",
            "box_style": "",
            "children": [
              "IPY_MODEL_b516d55d10054d4f89d02b45361172b4",
              "IPY_MODEL_8f4f7cc9a8a84401865f02a98b542b1a",
              "IPY_MODEL_6a897c474c5440f5acf128359d199c01"
            ],
            "layout": "IPY_MODEL_534e0feb4c2c4a6c884ce8a624ee551d"
          }
        },
        "8025af1ad7f0495b98ada2c47f2a81bd": {
          "model_module": "@jupyter-widgets/base",
          "model_module_version": "1.2.0",
          "model_name": "LayoutModel",
          "state": {
            "_model_module": "@jupyter-widgets/base",
            "_model_module_version": "1.2.0",
            "_model_name": "LayoutModel",
            "_view_count": null,
            "_view_module": "@jupyter-widgets/base",
            "_view_module_version": "1.2.0",
            "_view_name": "LayoutView",
            "align_content": null,
            "align_items": null,
            "align_self": null,
            "border": null,
            "bottom": null,
            "display": null,
            "flex": null,
            "flex_flow": null,
            "grid_area": null,
            "grid_auto_columns": null,
            "grid_auto_flow": null,
            "grid_auto_rows": null,
            "grid_column": null,
            "grid_gap": null,
            "grid_row": null,
            "grid_template_areas": null,
            "grid_template_columns": null,
            "grid_template_rows": null,
            "height": null,
            "justify_content": null,
            "justify_items": null,
            "left": null,
            "margin": null,
            "max_height": null,
            "max_width": null,
            "min_height": null,
            "min_width": null,
            "object_fit": null,
            "object_position": null,
            "order": null,
            "overflow": null,
            "overflow_x": null,
            "overflow_y": null,
            "padding": null,
            "right": null,
            "top": null,
            "visibility": null,
            "width": null
          }
        },
        "811eabce77814bc09f3a8f30a1751105": {
          "model_module": "@jupyter-widgets/controls",
          "model_module_version": "1.5.0",
          "model_name": "FloatProgressModel",
          "state": {
            "_dom_classes": [],
            "_model_module": "@jupyter-widgets/controls",
            "_model_module_version": "1.5.0",
            "_model_name": "FloatProgressModel",
            "_view_count": null,
            "_view_module": "@jupyter-widgets/controls",
            "_view_module_version": "1.5.0",
            "_view_name": "ProgressView",
            "bar_style": "success",
            "description": "",
            "description_tooltip": null,
            "layout": "IPY_MODEL_dff4397ce89345449183c6b47961a02b",
            "max": 28,
            "min": 0,
            "orientation": "horizontal",
            "style": "IPY_MODEL_94ea66230cd84c5d8b3a87ed32664ebb",
            "value": 28
          }
        },
        "85717b06514a491f8e65012931ee617e": {
          "model_module": "@jupyter-widgets/controls",
          "model_module_version": "1.5.0",
          "model_name": "HTMLModel",
          "state": {
            "_dom_classes": [],
            "_model_module": "@jupyter-widgets/controls",
            "_model_module_version": "1.5.0",
            "_model_name": "HTMLModel",
            "_view_count": null,
            "_view_module": "@jupyter-widgets/controls",
            "_view_module_version": "1.5.0",
            "_view_name": "HTMLView",
            "description": "",
            "description_tooltip": null,
            "layout": "IPY_MODEL_73e649d9a3f44a26b1726bfe62d7ed75",
            "placeholder": "​",
            "style": "IPY_MODEL_66db9e9e777345639efbbd774cbf1c95",
            "value": " 28.0/28.0 [00:00&lt;00:00, 905B/s]"
          }
        },
        "87ed2880bbd84e0ba254d2423b81a0a7": {
          "model_module": "@jupyter-widgets/base",
          "model_module_version": "1.2.0",
          "model_name": "LayoutModel",
          "state": {
            "_model_module": "@jupyter-widgets/base",
            "_model_module_version": "1.2.0",
            "_model_name": "LayoutModel",
            "_view_count": null,
            "_view_module": "@jupyter-widgets/base",
            "_view_module_version": "1.2.0",
            "_view_name": "LayoutView",
            "align_content": null,
            "align_items": null,
            "align_self": null,
            "border": null,
            "bottom": null,
            "display": null,
            "flex": null,
            "flex_flow": null,
            "grid_area": null,
            "grid_auto_columns": null,
            "grid_auto_flow": null,
            "grid_auto_rows": null,
            "grid_column": null,
            "grid_gap": null,
            "grid_row": null,
            "grid_template_areas": null,
            "grid_template_columns": null,
            "grid_template_rows": null,
            "height": null,
            "justify_content": null,
            "justify_items": null,
            "left": null,
            "margin": null,
            "max_height": null,
            "max_width": null,
            "min_height": null,
            "min_width": null,
            "object_fit": null,
            "object_position": null,
            "order": null,
            "overflow": null,
            "overflow_x": null,
            "overflow_y": null,
            "padding": null,
            "right": null,
            "top": null,
            "visibility": null,
            "width": null
          }
        },
        "8f4f7cc9a8a84401865f02a98b542b1a": {
          "model_module": "@jupyter-widgets/controls",
          "model_module_version": "1.5.0",
          "model_name": "FloatProgressModel",
          "state": {
            "_dom_classes": [],
            "_model_module": "@jupyter-widgets/controls",
            "_model_module_version": "1.5.0",
            "_model_name": "FloatProgressModel",
            "_view_count": null,
            "_view_module": "@jupyter-widgets/controls",
            "_view_module_version": "1.5.0",
            "_view_name": "ProgressView",
            "bar_style": "success",
            "description": "",
            "description_tooltip": null,
            "layout": "IPY_MODEL_4cee2fd2ad6a4e2fad8a257c3b583b09",
            "max": 570,
            "min": 0,
            "orientation": "horizontal",
            "style": "IPY_MODEL_ee7dca904fd44b2ca0bf3bd4ba5686e4",
            "value": 570
          }
        },
        "91d31f5970e14cf490ac6859836967ff": {
          "model_module": "@jupyter-widgets/base",
          "model_module_version": "1.2.0",
          "model_name": "LayoutModel",
          "state": {
            "_model_module": "@jupyter-widgets/base",
            "_model_module_version": "1.2.0",
            "_model_name": "LayoutModel",
            "_view_count": null,
            "_view_module": "@jupyter-widgets/base",
            "_view_module_version": "1.2.0",
            "_view_name": "LayoutView",
            "align_content": null,
            "align_items": null,
            "align_self": null,
            "border": null,
            "bottom": null,
            "display": null,
            "flex": null,
            "flex_flow": null,
            "grid_area": null,
            "grid_auto_columns": null,
            "grid_auto_flow": null,
            "grid_auto_rows": null,
            "grid_column": null,
            "grid_gap": null,
            "grid_row": null,
            "grid_template_areas": null,
            "grid_template_columns": null,
            "grid_template_rows": null,
            "height": null,
            "justify_content": null,
            "justify_items": null,
            "left": null,
            "margin": null,
            "max_height": null,
            "max_width": null,
            "min_height": null,
            "min_width": null,
            "object_fit": null,
            "object_position": null,
            "order": null,
            "overflow": null,
            "overflow_x": null,
            "overflow_y": null,
            "padding": null,
            "right": null,
            "top": null,
            "visibility": null,
            "width": null
          }
        },
        "94ea66230cd84c5d8b3a87ed32664ebb": {
          "model_module": "@jupyter-widgets/controls",
          "model_module_version": "1.5.0",
          "model_name": "ProgressStyleModel",
          "state": {
            "_model_module": "@jupyter-widgets/controls",
            "_model_module_version": "1.5.0",
            "_model_name": "ProgressStyleModel",
            "_view_count": null,
            "_view_module": "@jupyter-widgets/base",
            "_view_module_version": "1.2.0",
            "_view_name": "StyleView",
            "bar_color": null,
            "description_width": ""
          }
        },
        "9bef0f1d465b4ffc8c2b1e311807e330": {
          "model_module": "@jupyter-widgets/controls",
          "model_module_version": "1.5.0",
          "model_name": "ProgressStyleModel",
          "state": {
            "_model_module": "@jupyter-widgets/controls",
            "_model_module_version": "1.5.0",
            "_model_name": "ProgressStyleModel",
            "_view_count": null,
            "_view_module": "@jupyter-widgets/base",
            "_view_module_version": "1.2.0",
            "_view_name": "StyleView",
            "bar_color": null,
            "description_width": ""
          }
        },
        "b516d55d10054d4f89d02b45361172b4": {
          "model_module": "@jupyter-widgets/controls",
          "model_module_version": "1.5.0",
          "model_name": "HTMLModel",
          "state": {
            "_dom_classes": [],
            "_model_module": "@jupyter-widgets/controls",
            "_model_module_version": "1.5.0",
            "_model_name": "HTMLModel",
            "_view_count": null,
            "_view_module": "@jupyter-widgets/controls",
            "_view_module_version": "1.5.0",
            "_view_name": "HTMLView",
            "description": "",
            "description_tooltip": null,
            "layout": "IPY_MODEL_2fa3c71bf5ab4fc097614b83cf70faa2",
            "placeholder": "​",
            "style": "IPY_MODEL_ecc221ff710a4982b5311fe257ee9345",
            "value": "Downloading: 100%"
          }
        },
        "c7c0aae7039a4f35b332a4fa1f521d41": {
          "model_module": "@jupyter-widgets/controls",
          "model_module_version": "1.5.0",
          "model_name": "DescriptionStyleModel",
          "state": {
            "_model_module": "@jupyter-widgets/controls",
            "_model_module_version": "1.5.0",
            "_model_name": "DescriptionStyleModel",
            "_view_count": null,
            "_view_module": "@jupyter-widgets/base",
            "_view_module_version": "1.2.0",
            "_view_name": "StyleView",
            "description_width": ""
          }
        },
        "d0f058b72b594dc1a17c36e7449c33d1": {
          "model_module": "@jupyter-widgets/controls",
          "model_module_version": "1.5.0",
          "model_name": "DescriptionStyleModel",
          "state": {
            "_model_module": "@jupyter-widgets/controls",
            "_model_module_version": "1.5.0",
            "_model_name": "DescriptionStyleModel",
            "_view_count": null,
            "_view_module": "@jupyter-widgets/base",
            "_view_module_version": "1.2.0",
            "_view_name": "StyleView",
            "description_width": ""
          }
        },
        "d48ab84f850b4bcc8099dec359ff67c9": {
          "model_module": "@jupyter-widgets/controls",
          "model_module_version": "1.5.0",
          "model_name": "FloatProgressModel",
          "state": {
            "_dom_classes": [],
            "_model_module": "@jupyter-widgets/controls",
            "_model_module_version": "1.5.0",
            "_model_name": "FloatProgressModel",
            "_view_count": null,
            "_view_module": "@jupyter-widgets/controls",
            "_view_module_version": "1.5.0",
            "_view_name": "ProgressView",
            "bar_style": "success",
            "description": "",
            "description_tooltip": null,
            "layout": "IPY_MODEL_91d31f5970e14cf490ac6859836967ff",
            "max": 231508,
            "min": 0,
            "orientation": "horizontal",
            "style": "IPY_MODEL_9bef0f1d465b4ffc8c2b1e311807e330",
            "value": 231508
          }
        },
        "d7605eda104046a1b7640eca686053c3": {
          "model_module": "@jupyter-widgets/base",
          "model_module_version": "1.2.0",
          "model_name": "LayoutModel",
          "state": {
            "_model_module": "@jupyter-widgets/base",
            "_model_module_version": "1.2.0",
            "_model_name": "LayoutModel",
            "_view_count": null,
            "_view_module": "@jupyter-widgets/base",
            "_view_module_version": "1.2.0",
            "_view_name": "LayoutView",
            "align_content": null,
            "align_items": null,
            "align_self": null,
            "border": null,
            "bottom": null,
            "display": null,
            "flex": null,
            "flex_flow": null,
            "grid_area": null,
            "grid_auto_columns": null,
            "grid_auto_flow": null,
            "grid_auto_rows": null,
            "grid_column": null,
            "grid_gap": null,
            "grid_row": null,
            "grid_template_areas": null,
            "grid_template_columns": null,
            "grid_template_rows": null,
            "height": null,
            "justify_content": null,
            "justify_items": null,
            "left": null,
            "margin": null,
            "max_height": null,
            "max_width": null,
            "min_height": null,
            "min_width": null,
            "object_fit": null,
            "object_position": null,
            "order": null,
            "overflow": null,
            "overflow_x": null,
            "overflow_y": null,
            "padding": null,
            "right": null,
            "top": null,
            "visibility": null,
            "width": null
          }
        },
        "dff4397ce89345449183c6b47961a02b": {
          "model_module": "@jupyter-widgets/base",
          "model_module_version": "1.2.0",
          "model_name": "LayoutModel",
          "state": {
            "_model_module": "@jupyter-widgets/base",
            "_model_module_version": "1.2.0",
            "_model_name": "LayoutModel",
            "_view_count": null,
            "_view_module": "@jupyter-widgets/base",
            "_view_module_version": "1.2.0",
            "_view_name": "LayoutView",
            "align_content": null,
            "align_items": null,
            "align_self": null,
            "border": null,
            "bottom": null,
            "display": null,
            "flex": null,
            "flex_flow": null,
            "grid_area": null,
            "grid_auto_columns": null,
            "grid_auto_flow": null,
            "grid_auto_rows": null,
            "grid_column": null,
            "grid_gap": null,
            "grid_row": null,
            "grid_template_areas": null,
            "grid_template_columns": null,
            "grid_template_rows": null,
            "height": null,
            "justify_content": null,
            "justify_items": null,
            "left": null,
            "margin": null,
            "max_height": null,
            "max_width": null,
            "min_height": null,
            "min_width": null,
            "object_fit": null,
            "object_position": null,
            "order": null,
            "overflow": null,
            "overflow_x": null,
            "overflow_y": null,
            "padding": null,
            "right": null,
            "top": null,
            "visibility": null,
            "width": null
          }
        },
        "eb47e3798ba241248693494b05dfd484": {
          "model_module": "@jupyter-widgets/controls",
          "model_module_version": "1.5.0",
          "model_name": "HBoxModel",
          "state": {
            "_dom_classes": [],
            "_model_module": "@jupyter-widgets/controls",
            "_model_module_version": "1.5.0",
            "_model_name": "HBoxModel",
            "_view_count": null,
            "_view_module": "@jupyter-widgets/controls",
            "_view_module_version": "1.5.0",
            "_view_name": "HBoxView",
            "box_style": "",
            "children": [
              "IPY_MODEL_f2d953f4b0fa40699e7fb73c38b95b44",
              "IPY_MODEL_811eabce77814bc09f3a8f30a1751105",
              "IPY_MODEL_85717b06514a491f8e65012931ee617e"
            ],
            "layout": "IPY_MODEL_87ed2880bbd84e0ba254d2423b81a0a7"
          }
        },
        "ec769fb2a2764752b1dba89fe0992ce9": {
          "model_module": "@jupyter-widgets/controls",
          "model_module_version": "1.5.0",
          "model_name": "HTMLModel",
          "state": {
            "_dom_classes": [],
            "_model_module": "@jupyter-widgets/controls",
            "_model_module_version": "1.5.0",
            "_model_name": "HTMLModel",
            "_view_count": null,
            "_view_module": "@jupyter-widgets/controls",
            "_view_module_version": "1.5.0",
            "_view_name": "HTMLView",
            "description": "",
            "description_tooltip": null,
            "layout": "IPY_MODEL_7680c62f1de84b42a8b6b946a9c13703",
            "placeholder": "​",
            "style": "IPY_MODEL_0de066061c3e49a28a9451d8052226ed",
            "value": " 232k/232k [00:00&lt;00:00, 602kB/s]"
          }
        },
        "ecc221ff710a4982b5311fe257ee9345": {
          "model_module": "@jupyter-widgets/controls",
          "model_module_version": "1.5.0",
          "model_name": "DescriptionStyleModel",
          "state": {
            "_model_module": "@jupyter-widgets/controls",
            "_model_module_version": "1.5.0",
            "_model_name": "DescriptionStyleModel",
            "_view_count": null,
            "_view_module": "@jupyter-widgets/base",
            "_view_module_version": "1.2.0",
            "_view_name": "StyleView",
            "description_width": ""
          }
        },
        "ee7dca904fd44b2ca0bf3bd4ba5686e4": {
          "model_module": "@jupyter-widgets/controls",
          "model_module_version": "1.5.0",
          "model_name": "ProgressStyleModel",
          "state": {
            "_model_module": "@jupyter-widgets/controls",
            "_model_module_version": "1.5.0",
            "_model_name": "ProgressStyleModel",
            "_view_count": null,
            "_view_module": "@jupyter-widgets/base",
            "_view_module_version": "1.2.0",
            "_view_name": "StyleView",
            "bar_color": null,
            "description_width": ""
          }
        },
        "f2d953f4b0fa40699e7fb73c38b95b44": {
          "model_module": "@jupyter-widgets/controls",
          "model_module_version": "1.5.0",
          "model_name": "HTMLModel",
          "state": {
            "_dom_classes": [],
            "_model_module": "@jupyter-widgets/controls",
            "_model_module_version": "1.5.0",
            "_model_name": "HTMLModel",
            "_view_count": null,
            "_view_module": "@jupyter-widgets/controls",
            "_view_module_version": "1.5.0",
            "_view_name": "HTMLView",
            "description": "",
            "description_tooltip": null,
            "layout": "IPY_MODEL_6d886be687ff445db2410afbbf0653b6",
            "placeholder": "​",
            "style": "IPY_MODEL_0138adc27c8b49e29d12450a7133f7d2",
            "value": "Downloading: 100%"
          }
        },
        "f4a2ba9f99894604befb18dd9fbf6929": {
          "model_module": "@jupyter-widgets/controls",
          "model_module_version": "1.5.0",
          "model_name": "DescriptionStyleModel",
          "state": {
            "_model_module": "@jupyter-widgets/controls",
            "_model_module_version": "1.5.0",
            "_model_name": "DescriptionStyleModel",
            "_view_count": null,
            "_view_module": "@jupyter-widgets/base",
            "_view_module_version": "1.2.0",
            "_view_name": "StyleView",
            "description_width": ""
          }
        },
        "f83c94ccea0d426c83b4a9f10d4556b4": {
          "model_module": "@jupyter-widgets/controls",
          "model_module_version": "1.5.0",
          "model_name": "HTMLModel",
          "state": {
            "_dom_classes": [],
            "_model_module": "@jupyter-widgets/controls",
            "_model_module_version": "1.5.0",
            "_model_name": "HTMLModel",
            "_view_count": null,
            "_view_module": "@jupyter-widgets/controls",
            "_view_module_version": "1.5.0",
            "_view_name": "HTMLView",
            "description": "",
            "description_tooltip": null,
            "layout": "IPY_MODEL_526ad1a3e0cf4810b8aa81b39c12db33",
            "placeholder": "​",
            "style": "IPY_MODEL_f4a2ba9f99894604befb18dd9fbf6929",
            "value": "Downloading: 100%"
          }
        },
        "fa4e1fd670a242aa8311e8125326f695": {
          "model_module": "@jupyter-widgets/controls",
          "model_module_version": "1.5.0",
          "model_name": "HTMLModel",
          "state": {
            "_dom_classes": [],
            "_model_module": "@jupyter-widgets/controls",
            "_model_module_version": "1.5.0",
            "_model_name": "HTMLModel",
            "_view_count": null,
            "_view_module": "@jupyter-widgets/controls",
            "_view_module_version": "1.5.0",
            "_view_name": "HTMLView",
            "description": "",
            "description_tooltip": null,
            "layout": "IPY_MODEL_43ab18b80e8e4d8c939144c732ab7a1e",
            "placeholder": "​",
            "style": "IPY_MODEL_100154056bef4ac8a5d047a49da25d1e",
            "value": "Downloading: 100%"
          }
        },
        "fc77dcbf701847e585606868b6ef6229": {
          "model_module": "@jupyter-widgets/controls",
          "model_module_version": "1.5.0",
          "model_name": "HBoxModel",
          "state": {
            "_dom_classes": [],
            "_model_module": "@jupyter-widgets/controls",
            "_model_module_version": "1.5.0",
            "_model_name": "HBoxModel",
            "_view_count": null,
            "_view_module": "@jupyter-widgets/controls",
            "_view_module_version": "1.5.0",
            "_view_name": "HBoxView",
            "box_style": "",
            "children": [
              "IPY_MODEL_fa4e1fd670a242aa8311e8125326f695",
              "IPY_MODEL_d48ab84f850b4bcc8099dec359ff67c9",
              "IPY_MODEL_ec769fb2a2764752b1dba89fe0992ce9"
            ],
            "layout": "IPY_MODEL_8025af1ad7f0495b98ada2c47f2a81bd"
          }
        }
      }
    }
  },
  "nbformat": 4,
  "nbformat_minor": 0
}
