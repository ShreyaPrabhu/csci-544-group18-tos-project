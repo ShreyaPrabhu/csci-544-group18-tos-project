{
  "cells": [
    {
      "cell_type": "markdown",
      "metadata": {
        "id": "jmV9H6mqvWD9"
      },
      "source": [
        "# Using RoBERTa Tokenizer and RoBERTa Model from Huggingface"
      ]
    },
    {
      "cell_type": "markdown",
      "metadata": {
        "id": "VxZbM6Hova5G"
      },
      "source": [
        "# Aggregated Preprocessing Steps"
      ]
    },
    {
      "cell_type": "code",
      "execution_count": 25,
      "metadata": {
        "id": "mVEJFD3J5d0F"
      },
      "outputs": [],
      "source": [
        "import pandas as pd\n",
        "import numpy as np"
      ]
    },
    {
      "cell_type": "code",
      "execution_count": 2,
      "metadata": {
        "colab": {
          "base_uri": "https://localhost:8080/"
        },
        "id": "8z9-51v1vkfZ",
        "outputId": "ceeb02c8-1d72-4551-8d3b-104a365c1ec4"
      },
      "outputs": [
        {
          "name": "stdout",
          "output_type": "stream",
          "text": [
            "Requirement already satisfied: contractions in /Users/aditya/.pyenv/versions/3.10.6/envs/csci544/lib/python3.10/site-packages (0.1.72)\n",
            "Requirement already satisfied: textsearch>=0.0.21 in /Users/aditya/.pyenv/versions/3.10.6/envs/csci544/lib/python3.10/site-packages (from contractions) (0.0.21)\n",
            "Requirement already satisfied: pyahocorasick in /Users/aditya/.pyenv/versions/3.10.6/envs/csci544/lib/python3.10/site-packages (from textsearch>=0.0.21->contractions) (1.4.4)\n",
            "Requirement already satisfied: anyascii in /Users/aditya/.pyenv/versions/3.10.6/envs/csci544/lib/python3.10/site-packages (from textsearch>=0.0.21->contractions) (0.3.1)\n"
          ]
        }
      ],
      "source": [
        "!pip install contractions"
      ]
    },
    {
      "cell_type": "code",
      "execution_count": 3,
      "metadata": {
        "id": "nr-qJW_pvSwv"
      },
      "outputs": [],
      "source": [
        "# Convert all reviews to lower case (optional according to study)\n",
        "def to_lower(data: pd.Series):\n",
        "    return data.str.lower()\n"
      ]
    },
    {
      "cell_type": "code",
      "execution_count": 4,
      "metadata": {
        "id": "55QDEpu44_l-"
      },
      "outputs": [],
      "source": [
        "def remove_accented_characters(data: pd.Series):\n",
        "    import unicodedata\n",
        "\n",
        "    \"\"\"Removes accented characters from the Series\n",
        "\n",
        "    Args:\n",
        "        data (pd.Series): Series of string\n",
        "\n",
        "    Returns:\n",
        "        _type_: pd.Series\n",
        "    \"\"\"\n",
        "    import unicodedata\n",
        "\n",
        "    return data.apply(lambda x: unicodedata.normalize(\"NFKD\", x).encode(\"ascii\", \"ignore\").decode(\"utf-8\", \"ignore\"))\n"
      ]
    },
    {
      "cell_type": "code",
      "execution_count": 5,
      "metadata": {
        "id": "xgxvlVyH4_j4"
      },
      "outputs": [],
      "source": [
        "def remove_html_encodings(data: pd.Series):\n",
        "  return data.str.replace(r\"&#\\d+;\", \" \", regex=True)"
      ]
    },
    {
      "cell_type": "code",
      "execution_count": 6,
      "metadata": {
        "id": "Jj_laKmv4_h0"
      },
      "outputs": [],
      "source": [
        "def remove_html_tags(data: pd.Series):\n",
        "  return data.str.replace(r\"<[a-zA-Z]+\\s?/?>\", \" \", regex=True)"
      ]
    },
    {
      "cell_type": "code",
      "execution_count": 7,
      "metadata": {
        "id": "2SCBxfm54_fe"
      },
      "outputs": [],
      "source": [
        "def remove_url(data: pd.Series):\n",
        "  return data.str.replace(r\"https?://([\\w\\-\\._]+){2,}/[\\w\\-\\.\\-/=\\+_\\?]+\", \" \", regex=True)"
      ]
    },
    {
      "cell_type": "code",
      "execution_count": 8,
      "metadata": {
        "id": "6k59XuMR4_dY"
      },
      "outputs": [],
      "source": [
        "def remove_html_and_url(data: pd.Series):\n",
        "    \"\"\"Function to remove\n",
        "             1. HTML encodings\n",
        "             2. HTML tags (both closed and open)\n",
        "             3. URLs\n",
        "\n",
        "    Args:\n",
        "        data (pd.Series): A Pandas series of type string\n",
        "\n",
        "    Returns:\n",
        "        _type_: pd.Series\n",
        "    \"\"\"\n",
        "    # Remove HTML encodings\n",
        "    data.str.replace(r\"&#\\d+;\", \" \", regex=True)\n",
        "\n",
        "    # Remove HTML tags (both open and closed)\n",
        "    data.str.replace(r\"<[a-zA-Z]+\\s?/?>\", \" \", regex=True)\n",
        "\n",
        "    # Remove URLs\n",
        "    data.str.replace(r\"https?://([\\w\\-\\._]+){2,}/[\\w\\-\\.\\-/=\\+_\\?]+\", \" \", regex=True)\n",
        "\n",
        "    return data\n"
      ]
    },
    {
      "cell_type": "code",
      "execution_count": 9,
      "metadata": {
        "id": "nAxCkw3Z4_bT"
      },
      "outputs": [],
      "source": [
        "# Remove non-alphabetical characters\n",
        "def remove_non_alpha_characters(data: pd.Series):\n",
        "    return data.str.replace(r\"_+|\\\\|[^a-zA-Z0-9\\s]\", \" \", regex=True)\n"
      ]
    },
    {
      "cell_type": "code",
      "execution_count": 10,
      "metadata": {
        "id": "oH9UdmFv5LFZ"
      },
      "outputs": [],
      "source": [
        "# Remove extra spaces\n",
        "def remove_extra_spaces(data: pd.Series):\n",
        "    return data.str.replace(r\"^\\s*|\\s\\s*\", \" \", regex=True)\n"
      ]
    },
    {
      "cell_type": "code",
      "execution_count": 11,
      "metadata": {
        "id": "ax3lfFii5LDV"
      },
      "outputs": [],
      "source": [
        "# Expanding contractions\n",
        "def fix_contractions(data: pd.Series):\n",
        "    import contractions\n",
        "\n",
        "    def contraction_fixer(txt: str):\n",
        "        return \" \".join([contractions.fix(word) for word in txt.split()])\n",
        "\n",
        "    return data.apply(contraction_fixer)\n"
      ]
    },
    {
      "cell_type": "code",
      "execution_count": 12,
      "metadata": {
        "id": "DvY0sG_X5LBN"
      },
      "outputs": [],
      "source": [
        "# remove \"-lrb-\"\n",
        "def remove_special_words(data: pd.Series):\n",
        "  return data.str.replace(r\"\\-[^a-zA-Z]{3}\\-\", \" \", regex=True)"
      ]
    },
    {
      "cell_type": "code",
      "execution_count": null,
      "metadata": {
        "id": "MVJX0mwP5K_A"
      },
      "outputs": [],
      "source": []
    },
    {
      "cell_type": "code",
      "execution_count": null,
      "metadata": {
        "id": "4crTpw3L4_ZN"
      },
      "outputs": [],
      "source": []
    },
    {
      "cell_type": "code",
      "execution_count": null,
      "metadata": {
        "id": "_PkNC2de4_XI"
      },
      "outputs": [],
      "source": []
    },
    {
      "cell_type": "code",
      "execution_count": 13,
      "metadata": {
        "colab": {
          "base_uri": "https://localhost:8080/"
        },
        "id": "VIX2JXAxviGT",
        "outputId": "ff595c6b-e71e-4708-f7cc-90a1aed1fa54"
      },
      "outputs": [
        {
          "name": "stdout",
          "output_type": "stream",
          "text": [
            "Requirement already satisfied: transformers in /Users/aditya/.pyenv/versions/3.10.6/envs/csci544/lib/python3.10/site-packages (4.24.0)\n",
            "Requirement already satisfied: pyyaml>=5.1 in /Users/aditya/.pyenv/versions/3.10.6/envs/csci544/lib/python3.10/site-packages (from transformers) (6.0)\n",
            "Requirement already satisfied: regex!=2019.12.17 in /Users/aditya/.pyenv/versions/3.10.6/envs/csci544/lib/python3.10/site-packages (from transformers) (2022.8.17)\n",
            "Requirement already satisfied: huggingface-hub<1.0,>=0.10.0 in /Users/aditya/.pyenv/versions/3.10.6/envs/csci544/lib/python3.10/site-packages (from transformers) (0.10.1)\n",
            "Requirement already satisfied: tokenizers!=0.11.3,<0.14,>=0.11.1 in /Users/aditya/.pyenv/versions/3.10.6/envs/csci544/lib/python3.10/site-packages (from transformers) (0.13.1)\n",
            "Requirement already satisfied: numpy>=1.17 in /Users/aditya/.pyenv/versions/3.10.6/envs/csci544/lib/python3.10/site-packages (from transformers) (1.23.2)\n",
            "Requirement already satisfied: tqdm>=4.27 in /Users/aditya/.pyenv/versions/3.10.6/envs/csci544/lib/python3.10/site-packages (from transformers) (4.64.0)\n",
            "Requirement already satisfied: requests in /Users/aditya/.pyenv/versions/3.10.6/envs/csci544/lib/python3.10/site-packages (from transformers) (2.28.1)\n",
            "Requirement already satisfied: filelock in /Users/aditya/.pyenv/versions/3.10.6/envs/csci544/lib/python3.10/site-packages (from transformers) (3.8.0)\n",
            "Requirement already satisfied: packaging>=20.0 in /Users/aditya/.pyenv/versions/3.10.6/envs/csci544/lib/python3.10/site-packages (from transformers) (21.3)\n",
            "Requirement already satisfied: typing-extensions>=3.7.4.3 in /Users/aditya/.pyenv/versions/3.10.6/envs/csci544/lib/python3.10/site-packages (from huggingface-hub<1.0,>=0.10.0->transformers) (4.3.0)\n",
            "Requirement already satisfied: pyparsing!=3.0.5,>=2.0.2 in /Users/aditya/.pyenv/versions/3.10.6/envs/csci544/lib/python3.10/site-packages (from packaging>=20.0->transformers) (3.0.9)\n",
            "Requirement already satisfied: urllib3<1.27,>=1.21.1 in /Users/aditya/.pyenv/versions/3.10.6/envs/csci544/lib/python3.10/site-packages (from requests->transformers) (1.26.12)\n",
            "Requirement already satisfied: idna<4,>=2.5 in /Users/aditya/.pyenv/versions/3.10.6/envs/csci544/lib/python3.10/site-packages (from requests->transformers) (3.3)\n",
            "Requirement already satisfied: charset-normalizer<3,>=2 in /Users/aditya/.pyenv/versions/3.10.6/envs/csci544/lib/python3.10/site-packages (from requests->transformers) (2.1.1)\n",
            "Requirement already satisfied: certifi>=2017.4.17 in /Users/aditya/.pyenv/versions/3.10.6/envs/csci544/lib/python3.10/site-packages (from requests->transformers) (2022.6.15)\n"
          ]
        }
      ],
      "source": [
        "!pip install transformers"
      ]
    },
    {
      "cell_type": "code",
      "execution_count": 14,
      "metadata": {
        "id": "KB3m-Z1cv4ZP"
      },
      "outputs": [],
      "source": [
        "from transformers import BertTokenizer"
      ]
    },
    {
      "cell_type": "markdown",
      "metadata": {
        "id": "UtsBNBqGByOh"
      },
      "source": [
        "### Load Data"
      ]
    },
    {
      "cell_type": "code",
      "execution_count": 15,
      "metadata": {
        "id": "c6kHIKwDw1H3"
      },
      "outputs": [],
      "source": [
        "train_dataset_path = \"./data/tos_clauses_train.csv\"\n",
        "test_dataset_path = \"./data/tos_clauses_dev.csv\""
      ]
    },
    {
      "cell_type": "code",
      "execution_count": 16,
      "metadata": {
        "id": "6QspixPvxmPg"
      },
      "outputs": [],
      "source": [
        "train_df = pd.read_csv(train_dataset_path, header=0)\n",
        "test_df = pd.read_csv(test_dataset_path, header=0)"
      ]
    },
    {
      "cell_type": "code",
      "execution_count": 17,
      "metadata": {
        "colab": {
          "base_uri": "https://localhost:8080/",
          "height": 206
        },
        "id": "mEBefSaI5vxl",
        "outputId": "2aa19d76-707b-4222-e0d3-8c145b3b696e"
      },
      "outputs": [
        {
          "data": {
            "text/html": [
              "<div>\n",
              "<style scoped>\n",
              "    .dataframe tbody tr th:only-of-type {\n",
              "        vertical-align: middle;\n",
              "    }\n",
              "\n",
              "    .dataframe tbody tr th {\n",
              "        vertical-align: top;\n",
              "    }\n",
              "\n",
              "    .dataframe thead th {\n",
              "        text-align: right;\n",
              "    }\n",
              "</style>\n",
              "<table border=\"1\" class=\"dataframe\">\n",
              "  <thead>\n",
              "    <tr style=\"text-align: right;\">\n",
              "      <th></th>\n",
              "      <th>label</th>\n",
              "      <th>sentences</th>\n",
              "    </tr>\n",
              "  </thead>\n",
              "  <tbody>\n",
              "    <tr>\n",
              "      <th>0</th>\n",
              "      <td>0</td>\n",
              "      <td>content license and intellectual property rights</td>\n",
              "    </tr>\n",
              "    <tr>\n",
              "      <th>1</th>\n",
              "      <td>0</td>\n",
              "      <td>reactivated skype credit is not refundable .</td>\n",
              "    </tr>\n",
              "    <tr>\n",
              "      <th>2</th>\n",
              "      <td>1</td>\n",
              "      <td>spotify may change the price for the paid subs...</td>\n",
              "    </tr>\n",
              "    <tr>\n",
              "      <th>3</th>\n",
              "      <td>0</td>\n",
              "      <td>the term of your licenses under this eula shal...</td>\n",
              "    </tr>\n",
              "    <tr>\n",
              "      <th>4</th>\n",
              "      <td>0</td>\n",
              "      <td>the arbitrator may award declaratory or injunc...</td>\n",
              "    </tr>\n",
              "  </tbody>\n",
              "</table>\n",
              "</div>"
            ],
            "text/plain": [
              "   label                                          sentences\n",
              "0      0   content license and intellectual property rights\n",
              "1      0       reactivated skype credit is not refundable .\n",
              "2      1  spotify may change the price for the paid subs...\n",
              "3      0  the term of your licenses under this eula shal...\n",
              "4      0  the arbitrator may award declaratory or injunc..."
            ]
          },
          "execution_count": 17,
          "metadata": {},
          "output_type": "execute_result"
        }
      ],
      "source": [
        "train_df.head()"
      ]
    },
    {
      "cell_type": "markdown",
      "metadata": {
        "id": "jCUaVzt5B3bl"
      },
      "source": [
        "### Clean the Data"
      ]
    },
    {
      "cell_type": "code",
      "execution_count": 18,
      "metadata": {
        "id": "2jTvjwxN5q4k"
      },
      "outputs": [],
      "source": [
        "# A dictionary containing the columns and a list of functions to perform on it in order\n",
        "def cleaning(df):\n",
        "  data_cleaning_pipeline = {\n",
        "      \"sentences\": [\n",
        "          to_lower,\n",
        "          remove_special_words,\n",
        "          remove_accented_characters,\n",
        "          remove_html_encodings,\n",
        "          remove_html_tags,\n",
        "          remove_url,\n",
        "          fix_contractions,\n",
        "          remove_non_alpha_characters,\n",
        "          remove_extra_spaces,\n",
        "      ]\n",
        "  }\n",
        "\n",
        "  cleaned_data = df.copy()\n",
        "\n",
        "  # Process all the cleaning instructions\n",
        "  for col, pipeline in data_cleaning_pipeline.items():\n",
        "      # Get the column to perform cleaning on\n",
        "      temp_data = cleaned_data[col].copy()\n",
        "\n",
        "      # Perform all the cleaning functions sequencially\n",
        "      for func in pipeline:\n",
        "          print(f\"Starting: {func.__name__}\")\n",
        "          temp_data = func(temp_data)\n",
        "          print(f\"Ended: {func.__name__}\")\n",
        "\n",
        "      # Replace the old column with cleaned one.\n",
        "      cleaned_data[col] = temp_data.copy()\n",
        "\n",
        "  return cleaned_data\n"
      ]
    },
    {
      "cell_type": "code",
      "execution_count": 19,
      "metadata": {
        "colab": {
          "base_uri": "https://localhost:8080/"
        },
        "id": "pPqnz5yVxn4_",
        "outputId": "0dd2811b-1b05-41dc-8e2a-6117b7ede31f"
      },
      "outputs": [
        {
          "name": "stdout",
          "output_type": "stream",
          "text": [
            "Starting: to_lower\n",
            "Ended: to_lower\n",
            "Starting: remove_special_words\n",
            "Ended: remove_special_words\n",
            "Starting: remove_accented_characters\n",
            "Ended: remove_accented_characters\n",
            "Starting: remove_html_encodings\n",
            "Ended: remove_html_encodings\n",
            "Starting: remove_html_tags\n",
            "Ended: remove_html_tags\n",
            "Starting: remove_url\n",
            "Ended: remove_url\n",
            "Starting: fix_contractions\n",
            "Ended: fix_contractions\n",
            "Starting: remove_non_alpha_characters\n",
            "Ended: remove_non_alpha_characters\n",
            "Starting: remove_extra_spaces\n",
            "Ended: remove_extra_spaces\n",
            "Starting: to_lower\n",
            "Ended: to_lower\n",
            "Starting: remove_special_words\n",
            "Ended: remove_special_words\n",
            "Starting: remove_accented_characters\n",
            "Ended: remove_accented_characters\n",
            "Starting: remove_html_encodings\n",
            "Ended: remove_html_encodings\n",
            "Starting: remove_html_tags\n",
            "Ended: remove_html_tags\n",
            "Starting: remove_url\n",
            "Ended: remove_url\n",
            "Starting: fix_contractions\n",
            "Ended: fix_contractions\n",
            "Starting: remove_non_alpha_characters\n",
            "Ended: remove_non_alpha_characters\n",
            "Starting: remove_extra_spaces\n",
            "Ended: remove_extra_spaces\n"
          ]
        },
        {
          "data": {
            "text/plain": [
              "(   label                                          sentences\n",
              " 0      0   content license and intellectual property rights\n",
              " 1      0        reactivated skype credit is not refundable \n",
              " 2      1   spotify may change the price for the paid sub...\n",
              " 3      0   the term of your licenses under this eula sha...\n",
              " 4      0   the arbitrator may award declaratory or injun...,\n",
              "    label                                          sentences\n",
              " 0      0   uber reserves the right to withhold or deduct...\n",
              " 1      0   niantic s failure to enforce any right or pro...\n",
              " 2      0   14 3 if you feel that any member you interact...\n",
              " 3      0   blizzard entertainment has the right to obtai...\n",
              " 4      0   myfitnesspal does not lrb i rrb guarantee the...)"
            ]
          },
          "execution_count": 19,
          "metadata": {},
          "output_type": "execute_result"
        }
      ],
      "source": [
        "train_df = cleaning(train_df)\n",
        "test_df = cleaning(test_df)\n",
        "\n",
        "train_df.head(), test_df.head()"
      ]
    },
    {
      "cell_type": "markdown",
      "metadata": {
        "id": "sCcsbzgVB7Xb"
      },
      "source": [
        "### Using BERT Tokenizer and BERT Model to get Embeddings"
      ]
    },
    {
      "cell_type": "code",
      "execution_count": 20,
      "metadata": {
        "id": "fFop5h2J4FnU"
      },
      "outputs": [],
      "source": [
        "cls = \"[CLS]\"\n",
        "sep = \"[SEP]\"\n",
        "pad = \"[PAD]\"\n",
        "bert_pad_len = 512"
      ]
    },
    {
      "cell_type": "code",
      "execution_count": 27,
      "metadata": {
        "id": "ipO7FNbD3fnz"
      },
      "outputs": [],
      "source": [
        "import logging\n",
        "import torch\n",
        "import numpy as np\n",
        "import warnings\n",
        "from transformers import RobertaTokenizer, RobertaModel"
      ]
    },
    {
      "cell_type": "code",
      "execution_count": 28,
      "metadata": {
        "id": "3dwEs6Z44PS2"
      },
      "outputs": [],
      "source": [
        "device = torch.device(\"cuda\" if torch.cuda.is_available() else \"cpu\")\n"
      ]
    },
    {
      "cell_type": "markdown",
      "metadata": {
        "id": "l-47_yioCIYR"
      },
      "source": [
        "### Functions"
      ]
    },
    {
      "cell_type": "code",
      "execution_count": 29,
      "metadata": {
        "id": "GMfr4OCPyQLQ"
      },
      "outputs": [],
      "source": [
        "def create_tensors_ROBERTA(text):\n",
        "  \"\"\"\n",
        "    Tokenize using ROBERTA Tokenizer for the pd.Series\n",
        "  \"\"\"\n",
        "  print(\"Tokenizing text...\")\n",
        "  logging.basicConfig(level = logging.INFO)\n",
        "\n",
        "  # Load the `bert-base-uncased` model\n",
        "  tokenizer = RobertaTokenizer.from_pretrained(\"roberta-base\")\n",
        "\n",
        "  # Tokenize every sentence in the pd.Series\n",
        "  tokenized_text = [tokenizer.tokenize(x) for x in text]\n",
        "\n",
        "  # Pad the tokens to be used for BERT Model; BERT takes fixed lengend sequence\n",
        "  tokenized_text = [x + ([pad] * (bert_pad_len - len(x))) for x in tokenized_text]\n",
        "\n",
        "  # Convert the tokens to their IDs\n",
        "  indexed_text = [tokenizer.convert_tokens_to_ids(x) for x in tokenized_text]\n",
        "\n",
        "  # BERTModel has Q&A format, so setting the context to one for every sentence\n",
        "  segment_ids = [[1] * len(x) for x in tokenized_text]\n",
        "\n",
        "  # Convert to tensor\n",
        "  torch_idx_text = torch.LongTensor(indexed_text)\n",
        "  torch_seg_ids = torch.LongTensor(segment_ids)\n",
        "  \n",
        "  return tokenized_text, torch_idx_text, torch_seg_ids     "
      ]
    },
    {
      "cell_type": "code",
      "execution_count": 30,
      "metadata": {
        "id": "L9s9ud-G3WjQ"
      },
      "outputs": [],
      "source": [
        "#takes in the index and segment tensors and returns the bert embeddings as a list\n",
        "def get_embeddings(torch_idx_text, torch_seg_ids):\n",
        "    \"\"\"\n",
        "      Create RoBERTa embeddings from tokens\n",
        "    \"\"\"\n",
        "    print(\"Getting Embeddings...\")\n",
        "\n",
        "    # Load pretrained `roberta-base` model, and set to inference\n",
        "    model = RobertaModel.from_pretrained('roberta-base', output_hidden_states = True)\n",
        "    model.eval()\n",
        "\n",
        "    torch_idx_text, torch_seg_ids = torch_idx_text.to(\"cpu\"), torch_seg_ids.to(\"cpu\")\n",
        "    model.to(device)\n",
        "\n",
        "    # Disable gradient and get BERT embeddings\n",
        "    with torch.no_grad():\n",
        "        roberta_embeddings = []\n",
        "        for i in range(len(torch_idx_text)):\n",
        "            print(i, end = \"\\r\")\n",
        "            text_temp = torch.unsqueeze(torch_idx_text[i], dim = 0).to(device)\n",
        "            sgmt_temp = torch.unsqueeze(torch_seg_ids[i], dim = 0).to(device)\n",
        "            output = model(text_temp, sgmt_temp)\n",
        "            roberta_embeddings.append(output[0])\n",
        "            del text_temp, sgmt_temp\n",
        "    del model\n",
        "    return roberta_embeddings"
      ]
    },
    {
      "cell_type": "markdown",
      "metadata": {
        "id": "B7Gnd6OZCnAH"
      },
      "source": [
        "Note: As an additional improvement to reduce the dimentionality, we can aggregate expansions of words like - `running` -> \"run\", \"##ing\". This is an additional step is not mandatory and can be used when trying out the embeddings."
      ]
    },
    {
      "cell_type": "code",
      "execution_count": 31,
      "metadata": {
        "id": "c01j1jvn3Wgp"
      },
      "outputs": [],
      "source": [
        "def embeddings_to_words(tokenized_text, embeddings):\n",
        "    \"\"\"\n",
        "      Clubbing same word tokens to reduce dimensionality\n",
        "      Note: Need to run this locally and tweak virtual memory, as the colab\n",
        "      runtime crashes\n",
        "    \"\"\"\n",
        "    print(\"Untokenizing text and embeddings...\")\n",
        "    embeddings = [x.cpu().detach().numpy() for x in embeddings]\n",
        "    embeddings = np.concatenate(embeddings, axis = 0)\n",
        "    sentences = []\n",
        "    final_emb = []\n",
        "\n",
        "    # Iterate over every sentence\n",
        "    for i in range(len(tokenized_text)):\n",
        "        txt = tokenized_text[i]\n",
        "        sub_len = 0\n",
        "        sent = []\n",
        "        sub = []\n",
        "        emb = []\n",
        "        sub_emb = None\n",
        "        try:\n",
        "            idx = txt.index(pad)\n",
        "        except:\n",
        "            idx = len(txt)\n",
        "        for j in range(idx):\n",
        "            # For the token that starts with ## process it; remove ## and\n",
        "            # club that with previous token;\n",
        "            # For the embedding, take the average of token's embeddings\n",
        "            if txt[j].startswith(\"##\"):\n",
        "                if sub == []:\n",
        "                    sub.append(sent.pop())\n",
        "                    emb.pop()\n",
        "                    sub_emb = embeddings[i][j - 1] + embeddings[i][j]\n",
        "                    sub.append(txt[j][2:])\n",
        "                    sub_len = 2\n",
        "                else:\n",
        "                    sub.append(txt[j][2:])\n",
        "                    sub_emb += embeddings[i][j]\n",
        "                    sub_len += 1\n",
        "            else:\n",
        "                if sub != []:\n",
        "                    sent.append(\"\".join(sub))\n",
        "                    emb.append(sub_emb / sub_len)\n",
        "                    sub = []\n",
        "                    sub_emb = None\n",
        "                    sub_len = 0\n",
        "                sent.append(txt[j])\n",
        "                emb.append(embeddings[i][j])\n",
        "        sentences.append(sent)\n",
        "        final_emb.append(emb)\n",
        "    return sentences, final_emb"
      ]
    },
    {
      "cell_type": "markdown",
      "metadata": {
        "id": "qGfTWmkECMx_"
      },
      "source": [
        "### Tokenize and Create Embeddings"
      ]
    },
    {
      "cell_type": "code",
      "execution_count": 32,
      "metadata": {
        "colab": {
          "base_uri": "https://localhost:8080/",
          "height": 149,
          "referenced_widgets": [
            "fc77dcbf701847e585606868b6ef6229",
            "fa4e1fd670a242aa8311e8125326f695",
            "d48ab84f850b4bcc8099dec359ff67c9",
            "ec769fb2a2764752b1dba89fe0992ce9",
            "8025af1ad7f0495b98ada2c47f2a81bd",
            "43ab18b80e8e4d8c939144c732ab7a1e",
            "100154056bef4ac8a5d047a49da25d1e",
            "91d31f5970e14cf490ac6859836967ff",
            "9bef0f1d465b4ffc8c2b1e311807e330",
            "7680c62f1de84b42a8b6b946a9c13703",
            "0de066061c3e49a28a9451d8052226ed",
            "eb47e3798ba241248693494b05dfd484",
            "f2d953f4b0fa40699e7fb73c38b95b44",
            "811eabce77814bc09f3a8f30a1751105",
            "85717b06514a491f8e65012931ee617e",
            "87ed2880bbd84e0ba254d2423b81a0a7",
            "6d886be687ff445db2410afbbf0653b6",
            "0138adc27c8b49e29d12450a7133f7d2",
            "dff4397ce89345449183c6b47961a02b",
            "94ea66230cd84c5d8b3a87ed32664ebb",
            "73e649d9a3f44a26b1726bfe62d7ed75",
            "66db9e9e777345639efbbd774cbf1c95",
            "7e3b82d9a78d44729d14094a1903d84a",
            "b516d55d10054d4f89d02b45361172b4",
            "8f4f7cc9a8a84401865f02a98b542b1a",
            "6a897c474c5440f5acf128359d199c01",
            "534e0feb4c2c4a6c884ce8a624ee551d",
            "2fa3c71bf5ab4fc097614b83cf70faa2",
            "ecc221ff710a4982b5311fe257ee9345",
            "4cee2fd2ad6a4e2fad8a257c3b583b09",
            "ee7dca904fd44b2ca0bf3bd4ba5686e4",
            "d7605eda104046a1b7640eca686053c3",
            "d0f058b72b594dc1a17c36e7449c33d1"
          ]
        },
        "id": "Zvy7oRWW3WeT",
        "outputId": "c3d63253-19c1-47d0-fb4c-70e85b8d39af"
      },
      "outputs": [
        {
          "name": "stdout",
          "output_type": "stream",
          "text": [
            "Tokenizing text...\n"
          ]
        },
        {
          "data": {
            "application/json": {
              "ascii": false,
              "bar_format": null,
              "colour": null,
              "elapsed": 0.009701967239379883,
              "initial": 0,
              "n": 0,
              "ncols": null,
              "nrows": null,
              "postfix": null,
              "prefix": "Downloading",
              "rate": null,
              "total": 898823,
              "unit": "B",
              "unit_divisor": 1000,
              "unit_scale": true
            },
            "application/vnd.jupyter.widget-view+json": {
              "model_id": "e9293a32fc444392a4858033fdecb362",
              "version_major": 2,
              "version_minor": 0
            },
            "text/plain": [
              "Downloading:   0%|          | 0.00/899k [00:00<?, ?B/s]"
            ]
          },
          "metadata": {},
          "output_type": "display_data"
        },
        {
          "data": {
            "application/json": {
              "ascii": false,
              "bar_format": null,
              "colour": null,
              "elapsed": 0.0077021121978759766,
              "initial": 0,
              "n": 0,
              "ncols": null,
              "nrows": null,
              "postfix": null,
              "prefix": "Downloading",
              "rate": null,
              "total": 456318,
              "unit": "B",
              "unit_divisor": 1000,
              "unit_scale": true
            },
            "application/vnd.jupyter.widget-view+json": {
              "model_id": "8b71e2bd0cc84ed5bf9b6b1e5059a798",
              "version_major": 2,
              "version_minor": 0
            },
            "text/plain": [
              "Downloading:   0%|          | 0.00/456k [00:00<?, ?B/s]"
            ]
          },
          "metadata": {},
          "output_type": "display_data"
        },
        {
          "data": {
            "application/json": {
              "ascii": false,
              "bar_format": null,
              "colour": null,
              "elapsed": 0.0076751708984375,
              "initial": 0,
              "n": 0,
              "ncols": null,
              "nrows": null,
              "postfix": null,
              "prefix": "Downloading",
              "rate": null,
              "total": 481,
              "unit": "B",
              "unit_divisor": 1000,
              "unit_scale": true
            },
            "application/vnd.jupyter.widget-view+json": {
              "model_id": "6b8fecdd1e7345ea94c04fe79fe47200",
              "version_major": 2,
              "version_minor": 0
            },
            "text/plain": [
              "Downloading:   0%|          | 0.00/481 [00:00<?, ?B/s]"
            ]
          },
          "metadata": {},
          "output_type": "display_data"
        },
        {
          "name": "stdout",
          "output_type": "stream",
          "text": [
            "Tokenizing text...\n"
          ]
        }
      ],
      "source": [
        "train_tokenized_text, train_torch_idx_text, train_torch_seg_ids = create_tensors_ROBERTA(train_df.sentences)\n",
        "test_tokenized_text, test_torch_idx_text, test_torch_seg_ids = create_tensors_ROBERTA(test_df.sentences)"
      ]
    },
    {
      "cell_type": "code",
      "execution_count": 33,
      "metadata": {
        "colab": {
          "base_uri": "https://localhost:8080/",
          "height": 140,
          "referenced_widgets": [
            "24ea183104be4af3a65175f299d4097c",
            "f83c94ccea0d426c83b4a9f10d4556b4",
            "74c1e70038354949b73aeacc1b47dc3d",
            "74683248dc9f4da59ce2bda9f1ec32d1",
            "511a6f5a1c9044a3bbc8045630b542d8",
            "526ad1a3e0cf4810b8aa81b39c12db33",
            "f4a2ba9f99894604befb18dd9fbf6929",
            "0b77529e1ea140ad806127bfc5610b1a",
            "36e7a9fe17354e5b8c7b8f70d521c7b5",
            "650dd01d08d04c5dabb81c13c7fffee9",
            "c7c0aae7039a4f35b332a4fa1f521d41"
          ]
        },
        "id": "tD3blHxX3qVu",
        "outputId": "de245390-ed9e-473c-8516-0748a381f0f5"
      },
      "outputs": [
        {
          "name": "stdout",
          "output_type": "stream",
          "text": [
            "Getting Embeddings...\n"
          ]
        },
        {
          "data": {
            "application/json": {
              "ascii": false,
              "bar_format": null,
              "colour": null,
              "elapsed": 0.007902145385742188,
              "initial": 0,
              "n": 0,
              "ncols": null,
              "nrows": null,
              "postfix": null,
              "prefix": "Downloading",
              "rate": null,
              "total": 501200538,
              "unit": "B",
              "unit_divisor": 1000,
              "unit_scale": true
            },
            "application/vnd.jupyter.widget-view+json": {
              "model_id": "2152369c57ff421d8f595cce7a990035",
              "version_major": 2,
              "version_minor": 0
            },
            "text/plain": [
              "Downloading:   0%|          | 0.00/501M [00:00<?, ?B/s]"
            ]
          },
          "metadata": {},
          "output_type": "display_data"
        },
        {
          "name": "stderr",
          "output_type": "stream",
          "text": [
            "Some weights of the model checkpoint at roberta-base were not used when initializing RobertaModel: ['lm_head.dense.bias', 'lm_head.bias', 'lm_head.decoder.weight', 'lm_head.layer_norm.weight', 'lm_head.layer_norm.bias', 'lm_head.dense.weight']\n",
            "- This IS expected if you are initializing RobertaModel from the checkpoint of a model trained on another task or with another architecture (e.g. initializing a BertForSequenceClassification model from a BertForPreTraining model).\n",
            "- This IS NOT expected if you are initializing RobertaModel from the checkpoint of a model that you expect to be exactly identical (initializing a BertForSequenceClassification model from a BertForSequenceClassification model).\n"
          ]
        },
        {
          "name": "stdout",
          "output_type": "stream",
          "text": [
            "Getting Embeddings...\n"
          ]
        },
        {
          "name": "stderr",
          "output_type": "stream",
          "text": [
            "Some weights of the model checkpoint at roberta-base were not used when initializing RobertaModel: ['lm_head.dense.bias', 'lm_head.bias', 'lm_head.decoder.weight', 'lm_head.layer_norm.weight', 'lm_head.layer_norm.bias', 'lm_head.dense.weight']\n",
            "- This IS expected if you are initializing RobertaModel from the checkpoint of a model trained on another task or with another architecture (e.g. initializing a BertForSequenceClassification model from a BertForPreTraining model).\n",
            "- This IS NOT expected if you are initializing RobertaModel from the checkpoint of a model that you expect to be exactly identical (initializing a BertForSequenceClassification model from a BertForSequenceClassification model).\n"
          ]
        },
        {
          "name": "stdout",
          "output_type": "stream",
          "text": [
            "1882\r"
          ]
        }
      ],
      "source": [
        "train_roberta_embeddings = get_embeddings(train_torch_idx_text, train_torch_seg_ids)\n",
        "test_roberta_embeddings = get_embeddings(test_torch_idx_text, test_torch_seg_ids)\n"
      ]
    },
    {
      "cell_type": "markdown",
      "metadata": {
        "id": "9GdcKhLU-uLv"
      },
      "source": [
        "Most computationally time consuming part is to get embeddings"
      ]
    },
    {
      "cell_type": "markdown",
      "metadata": {
        "id": "acjPcuWNwOFD"
      },
      "source": [
        "Store the embeddings for using in other models."
      ]
    },
    {
      "cell_type": "code",
      "execution_count": 36,
      "metadata": {
        "id": "VsZpW7BS-tX5"
      },
      "outputs": [],
      "source": [
        "import pickle as pkl\n",
        "train_embeddings_file_path = \"./data/train_roberta_embeddings.pkl\"\n",
        "test_embeddings_file_path = \"./data/test_roberta_embeddings.pkl\"\n",
        "\n",
        "def save_embeddings(embeddings_file_path, embeddings, tokenized_text):\n",
        "  with open(embeddings_file_path, mode=\"wb\") as file:\n",
        "    pkl.dump({\"embeddings\": embeddings, \"tokenized_txt\": tokenized_text}, file, protocol=pkl.HIGHEST_PROTOCOL)"
      ]
    },
    {
      "cell_type": "code",
      "execution_count": 38,
      "metadata": {
        "id": "MObhBZzHzk0I"
      },
      "outputs": [],
      "source": [
        "save_embeddings(train_embeddings_file_path, train_roberta_embeddings, train_tokenized_text)\n",
        "save_embeddings(test_embeddings_file_path, test_roberta_embeddings, test_tokenized_text)"
      ]
    },
    {
      "cell_type": "code",
      "execution_count": null,
      "metadata": {
        "colab": {
          "base_uri": "https://localhost:8080/"
        },
        "id": "SSGxvazo3rj2",
        "outputId": "051045f5-8dc5-47bf-e678-16785bd8ed5d"
      },
      "outputs": [
        {
          "name": "stdout",
          "output_type": "stream",
          "text": [
            "Untokenizing text and embeddings...\n"
          ]
        }
      ],
      "source": [
        "# text, bert = embeddings_to_words(tokenized_text[:10], bert_embeddings[:10])\n"
      ]
    },
    {
      "cell_type": "code",
      "execution_count": 39,
      "metadata": {
        "id": "LILDKatJ8PDd"
      },
      "outputs": [
        {
          "data": {
            "text/plain": [
              "(7531, torch.Size([1, 512, 768]))"
            ]
          },
          "execution_count": 39,
          "metadata": {},
          "output_type": "execute_result"
        }
      ],
      "source": [
        "len(train_roberta_embeddings), train_roberta_embeddings[0].shape"
      ]
    },
    {
      "cell_type": "code",
      "execution_count": 44,
      "metadata": {},
      "outputs": [],
      "source": [
        "train_roberta_embeddings = torch.cat(train_roberta_embeddings)\n",
        "test_roberta_embeddings = torch.cat(test_roberta_embeddings)"
      ]
    },
    {
      "cell_type": "code",
      "execution_count": 46,
      "metadata": {},
      "outputs": [],
      "source": [
        "train_avg_embeddings = torch.sum(train_roberta_embeddings, dim=1) / 512\n",
        "test_avg_embeddings = torch.sum(test_roberta_embeddings, dim=1) / 512"
      ]
    },
    {
      "cell_type": "code",
      "execution_count": 47,
      "metadata": {},
      "outputs": [
        {
          "data": {
            "text/plain": [
              "(torch.Size([7531, 768]), torch.Size([1883, 768]))"
            ]
          },
          "execution_count": 47,
          "metadata": {},
          "output_type": "execute_result"
        }
      ],
      "source": [
        "train_avg_embeddings.shape, test_avg_embeddings.shape"
      ]
    },
    {
      "cell_type": "code",
      "execution_count": 48,
      "metadata": {},
      "outputs": [
        {
          "data": {
            "text/plain": [
              "numpy.ndarray"
            ]
          },
          "execution_count": 48,
          "metadata": {},
          "output_type": "execute_result"
        }
      ],
      "source": [
        "type(train_avg_embeddings.numpy()[0])"
      ]
    },
    {
      "cell_type": "code",
      "execution_count": 21,
      "metadata": {},
      "outputs": [],
      "source": [
        "train_avg_embeddings_file_path = \"./embeddings/train_roberta_avg_embeddings.pkl\"\n",
        "test_avg_embeddings_file_path = \"./embeddings/test_roberta_avg_embeddings.pkl\"\n"
      ]
    },
    {
      "cell_type": "code",
      "execution_count": 50,
      "metadata": {},
      "outputs": [],
      "source": [
        "with open(train_avg_embeddings_file_path, mode=\"wb\") as train_file, \\\n",
        "    open(test_avg_embeddings_file_path, mode=\"wb\") as test_file:\n",
        "    import pickle as pkl\n",
        "\n",
        "    pkl.dump(train_avg_embeddings.numpy(), train_file, protocol=pkl.HIGHEST_PROTOCOL)\n",
        "    pkl.dump(test_avg_embeddings.numpy(), test_file, protocol=pkl.HIGHEST_PROTOCOL)"
      ]
    },
    {
      "cell_type": "code",
      "execution_count": 22,
      "metadata": {},
      "outputs": [],
      "source": [
        "with open(train_avg_embeddings_file_path, mode=\"rb\") as train_file, \\\n",
        "    open(test_avg_embeddings_file_path, mode=\"rb\") as test_file:\n",
        "\n",
        "    import pickle as pkl\n",
        "\n",
        "    X_train = pkl.load(train_file)\n",
        "    y_train = train_df.label.to_list()\n",
        "\n",
        "    X_test = pkl.load(test_file)\n",
        "    y_test = test_df.label.to_list()"
      ]
    },
    {
      "cell_type": "markdown",
      "metadata": {},
      "source": [
        "### Simple SVM"
      ]
    },
    {
      "cell_type": "code",
      "execution_count": 35,
      "metadata": {},
      "outputs": [],
      "source": [
        "RANDOM_STATE = 42"
      ]
    },
    {
      "cell_type": "code",
      "execution_count": 36,
      "metadata": {
        "id": "qUi-RhsNwTth"
      },
      "outputs": [],
      "source": [
        "from sklearn.svm import SVC\n",
        "\n",
        "clf = SVC(gamma=\"auto\", class_weight=\"balanced\", random_state=RANDOM_STATE)\n"
      ]
    },
    {
      "cell_type": "code",
      "execution_count": 54,
      "metadata": {
        "id": "opEOy4DMxTfS"
      },
      "outputs": [
        {
          "data": {
            "text/html": [
              "<style>#sk-container-id-1 {color: black;background-color: white;}#sk-container-id-1 pre{padding: 0;}#sk-container-id-1 div.sk-toggleable {background-color: white;}#sk-container-id-1 label.sk-toggleable__label {cursor: pointer;display: block;width: 100%;margin-bottom: 0;padding: 0.3em;box-sizing: border-box;text-align: center;}#sk-container-id-1 label.sk-toggleable__label-arrow:before {content: \"▸\";float: left;margin-right: 0.25em;color: #696969;}#sk-container-id-1 label.sk-toggleable__label-arrow:hover:before {color: black;}#sk-container-id-1 div.sk-estimator:hover label.sk-toggleable__label-arrow:before {color: black;}#sk-container-id-1 div.sk-toggleable__content {max-height: 0;max-width: 0;overflow: hidden;text-align: left;background-color: #f0f8ff;}#sk-container-id-1 div.sk-toggleable__content pre {margin: 0.2em;color: black;border-radius: 0.25em;background-color: #f0f8ff;}#sk-container-id-1 input.sk-toggleable__control:checked~div.sk-toggleable__content {max-height: 200px;max-width: 100%;overflow: auto;}#sk-container-id-1 input.sk-toggleable__control:checked~label.sk-toggleable__label-arrow:before {content: \"▾\";}#sk-container-id-1 div.sk-estimator input.sk-toggleable__control:checked~label.sk-toggleable__label {background-color: #d4ebff;}#sk-container-id-1 div.sk-label input.sk-toggleable__control:checked~label.sk-toggleable__label {background-color: #d4ebff;}#sk-container-id-1 input.sk-hidden--visually {border: 0;clip: rect(1px 1px 1px 1px);clip: rect(1px, 1px, 1px, 1px);height: 1px;margin: -1px;overflow: hidden;padding: 0;position: absolute;width: 1px;}#sk-container-id-1 div.sk-estimator {font-family: monospace;background-color: #f0f8ff;border: 1px dotted black;border-radius: 0.25em;box-sizing: border-box;margin-bottom: 0.5em;}#sk-container-id-1 div.sk-estimator:hover {background-color: #d4ebff;}#sk-container-id-1 div.sk-parallel-item::after {content: \"\";width: 100%;border-bottom: 1px solid gray;flex-grow: 1;}#sk-container-id-1 div.sk-label:hover label.sk-toggleable__label {background-color: #d4ebff;}#sk-container-id-1 div.sk-serial::before {content: \"\";position: absolute;border-left: 1px solid gray;box-sizing: border-box;top: 0;bottom: 0;left: 50%;z-index: 0;}#sk-container-id-1 div.sk-serial {display: flex;flex-direction: column;align-items: center;background-color: white;padding-right: 0.2em;padding-left: 0.2em;position: relative;}#sk-container-id-1 div.sk-item {position: relative;z-index: 1;}#sk-container-id-1 div.sk-parallel {display: flex;align-items: stretch;justify-content: center;background-color: white;position: relative;}#sk-container-id-1 div.sk-item::before, #sk-container-id-1 div.sk-parallel-item::before {content: \"\";position: absolute;border-left: 1px solid gray;box-sizing: border-box;top: 0;bottom: 0;left: 50%;z-index: -1;}#sk-container-id-1 div.sk-parallel-item {display: flex;flex-direction: column;z-index: 1;position: relative;background-color: white;}#sk-container-id-1 div.sk-parallel-item:first-child::after {align-self: flex-end;width: 50%;}#sk-container-id-1 div.sk-parallel-item:last-child::after {align-self: flex-start;width: 50%;}#sk-container-id-1 div.sk-parallel-item:only-child::after {width: 0;}#sk-container-id-1 div.sk-dashed-wrapped {border: 1px dashed gray;margin: 0 0.4em 0.5em 0.4em;box-sizing: border-box;padding-bottom: 0.4em;background-color: white;}#sk-container-id-1 div.sk-label label {font-family: monospace;font-weight: bold;display: inline-block;line-height: 1.2em;}#sk-container-id-1 div.sk-label-container {text-align: center;}#sk-container-id-1 div.sk-container {/* jupyter's `normalize.less` sets `[hidden] { display: none; }` but bootstrap.min.css set `[hidden] { display: none !important; }` so we also need the `!important` here to be able to override the default hidden behavior on the sphinx rendered scikit-learn.org. See: https://github.com/scikit-learn/scikit-learn/issues/21755 */display: inline-block !important;position: relative;}#sk-container-id-1 div.sk-text-repr-fallback {display: none;}</style><div id=\"sk-container-id-1\" class=\"sk-top-container\"><div class=\"sk-text-repr-fallback\"><pre>SVC(class_weight=&#x27;balanced&#x27;, gamma=&#x27;auto&#x27;, random_state=42)</pre><b>In a Jupyter environment, please rerun this cell to show the HTML representation or trust the notebook. <br />On GitHub, the HTML representation is unable to render, please try loading this page with nbviewer.org.</b></div><div class=\"sk-container\" hidden><div class=\"sk-item\"><div class=\"sk-estimator sk-toggleable\"><input class=\"sk-toggleable__control sk-hidden--visually\" id=\"sk-estimator-id-1\" type=\"checkbox\" checked><label for=\"sk-estimator-id-1\" class=\"sk-toggleable__label sk-toggleable__label-arrow\">SVC</label><div class=\"sk-toggleable__content\"><pre>SVC(class_weight=&#x27;balanced&#x27;, gamma=&#x27;auto&#x27;, random_state=42)</pre></div></div></div></div></div>"
            ],
            "text/plain": [
              "SVC(class_weight='balanced', gamma='auto', random_state=42)"
            ]
          },
          "execution_count": 54,
          "metadata": {},
          "output_type": "execute_result"
        }
      ],
      "source": [
        "clf.fit(X_train, train_df.label)"
      ]
    },
    {
      "cell_type": "code",
      "execution_count": 55,
      "metadata": {
        "id": "LTy1jJfQxT38"
      },
      "outputs": [],
      "source": [
        "from sklearn.metrics import classification_report"
      ]
    },
    {
      "cell_type": "code",
      "execution_count": 56,
      "metadata": {},
      "outputs": [
        {
          "name": "stdout",
          "output_type": "stream",
          "text": [
            "              precision    recall  f1-score   support\n",
            "\n",
            "           0       0.94      0.63      0.75      6705\n",
            "           1       0.18      0.68      0.29       826\n",
            "\n",
            "    accuracy                           0.63      7531\n",
            "   macro avg       0.56      0.65      0.52      7531\n",
            "weighted avg       0.86      0.63      0.70      7531\n",
            "\n"
          ]
        }
      ],
      "source": [
        "print(classification_report(y_train, clf.predict(X_train)))"
      ]
    },
    {
      "cell_type": "code",
      "execution_count": 57,
      "metadata": {
        "id": "7DbwBYBiwTPP"
      },
      "outputs": [
        {
          "name": "stdout",
          "output_type": "stream",
          "text": [
            "              precision    recall  f1-score   support\n",
            "\n",
            "           0       0.94      0.63      0.75      1677\n",
            "           1       0.18      0.67      0.28       206\n",
            "\n",
            "    accuracy                           0.63      1883\n",
            "   macro avg       0.56      0.65      0.52      1883\n",
            "weighted avg       0.86      0.63      0.70      1883\n",
            "\n"
          ]
        }
      ],
      "source": [
        "print(classification_report(y_test, clf.predict(X_test)))"
      ]
    },
    {
      "cell_type": "markdown",
      "metadata": {},
      "source": [
        "### SVM with LeaveOneGroupOut"
      ]
    },
    {
      "cell_type": "code",
      "execution_count": 26,
      "metadata": {},
      "outputs": [
        {
          "name": "stderr",
          "output_type": "stream",
          "text": [
            "/Users/aditya/.pyenv/versions/3.10.6/envs/csci544/lib/python3.10/site-packages/pandas/util/_decorators.py:311: ParserWarning: Falling back to the 'python' engine because the 'c' engine does not support regex separators (separators > 1 char and different from '\\s+' are interpreted as regex); you can avoid this warning by specifying engine='python'.\n",
            "  return func(*args, **kwargs)\n"
          ]
        }
      ],
      "source": [
        "files = os.listdir(\"./data/Sentences/\")\n",
        "prefix_sentence = \"./data/Sentences/\"\n",
        "prefix_label = \"./data/Labels/\"\n",
        "\n",
        "clauses = []\n",
        "for file in files:\n",
        "    sentence_file_path = prefix_sentence + file \n",
        "    label_file_path = prefix_label + file\n",
        "    sentences_df = pd.read_csv(sentence_file_path, sep=\"dummy_separator\", header=None)\n",
        "    sentences_df.columns = [\"sentences\"]\n",
        "    label_df = pd.read_csv(label_file_path, sep=\" \", header=None)\n",
        "    label_df.columns = [\"label\"]\n",
        "    label_df[\"label_converted\"] = np.where(label_df[\"label\"] == -1, 0, 1)\n",
        "    sentences_df[\"document\"] = file\n",
        "    df_concat = pd.concat([label_df[\"label_converted\"], sentences_df], axis=1)\n",
        "    clauses.append(df_concat)"
      ]
    },
    {
      "cell_type": "code",
      "execution_count": 27,
      "metadata": {},
      "outputs": [],
      "source": [
        "colnames = [\"sentences\", \"label_converted\", \"document\"]\n",
        "clauses_df = pd.DataFrame(columns = colnames)\n",
        "for df in clauses:\n",
        "    clauses_df = clauses_df.append(df)"
      ]
    },
    {
      "cell_type": "code",
      "execution_count": 28,
      "metadata": {},
      "outputs": [],
      "source": [
        "clauses_df.rename(columns={'label_converted': 'label', 'sentences': 'sentences', 'document' : 'document'}, inplace=True)\n"
      ]
    },
    {
      "cell_type": "code",
      "execution_count": 29,
      "metadata": {},
      "outputs": [
        {
          "data": {
            "text/html": [
              "<div>\n",
              "<style scoped>\n",
              "    .dataframe tbody tr th:only-of-type {\n",
              "        vertical-align: middle;\n",
              "    }\n",
              "\n",
              "    .dataframe tbody tr th {\n",
              "        vertical-align: top;\n",
              "    }\n",
              "\n",
              "    .dataframe thead th {\n",
              "        text-align: right;\n",
              "    }\n",
              "</style>\n",
              "<table border=\"1\" class=\"dataframe\">\n",
              "  <thead>\n",
              "    <tr style=\"text-align: right;\">\n",
              "      <th></th>\n",
              "      <th>sentences</th>\n",
              "      <th>label</th>\n",
              "      <th>document</th>\n",
              "    </tr>\n",
              "  </thead>\n",
              "  <tbody>\n",
              "    <tr>\n",
              "      <th>0</th>\n",
              "      <td>thanks for sending us good vibes by using the ...</td>\n",
              "      <td>0</td>\n",
              "      <td>Viber.txt</td>\n",
              "    </tr>\n",
              "    <tr>\n",
              "      <th>1</th>\n",
              "      <td>you may be surprised , but we will refer to al...</td>\n",
              "      <td>0</td>\n",
              "      <td>Viber.txt</td>\n",
              "    </tr>\n",
              "    <tr>\n",
              "      <th>2</th>\n",
              "      <td>the terms of use -lrb- or , the `` terms '' -r...</td>\n",
              "      <td>0</td>\n",
              "      <td>Viber.txt</td>\n",
              "    </tr>\n",
              "    <tr>\n",
              "      <th>3</th>\n",
              "      <td>the language of the terms will seem legal -lrb...</td>\n",
              "      <td>0</td>\n",
              "      <td>Viber.txt</td>\n",
              "    </tr>\n",
              "    <tr>\n",
              "      <th>4</th>\n",
              "      <td>when you use our services , in addition to enj...</td>\n",
              "      <td>1</td>\n",
              "      <td>Viber.txt</td>\n",
              "    </tr>\n",
              "  </tbody>\n",
              "</table>\n",
              "</div>"
            ],
            "text/plain": [
              "                                           sentences label   document\n",
              "0  thanks for sending us good vibes by using the ...     0  Viber.txt\n",
              "1  you may be surprised , but we will refer to al...     0  Viber.txt\n",
              "2  the terms of use -lrb- or , the `` terms '' -r...     0  Viber.txt\n",
              "3  the language of the terms will seem legal -lrb...     0  Viber.txt\n",
              "4  when you use our services , in addition to enj...     1  Viber.txt"
            ]
          },
          "execution_count": 29,
          "metadata": {},
          "output_type": "execute_result"
        }
      ],
      "source": [
        "clauses_df.head()"
      ]
    },
    {
      "cell_type": "code",
      "execution_count": 30,
      "metadata": {},
      "outputs": [],
      "source": [
        "from sklearn.model_selection import LeaveOneGroupOut\n",
        "from sklearn.model_selection import GridSearchCV, cross_val_score\n"
      ]
    },
    {
      "cell_type": "code",
      "execution_count": 31,
      "metadata": {},
      "outputs": [
        {
          "data": {
            "text/plain": [
              "50"
            ]
          },
          "execution_count": 31,
          "metadata": {},
          "output_type": "execute_result"
        }
      ],
      "source": [
        "logo = LeaveOneGroupOut()\n",
        "\n",
        "X = np.concatenate([X_train, X_test])\n",
        "y = np.array(y_train + y_test)\n",
        "group = clauses_df[\"document\"]\n",
        "\n",
        "logo.get_n_splits(X, y, group)\n"
      ]
    },
    {
      "cell_type": "code",
      "execution_count": 32,
      "metadata": {},
      "outputs": [
        {
          "data": {
            "text/plain": [
              "array([[ 0.20115653,  0.19506606, -0.17185788, ...,  0.13769725,\n",
              "        -0.05337823,  0.03994849],\n",
              "       [ 0.11321874,  0.1895015 , -0.15294266, ..., -0.00742536,\n",
              "        -0.09807333, -0.01897632],\n",
              "       [ 0.17579886,  0.15692976, -0.18851504, ...,  0.1078179 ,\n",
              "        -0.07142051, -0.1317076 ]], dtype=float32)"
            ]
          },
          "execution_count": 32,
          "metadata": {},
          "output_type": "execute_result"
        }
      ],
      "source": [
        "X[np.array([1, 2, 3])]"
      ]
    },
    {
      "cell_type": "code",
      "execution_count": 33,
      "metadata": {},
      "outputs": [
        {
          "data": {
            "text/plain": [
              "(9414,)"
            ]
          },
          "execution_count": 33,
          "metadata": {},
          "output_type": "execute_result"
        }
      ],
      "source": [
        "y.shape"
      ]
    },
    {
      "cell_type": "code",
      "execution_count": 37,
      "metadata": {},
      "outputs": [
        {
          "name": "stdout",
          "output_type": "stream",
          "text": [
            "0.43131544275709033\n",
            "0.47779162739792663\n",
            "0.4716216216216217\n",
            "0.5279865722834416\n",
            "0.53125\n",
            "0.4649621212121212\n",
            "0.5139114934511353\n",
            "0.5027154663518301\n",
            "0.5369670804101457\n",
            "0.44597069597069594\n",
            "0.49139419927342026\n",
            "0.507313029760154\n",
            "0.5449329873592497\n",
            "0.5575757575757576\n",
            "0.5413292589763178\n",
            "0.5272331154684096\n",
            "0.5283283283283282\n",
            "0.5091418385536033\n",
            "0.5216359918200408\n",
            "0.4911258729347641\n",
            "0.4068517516046709\n",
            "0.5325337837837838\n",
            "0.5568181818181817\n",
            "0.5057471264367817\n",
            "0.5231907723308898\n",
            "0.5327981801876682\n",
            "0.4857571214392804\n",
            "0.5609046126287505\n",
            "0.5254901960784314\n",
            "0.4930014718062698\n",
            "0.522203947368421\n",
            "0.5359942979330008\n",
            "0.5345270440811842\n",
            "0.5430555555555556\n",
            "0.5818181818181818\n",
            "0.4887329931972789\n",
            "0.44376327043272823\n",
            "0.5017942583732057\n",
            "0.5803066989507667\n",
            "0.546791569086651\n",
            "0.5250930560903606\n",
            "0.5377031468059245\n",
            "0.5761489070052666\n",
            "0.5103264490339774\n",
            "0.49831862126944093\n",
            "0.5537634408602151\n",
            "0.506218487394958\n",
            "0.5148185148185148\n",
            "0.4899738448125545\n",
            "0.5323877596604869\n"
          ]
        }
      ],
      "source": [
        "scores = []\n",
        "\n",
        "for train_idx, test_idx in logo.split(X, y, group):\n",
        "    X_train, y_train = X[train_idx], y[train_idx].astype(np.int8)\n",
        "    X_test, y_test = X[test_idx], y[test_idx].astype(np.int8)\n",
        "    train_groups = clauses_df.iloc[train_idx][\"document\"]\n",
        "\n",
        "    svm = SVC(gamma=\"auto\", class_weight=\"balanced\", random_state=RANDOM_STATE)\n",
        "    clf = GridSearchCV(estimator=svm, param_grid={}, n_jobs=-1, scoring = 'f1_macro', refit = True)\n",
        "    clf.fit(X_train, y_train, groups = train_groups)\n",
        "    score = clf.score(X_test, y_test)\n",
        "    scores.append(score)\n",
        "    print(score)\n",
        "\n",
        "average_test_f1_score = sum(scores)/len(scores)"
      ]
    },
    {
      "cell_type": "code",
      "execution_count": 38,
      "metadata": {},
      "outputs": [
        {
          "name": "stdout",
          "output_type": "stream",
          "text": [
            "Average F1 score from Leave one out document : 0.5154267148833886\n"
          ]
        }
      ],
      "source": [
        "print(f\"Average F1 score from Leave one out document : {average_test_f1_score}\")"
      ]
    },
    {
      "cell_type": "code",
      "execution_count": null,
      "metadata": {},
      "outputs": [],
      "source": []
    }
  ],
  "metadata": {
    "accelerator": "GPU",
    "colab": {
      "collapsed_sections": [],
      "provenance": []
    },
    "gpuClass": "standard",
    "kernelspec": {
      "display_name": "Python 3.10.6 64-bit ('csci544')",
      "language": "python",
      "name": "python3"
    },
    "language_info": {
      "codemirror_mode": {
        "name": "ipython",
        "version": 3
      },
      "file_extension": ".py",
      "mimetype": "text/x-python",
      "name": "python",
      "nbconvert_exporter": "python",
      "pygments_lexer": "ipython3",
      "version": "3.10.6"
    },
    "vscode": {
      "interpreter": {
        "hash": "e78917e7f90f3892e7e12462ef46781cf5994bd706032ea53be00d0b1f29dcb9"
      }
    },
    "widgets": {
      "application/vnd.jupyter.widget-state+json": {
        "0138adc27c8b49e29d12450a7133f7d2": {
          "model_module": "@jupyter-widgets/controls",
          "model_module_version": "1.5.0",
          "model_name": "DescriptionStyleModel",
          "state": {
            "_model_module": "@jupyter-widgets/controls",
            "_model_module_version": "1.5.0",
            "_model_name": "DescriptionStyleModel",
            "_view_count": null,
            "_view_module": "@jupyter-widgets/base",
            "_view_module_version": "1.2.0",
            "_view_name": "StyleView",
            "description_width": ""
          }
        },
        "0b77529e1ea140ad806127bfc5610b1a": {
          "model_module": "@jupyter-widgets/base",
          "model_module_version": "1.2.0",
          "model_name": "LayoutModel",
          "state": {
            "_model_module": "@jupyter-widgets/base",
            "_model_module_version": "1.2.0",
            "_model_name": "LayoutModel",
            "_view_count": null,
            "_view_module": "@jupyter-widgets/base",
            "_view_module_version": "1.2.0",
            "_view_name": "LayoutView",
            "align_content": null,
            "align_items": null,
            "align_self": null,
            "border": null,
            "bottom": null,
            "display": null,
            "flex": null,
            "flex_flow": null,
            "grid_area": null,
            "grid_auto_columns": null,
            "grid_auto_flow": null,
            "grid_auto_rows": null,
            "grid_column": null,
            "grid_gap": null,
            "grid_row": null,
            "grid_template_areas": null,
            "grid_template_columns": null,
            "grid_template_rows": null,
            "height": null,
            "justify_content": null,
            "justify_items": null,
            "left": null,
            "margin": null,
            "max_height": null,
            "max_width": null,
            "min_height": null,
            "min_width": null,
            "object_fit": null,
            "object_position": null,
            "order": null,
            "overflow": null,
            "overflow_x": null,
            "overflow_y": null,
            "padding": null,
            "right": null,
            "top": null,
            "visibility": null,
            "width": null
          }
        },
        "0de066061c3e49a28a9451d8052226ed": {
          "model_module": "@jupyter-widgets/controls",
          "model_module_version": "1.5.0",
          "model_name": "DescriptionStyleModel",
          "state": {
            "_model_module": "@jupyter-widgets/controls",
            "_model_module_version": "1.5.0",
            "_model_name": "DescriptionStyleModel",
            "_view_count": null,
            "_view_module": "@jupyter-widgets/base",
            "_view_module_version": "1.2.0",
            "_view_name": "StyleView",
            "description_width": ""
          }
        },
        "100154056bef4ac8a5d047a49da25d1e": {
          "model_module": "@jupyter-widgets/controls",
          "model_module_version": "1.5.0",
          "model_name": "DescriptionStyleModel",
          "state": {
            "_model_module": "@jupyter-widgets/controls",
            "_model_module_version": "1.5.0",
            "_model_name": "DescriptionStyleModel",
            "_view_count": null,
            "_view_module": "@jupyter-widgets/base",
            "_view_module_version": "1.2.0",
            "_view_name": "StyleView",
            "description_width": ""
          }
        },
        "24ea183104be4af3a65175f299d4097c": {
          "model_module": "@jupyter-widgets/controls",
          "model_module_version": "1.5.0",
          "model_name": "HBoxModel",
          "state": {
            "_dom_classes": [],
            "_model_module": "@jupyter-widgets/controls",
            "_model_module_version": "1.5.0",
            "_model_name": "HBoxModel",
            "_view_count": null,
            "_view_module": "@jupyter-widgets/controls",
            "_view_module_version": "1.5.0",
            "_view_name": "HBoxView",
            "box_style": "",
            "children": [
              "IPY_MODEL_f83c94ccea0d426c83b4a9f10d4556b4",
              "IPY_MODEL_74c1e70038354949b73aeacc1b47dc3d",
              "IPY_MODEL_74683248dc9f4da59ce2bda9f1ec32d1"
            ],
            "layout": "IPY_MODEL_511a6f5a1c9044a3bbc8045630b542d8"
          }
        },
        "2fa3c71bf5ab4fc097614b83cf70faa2": {
          "model_module": "@jupyter-widgets/base",
          "model_module_version": "1.2.0",
          "model_name": "LayoutModel",
          "state": {
            "_model_module": "@jupyter-widgets/base",
            "_model_module_version": "1.2.0",
            "_model_name": "LayoutModel",
            "_view_count": null,
            "_view_module": "@jupyter-widgets/base",
            "_view_module_version": "1.2.0",
            "_view_name": "LayoutView",
            "align_content": null,
            "align_items": null,
            "align_self": null,
            "border": null,
            "bottom": null,
            "display": null,
            "flex": null,
            "flex_flow": null,
            "grid_area": null,
            "grid_auto_columns": null,
            "grid_auto_flow": null,
            "grid_auto_rows": null,
            "grid_column": null,
            "grid_gap": null,
            "grid_row": null,
            "grid_template_areas": null,
            "grid_template_columns": null,
            "grid_template_rows": null,
            "height": null,
            "justify_content": null,
            "justify_items": null,
            "left": null,
            "margin": null,
            "max_height": null,
            "max_width": null,
            "min_height": null,
            "min_width": null,
            "object_fit": null,
            "object_position": null,
            "order": null,
            "overflow": null,
            "overflow_x": null,
            "overflow_y": null,
            "padding": null,
            "right": null,
            "top": null,
            "visibility": null,
            "width": null
          }
        },
        "36e7a9fe17354e5b8c7b8f70d521c7b5": {
          "model_module": "@jupyter-widgets/controls",
          "model_module_version": "1.5.0",
          "model_name": "ProgressStyleModel",
          "state": {
            "_model_module": "@jupyter-widgets/controls",
            "_model_module_version": "1.5.0",
            "_model_name": "ProgressStyleModel",
            "_view_count": null,
            "_view_module": "@jupyter-widgets/base",
            "_view_module_version": "1.2.0",
            "_view_name": "StyleView",
            "bar_color": null,
            "description_width": ""
          }
        },
        "43ab18b80e8e4d8c939144c732ab7a1e": {
          "model_module": "@jupyter-widgets/base",
          "model_module_version": "1.2.0",
          "model_name": "LayoutModel",
          "state": {
            "_model_module": "@jupyter-widgets/base",
            "_model_module_version": "1.2.0",
            "_model_name": "LayoutModel",
            "_view_count": null,
            "_view_module": "@jupyter-widgets/base",
            "_view_module_version": "1.2.0",
            "_view_name": "LayoutView",
            "align_content": null,
            "align_items": null,
            "align_self": null,
            "border": null,
            "bottom": null,
            "display": null,
            "flex": null,
            "flex_flow": null,
            "grid_area": null,
            "grid_auto_columns": null,
            "grid_auto_flow": null,
            "grid_auto_rows": null,
            "grid_column": null,
            "grid_gap": null,
            "grid_row": null,
            "grid_template_areas": null,
            "grid_template_columns": null,
            "grid_template_rows": null,
            "height": null,
            "justify_content": null,
            "justify_items": null,
            "left": null,
            "margin": null,
            "max_height": null,
            "max_width": null,
            "min_height": null,
            "min_width": null,
            "object_fit": null,
            "object_position": null,
            "order": null,
            "overflow": null,
            "overflow_x": null,
            "overflow_y": null,
            "padding": null,
            "right": null,
            "top": null,
            "visibility": null,
            "width": null
          }
        },
        "4cee2fd2ad6a4e2fad8a257c3b583b09": {
          "model_module": "@jupyter-widgets/base",
          "model_module_version": "1.2.0",
          "model_name": "LayoutModel",
          "state": {
            "_model_module": "@jupyter-widgets/base",
            "_model_module_version": "1.2.0",
            "_model_name": "LayoutModel",
            "_view_count": null,
            "_view_module": "@jupyter-widgets/base",
            "_view_module_version": "1.2.0",
            "_view_name": "LayoutView",
            "align_content": null,
            "align_items": null,
            "align_self": null,
            "border": null,
            "bottom": null,
            "display": null,
            "flex": null,
            "flex_flow": null,
            "grid_area": null,
            "grid_auto_columns": null,
            "grid_auto_flow": null,
            "grid_auto_rows": null,
            "grid_column": null,
            "grid_gap": null,
            "grid_row": null,
            "grid_template_areas": null,
            "grid_template_columns": null,
            "grid_template_rows": null,
            "height": null,
            "justify_content": null,
            "justify_items": null,
            "left": null,
            "margin": null,
            "max_height": null,
            "max_width": null,
            "min_height": null,
            "min_width": null,
            "object_fit": null,
            "object_position": null,
            "order": null,
            "overflow": null,
            "overflow_x": null,
            "overflow_y": null,
            "padding": null,
            "right": null,
            "top": null,
            "visibility": null,
            "width": null
          }
        },
        "511a6f5a1c9044a3bbc8045630b542d8": {
          "model_module": "@jupyter-widgets/base",
          "model_module_version": "1.2.0",
          "model_name": "LayoutModel",
          "state": {
            "_model_module": "@jupyter-widgets/base",
            "_model_module_version": "1.2.0",
            "_model_name": "LayoutModel",
            "_view_count": null,
            "_view_module": "@jupyter-widgets/base",
            "_view_module_version": "1.2.0",
            "_view_name": "LayoutView",
            "align_content": null,
            "align_items": null,
            "align_self": null,
            "border": null,
            "bottom": null,
            "display": null,
            "flex": null,
            "flex_flow": null,
            "grid_area": null,
            "grid_auto_columns": null,
            "grid_auto_flow": null,
            "grid_auto_rows": null,
            "grid_column": null,
            "grid_gap": null,
            "grid_row": null,
            "grid_template_areas": null,
            "grid_template_columns": null,
            "grid_template_rows": null,
            "height": null,
            "justify_content": null,
            "justify_items": null,
            "left": null,
            "margin": null,
            "max_height": null,
            "max_width": null,
            "min_height": null,
            "min_width": null,
            "object_fit": null,
            "object_position": null,
            "order": null,
            "overflow": null,
            "overflow_x": null,
            "overflow_y": null,
            "padding": null,
            "right": null,
            "top": null,
            "visibility": null,
            "width": null
          }
        },
        "526ad1a3e0cf4810b8aa81b39c12db33": {
          "model_module": "@jupyter-widgets/base",
          "model_module_version": "1.2.0",
          "model_name": "LayoutModel",
          "state": {
            "_model_module": "@jupyter-widgets/base",
            "_model_module_version": "1.2.0",
            "_model_name": "LayoutModel",
            "_view_count": null,
            "_view_module": "@jupyter-widgets/base",
            "_view_module_version": "1.2.0",
            "_view_name": "LayoutView",
            "align_content": null,
            "align_items": null,
            "align_self": null,
            "border": null,
            "bottom": null,
            "display": null,
            "flex": null,
            "flex_flow": null,
            "grid_area": null,
            "grid_auto_columns": null,
            "grid_auto_flow": null,
            "grid_auto_rows": null,
            "grid_column": null,
            "grid_gap": null,
            "grid_row": null,
            "grid_template_areas": null,
            "grid_template_columns": null,
            "grid_template_rows": null,
            "height": null,
            "justify_content": null,
            "justify_items": null,
            "left": null,
            "margin": null,
            "max_height": null,
            "max_width": null,
            "min_height": null,
            "min_width": null,
            "object_fit": null,
            "object_position": null,
            "order": null,
            "overflow": null,
            "overflow_x": null,
            "overflow_y": null,
            "padding": null,
            "right": null,
            "top": null,
            "visibility": null,
            "width": null
          }
        },
        "534e0feb4c2c4a6c884ce8a624ee551d": {
          "model_module": "@jupyter-widgets/base",
          "model_module_version": "1.2.0",
          "model_name": "LayoutModel",
          "state": {
            "_model_module": "@jupyter-widgets/base",
            "_model_module_version": "1.2.0",
            "_model_name": "LayoutModel",
            "_view_count": null,
            "_view_module": "@jupyter-widgets/base",
            "_view_module_version": "1.2.0",
            "_view_name": "LayoutView",
            "align_content": null,
            "align_items": null,
            "align_self": null,
            "border": null,
            "bottom": null,
            "display": null,
            "flex": null,
            "flex_flow": null,
            "grid_area": null,
            "grid_auto_columns": null,
            "grid_auto_flow": null,
            "grid_auto_rows": null,
            "grid_column": null,
            "grid_gap": null,
            "grid_row": null,
            "grid_template_areas": null,
            "grid_template_columns": null,
            "grid_template_rows": null,
            "height": null,
            "justify_content": null,
            "justify_items": null,
            "left": null,
            "margin": null,
            "max_height": null,
            "max_width": null,
            "min_height": null,
            "min_width": null,
            "object_fit": null,
            "object_position": null,
            "order": null,
            "overflow": null,
            "overflow_x": null,
            "overflow_y": null,
            "padding": null,
            "right": null,
            "top": null,
            "visibility": null,
            "width": null
          }
        },
        "650dd01d08d04c5dabb81c13c7fffee9": {
          "model_module": "@jupyter-widgets/base",
          "model_module_version": "1.2.0",
          "model_name": "LayoutModel",
          "state": {
            "_model_module": "@jupyter-widgets/base",
            "_model_module_version": "1.2.0",
            "_model_name": "LayoutModel",
            "_view_count": null,
            "_view_module": "@jupyter-widgets/base",
            "_view_module_version": "1.2.0",
            "_view_name": "LayoutView",
            "align_content": null,
            "align_items": null,
            "align_self": null,
            "border": null,
            "bottom": null,
            "display": null,
            "flex": null,
            "flex_flow": null,
            "grid_area": null,
            "grid_auto_columns": null,
            "grid_auto_flow": null,
            "grid_auto_rows": null,
            "grid_column": null,
            "grid_gap": null,
            "grid_row": null,
            "grid_template_areas": null,
            "grid_template_columns": null,
            "grid_template_rows": null,
            "height": null,
            "justify_content": null,
            "justify_items": null,
            "left": null,
            "margin": null,
            "max_height": null,
            "max_width": null,
            "min_height": null,
            "min_width": null,
            "object_fit": null,
            "object_position": null,
            "order": null,
            "overflow": null,
            "overflow_x": null,
            "overflow_y": null,
            "padding": null,
            "right": null,
            "top": null,
            "visibility": null,
            "width": null
          }
        },
        "66db9e9e777345639efbbd774cbf1c95": {
          "model_module": "@jupyter-widgets/controls",
          "model_module_version": "1.5.0",
          "model_name": "DescriptionStyleModel",
          "state": {
            "_model_module": "@jupyter-widgets/controls",
            "_model_module_version": "1.5.0",
            "_model_name": "DescriptionStyleModel",
            "_view_count": null,
            "_view_module": "@jupyter-widgets/base",
            "_view_module_version": "1.2.0",
            "_view_name": "StyleView",
            "description_width": ""
          }
        },
        "6a897c474c5440f5acf128359d199c01": {
          "model_module": "@jupyter-widgets/controls",
          "model_module_version": "1.5.0",
          "model_name": "HTMLModel",
          "state": {
            "_dom_classes": [],
            "_model_module": "@jupyter-widgets/controls",
            "_model_module_version": "1.5.0",
            "_model_name": "HTMLModel",
            "_view_count": null,
            "_view_module": "@jupyter-widgets/controls",
            "_view_module_version": "1.5.0",
            "_view_name": "HTMLView",
            "description": "",
            "description_tooltip": null,
            "layout": "IPY_MODEL_d7605eda104046a1b7640eca686053c3",
            "placeholder": "​",
            "style": "IPY_MODEL_d0f058b72b594dc1a17c36e7449c33d1",
            "value": " 570/570 [00:00&lt;00:00, 18.4kB/s]"
          }
        },
        "6d886be687ff445db2410afbbf0653b6": {
          "model_module": "@jupyter-widgets/base",
          "model_module_version": "1.2.0",
          "model_name": "LayoutModel",
          "state": {
            "_model_module": "@jupyter-widgets/base",
            "_model_module_version": "1.2.0",
            "_model_name": "LayoutModel",
            "_view_count": null,
            "_view_module": "@jupyter-widgets/base",
            "_view_module_version": "1.2.0",
            "_view_name": "LayoutView",
            "align_content": null,
            "align_items": null,
            "align_self": null,
            "border": null,
            "bottom": null,
            "display": null,
            "flex": null,
            "flex_flow": null,
            "grid_area": null,
            "grid_auto_columns": null,
            "grid_auto_flow": null,
            "grid_auto_rows": null,
            "grid_column": null,
            "grid_gap": null,
            "grid_row": null,
            "grid_template_areas": null,
            "grid_template_columns": null,
            "grid_template_rows": null,
            "height": null,
            "justify_content": null,
            "justify_items": null,
            "left": null,
            "margin": null,
            "max_height": null,
            "max_width": null,
            "min_height": null,
            "min_width": null,
            "object_fit": null,
            "object_position": null,
            "order": null,
            "overflow": null,
            "overflow_x": null,
            "overflow_y": null,
            "padding": null,
            "right": null,
            "top": null,
            "visibility": null,
            "width": null
          }
        },
        "73e649d9a3f44a26b1726bfe62d7ed75": {
          "model_module": "@jupyter-widgets/base",
          "model_module_version": "1.2.0",
          "model_name": "LayoutModel",
          "state": {
            "_model_module": "@jupyter-widgets/base",
            "_model_module_version": "1.2.0",
            "_model_name": "LayoutModel",
            "_view_count": null,
            "_view_module": "@jupyter-widgets/base",
            "_view_module_version": "1.2.0",
            "_view_name": "LayoutView",
            "align_content": null,
            "align_items": null,
            "align_self": null,
            "border": null,
            "bottom": null,
            "display": null,
            "flex": null,
            "flex_flow": null,
            "grid_area": null,
            "grid_auto_columns": null,
            "grid_auto_flow": null,
            "grid_auto_rows": null,
            "grid_column": null,
            "grid_gap": null,
            "grid_row": null,
            "grid_template_areas": null,
            "grid_template_columns": null,
            "grid_template_rows": null,
            "height": null,
            "justify_content": null,
            "justify_items": null,
            "left": null,
            "margin": null,
            "max_height": null,
            "max_width": null,
            "min_height": null,
            "min_width": null,
            "object_fit": null,
            "object_position": null,
            "order": null,
            "overflow": null,
            "overflow_x": null,
            "overflow_y": null,
            "padding": null,
            "right": null,
            "top": null,
            "visibility": null,
            "width": null
          }
        },
        "74683248dc9f4da59ce2bda9f1ec32d1": {
          "model_module": "@jupyter-widgets/controls",
          "model_module_version": "1.5.0",
          "model_name": "HTMLModel",
          "state": {
            "_dom_classes": [],
            "_model_module": "@jupyter-widgets/controls",
            "_model_module_version": "1.5.0",
            "_model_name": "HTMLModel",
            "_view_count": null,
            "_view_module": "@jupyter-widgets/controls",
            "_view_module_version": "1.5.0",
            "_view_name": "HTMLView",
            "description": "",
            "description_tooltip": null,
            "layout": "IPY_MODEL_650dd01d08d04c5dabb81c13c7fffee9",
            "placeholder": "​",
            "style": "IPY_MODEL_c7c0aae7039a4f35b332a4fa1f521d41",
            "value": " 440M/440M [00:11&lt;00:00, 32.0MB/s]"
          }
        },
        "74c1e70038354949b73aeacc1b47dc3d": {
          "model_module": "@jupyter-widgets/controls",
          "model_module_version": "1.5.0",
          "model_name": "FloatProgressModel",
          "state": {
            "_dom_classes": [],
            "_model_module": "@jupyter-widgets/controls",
            "_model_module_version": "1.5.0",
            "_model_name": "FloatProgressModel",
            "_view_count": null,
            "_view_module": "@jupyter-widgets/controls",
            "_view_module_version": "1.5.0",
            "_view_name": "ProgressView",
            "bar_style": "success",
            "description": "",
            "description_tooltip": null,
            "layout": "IPY_MODEL_0b77529e1ea140ad806127bfc5610b1a",
            "max": 440473133,
            "min": 0,
            "orientation": "horizontal",
            "style": "IPY_MODEL_36e7a9fe17354e5b8c7b8f70d521c7b5",
            "value": 440473133
          }
        },
        "7680c62f1de84b42a8b6b946a9c13703": {
          "model_module": "@jupyter-widgets/base",
          "model_module_version": "1.2.0",
          "model_name": "LayoutModel",
          "state": {
            "_model_module": "@jupyter-widgets/base",
            "_model_module_version": "1.2.0",
            "_model_name": "LayoutModel",
            "_view_count": null,
            "_view_module": "@jupyter-widgets/base",
            "_view_module_version": "1.2.0",
            "_view_name": "LayoutView",
            "align_content": null,
            "align_items": null,
            "align_self": null,
            "border": null,
            "bottom": null,
            "display": null,
            "flex": null,
            "flex_flow": null,
            "grid_area": null,
            "grid_auto_columns": null,
            "grid_auto_flow": null,
            "grid_auto_rows": null,
            "grid_column": null,
            "grid_gap": null,
            "grid_row": null,
            "grid_template_areas": null,
            "grid_template_columns": null,
            "grid_template_rows": null,
            "height": null,
            "justify_content": null,
            "justify_items": null,
            "left": null,
            "margin": null,
            "max_height": null,
            "max_width": null,
            "min_height": null,
            "min_width": null,
            "object_fit": null,
            "object_position": null,
            "order": null,
            "overflow": null,
            "overflow_x": null,
            "overflow_y": null,
            "padding": null,
            "right": null,
            "top": null,
            "visibility": null,
            "width": null
          }
        },
        "7e3b82d9a78d44729d14094a1903d84a": {
          "model_module": "@jupyter-widgets/controls",
          "model_module_version": "1.5.0",
          "model_name": "HBoxModel",
          "state": {
            "_dom_classes": [],
            "_model_module": "@jupyter-widgets/controls",
            "_model_module_version": "1.5.0",
            "_model_name": "HBoxModel",
            "_view_count": null,
            "_view_module": "@jupyter-widgets/controls",
            "_view_module_version": "1.5.0",
            "_view_name": "HBoxView",
            "box_style": "",
            "children": [
              "IPY_MODEL_b516d55d10054d4f89d02b45361172b4",
              "IPY_MODEL_8f4f7cc9a8a84401865f02a98b542b1a",
              "IPY_MODEL_6a897c474c5440f5acf128359d199c01"
            ],
            "layout": "IPY_MODEL_534e0feb4c2c4a6c884ce8a624ee551d"
          }
        },
        "8025af1ad7f0495b98ada2c47f2a81bd": {
          "model_module": "@jupyter-widgets/base",
          "model_module_version": "1.2.0",
          "model_name": "LayoutModel",
          "state": {
            "_model_module": "@jupyter-widgets/base",
            "_model_module_version": "1.2.0",
            "_model_name": "LayoutModel",
            "_view_count": null,
            "_view_module": "@jupyter-widgets/base",
            "_view_module_version": "1.2.0",
            "_view_name": "LayoutView",
            "align_content": null,
            "align_items": null,
            "align_self": null,
            "border": null,
            "bottom": null,
            "display": null,
            "flex": null,
            "flex_flow": null,
            "grid_area": null,
            "grid_auto_columns": null,
            "grid_auto_flow": null,
            "grid_auto_rows": null,
            "grid_column": null,
            "grid_gap": null,
            "grid_row": null,
            "grid_template_areas": null,
            "grid_template_columns": null,
            "grid_template_rows": null,
            "height": null,
            "justify_content": null,
            "justify_items": null,
            "left": null,
            "margin": null,
            "max_height": null,
            "max_width": null,
            "min_height": null,
            "min_width": null,
            "object_fit": null,
            "object_position": null,
            "order": null,
            "overflow": null,
            "overflow_x": null,
            "overflow_y": null,
            "padding": null,
            "right": null,
            "top": null,
            "visibility": null,
            "width": null
          }
        },
        "811eabce77814bc09f3a8f30a1751105": {
          "model_module": "@jupyter-widgets/controls",
          "model_module_version": "1.5.0",
          "model_name": "FloatProgressModel",
          "state": {
            "_dom_classes": [],
            "_model_module": "@jupyter-widgets/controls",
            "_model_module_version": "1.5.0",
            "_model_name": "FloatProgressModel",
            "_view_count": null,
            "_view_module": "@jupyter-widgets/controls",
            "_view_module_version": "1.5.0",
            "_view_name": "ProgressView",
            "bar_style": "success",
            "description": "",
            "description_tooltip": null,
            "layout": "IPY_MODEL_dff4397ce89345449183c6b47961a02b",
            "max": 28,
            "min": 0,
            "orientation": "horizontal",
            "style": "IPY_MODEL_94ea66230cd84c5d8b3a87ed32664ebb",
            "value": 28
          }
        },
        "85717b06514a491f8e65012931ee617e": {
          "model_module": "@jupyter-widgets/controls",
          "model_module_version": "1.5.0",
          "model_name": "HTMLModel",
          "state": {
            "_dom_classes": [],
            "_model_module": "@jupyter-widgets/controls",
            "_model_module_version": "1.5.0",
            "_model_name": "HTMLModel",
            "_view_count": null,
            "_view_module": "@jupyter-widgets/controls",
            "_view_module_version": "1.5.0",
            "_view_name": "HTMLView",
            "description": "",
            "description_tooltip": null,
            "layout": "IPY_MODEL_73e649d9a3f44a26b1726bfe62d7ed75",
            "placeholder": "​",
            "style": "IPY_MODEL_66db9e9e777345639efbbd774cbf1c95",
            "value": " 28.0/28.0 [00:00&lt;00:00, 905B/s]"
          }
        },
        "87ed2880bbd84e0ba254d2423b81a0a7": {
          "model_module": "@jupyter-widgets/base",
          "model_module_version": "1.2.0",
          "model_name": "LayoutModel",
          "state": {
            "_model_module": "@jupyter-widgets/base",
            "_model_module_version": "1.2.0",
            "_model_name": "LayoutModel",
            "_view_count": null,
            "_view_module": "@jupyter-widgets/base",
            "_view_module_version": "1.2.0",
            "_view_name": "LayoutView",
            "align_content": null,
            "align_items": null,
            "align_self": null,
            "border": null,
            "bottom": null,
            "display": null,
            "flex": null,
            "flex_flow": null,
            "grid_area": null,
            "grid_auto_columns": null,
            "grid_auto_flow": null,
            "grid_auto_rows": null,
            "grid_column": null,
            "grid_gap": null,
            "grid_row": null,
            "grid_template_areas": null,
            "grid_template_columns": null,
            "grid_template_rows": null,
            "height": null,
            "justify_content": null,
            "justify_items": null,
            "left": null,
            "margin": null,
            "max_height": null,
            "max_width": null,
            "min_height": null,
            "min_width": null,
            "object_fit": null,
            "object_position": null,
            "order": null,
            "overflow": null,
            "overflow_x": null,
            "overflow_y": null,
            "padding": null,
            "right": null,
            "top": null,
            "visibility": null,
            "width": null
          }
        },
        "8f4f7cc9a8a84401865f02a98b542b1a": {
          "model_module": "@jupyter-widgets/controls",
          "model_module_version": "1.5.0",
          "model_name": "FloatProgressModel",
          "state": {
            "_dom_classes": [],
            "_model_module": "@jupyter-widgets/controls",
            "_model_module_version": "1.5.0",
            "_model_name": "FloatProgressModel",
            "_view_count": null,
            "_view_module": "@jupyter-widgets/controls",
            "_view_module_version": "1.5.0",
            "_view_name": "ProgressView",
            "bar_style": "success",
            "description": "",
            "description_tooltip": null,
            "layout": "IPY_MODEL_4cee2fd2ad6a4e2fad8a257c3b583b09",
            "max": 570,
            "min": 0,
            "orientation": "horizontal",
            "style": "IPY_MODEL_ee7dca904fd44b2ca0bf3bd4ba5686e4",
            "value": 570
          }
        },
        "91d31f5970e14cf490ac6859836967ff": {
          "model_module": "@jupyter-widgets/base",
          "model_module_version": "1.2.0",
          "model_name": "LayoutModel",
          "state": {
            "_model_module": "@jupyter-widgets/base",
            "_model_module_version": "1.2.0",
            "_model_name": "LayoutModel",
            "_view_count": null,
            "_view_module": "@jupyter-widgets/base",
            "_view_module_version": "1.2.0",
            "_view_name": "LayoutView",
            "align_content": null,
            "align_items": null,
            "align_self": null,
            "border": null,
            "bottom": null,
            "display": null,
            "flex": null,
            "flex_flow": null,
            "grid_area": null,
            "grid_auto_columns": null,
            "grid_auto_flow": null,
            "grid_auto_rows": null,
            "grid_column": null,
            "grid_gap": null,
            "grid_row": null,
            "grid_template_areas": null,
            "grid_template_columns": null,
            "grid_template_rows": null,
            "height": null,
            "justify_content": null,
            "justify_items": null,
            "left": null,
            "margin": null,
            "max_height": null,
            "max_width": null,
            "min_height": null,
            "min_width": null,
            "object_fit": null,
            "object_position": null,
            "order": null,
            "overflow": null,
            "overflow_x": null,
            "overflow_y": null,
            "padding": null,
            "right": null,
            "top": null,
            "visibility": null,
            "width": null
          }
        },
        "94ea66230cd84c5d8b3a87ed32664ebb": {
          "model_module": "@jupyter-widgets/controls",
          "model_module_version": "1.5.0",
          "model_name": "ProgressStyleModel",
          "state": {
            "_model_module": "@jupyter-widgets/controls",
            "_model_module_version": "1.5.0",
            "_model_name": "ProgressStyleModel",
            "_view_count": null,
            "_view_module": "@jupyter-widgets/base",
            "_view_module_version": "1.2.0",
            "_view_name": "StyleView",
            "bar_color": null,
            "description_width": ""
          }
        },
        "9bef0f1d465b4ffc8c2b1e311807e330": {
          "model_module": "@jupyter-widgets/controls",
          "model_module_version": "1.5.0",
          "model_name": "ProgressStyleModel",
          "state": {
            "_model_module": "@jupyter-widgets/controls",
            "_model_module_version": "1.5.0",
            "_model_name": "ProgressStyleModel",
            "_view_count": null,
            "_view_module": "@jupyter-widgets/base",
            "_view_module_version": "1.2.0",
            "_view_name": "StyleView",
            "bar_color": null,
            "description_width": ""
          }
        },
        "b516d55d10054d4f89d02b45361172b4": {
          "model_module": "@jupyter-widgets/controls",
          "model_module_version": "1.5.0",
          "model_name": "HTMLModel",
          "state": {
            "_dom_classes": [],
            "_model_module": "@jupyter-widgets/controls",
            "_model_module_version": "1.5.0",
            "_model_name": "HTMLModel",
            "_view_count": null,
            "_view_module": "@jupyter-widgets/controls",
            "_view_module_version": "1.5.0",
            "_view_name": "HTMLView",
            "description": "",
            "description_tooltip": null,
            "layout": "IPY_MODEL_2fa3c71bf5ab4fc097614b83cf70faa2",
            "placeholder": "​",
            "style": "IPY_MODEL_ecc221ff710a4982b5311fe257ee9345",
            "value": "Downloading: 100%"
          }
        },
        "c7c0aae7039a4f35b332a4fa1f521d41": {
          "model_module": "@jupyter-widgets/controls",
          "model_module_version": "1.5.0",
          "model_name": "DescriptionStyleModel",
          "state": {
            "_model_module": "@jupyter-widgets/controls",
            "_model_module_version": "1.5.0",
            "_model_name": "DescriptionStyleModel",
            "_view_count": null,
            "_view_module": "@jupyter-widgets/base",
            "_view_module_version": "1.2.0",
            "_view_name": "StyleView",
            "description_width": ""
          }
        },
        "d0f058b72b594dc1a17c36e7449c33d1": {
          "model_module": "@jupyter-widgets/controls",
          "model_module_version": "1.5.0",
          "model_name": "DescriptionStyleModel",
          "state": {
            "_model_module": "@jupyter-widgets/controls",
            "_model_module_version": "1.5.0",
            "_model_name": "DescriptionStyleModel",
            "_view_count": null,
            "_view_module": "@jupyter-widgets/base",
            "_view_module_version": "1.2.0",
            "_view_name": "StyleView",
            "description_width": ""
          }
        },
        "d48ab84f850b4bcc8099dec359ff67c9": {
          "model_module": "@jupyter-widgets/controls",
          "model_module_version": "1.5.0",
          "model_name": "FloatProgressModel",
          "state": {
            "_dom_classes": [],
            "_model_module": "@jupyter-widgets/controls",
            "_model_module_version": "1.5.0",
            "_model_name": "FloatProgressModel",
            "_view_count": null,
            "_view_module": "@jupyter-widgets/controls",
            "_view_module_version": "1.5.0",
            "_view_name": "ProgressView",
            "bar_style": "success",
            "description": "",
            "description_tooltip": null,
            "layout": "IPY_MODEL_91d31f5970e14cf490ac6859836967ff",
            "max": 231508,
            "min": 0,
            "orientation": "horizontal",
            "style": "IPY_MODEL_9bef0f1d465b4ffc8c2b1e311807e330",
            "value": 231508
          }
        },
        "d7605eda104046a1b7640eca686053c3": {
          "model_module": "@jupyter-widgets/base",
          "model_module_version": "1.2.0",
          "model_name": "LayoutModel",
          "state": {
            "_model_module": "@jupyter-widgets/base",
            "_model_module_version": "1.2.0",
            "_model_name": "LayoutModel",
            "_view_count": null,
            "_view_module": "@jupyter-widgets/base",
            "_view_module_version": "1.2.0",
            "_view_name": "LayoutView",
            "align_content": null,
            "align_items": null,
            "align_self": null,
            "border": null,
            "bottom": null,
            "display": null,
            "flex": null,
            "flex_flow": null,
            "grid_area": null,
            "grid_auto_columns": null,
            "grid_auto_flow": null,
            "grid_auto_rows": null,
            "grid_column": null,
            "grid_gap": null,
            "grid_row": null,
            "grid_template_areas": null,
            "grid_template_columns": null,
            "grid_template_rows": null,
            "height": null,
            "justify_content": null,
            "justify_items": null,
            "left": null,
            "margin": null,
            "max_height": null,
            "max_width": null,
            "min_height": null,
            "min_width": null,
            "object_fit": null,
            "object_position": null,
            "order": null,
            "overflow": null,
            "overflow_x": null,
            "overflow_y": null,
            "padding": null,
            "right": null,
            "top": null,
            "visibility": null,
            "width": null
          }
        },
        "dff4397ce89345449183c6b47961a02b": {
          "model_module": "@jupyter-widgets/base",
          "model_module_version": "1.2.0",
          "model_name": "LayoutModel",
          "state": {
            "_model_module": "@jupyter-widgets/base",
            "_model_module_version": "1.2.0",
            "_model_name": "LayoutModel",
            "_view_count": null,
            "_view_module": "@jupyter-widgets/base",
            "_view_module_version": "1.2.0",
            "_view_name": "LayoutView",
            "align_content": null,
            "align_items": null,
            "align_self": null,
            "border": null,
            "bottom": null,
            "display": null,
            "flex": null,
            "flex_flow": null,
            "grid_area": null,
            "grid_auto_columns": null,
            "grid_auto_flow": null,
            "grid_auto_rows": null,
            "grid_column": null,
            "grid_gap": null,
            "grid_row": null,
            "grid_template_areas": null,
            "grid_template_columns": null,
            "grid_template_rows": null,
            "height": null,
            "justify_content": null,
            "justify_items": null,
            "left": null,
            "margin": null,
            "max_height": null,
            "max_width": null,
            "min_height": null,
            "min_width": null,
            "object_fit": null,
            "object_position": null,
            "order": null,
            "overflow": null,
            "overflow_x": null,
            "overflow_y": null,
            "padding": null,
            "right": null,
            "top": null,
            "visibility": null,
            "width": null
          }
        },
        "eb47e3798ba241248693494b05dfd484": {
          "model_module": "@jupyter-widgets/controls",
          "model_module_version": "1.5.0",
          "model_name": "HBoxModel",
          "state": {
            "_dom_classes": [],
            "_model_module": "@jupyter-widgets/controls",
            "_model_module_version": "1.5.0",
            "_model_name": "HBoxModel",
            "_view_count": null,
            "_view_module": "@jupyter-widgets/controls",
            "_view_module_version": "1.5.0",
            "_view_name": "HBoxView",
            "box_style": "",
            "children": [
              "IPY_MODEL_f2d953f4b0fa40699e7fb73c38b95b44",
              "IPY_MODEL_811eabce77814bc09f3a8f30a1751105",
              "IPY_MODEL_85717b06514a491f8e65012931ee617e"
            ],
            "layout": "IPY_MODEL_87ed2880bbd84e0ba254d2423b81a0a7"
          }
        },
        "ec769fb2a2764752b1dba89fe0992ce9": {
          "model_module": "@jupyter-widgets/controls",
          "model_module_version": "1.5.0",
          "model_name": "HTMLModel",
          "state": {
            "_dom_classes": [],
            "_model_module": "@jupyter-widgets/controls",
            "_model_module_version": "1.5.0",
            "_model_name": "HTMLModel",
            "_view_count": null,
            "_view_module": "@jupyter-widgets/controls",
            "_view_module_version": "1.5.0",
            "_view_name": "HTMLView",
            "description": "",
            "description_tooltip": null,
            "layout": "IPY_MODEL_7680c62f1de84b42a8b6b946a9c13703",
            "placeholder": "​",
            "style": "IPY_MODEL_0de066061c3e49a28a9451d8052226ed",
            "value": " 232k/232k [00:00&lt;00:00, 602kB/s]"
          }
        },
        "ecc221ff710a4982b5311fe257ee9345": {
          "model_module": "@jupyter-widgets/controls",
          "model_module_version": "1.5.0",
          "model_name": "DescriptionStyleModel",
          "state": {
            "_model_module": "@jupyter-widgets/controls",
            "_model_module_version": "1.5.0",
            "_model_name": "DescriptionStyleModel",
            "_view_count": null,
            "_view_module": "@jupyter-widgets/base",
            "_view_module_version": "1.2.0",
            "_view_name": "StyleView",
            "description_width": ""
          }
        },
        "ee7dca904fd44b2ca0bf3bd4ba5686e4": {
          "model_module": "@jupyter-widgets/controls",
          "model_module_version": "1.5.0",
          "model_name": "ProgressStyleModel",
          "state": {
            "_model_module": "@jupyter-widgets/controls",
            "_model_module_version": "1.5.0",
            "_model_name": "ProgressStyleModel",
            "_view_count": null,
            "_view_module": "@jupyter-widgets/base",
            "_view_module_version": "1.2.0",
            "_view_name": "StyleView",
            "bar_color": null,
            "description_width": ""
          }
        },
        "f2d953f4b0fa40699e7fb73c38b95b44": {
          "model_module": "@jupyter-widgets/controls",
          "model_module_version": "1.5.0",
          "model_name": "HTMLModel",
          "state": {
            "_dom_classes": [],
            "_model_module": "@jupyter-widgets/controls",
            "_model_module_version": "1.5.0",
            "_model_name": "HTMLModel",
            "_view_count": null,
            "_view_module": "@jupyter-widgets/controls",
            "_view_module_version": "1.5.0",
            "_view_name": "HTMLView",
            "description": "",
            "description_tooltip": null,
            "layout": "IPY_MODEL_6d886be687ff445db2410afbbf0653b6",
            "placeholder": "​",
            "style": "IPY_MODEL_0138adc27c8b49e29d12450a7133f7d2",
            "value": "Downloading: 100%"
          }
        },
        "f4a2ba9f99894604befb18dd9fbf6929": {
          "model_module": "@jupyter-widgets/controls",
          "model_module_version": "1.5.0",
          "model_name": "DescriptionStyleModel",
          "state": {
            "_model_module": "@jupyter-widgets/controls",
            "_model_module_version": "1.5.0",
            "_model_name": "DescriptionStyleModel",
            "_view_count": null,
            "_view_module": "@jupyter-widgets/base",
            "_view_module_version": "1.2.0",
            "_view_name": "StyleView",
            "description_width": ""
          }
        },
        "f83c94ccea0d426c83b4a9f10d4556b4": {
          "model_module": "@jupyter-widgets/controls",
          "model_module_version": "1.5.0",
          "model_name": "HTMLModel",
          "state": {
            "_dom_classes": [],
            "_model_module": "@jupyter-widgets/controls",
            "_model_module_version": "1.5.0",
            "_model_name": "HTMLModel",
            "_view_count": null,
            "_view_module": "@jupyter-widgets/controls",
            "_view_module_version": "1.5.0",
            "_view_name": "HTMLView",
            "description": "",
            "description_tooltip": null,
            "layout": "IPY_MODEL_526ad1a3e0cf4810b8aa81b39c12db33",
            "placeholder": "​",
            "style": "IPY_MODEL_f4a2ba9f99894604befb18dd9fbf6929",
            "value": "Downloading: 100%"
          }
        },
        "fa4e1fd670a242aa8311e8125326f695": {
          "model_module": "@jupyter-widgets/controls",
          "model_module_version": "1.5.0",
          "model_name": "HTMLModel",
          "state": {
            "_dom_classes": [],
            "_model_module": "@jupyter-widgets/controls",
            "_model_module_version": "1.5.0",
            "_model_name": "HTMLModel",
            "_view_count": null,
            "_view_module": "@jupyter-widgets/controls",
            "_view_module_version": "1.5.0",
            "_view_name": "HTMLView",
            "description": "",
            "description_tooltip": null,
            "layout": "IPY_MODEL_43ab18b80e8e4d8c939144c732ab7a1e",
            "placeholder": "​",
            "style": "IPY_MODEL_100154056bef4ac8a5d047a49da25d1e",
            "value": "Downloading: 100%"
          }
        },
        "fc77dcbf701847e585606868b6ef6229": {
          "model_module": "@jupyter-widgets/controls",
          "model_module_version": "1.5.0",
          "model_name": "HBoxModel",
          "state": {
            "_dom_classes": [],
            "_model_module": "@jupyter-widgets/controls",
            "_model_module_version": "1.5.0",
            "_model_name": "HBoxModel",
            "_view_count": null,
            "_view_module": "@jupyter-widgets/controls",
            "_view_module_version": "1.5.0",
            "_view_name": "HBoxView",
            "box_style": "",
            "children": [
              "IPY_MODEL_fa4e1fd670a242aa8311e8125326f695",
              "IPY_MODEL_d48ab84f850b4bcc8099dec359ff67c9",
              "IPY_MODEL_ec769fb2a2764752b1dba89fe0992ce9"
            ],
            "layout": "IPY_MODEL_8025af1ad7f0495b98ada2c47f2a81bd"
          }
        }
      }
    }
  },
  "nbformat": 4,
  "nbformat_minor": 0
}
