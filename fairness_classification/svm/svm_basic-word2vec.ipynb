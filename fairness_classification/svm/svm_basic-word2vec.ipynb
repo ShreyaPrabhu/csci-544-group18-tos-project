{
 "cells": [
  {
   "cell_type": "markdown",
   "id": "5974ce39",
   "metadata": {},
   "source": [
    "### Basic SVM with Train and Test split (80% - 20%)"
   ]
  },
  {
   "cell_type": "code",
   "execution_count": 1,
   "id": "11b9c5a9",
   "metadata": {},
   "outputs": [],
   "source": [
    "import nltk\n",
    "import ssl\n",
    "\n",
    "try:\n",
    "    _create_unverified_https_context = ssl._create_unverified_context\n",
    "except AttributeError:\n",
    "    pass\n",
    "else:\n",
    "    ssl._create_default_https_context = _create_unverified_https_context\n",
    "nltk.download('wordnet', quiet=True)\n",
    "nltk.download('punkt', quiet=True)\n",
    "nltk.download('omw-1.4', quiet=True)\n",
    "import pandas as pd\n",
    "import numpy as np\n",
    "import re\n",
    "import string\n",
    "import os\n",
    "from nltk.stem import WordNetLemmatizer\n",
    "from sklearn.svm import LinearSVC\n",
    "from sklearn.metrics import classification_report\n",
    "from sklearn.model_selection import train_test_split\n",
    "from sklearn.feature_extraction.text import TfidfVectorizer\n",
    "from sklearn.model_selection import LeaveOneGroupOut\n",
    "from sklearn.model_selection import GridSearchCV, cross_val_score\n",
    "import nltk\n",
    "from nltk.corpus import stopwords\n",
    "import warnings\n",
    "warnings.filterwarnings(\"ignore\")"
   ]
  },
  {
   "cell_type": "code",
   "execution_count": 2,
   "id": "fc2ca414",
   "metadata": {},
   "outputs": [],
   "source": [
    "files = os.listdir(\"./data/Sentences/\")\n",
    "prefix_sentence = \"./data/Sentences/\"\n",
    "prefix_label = \"./data/Labels/\"\n",
    "\n",
    "# -1 --> 0 and 1 --> 1\n",
    "clauses = []\n",
    "for file in files:\n",
    "    sentence_file_path = prefix_sentence + file \n",
    "    label_file_path = prefix_label + file\n",
    "    sentences_df = pd.read_csv(sentence_file_path, sep=\"dummy_separator\", header=None)\n",
    "    sentences_df.columns = [\"sentences\"]\n",
    "    label_df = pd.read_csv(label_file_path, sep=\" \", header=None)\n",
    "    label_df.columns = [\"label\"]\n",
    "    label_df[\"label_converted\"] = np.where(label_df[\"label\"] == -1, 0, 1)\n",
    "    sentences_df[\"document\"] = file\n",
    "    df_concat = pd.concat([label_df[\"label_converted\"], sentences_df], axis=1)\n",
    "    clauses.append(df_concat)"
   ]
  },
  {
   "cell_type": "code",
   "execution_count": 3,
   "id": "3d57dd96",
   "metadata": {},
   "outputs": [],
   "source": [
    "colnames = [\"sentences\", \"label_converted\", \"document\"]\n",
    "clauses_df = pd.DataFrame(columns = colnames)\n",
    "for df in clauses:\n",
    "    clauses_df = clauses_df.append(df)"
   ]
  },
  {
   "cell_type": "code",
   "execution_count": 4,
   "id": "7b4223e8",
   "metadata": {},
   "outputs": [],
   "source": [
    "clauses_df.rename(columns={'label_converted': 'label', 'sentences': 'sentences', 'document' : 'document'}, inplace=True)"
   ]
  },
  {
   "cell_type": "code",
   "execution_count": 5,
   "id": "a21a859c",
   "metadata": {},
   "outputs": [
    {
     "data": {
      "text/html": [
       "<div>\n",
       "<style scoped>\n",
       "    .dataframe tbody tr th:only-of-type {\n",
       "        vertical-align: middle;\n",
       "    }\n",
       "\n",
       "    .dataframe tbody tr th {\n",
       "        vertical-align: top;\n",
       "    }\n",
       "\n",
       "    .dataframe thead th {\n",
       "        text-align: right;\n",
       "    }\n",
       "</style>\n",
       "<table border=\"1\" class=\"dataframe\">\n",
       "  <thead>\n",
       "    <tr style=\"text-align: right;\">\n",
       "      <th></th>\n",
       "      <th>sentences</th>\n",
       "      <th>label</th>\n",
       "      <th>document</th>\n",
       "    </tr>\n",
       "  </thead>\n",
       "  <tbody>\n",
       "    <tr>\n",
       "      <th>0</th>\n",
       "      <td>thanks for sending us good vibes by using the ...</td>\n",
       "      <td>0</td>\n",
       "      <td>Viber.txt</td>\n",
       "    </tr>\n",
       "    <tr>\n",
       "      <th>1</th>\n",
       "      <td>you may be surprised , but we will refer to al...</td>\n",
       "      <td>0</td>\n",
       "      <td>Viber.txt</td>\n",
       "    </tr>\n",
       "    <tr>\n",
       "      <th>2</th>\n",
       "      <td>the terms of use -lrb- or , the `` terms '' -r...</td>\n",
       "      <td>0</td>\n",
       "      <td>Viber.txt</td>\n",
       "    </tr>\n",
       "    <tr>\n",
       "      <th>3</th>\n",
       "      <td>the language of the terms will seem legal -lrb...</td>\n",
       "      <td>0</td>\n",
       "      <td>Viber.txt</td>\n",
       "    </tr>\n",
       "    <tr>\n",
       "      <th>4</th>\n",
       "      <td>when you use our services , in addition to enj...</td>\n",
       "      <td>1</td>\n",
       "      <td>Viber.txt</td>\n",
       "    </tr>\n",
       "    <tr>\n",
       "      <th>...</th>\n",
       "      <td>...</td>\n",
       "      <td>...</td>\n",
       "      <td>...</td>\n",
       "    </tr>\n",
       "    <tr>\n",
       "      <th>142</th>\n",
       "      <td>the failure of onavo to enforce any right or p...</td>\n",
       "      <td>0</td>\n",
       "      <td>Onavo.txt</td>\n",
       "    </tr>\n",
       "    <tr>\n",
       "      <th>143</th>\n",
       "      <td>the section headings in the agreement are incl...</td>\n",
       "      <td>0</td>\n",
       "      <td>Onavo.txt</td>\n",
       "    </tr>\n",
       "    <tr>\n",
       "      <th>144</th>\n",
       "      <td>`` including '' , whether capitalized or not ,...</td>\n",
       "      <td>0</td>\n",
       "      <td>Onavo.txt</td>\n",
       "    </tr>\n",
       "    <tr>\n",
       "      <th>145</th>\n",
       "      <td>this agreement may not be assigned by you with...</td>\n",
       "      <td>0</td>\n",
       "      <td>Onavo.txt</td>\n",
       "    </tr>\n",
       "    <tr>\n",
       "      <th>146</th>\n",
       "      <td>last updated : december 20 , 2013</td>\n",
       "      <td>0</td>\n",
       "      <td>Onavo.txt</td>\n",
       "    </tr>\n",
       "  </tbody>\n",
       "</table>\n",
       "<p>9414 rows × 3 columns</p>\n",
       "</div>"
      ],
      "text/plain": [
       "                                             sentences label   document\n",
       "0    thanks for sending us good vibes by using the ...     0  Viber.txt\n",
       "1    you may be surprised , but we will refer to al...     0  Viber.txt\n",
       "2    the terms of use -lrb- or , the `` terms '' -r...     0  Viber.txt\n",
       "3    the language of the terms will seem legal -lrb...     0  Viber.txt\n",
       "4    when you use our services , in addition to enj...     1  Viber.txt\n",
       "..                                                 ...   ...        ...\n",
       "142  the failure of onavo to enforce any right or p...     0  Onavo.txt\n",
       "143  the section headings in the agreement are incl...     0  Onavo.txt\n",
       "144  `` including '' , whether capitalized or not ,...     0  Onavo.txt\n",
       "145  this agreement may not be assigned by you with...     0  Onavo.txt\n",
       "146                  last updated : december 20 , 2013     0  Onavo.txt\n",
       "\n",
       "[9414 rows x 3 columns]"
      ]
     },
     "execution_count": 5,
     "metadata": {},
     "output_type": "execute_result"
    }
   ],
   "source": [
    "clauses_df"
   ]
  },
  {
   "cell_type": "code",
   "execution_count": 6,
   "id": "31ed0d76",
   "metadata": {},
   "outputs": [],
   "source": [
    "assert (clauses_df.isnull().sum().all() == 0)"
   ]
  },
  {
   "cell_type": "code",
   "execution_count": 7,
   "id": "d69b4b4c",
   "metadata": {},
   "outputs": [
    {
     "data": {
      "text/plain": [
       "array(['Viber.txt', 'Nintendo.txt', 'Tinder.txt', 'Dropbox.txt',\n",
       "       'Microsoft.txt', 'Betterpoints_UK.txt', 'Airbnb.txt',\n",
       "       'musically.txt', 'Crowdtangle.txt', 'TripAdvisor.txt',\n",
       "       'Deliveroo.txt', 'Moves-app.txt', 'Spotify.txt', 'Supercell.txt',\n",
       "       '9gag.txt', 'Booking.txt', 'Headspace.txt', 'Fitbit.txt',\n",
       "       'Syncme.txt', 'Vimeo.txt', 'Oculus.txt', 'Endomondo.txt',\n",
       "       'Instagram.txt', 'LindenLab.txt', 'WorldOfWarcraft.txt',\n",
       "       'YouTube.txt', 'Academia.txt', 'Yahoo.txt', 'WhatsApp.txt',\n",
       "       'Google.txt', 'Zynga.txt', 'Facebook.txt', 'Amazon.txt',\n",
       "       'Vivino.txt', 'Netflix.txt', 'PokemonGo.txt', 'Skype.txt',\n",
       "       'Snap.txt', 'eBay.txt', 'Masquerade.txt', 'Twitter.txt',\n",
       "       'LinkedIn.txt', 'Skyscanner.txt', 'Duolingo.txt', 'TrueCaller.txt',\n",
       "       'Uber.txt', 'Rovio.txt', 'Atlas.txt', 'Evernote.txt', 'Onavo.txt'],\n",
       "      dtype=object)"
      ]
     },
     "execution_count": 7,
     "metadata": {},
     "output_type": "execute_result"
    }
   ],
   "source": [
    "clauses_df.document.unique()"
   ]
  },
  {
   "cell_type": "code",
   "execution_count": 8,
   "id": "06a12d64",
   "metadata": {},
   "outputs": [],
   "source": [
    "import gensim.downloader as api\n",
    "\n",
    "wv = api.load('word2vec-google-news-300')"
   ]
  },
  {
   "cell_type": "code",
   "execution_count": 9,
   "id": "c13a154b",
   "metadata": {},
   "outputs": [],
   "source": [
    "import numpy as np\n",
    "def get_embeddings(sentences):\n",
    "    vectors = []\n",
    "    for sentence in sentences:\n",
    "        clause_vector = []\n",
    "        for word in sentence.split(' '):\n",
    "            try:\n",
    "                clause_vector.append(wv[word])\n",
    "            except KeyError:\n",
    "                continue\n",
    "        if len(clause_vector) > 0:\n",
    "            vectors.append(np.mean(clause_vector, axis=0))\n",
    "    return vectors"
   ]
  },
  {
   "cell_type": "code",
   "execution_count": 10,
   "id": "15cee97b",
   "metadata": {},
   "outputs": [],
   "source": [
    "clauses_df['embeddings'] = get_embeddings(clauses_df['sentences'].tolist())"
   ]
  },
  {
   "cell_type": "code",
   "execution_count": 11,
   "id": "7a35440f",
   "metadata": {},
   "outputs": [
    {
     "data": {
      "text/html": [
       "<div>\n",
       "<style scoped>\n",
       "    .dataframe tbody tr th:only-of-type {\n",
       "        vertical-align: middle;\n",
       "    }\n",
       "\n",
       "    .dataframe tbody tr th {\n",
       "        vertical-align: top;\n",
       "    }\n",
       "\n",
       "    .dataframe thead th {\n",
       "        text-align: right;\n",
       "    }\n",
       "</style>\n",
       "<table border=\"1\" class=\"dataframe\">\n",
       "  <thead>\n",
       "    <tr style=\"text-align: right;\">\n",
       "      <th></th>\n",
       "      <th>sentences</th>\n",
       "      <th>label</th>\n",
       "      <th>document</th>\n",
       "      <th>embeddings</th>\n",
       "    </tr>\n",
       "  </thead>\n",
       "  <tbody>\n",
       "    <tr>\n",
       "      <th>0</th>\n",
       "      <td>thanks for sending us good vibes by using the ...</td>\n",
       "      <td>0</td>\n",
       "      <td>Viber.txt</td>\n",
       "      <td>[-0.0116013745, 0.012337318, 0.0472283, 0.0715...</td>\n",
       "    </tr>\n",
       "    <tr>\n",
       "      <th>1</th>\n",
       "      <td>you may be surprised , but we will refer to al...</td>\n",
       "      <td>0</td>\n",
       "      <td>Viber.txt</td>\n",
       "      <td>[0.00033253638, 0.0075178477, 0.051912505, 0.0...</td>\n",
       "    </tr>\n",
       "    <tr>\n",
       "      <th>2</th>\n",
       "      <td>the terms of use -lrb- or , the `` terms '' -r...</td>\n",
       "      <td>0</td>\n",
       "      <td>Viber.txt</td>\n",
       "      <td>[0.039230347, 0.0051651, 0.075979866, 0.138509...</td>\n",
       "    </tr>\n",
       "    <tr>\n",
       "      <th>3</th>\n",
       "      <td>the language of the terms will seem legal -lrb...</td>\n",
       "      <td>0</td>\n",
       "      <td>Viber.txt</td>\n",
       "      <td>[0.021795115, 0.01238219, 0.052788418, 0.09305...</td>\n",
       "    </tr>\n",
       "    <tr>\n",
       "      <th>4</th>\n",
       "      <td>when you use our services , in addition to enj...</td>\n",
       "      <td>1</td>\n",
       "      <td>Viber.txt</td>\n",
       "      <td>[0.054652624, 0.0745094, 0.076542445, 0.117155...</td>\n",
       "    </tr>\n",
       "  </tbody>\n",
       "</table>\n",
       "</div>"
      ],
      "text/plain": [
       "                                           sentences label   document  \\\n",
       "0  thanks for sending us good vibes by using the ...     0  Viber.txt   \n",
       "1  you may be surprised , but we will refer to al...     0  Viber.txt   \n",
       "2  the terms of use -lrb- or , the `` terms '' -r...     0  Viber.txt   \n",
       "3  the language of the terms will seem legal -lrb...     0  Viber.txt   \n",
       "4  when you use our services , in addition to enj...     1  Viber.txt   \n",
       "\n",
       "                                          embeddings  \n",
       "0  [-0.0116013745, 0.012337318, 0.0472283, 0.0715...  \n",
       "1  [0.00033253638, 0.0075178477, 0.051912505, 0.0...  \n",
       "2  [0.039230347, 0.0051651, 0.075979866, 0.138509...  \n",
       "3  [0.021795115, 0.01238219, 0.052788418, 0.09305...  \n",
       "4  [0.054652624, 0.0745094, 0.076542445, 0.117155...  "
      ]
     },
     "execution_count": 11,
     "metadata": {},
     "output_type": "execute_result"
    }
   ],
   "source": [
    "clauses_df.head()"
   ]
  },
  {
   "cell_type": "code",
   "execution_count": 12,
   "id": "2af9d22a",
   "metadata": {},
   "outputs": [
    {
     "name": "stdout",
     "output_type": "stream",
     "text": [
      "Train:  (7531,) (7531,) Test:  ((1883,), (1883,))\n"
     ]
    }
   ],
   "source": [
    "X_train, X_test, Y_train, Y_test = train_test_split(\n",
    "    clauses_df['embeddings'],\n",
    "    clauses_df['label'],\n",
    "    train_size=0.8, \n",
    "    test_size=0.2, \n",
    "    random_state=0, \n",
    "    shuffle=True,\n",
    "    stratify=clauses_df['label'])\n",
    "print(\"Train: \",X_train.shape, Y_train.shape,\n",
    "      \"Test: \",(X_test.shape, Y_test.shape))\n",
    "X_train = np.array(X_train.values.tolist())\n",
    "X_test = np.array(X_test.values.tolist())\n",
    "Y_train = Y_train.astype('int')\n",
    "Y_test = Y_test.astype('int')"
   ]
  },
  {
   "cell_type": "code",
   "execution_count": 13,
   "id": "805de76f",
   "metadata": {},
   "outputs": [
    {
     "name": "stdout",
     "output_type": "stream",
     "text": [
      "              precision    recall  f1-score   support\n",
      "\n",
      "           0       0.92      0.98      0.95      1677\n",
      "           1       0.68      0.28      0.40       206\n",
      "\n",
      "    accuracy                           0.91      1883\n",
      "   macro avg       0.80      0.63      0.67      1883\n",
      "weighted avg       0.89      0.91      0.89      1883\n",
      "\n"
     ]
    }
   ],
   "source": [
    "svm = LinearSVC(C=0.5, random_state=0).fit(X_train, Y_train)\n",
    "Y_test_pred = svm.predict(X_test)\n",
    "report = classification_report(Y_test, Y_test_pred)\n",
    "print(report)"
   ]
  },
  {
   "cell_type": "code",
   "execution_count": null,
   "id": "8bd3f369",
   "metadata": {},
   "outputs": [],
   "source": []
  }
 ],
 "metadata": {
  "kernelspec": {
   "display_name": "NLP",
   "language": "python",
   "name": "nlp"
  },
  "language_info": {
   "codemirror_mode": {
    "name": "ipython",
    "version": 3
   },
   "file_extension": ".py",
   "mimetype": "text/x-python",
   "name": "python",
   "nbconvert_exporter": "python",
   "pygments_lexer": "ipython3",
   "version": "3.10.4"
  }
 },
 "nbformat": 4,
 "nbformat_minor": 5
}
