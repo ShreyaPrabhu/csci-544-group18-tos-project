{
  "cells": [
    {
      "cell_type": "code",
      "execution_count": 1,
      "id": "VaNmVq3cLLJ6",
      "metadata": {
        "colab": {
          "base_uri": "https://localhost:8080/"
        },
        "id": "VaNmVq3cLLJ6",
        "outputId": "3f5e4530-2aa7-4fa8-e528-b16ae777013b"
      },
      "outputs": [
        {
          "name": "stdout",
          "output_type": "stream",
          "text": [
            "Mounted at /content/drive\n"
          ]
        }
      ],
      "source": [
        "from google.colab import drive\n",
        "drive.mount('/content/drive')"
      ]
    },
    {
      "cell_type": "code",
      "execution_count": 2,
      "id": "268d41ea",
      "metadata": {
        "id": "268d41ea"
      },
      "outputs": [],
      "source": [
        "# dependencies to run the notebook\n",
        "\n",
        "# !pip install torch==1.12.1\n",
        "# !pip install torchmetrics==0.10.2\n",
        "# !pip install torchvision==0.14.0\n",
        "# !pip install texttable==1.6.4\n"
      ]
    },
    {
      "cell_type": "markdown",
      "id": "61dd939a",
      "metadata": {
        "id": "61dd939a"
      },
      "source": [
        "<span style=\"color:darkviolet\">\n",
        "<font size=\"3\">Download the below files from https://drive.google.com/drive/folders/1q50QMurzK9a5l4JBHWjf8VuWcZkbF7PM to run this notebook : <br>\n",
        "1) train_bert_embeddings.pkl <br>\n",
        "2) test_bert_embeddings.pkl <br> </font>\n",
        "</span>\n"
      ]
    },
    {
      "cell_type": "code",
      "execution_count": 3,
      "id": "gML3CkPFLmNy",
      "metadata": {
        "colab": {
          "base_uri": "https://localhost:8080/"
        },
        "id": "gML3CkPFLmNy",
        "outputId": "7f45d3cb-2c16-4b09-f3b8-c308027cd5a0"
      },
      "outputs": [
        {
          "name": "stdout",
          "output_type": "stream",
          "text": [
            "Looking in indexes: https://pypi.org/simple, https://us-python.pkg.dev/colab-wheels/public/simple/\n",
            "Collecting pickle5\n",
            "  Downloading pickle5-0.0.12-cp37-cp37m-manylinux_2_5_x86_64.manylinux1_x86_64.whl (256 kB)\n",
            "\u001b[K     |████████████████████████████████| 256 kB 14.5 MB/s \n",
            "\u001b[?25hInstalling collected packages: pickle5\n",
            "Successfully installed pickle5-0.0.12\n"
          ]
        }
      ],
      "source": [
        "!pip install pickle5"
      ]
    },
    {
      "cell_type": "code",
      "execution_count": 4,
      "id": "0fef83eb",
      "metadata": {
        "id": "0fef83eb"
      },
      "outputs": [],
      "source": [
        "import pickle5 as pickle\n",
        "import torch\n",
        "import torch.nn as nn\n",
        "from torch.utils.data import DataLoader, TensorDataset\n",
        "from torchvision import datasets, transforms\n",
        "from torchvision.transforms import ToTensor\n",
        "from torch.autograd import Variable\n",
        "import torch.optim as optim\n",
        "import warnings\n",
        "import numpy as np\n",
        "import torch.nn.functional as F\n",
        "import pandas as pd\n",
        "from sklearn.metrics import classification_report\n",
        "from torch.utils.data.sampler import SubsetRandomSampler\n",
        "\n",
        "warnings.filterwarnings(\"ignore\")\n"
      ]
    },
    {
      "cell_type": "code",
      "execution_count": 5,
      "id": "cf7a03ca",
      "metadata": {
        "id": "cf7a03ca"
      },
      "outputs": [],
      "source": [
        "EMBEDDINGS_NAME = \"xlnet\"\n"
      ]
    },
    {
      "cell_type": "code",
      "execution_count": 6,
      "id": "e1167ffb",
      "metadata": {
        "id": "e1167ffb"
      },
      "outputs": [],
      "source": [
        "BASE_PATH = \"/content/drive/MyDrive/CSCI-544 Group 18/nlp_data\"\n",
        "TRAIN_EMBEDDINGS = f\"{BASE_PATH}/embeddings/train_{EMBEDDINGS_NAME}_embeddings.pkl\"\n",
        "TEST_EMBEDDINGS = f\"{BASE_PATH}/embeddings/test_{EMBEDDINGS_NAME}_embeddings.pkl\"\n",
        "TRAIN_DATASET_PATH = f\"{BASE_PATH}/legal_bert/data/tos_clauses_train.csv\"\n",
        "TEST_DATASET_PATH = f\"{BASE_PATH}/legal_bert/data/tos_clauses_dev.csv\"\n",
        "RNN_MODEL_PATH = f\"{BASE_PATH}/models/rnn_{EMBEDDINGS_NAME}_model.pt\"\n",
        "GRU_MODEL_PATH = f\"{BASE_PATH}/models/gru_{EMBEDDINGS_NAME}_model.pt\"\n",
        "LSTM_MODEL_PATH = f\"{BASE_PATH}/models/lstm_{EMBEDDINGS_NAME}_model.pt\"\n",
        "BILSTM_MODEL_PATH = f\"{BASE_PATH}/models/bilstm_{EMBEDDINGS_NAME}_model.pt\"\n"
      ]
    },
    {
      "cell_type": "code",
      "execution_count": 7,
      "id": "4bf44010",
      "metadata": {
        "id": "4bf44010"
      },
      "outputs": [],
      "source": [
        "# Read train BERT embeddings\n",
        "with open(TRAIN_EMBEDDINGS, \"rb\") as f:\n",
        "    training_data = pickle.load(f)\n"
      ]
    },
    {
      "cell_type": "code",
      "execution_count": 8,
      "id": "7e45b2ae",
      "metadata": {
        "id": "7e45b2ae"
      },
      "outputs": [],
      "source": [
        "# Read test BERT embeddings\n",
        "with open(TEST_EMBEDDINGS, \"rb\") as f:\n",
        "    testing_data = pickle.load(f)\n"
      ]
    },
    {
      "cell_type": "code",
      "execution_count": 9,
      "id": "6c2bd91a",
      "metadata": {
        "colab": {
          "base_uri": "https://localhost:8080/"
        },
        "id": "6c2bd91a",
        "outputId": "d06d4772-1bb6-436e-f064-1c53e152c6b9"
      },
      "outputs": [
        {
          "name": "stdout",
          "output_type": "stream",
          "text": [
            "The data is :  embeddings\n"
          ]
        }
      ],
      "source": [
        "# check\n",
        "for item in training_data:\n",
        "    print(\"The data is : \", item)\n"
      ]
    },
    {
      "cell_type": "code",
      "execution_count": 10,
      "id": "dca0767b",
      "metadata": {
        "colab": {
          "base_uri": "https://localhost:8080/"
        },
        "id": "dca0767b",
        "outputId": "bbf9881c-a5c8-49ac-d361-3be7158f1ece"
      },
      "outputs": [
        {
          "data": {
            "text/plain": [
              "(7531, torch.Size([512, 768]))"
            ]
          },
          "execution_count": 10,
          "metadata": {},
          "output_type": "execute_result"
        }
      ],
      "source": [
        "len(training_data[\"embeddings\"]), training_data[\"embeddings\"][0].shape\n"
      ]
    },
    {
      "cell_type": "markdown",
      "id": "1481e82e",
      "metadata": {
        "id": "1481e82e"
      },
      "source": [
        "<span style=\"color:darkviolet\">\n",
        "<font size=\"4\">Get the labels from train and test files.</font>\n",
        "</span>\n"
      ]
    },
    {
      "cell_type": "code",
      "execution_count": 15,
      "id": "7ec7097e",
      "metadata": {
        "id": "7ec7097e"
      },
      "outputs": [],
      "source": [
        "TRAIN_DATASET_PATH = f\"{BASE_PATH}/tos_clauses_train.csv\"\n",
        "TEST_DATASET_PATH = f\"{BASE_PATH}/tos_clauses_dev.csv\"\n"
      ]
    },
    {
      "cell_type": "code",
      "execution_count": 16,
      "id": "7feb1a37",
      "metadata": {
        "id": "7feb1a37"
      },
      "outputs": [],
      "source": [
        "train_df = pd.read_csv(TRAIN_DATASET_PATH, header=0)\n",
        "test_df = pd.read_csv(TEST_DATASET_PATH, header=0)\n"
      ]
    },
    {
      "cell_type": "code",
      "execution_count": 17,
      "id": "8a29d269",
      "metadata": {
        "id": "8a29d269"
      },
      "outputs": [],
      "source": [
        "train_targets = train_df.label.values\n",
        "test_targets = test_df.label.values\n"
      ]
    },
    {
      "cell_type": "code",
      "execution_count": 18,
      "id": "541edf2c",
      "metadata": {
        "colab": {
          "base_uri": "https://localhost:8080/"
        },
        "id": "541edf2c",
        "outputId": "1accead3-cfcc-4ac8-9f7a-6fcf4509e26e"
      },
      "outputs": [
        {
          "data": {
            "text/plain": [
              "array([0, 0, 0, ..., 0, 1, 0])"
            ]
          },
          "execution_count": 18,
          "metadata": {},
          "output_type": "execute_result"
        }
      ],
      "source": [
        "test_targets\n"
      ]
    },
    {
      "cell_type": "code",
      "execution_count": 19,
      "id": "0378fa66",
      "metadata": {
        "colab": {
          "base_uri": "https://localhost:8080/"
        },
        "id": "0378fa66",
        "outputId": "74b00e71-3ccb-4f3d-ad58-c2442deceab1"
      },
      "outputs": [
        {
          "name": "stdout",
          "output_type": "stream",
          "text": [
            "Using Device: cuda\n"
          ]
        }
      ],
      "source": [
        "device = None\n",
        "if torch.cuda.is_available():\n",
        "    device = torch.device(\"cuda\")\n",
        "# elif torch.backends.mps.is_available():\n",
        "#     device = torch.device(\"mps\")\n",
        "else:\n",
        "    device = torch.device(\"cpu\")\n",
        "\n",
        "print(f\"Using Device: {device}\")\n"
      ]
    },
    {
      "cell_type": "markdown",
      "id": "f92206a0",
      "metadata": {
        "id": "f92206a0"
      },
      "source": [
        "<span style=\"color:darkviolet\">\n",
        "<font size=\"4\">Create Dataset, Train and Test Classes</font>\n",
        "</span>\n"
      ]
    },
    {
      "cell_type": "code",
      "execution_count": 20,
      "id": "efaf4ad4",
      "metadata": {
        "id": "efaf4ad4"
      },
      "outputs": [],
      "source": [
        "class Dataset(object):\n",
        "    \"\"\"An abstract class representing a Dataset.\n",
        "    All other datasets should subclass it. All subclasses should\n",
        "    override ``__len__``, that provides the size of the dataset,\n",
        "    and ``__getitem__``, supporting integer indexing in range\n",
        "    from 0 to len(self) exclusive.\n",
        "    \"\"\"\n",
        "\n",
        "    def __getitem__(self, index):\n",
        "        raise NotImplementedError\n",
        "\n",
        "    def __len__(self):\n",
        "        raise NotImplementedError\n",
        "\n",
        "    def __add__(self, other):\n",
        "        return ConcatDataset([self, other])\n"
      ]
    },
    {
      "cell_type": "code",
      "execution_count": 21,
      "id": "2bb78e49",
      "metadata": {
        "id": "2bb78e49"
      },
      "outputs": [],
      "source": [
        "class TOSDataset(Dataset):\n",
        "    def __init__(self, X, Y, transform=None):\n",
        "        self.data1 = X\n",
        "        self.data2 = Y\n",
        "        self.transform = transform\n",
        "\n",
        "    def __len__(self):\n",
        "        return len(self.data1)\n",
        "\n",
        "    def __getitem__(self, index):\n",
        "        x = self.data1[index]\n",
        "        y = self.data2[index]\n",
        "\n",
        "        if self.transform is not None:\n",
        "            x = torch.tensor(x)\n",
        "\n",
        "        return torch.squeeze(x, dim=1), torch.tensor(y)\n"
      ]
    },
    {
      "cell_type": "code",
      "execution_count": 22,
      "id": "7d37e581",
      "metadata": {
        "colab": {
          "base_uri": "https://localhost:8080/"
        },
        "id": "7d37e581",
        "outputId": "1f57febb-7b29-4943-e59f-1e4c7309096f"
      },
      "outputs": [
        {
          "name": "stdout",
          "output_type": "stream",
          "text": [
            "<torch.utils.data.sampler.SubsetRandomSampler object at 0x7fa8b55f2510>\n",
            "train_fair:6705\n",
            "train_unfair:826\n"
          ]
        }
      ],
      "source": [
        "test_len = len(test_df)\n",
        "train_len = len(train_df)\n",
        "X_train_tensor = TOSDataset(train_df[\"sentences\"], train_df[\"label\"])\n",
        "# X_test_tensor = Train_Model(test_df)\n",
        "\n",
        "num_train = len(X_train_tensor)\n",
        "indices = list(range(num_train))\n",
        "np.random.shuffle(indices)\n",
        "# split = int(np.floor(num_train))\n",
        "# train_idx = indices[split:]\n",
        "\n",
        "train_sampler = SubsetRandomSampler(indices)\n",
        "# valid_sampler = SubsetRandomSampler(valid_idx)\n",
        "print(train_sampler)\n",
        "train_df_by_index = train_df.loc[indices]\n",
        "# val_df_by_index = df_train.loc[valid_idx]\n",
        "train_fair = sum(train_df_by_index[\"label\"] == 0)\n",
        "train_unfair = sum(train_df_by_index[\"label\"] == 1)\n",
        "# val_fair = sum(val_df_by_index['label'] == 0)\n",
        "# val_unfair = sum(val_df_by_index['label'] == 1)\n",
        "\n",
        "print(\"train_fair:\" + str(train_fair))\n",
        "print(\"train_unfair:\" + str(train_unfair))\n",
        "# print(\"val_fair:\" + str(val_fair))\n",
        "# print(\"val_unfair:\" + str(val_unfair))\n"
      ]
    },
    {
      "cell_type": "code",
      "execution_count": 23,
      "id": "cca2a92d",
      "metadata": {
        "id": "cca2a92d"
      },
      "outputs": [],
      "source": [
        "train_data = TOSDataset(training_data[\"embeddings\"], train_targets, transform=transforms.ToTensor())\n",
        "test_data = TOSDataset(testing_data[\"embeddings\"], test_targets, transform=transforms.ToTensor())\n"
      ]
    },
    {
      "cell_type": "markdown",
      "id": "046b7413",
      "metadata": {
        "id": "046b7413"
      },
      "source": [
        "<span style=\"color:darkviolet\">\n",
        "<font size=\"4\">Prepare Data loaders</font>\n",
        "</span>\n"
      ]
    },
    {
      "cell_type": "code",
      "execution_count": 24,
      "id": "db13f108",
      "metadata": {
        "id": "db13f108"
      },
      "outputs": [],
      "source": [
        "# how many samples per batch to load\n",
        "BATCH_SIZE = 16\n",
        "\n",
        "# number of subprocesses to use for data loading\n",
        "NUM_WORKERS = 0\n"
      ]
    },
    {
      "cell_type": "code",
      "execution_count": 25,
      "id": "14d9572e",
      "metadata": {
        "id": "14d9572e"
      },
      "outputs": [],
      "source": [
        "# prepare data loaders\n",
        "train_loader = DataLoader(train_data, batch_size=BATCH_SIZE, sampler=train_sampler, num_workers=NUM_WORKERS)\n",
        "test_loader = DataLoader(test_data, batch_size=BATCH_SIZE, num_workers=NUM_WORKERS)\n"
      ]
    },
    {
      "cell_type": "code",
      "execution_count": 26,
      "id": "36811bd1",
      "metadata": {
        "colab": {
          "base_uri": "https://localhost:8080/"
        },
        "id": "36811bd1",
        "outputId": "5f503c4a-edd5-4956-eb5e-39257c152846"
      },
      "outputs": [
        {
          "name": "stdout",
          "output_type": "stream",
          "text": [
            "Sample input size:  torch.Size([16, 512, 768])\n",
            "\n",
            "Sample label size:  torch.Size([16])\n"
          ]
        }
      ],
      "source": [
        "# check sizes\n",
        "dataiter = iter(train_loader)\n",
        "sample_x, sample_y = dataiter.next()\n",
        "\n",
        "print(\"Sample input size: \", sample_x.size())  # batch_size, seq_length\n",
        "# print(\"Sample input: \\n\", sample_x)\n",
        "print()\n",
        "print(\"Sample label size: \", sample_y.size())  # batch_size\n",
        "# print(\"Sample label: \\n\", sample_y)\n"
      ]
    },
    {
      "cell_type": "code",
      "execution_count": 27,
      "id": "b6f98c5b",
      "metadata": {
        "colab": {
          "base_uri": "https://localhost:8080/"
        },
        "id": "b6f98c5b",
        "outputId": "4c6e5667-9a1e-40c9-ab04-3433ee29bf7e"
      },
      "outputs": [
        {
          "data": {
            "text/plain": [
              "torch.Size([16, 512, 768])"
            ]
          },
          "execution_count": 27,
          "metadata": {},
          "output_type": "execute_result"
        }
      ],
      "source": [
        "torch.squeeze(sample_x, dim=1).shape\n"
      ]
    },
    {
      "cell_type": "markdown",
      "id": "f4ccefed",
      "metadata": {
        "id": "f4ccefed"
      },
      "source": [
        "<span style=\"color:darkviolet\">\n",
        "<font size=\"5\">SIMPLE RNN</font><br>\n",
        "<font size=\"2.5\">Number of hidden dimension : 20</font> <br>\n",
        "<font size=\"2.5\">Number of layers: 1</font> <br>\n",
        "<font size=\"2.5\">Number of epochs: 5</font> <br>\n",
        "</span>\n"
      ]
    },
    {
      "cell_type": "code",
      "execution_count": 78,
      "id": "f35604d4",
      "metadata": {
        "id": "f35604d4"
      },
      "outputs": [],
      "source": [
        "class RNNet(nn.Module):\n",
        "    def __init__(self, input_dim, hidden_dim, output_dim):\n",
        "\n",
        "        super(RNNet, self).__init__()\n",
        "\n",
        "        # Number of hidden dimensions\n",
        "        self.hidden_dim = hidden_dim\n",
        "\n",
        "        # RNN\n",
        "        self.rnn = nn.RNN(input_dim, hidden_dim, num_layers=3, batch_first=True, nonlinearity=\"relu\")\n",
        "\n",
        "        # Readout layer\n",
        "        self.fc = nn.Linear(hidden_dim, output_dim)\n",
        "\n",
        "    def forward(self, x):\n",
        "\n",
        "        # Initialize hidden state with zeros\n",
        "        h0 = Variable(torch.zeros(3, x.size(0), self.hidden_dim)).to(device)\n",
        "\n",
        "        # One time step\n",
        "        out, hn = self.rnn(x, h0)\n",
        "        out = self.fc(out[:, -1, :])\n",
        "        return out\n"
      ]
    },
    {
      "cell_type": "code",
      "execution_count": 61,
      "id": "cc418eed",
      "metadata": {
        "id": "cc418eed"
      },
      "outputs": [],
      "source": [
        "# class RNNet(nn.Module):\n",
        "#     def __init__(self, input_dim, hidden_dim, output_dim):\n",
        "\n",
        "#         super(RNNet, self).__init__()\n",
        "\n",
        "#         # Number of hidden dimensions\n",
        "#         self.hidden_dim = hidden_dim\n",
        "\n",
        "#         # RNN\n",
        "#         self.rnn = nn.RNN(input_dim, hidden_dim, num_layers=2, batch_first=True, nonlinearity=\"relu\")\n",
        "\n",
        "#         self.fc_1 = nn.Linear(hidden_dim, 400)\n",
        "\n",
        "#         self.dropout = nn.Dropout(p=0.33)\n",
        "\n",
        "#         # Readout layer\n",
        "#         self.out = nn.Linear(400, output_dim)\n",
        "\n",
        "#     def forward(self, x):\n",
        "\n",
        "#         # Initialize hidden state with zeros\n",
        "#         h0 = Variable(torch.zeros(2, x.size(0), self.hidden_dim)).to(device)\n",
        "\n",
        "#         # One time step\n",
        "#         rnn_out, hn = self.rnn(x, h0)\n",
        "\n",
        "#         fc_1_out = F.relu(self.fc_1(rnn_out[:, -1, :]))\n",
        "\n",
        "#         fc_1_out = self.dropout(fc_1_out)\n",
        "\n",
        "#         out = self.out(fc_1_out)\n",
        "\n",
        "#         return out\n"
      ]
    },
    {
      "cell_type": "code",
      "execution_count": 62,
      "id": "c4a1f44b",
      "metadata": {
        "id": "c4a1f44b"
      },
      "outputs": [],
      "source": [
        "import time\n",
        "\n",
        "\n",
        "def epoch_time(start_time, end_time):\n",
        "    elapsed_time = end_time - start_time\n",
        "    elapsed_mins = int(elapsed_time / 60)\n",
        "    elapsed_secs = int(elapsed_time - (elapsed_mins * 60))\n",
        "    return elapsed_mins, elapsed_secs\n"
      ]
    },
    {
      "cell_type": "code",
      "execution_count": 63,
      "id": "b69d3eef",
      "metadata": {
        "id": "b69d3eef"
      },
      "outputs": [],
      "source": [
        "EMBEDDING_DIM = 768\n",
        "OUTPUT_DIM = 2\n"
      ]
    },
    {
      "cell_type": "code",
      "execution_count": 75,
      "id": "d5c62989",
      "metadata": {
        "id": "d5c62989"
      },
      "outputs": [],
      "source": [
        "RNN_HIDDEN_DIM = 512\n",
        "RNN_N_EPOCHS = 20\n"
      ]
    },
    {
      "cell_type": "code",
      "execution_count": 76,
      "id": "acb233cc",
      "metadata": {
        "colab": {
          "base_uri": "https://localhost:8080/"
        },
        "id": "acb233cc",
        "outputId": "29f3d910-c5f5-4ea6-8717-db6c12999c46"
      },
      "outputs": [
        {
          "data": {
            "text/plain": [
              "array([0.56159582, 4.55871671])"
            ]
          },
          "execution_count": 76,
          "metadata": {},
          "output_type": "execute_result"
        }
      ],
      "source": [
        "from sklearn.utils.class_weight import compute_class_weight\n",
        "\n",
        "class_weight = compute_class_weight(\n",
        "    \"balanced\", classes=np.unique(train_df_by_index[\"label\"]), y=train_df_by_index[\"label\"]\n",
        ")\n",
        "class_weight\n"
      ]
    },
    {
      "cell_type": "code",
      "execution_count": 79,
      "id": "53e1f120",
      "metadata": {
        "colab": {
          "base_uri": "https://localhost:8080/"
        },
        "id": "53e1f120",
        "outputId": "e2c6313f-ccdc-4722-90ba-df1d5e340264"
      },
      "outputs": [
        {
          "name": "stdout",
          "output_type": "stream",
          "text": [
            "Epoch: 01 | Epoch Time: 0m 30s\n",
            "\tTraining Loss: 0.041081 \\Test Loss: 0.034867\n",
            "Test loss decreased (inf --> 0.034867). Saving model...\n",
            "Epoch: 02 | Epoch Time: 0m 30s\n",
            "\tTraining Loss: 0.033629 \\Test Loss: 0.034922\n",
            "Epoch: 03 | Epoch Time: 0m 30s\n",
            "\tTraining Loss: 0.031664 \\Test Loss: 0.032139\n",
            "Test loss decreased (0.034867 --> 0.032139). Saving model...\n",
            "Epoch: 04 | Epoch Time: 0m 30s\n",
            "\tTraining Loss: 0.029753 \\Test Loss: 0.029622\n",
            "Test loss decreased (0.032139 --> 0.029622). Saving model...\n",
            "Epoch: 05 | Epoch Time: 0m 30s\n",
            "\tTraining Loss: 0.027977 \\Test Loss: 0.029819\n",
            "Epoch: 06 | Epoch Time: 0m 30s\n",
            "\tTraining Loss: 0.027609 \\Test Loss: 0.045735\n",
            "Epoch: 07 | Epoch Time: 0m 30s\n",
            "\tTraining Loss: 0.027478 \\Test Loss: 0.029959\n",
            "Epoch: 08 | Epoch Time: 0m 30s\n",
            "\tTraining Loss: 0.027203 \\Test Loss: 0.032949\n",
            "Epoch: 09 | Epoch Time: 0m 30s\n",
            "\tTraining Loss: 0.026465 \\Test Loss: 0.031922\n",
            "Epoch: 10 | Epoch Time: 0m 30s\n",
            "\tTraining Loss: 0.025502 \\Test Loss: 0.031595\n",
            "Epoch: 11 | Epoch Time: 0m 30s\n",
            "\tTraining Loss: 0.023564 \\Test Loss: 0.032785\n",
            "Epoch: 12 | Epoch Time: 0m 30s\n",
            "\tTraining Loss: 0.024921 \\Test Loss: 0.031019\n",
            "Epoch: 13 | Epoch Time: 0m 30s\n",
            "\tTraining Loss: 0.024144 \\Test Loss: 0.037868\n",
            "Epoch: 14 | Epoch Time: 0m 30s\n",
            "\tTraining Loss: 0.023935 \\Test Loss: 0.029936\n",
            "Epoch: 15 | Epoch Time: 0m 30s\n",
            "\tTraining Loss: 0.025671 \\Test Loss: 0.029775\n",
            "Epoch: 16 | Epoch Time: 0m 30s\n",
            "\tTraining Loss: 0.025420 \\Test Loss: 0.030203\n",
            "Epoch: 17 | Epoch Time: 0m 30s\n",
            "\tTraining Loss: nan \\Test Loss: nan\n",
            "Epoch: 18 | Epoch Time: 0m 30s\n",
            "\tTraining Loss: nan \\Test Loss: nan\n",
            "Epoch: 19 | Epoch Time: 0m 30s\n",
            "\tTraining Loss: nan \\Test Loss: nan\n",
            "Epoch: 20 | Epoch Time: 0m 30s\n",
            "\tTraining Loss: nan \\Test Loss: nan\n"
          ]
        }
      ],
      "source": [
        "model = RNNet(EMBEDDING_DIM, RNN_HIDDEN_DIM, OUTPUT_DIM)\n",
        "model = model.to(device)\n",
        "\n",
        "# loss_fn = nn.CrossEntropyLoss(weight=torch.FloatTensor(class_weight).to(device))\n",
        "loss_fn = nn.CrossEntropyLoss(weight = torch.FloatTensor([1/train_fair, 1/train_unfair]).to(device))\n",
        "optimizer = optim.Adam(model.parameters(), lr=1e-3)\n",
        "test_min_loss = np.inf\n",
        "\n",
        "for epoch in range(RNN_N_EPOCHS):\n",
        "\n",
        "    start_time = time.time()\n",
        "    model.train()\n",
        "    train_loss = 0.0\n",
        "    test_loss = 0.0\n",
        "    for inputs, target in train_loader:\n",
        "        inputs, target = inputs.to(device), target.to(device)\n",
        "        optimizer.zero_grad()\n",
        "        inputs = torch.squeeze(inputs, dim=1)\n",
        "        output = model(inputs)\n",
        "        loss = loss_fn(output, target)\n",
        "        loss.backward()\n",
        "        # do gradient clipping\n",
        "        torch.nn.utils.clip_grad_norm_(model.parameters(), max_norm=4.0, norm_type=2)\n",
        "        optimizer.step()\n",
        "        train_loss += loss.item()\n",
        "\n",
        "    model.eval()\n",
        "    for inputs, target in test_loader:\n",
        "        inputs, target = inputs.to(device), target.to(device)\n",
        "        inputs = torch.squeeze(inputs, dim=1)\n",
        "        output = model(inputs)\n",
        "        loss = loss_fn(output, target)\n",
        "        test_loss += loss.item()\n",
        "\n",
        "    train_loss = train_loss / len(train_loader.dataset)\n",
        "    test_loss = test_loss / len(test_loader.dataset)\n",
        "\n",
        "    end_time = time.time()\n",
        "\n",
        "    epoch_mins, epoch_secs = epoch_time(start_time, end_time)\n",
        "\n",
        "    print(f\"Epoch: {epoch+1:02} | Epoch Time: {epoch_mins}m {epoch_secs}s\")\n",
        "    print(\"\\tTraining Loss: {:.6f} \\Test Loss: {:.6f}\".format(train_loss, test_loss))\n",
        "    if test_loss <= test_min_loss:\n",
        "        print(\"Test loss decreased ({:.6f} --> {:.6f}). Saving model...\".format(test_min_loss, test_loss))\n",
        "        torch.save(model.state_dict(), RNN_MODEL_PATH)\n",
        "        test_min_loss = test_loss\n"
      ]
    },
    {
      "cell_type": "code",
      "execution_count": 81,
      "id": "490b243d",
      "metadata": {
        "colab": {
          "base_uri": "https://localhost:8080/"
        },
        "id": "490b243d",
        "outputId": "70ade2f4-0566-4102-ef81-b2c118578f84"
      },
      "outputs": [
        {
          "name": "stdout",
          "output_type": "stream",
          "text": [
            "              precision    recall  f1-score   support\n",
            "\n",
            "           0       0.96      0.87      0.91      1677\n",
            "           1       0.40      0.71      0.51       206\n",
            "\n",
            "    accuracy                           0.85      1883\n",
            "   macro avg       0.68      0.79      0.71      1883\n",
            "weighted avg       0.90      0.85      0.87      1883\n",
            "\n"
          ]
        }
      ],
      "source": [
        "y_pred_list = []\n",
        "y_targ_list = []\n",
        "model = RNNet(EMBEDDING_DIM, RNN_HIDDEN_DIM, OUTPUT_DIM).to(device)\n",
        "model.load_state_dict(torch.load(RNN_MODEL_PATH))\n",
        "model.eval()\n",
        "\n",
        "with torch.no_grad():\n",
        "    for inputs, target in test_loader:\n",
        "        inputs, target = inputs.to(device), target.to(device)\n",
        "        inputs = torch.squeeze(inputs, dim=1)\n",
        "        y_test_pred = model(inputs)\n",
        "        _, y_test_pred = torch.max(y_test_pred, 1)\n",
        "        y_pred_tag = y_test_pred\n",
        "        y_pred_list.append(y_pred_tag.cpu().numpy())\n",
        "        y_targ_list.append(target.cpu().numpy())\n",
        "\n",
        "y_pred_list = [x.squeeze().tolist() for x in y_pred_list]\n",
        "y_targ_list = [x.squeeze().tolist() for x in y_targ_list]\n",
        "y_pred_list = [x for sublist in y_pred_list for x in sublist]\n",
        "y_targ_list = [x for sublist in y_targ_list for x in sublist]\n",
        "\n",
        "print(classification_report(y_targ_list, y_pred_list))\n"
      ]
    },
    {
      "cell_type": "code",
      "execution_count": null,
      "id": "5d4ffec6",
      "metadata": {
        "id": "5d4ffec6"
      },
      "outputs": [],
      "source": []
    }
  ],
  "metadata": {
    "accelerator": "GPU",
    "colab": {
      "machine_shape": "hm",
      "provenance": []
    },
    "gpuClass": "premium",
    "kernelspec": {
      "display_name": "Python 3.10.6 64-bit ('csci544')",
      "language": "python",
      "name": "python3"
    },
    "language_info": {
      "codemirror_mode": {
        "name": "ipython",
        "version": 3
      },
      "file_extension": ".py",
      "mimetype": "text/x-python",
      "name": "python",
      "nbconvert_exporter": "python",
      "pygments_lexer": "ipython3",
      "version": "3.10.6"
    },
    "vscode": {
      "interpreter": {
        "hash": "e78917e7f90f3892e7e12462ef46781cf5994bd706032ea53be00d0b1f29dcb9"
      }
    }
  },
  "nbformat": 4,
  "nbformat_minor": 5
}
