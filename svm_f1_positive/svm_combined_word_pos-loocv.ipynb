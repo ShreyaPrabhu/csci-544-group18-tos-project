{
 "cells": [
  {
   "cell_type": "markdown",
   "id": "5e23e5f3",
   "metadata": {},
   "source": [
    "#### Training 8 SVMs with Words and Pos Tags "
   ]
  },
  {
   "cell_type": "code",
   "execution_count": 1,
   "id": "775a61fa",
   "metadata": {},
   "outputs": [],
   "source": [
    "import nltk\n",
    "import ssl\n",
    "\n",
    "try:\n",
    "    _create_unverified_https_context = ssl._create_unverified_context\n",
    "except AttributeError:\n",
    "    pass\n",
    "else:\n",
    "    ssl._create_default_https_context = _create_unverified_https_context\n",
    "nltk.download('wordnet', quiet=True)\n",
    "nltk.download('punkt', quiet=True)\n",
    "nltk.download('omw-1.4', quiet=True)\n",
    "from nltk.tokenize import word_tokenize\n",
    "import pandas as pd\n",
    "import numpy as np\n",
    "import re\n",
    "import string\n",
    "import os\n",
    "from nltk.stem import WordNetLemmatizer\n",
    "from sklearn.svm import LinearSVC\n",
    "from sklearn.metrics import classification_report\n",
    "from sklearn.model_selection import train_test_split\n",
    "from sklearn.feature_extraction.text import TfidfVectorizer\n",
    "from sklearn.model_selection import LeaveOneGroupOut\n",
    "from sklearn.model_selection import GridSearchCV, cross_val_score\n",
    "import nltk\n",
    "from nltk.corpus import stopwords\n",
    "import warnings\n",
    "warnings.filterwarnings(\"ignore\")"
   ]
  },
  {
   "cell_type": "markdown",
   "id": "b4eb77c7",
   "metadata": {},
   "source": [
    "##### Use following to merge words in sentences with its respective pos tags"
   ]
  },
  {
   "cell_type": "code",
   "execution_count": 2,
   "id": "8d775af6",
   "metadata": {},
   "outputs": [],
   "source": [
    "files = os.listdir(\"./data/Postags/\")\n",
    "prefix_sentences = \"./data/Sentences/\"\n",
    "prefix_pos = \"./data/Postags/\"\n",
    "prefix_label_A = \"./data/Labels_A/\"\n",
    "prefix_label_CH = \"./data/Labels_CH/\"\n",
    "prefix_label_CR = \"./data/Labels_CR/\"\n",
    "prefix_label_J = \"./data/Labels_J/\"\n",
    "prefix_label_LAW = \"./data/Labels_LAW/\"\n",
    "prefix_label_LTD = \"./data/Labels_LTD/\"\n",
    "prefix_label_TER = \"./data/Labels_TER/\"\n",
    "prefix_label_USE = \"./data/Labels_USE/\"\n",
    "prefix_label = \"./data/Labels/\"\n",
    "\n",
    "def merge(sentence1, sentence2):\n",
    "    sentence = \"\"\n",
    "    s1splits = sentence1.split()\n",
    "    s2splits = sentence2.split()\n",
    "    for w1,w2 in zip(s1splits,s2splits):\n",
    "        sentence = sentence + w1 + \"/\" + w2 + \" \"\n",
    "    sentence.strip()\n",
    "    return sentence\n",
    "    \n",
    "word_pos = []\n",
    "for file in files:\n",
    "    label_file_path_A = prefix_label_A + file\n",
    "    label_file_path_CH = prefix_label_CH + file\n",
    "    label_file_path_CR = prefix_label_CR + file\n",
    "    label_file_path_J = prefix_label_J + file\n",
    "    label_file_path_LAW = prefix_label_LAW + file\n",
    "    label_file_path_LTD = prefix_label_LTD + file\n",
    "    label_file_path_TER = prefix_label_TER + file\n",
    "    label_file_path_USE = prefix_label_USE + file\n",
    "    label_file_path = prefix_label + file\n",
    "    sentences_file_path = prefix_sentences + file\n",
    "    postag_file_path = prefix_pos + file\n",
    "    pos_df = pd.read_csv(postag_file_path, sep=\"dummy_separator\", header=None)\n",
    "    pos_df.columns = [\"postag\"]\n",
    "    sentences_df = pd.read_csv(sentences_file_path, sep=\"dummy_separator\", header=None)\n",
    "    sentences_df.columns = [\"sentence\"]\n",
    "    sentences_df[\"postag\"] = pos_df[\"postag\"]\n",
    "    sentences_df[\"merged\"] = \"dummy text\"\n",
    "    for index, row in sentences_df.iterrows():\n",
    "        row[\"merged\"] = merge(row['sentence'], row['postag'])\n",
    "        \n",
    "    label_A_df = pd.read_csv(label_file_path_A, sep=\" \", header=None, names=[\"label_A\"])\n",
    "    label_A_df[\"label_A_converted\"] = np.where(label_A_df[\"label_A\"] == -1, 0, 1)\n",
    "\n",
    "    label_CH_df = pd.read_csv(label_file_path_CH, sep=\" \", header=None, names=[\"label_CH\"])\n",
    "    label_CH_df[\"label_CH_converted\"] = np.where(label_CH_df[\"label_CH\"] == -1, 0, 1)\n",
    "\n",
    "    label_CR_df = pd.read_csv(label_file_path_CR, sep=\" \", header=None, names=[\"label_CR\"])\n",
    "    label_CR_df[\"label_CR_converted\"] = np.where(label_CR_df[\"label_CR\"] == -1, 0, 1)\n",
    "\n",
    "    label_J_df = pd.read_csv(label_file_path_J, sep=\" \", header=None, names=[\"label_J\"])\n",
    "    label_J_df[\"label_J_converted\"] = np.where(label_J_df[\"label_J\"] == -1, 0, 1)\n",
    "\n",
    "    label_LAW_df = pd.read_csv(label_file_path_LAW, sep=\" \", header=None, names=[\"label_LAW\"])\n",
    "    label_LAW_df[\"label_LAW_converted\"] = np.where(label_LAW_df[\"label_LAW\"] == -1, 0, 1)\n",
    "\n",
    "    label_LTD_df = pd.read_csv(label_file_path_LTD, sep=\" \", header=None, names=[\"label_LTD\"])\n",
    "    label_LTD_df[\"label_LTD_converted\"] = np.where(label_LTD_df[\"label_LTD\"] == -1, 0, 1)\n",
    "\n",
    "    label_TER_df = pd.read_csv(label_file_path_TER, sep=\" \", header=None, names=[\"label_TER\"])\n",
    "    label_TER_df[\"label_TER_converted\"] = np.where(label_TER_df[\"label_TER\"] == -1, 0, 1)\n",
    "\n",
    "    label_USE_df = pd.read_csv(label_file_path_USE, sep=\" \", header=None, names=[\"label_USE\"])\n",
    "    label_USE_df[\"label_USE_converted\"] = np.where(label_USE_df[\"label_USE\"] == -1, 0, 1)\n",
    "\n",
    "    label_df = pd.read_csv(label_file_path, sep=\" \", header=None, names=[\"label\"])\n",
    "    label_df[\"label_converted\"] = np.where(label_df[\"label\"] == -1, 0, 1)\n",
    "\n",
    "    sentences_df[\"document\"] = file\n",
    "    df_concat = pd.concat([label_df[\"label_converted\"], label_A_df[\"label_A_converted\"], label_CH_df[\"label_CH_converted\"], label_CR_df[\"label_CR_converted\"],\n",
    "                           label_J_df[\"label_J_converted\"], label_LAW_df[\"label_LAW_converted\"], label_LTD_df[\"label_LTD_converted\"],\n",
    "                           label_TER_df[\"label_TER_converted\"], label_USE_df[\"label_USE_converted\"], sentences_df[[\"merged\", \"document\"]]], axis=1)\n",
    "    word_pos.append(df_concat)"
   ]
  },
  {
   "cell_type": "code",
   "execution_count": 3,
   "id": "41ac0192",
   "metadata": {},
   "outputs": [],
   "source": [
    "colnames = [\"label_converted\", \"label_A_converted\", \"label_CH_converted\", \"label_CR_converted\", \"label_J_converted\", \"label_LAW_converted\", \"label_LTD_converted\", \"label_TER_converted\", \"label_USE_converted\", \"merged\", \"document\"]\n",
    "clauses_df = pd.DataFrame(columns = colnames)\n",
    "for df in word_pos:\n",
    "    clauses_df = clauses_df.append(df)"
   ]
  },
  {
   "cell_type": "code",
   "execution_count": 4,
   "id": "bcd3cf12",
   "metadata": {},
   "outputs": [],
   "source": [
    "clauses_df.rename(columns={'label_converted': 'label', 'label_A_converted': 'label_A', 'label_CH_converted': 'label_CH', 'label_CR_converted': 'label_CR', \n",
    "                           'label_J_converted': 'label_J', 'label_LAW_converted': 'label_LAW', 'label_LTD_converted': 'label_LTD', \n",
    "                           'label_TER_converted': 'label_TER', 'label_USE_converted': 'label_USE',\n",
    "                           'merged': 'sentences', 'document' : 'document'}, inplace=True)\n",
    "clauses_df.to_csv(\"data/svm8_word_pos_merged.csv\", index = False)"
   ]
  },
  {
   "cell_type": "code",
   "execution_count": 5,
   "id": "2ded1369",
   "metadata": {},
   "outputs": [
    {
     "data": {
      "text/html": [
       "<div>\n",
       "<style scoped>\n",
       "    .dataframe tbody tr th:only-of-type {\n",
       "        vertical-align: middle;\n",
       "    }\n",
       "\n",
       "    .dataframe tbody tr th {\n",
       "        vertical-align: top;\n",
       "    }\n",
       "\n",
       "    .dataframe thead th {\n",
       "        text-align: right;\n",
       "    }\n",
       "</style>\n",
       "<table border=\"1\" class=\"dataframe\">\n",
       "  <thead>\n",
       "    <tr style=\"text-align: right;\">\n",
       "      <th></th>\n",
       "      <th>label</th>\n",
       "      <th>label_A</th>\n",
       "      <th>label_CH</th>\n",
       "      <th>label_CR</th>\n",
       "      <th>label_J</th>\n",
       "      <th>label_LAW</th>\n",
       "      <th>label_LTD</th>\n",
       "      <th>label_TER</th>\n",
       "      <th>label_USE</th>\n",
       "      <th>sentences</th>\n",
       "      <th>document</th>\n",
       "    </tr>\n",
       "  </thead>\n",
       "  <tbody>\n",
       "    <tr>\n",
       "      <th>0</th>\n",
       "      <td>0</td>\n",
       "      <td>0</td>\n",
       "      <td>0</td>\n",
       "      <td>0</td>\n",
       "      <td>0</td>\n",
       "      <td>0</td>\n",
       "      <td>0</td>\n",
       "      <td>0</td>\n",
       "      <td>0</td>\n",
       "      <td>thanks/NNS for/IN sending/VBG us/PRP good/JJ v...</td>\n",
       "      <td>Viber.txt</td>\n",
       "    </tr>\n",
       "    <tr>\n",
       "      <th>1</th>\n",
       "      <td>0</td>\n",
       "      <td>0</td>\n",
       "      <td>0</td>\n",
       "      <td>0</td>\n",
       "      <td>0</td>\n",
       "      <td>0</td>\n",
       "      <td>0</td>\n",
       "      <td>0</td>\n",
       "      <td>0</td>\n",
       "      <td>you/PRP may/MD be/VB surprised/VBN ,/, but/CC ...</td>\n",
       "      <td>Viber.txt</td>\n",
       "    </tr>\n",
       "    <tr>\n",
       "      <th>2</th>\n",
       "      <td>0</td>\n",
       "      <td>0</td>\n",
       "      <td>0</td>\n",
       "      <td>0</td>\n",
       "      <td>0</td>\n",
       "      <td>0</td>\n",
       "      <td>0</td>\n",
       "      <td>0</td>\n",
       "      <td>0</td>\n",
       "      <td>the/DT terms/NNS of/IN use/NN -lrb-/-LRB- or/C...</td>\n",
       "      <td>Viber.txt</td>\n",
       "    </tr>\n",
       "    <tr>\n",
       "      <th>3</th>\n",
       "      <td>0</td>\n",
       "      <td>0</td>\n",
       "      <td>0</td>\n",
       "      <td>0</td>\n",
       "      <td>0</td>\n",
       "      <td>0</td>\n",
       "      <td>0</td>\n",
       "      <td>0</td>\n",
       "      <td>0</td>\n",
       "      <td>the/DT language/NN of/IN the/DT terms/NNS will...</td>\n",
       "      <td>Viber.txt</td>\n",
       "    </tr>\n",
       "    <tr>\n",
       "      <th>4</th>\n",
       "      <td>1</td>\n",
       "      <td>0</td>\n",
       "      <td>0</td>\n",
       "      <td>0</td>\n",
       "      <td>0</td>\n",
       "      <td>0</td>\n",
       "      <td>0</td>\n",
       "      <td>0</td>\n",
       "      <td>1</td>\n",
       "      <td>when/WRB you/PRP use/VBP our/PRP$ services/NNP...</td>\n",
       "      <td>Viber.txt</td>\n",
       "    </tr>\n",
       "  </tbody>\n",
       "</table>\n",
       "</div>"
      ],
      "text/plain": [
       "  label label_A label_CH label_CR label_J label_LAW label_LTD label_TER  \\\n",
       "0     0       0        0        0       0         0         0         0   \n",
       "1     0       0        0        0       0         0         0         0   \n",
       "2     0       0        0        0       0         0         0         0   \n",
       "3     0       0        0        0       0         0         0         0   \n",
       "4     1       0        0        0       0         0         0         0   \n",
       "\n",
       "  label_USE                                          sentences   document  \n",
       "0         0  thanks/NNS for/IN sending/VBG us/PRP good/JJ v...  Viber.txt  \n",
       "1         0  you/PRP may/MD be/VB surprised/VBN ,/, but/CC ...  Viber.txt  \n",
       "2         0  the/DT terms/NNS of/IN use/NN -lrb-/-LRB- or/C...  Viber.txt  \n",
       "3         0  the/DT language/NN of/IN the/DT terms/NNS will...  Viber.txt  \n",
       "4         1  when/WRB you/PRP use/VBP our/PRP$ services/NNP...  Viber.txt  "
      ]
     },
     "execution_count": 5,
     "metadata": {},
     "output_type": "execute_result"
    }
   ],
   "source": [
    "clauses_df.head()"
   ]
  },
  {
   "cell_type": "code",
   "execution_count": 6,
   "id": "98e993a4",
   "metadata": {},
   "outputs": [],
   "source": [
    "assert (clauses_df.isnull().sum().all() == 0)"
   ]
  },
  {
   "cell_type": "code",
   "execution_count": 7,
   "id": "d199175a",
   "metadata": {},
   "outputs": [
    {
     "data": {
      "text/plain": [
       "array(['Viber.txt', 'Nintendo.txt', 'Tinder.txt', 'Dropbox.txt',\n",
       "       'Microsoft.txt', 'Betterpoints_UK.txt', 'Airbnb.txt',\n",
       "       'musically.txt', 'Crowdtangle.txt', 'TripAdvisor.txt',\n",
       "       'Deliveroo.txt', 'Moves-app.txt', 'Spotify.txt', 'Supercell.txt',\n",
       "       '9gag.txt', 'Booking.txt', 'Headspace.txt', 'Fitbit.txt',\n",
       "       'Syncme.txt', 'Vimeo.txt', 'Oculus.txt', 'Endomondo.txt',\n",
       "       'Instagram.txt', 'LindenLab.txt', 'WorldOfWarcraft.txt',\n",
       "       'YouTube.txt', 'Academia.txt', 'Yahoo.txt', 'WhatsApp.txt',\n",
       "       'Google.txt', 'Zynga.txt', 'Facebook.txt', 'Amazon.txt',\n",
       "       'Vivino.txt', 'Netflix.txt', 'PokemonGo.txt', 'Skype.txt',\n",
       "       'Snap.txt', 'eBay.txt', 'Masquerade.txt', 'Twitter.txt',\n",
       "       'LinkedIn.txt', 'Skyscanner.txt', 'Duolingo.txt', 'TrueCaller.txt',\n",
       "       'Uber.txt', 'Rovio.txt', 'Atlas.txt', 'Evernote.txt', 'Onavo.txt'],\n",
       "      dtype=object)"
      ]
     },
     "execution_count": 7,
     "metadata": {},
     "output_type": "execute_result"
    }
   ],
   "source": [
    "clauses_df.document.unique()"
   ]
  },
  {
   "cell_type": "code",
   "execution_count": 8,
   "id": "690d02d7",
   "metadata": {},
   "outputs": [
    {
     "data": {
      "text/html": [
       "<div>\n",
       "<style scoped>\n",
       "    .dataframe tbody tr th:only-of-type {\n",
       "        vertical-align: middle;\n",
       "    }\n",
       "\n",
       "    .dataframe tbody tr th {\n",
       "        vertical-align: top;\n",
       "    }\n",
       "\n",
       "    .dataframe thead th {\n",
       "        text-align: right;\n",
       "    }\n",
       "</style>\n",
       "<table border=\"1\" class=\"dataframe\">\n",
       "  <thead>\n",
       "    <tr style=\"text-align: right;\">\n",
       "      <th></th>\n",
       "      <th>label</th>\n",
       "      <th>label_A</th>\n",
       "      <th>label_CH</th>\n",
       "      <th>label_CR</th>\n",
       "      <th>label_J</th>\n",
       "      <th>label_LAW</th>\n",
       "      <th>label_LTD</th>\n",
       "      <th>label_TER</th>\n",
       "      <th>label_USE</th>\n",
       "    </tr>\n",
       "  </thead>\n",
       "  <tbody>\n",
       "    <tr>\n",
       "      <th>0</th>\n",
       "      <td>0</td>\n",
       "      <td>0</td>\n",
       "      <td>0</td>\n",
       "      <td>0</td>\n",
       "      <td>0</td>\n",
       "      <td>0</td>\n",
       "      <td>0</td>\n",
       "      <td>0</td>\n",
       "      <td>0</td>\n",
       "    </tr>\n",
       "    <tr>\n",
       "      <th>1</th>\n",
       "      <td>0</td>\n",
       "      <td>0</td>\n",
       "      <td>0</td>\n",
       "      <td>0</td>\n",
       "      <td>0</td>\n",
       "      <td>0</td>\n",
       "      <td>0</td>\n",
       "      <td>0</td>\n",
       "      <td>0</td>\n",
       "    </tr>\n",
       "    <tr>\n",
       "      <th>2</th>\n",
       "      <td>0</td>\n",
       "      <td>0</td>\n",
       "      <td>0</td>\n",
       "      <td>0</td>\n",
       "      <td>0</td>\n",
       "      <td>0</td>\n",
       "      <td>0</td>\n",
       "      <td>0</td>\n",
       "      <td>0</td>\n",
       "    </tr>\n",
       "    <tr>\n",
       "      <th>3</th>\n",
       "      <td>0</td>\n",
       "      <td>0</td>\n",
       "      <td>0</td>\n",
       "      <td>0</td>\n",
       "      <td>0</td>\n",
       "      <td>0</td>\n",
       "      <td>0</td>\n",
       "      <td>0</td>\n",
       "      <td>0</td>\n",
       "    </tr>\n",
       "    <tr>\n",
       "      <th>4</th>\n",
       "      <td>1</td>\n",
       "      <td>0</td>\n",
       "      <td>0</td>\n",
       "      <td>0</td>\n",
       "      <td>0</td>\n",
       "      <td>0</td>\n",
       "      <td>0</td>\n",
       "      <td>0</td>\n",
       "      <td>1</td>\n",
       "    </tr>\n",
       "    <tr>\n",
       "      <th>...</th>\n",
       "      <td>...</td>\n",
       "      <td>...</td>\n",
       "      <td>...</td>\n",
       "      <td>...</td>\n",
       "      <td>...</td>\n",
       "      <td>...</td>\n",
       "      <td>...</td>\n",
       "      <td>...</td>\n",
       "      <td>...</td>\n",
       "    </tr>\n",
       "    <tr>\n",
       "      <th>142</th>\n",
       "      <td>0</td>\n",
       "      <td>0</td>\n",
       "      <td>0</td>\n",
       "      <td>0</td>\n",
       "      <td>0</td>\n",
       "      <td>0</td>\n",
       "      <td>0</td>\n",
       "      <td>0</td>\n",
       "      <td>0</td>\n",
       "    </tr>\n",
       "    <tr>\n",
       "      <th>143</th>\n",
       "      <td>0</td>\n",
       "      <td>0</td>\n",
       "      <td>0</td>\n",
       "      <td>0</td>\n",
       "      <td>0</td>\n",
       "      <td>0</td>\n",
       "      <td>0</td>\n",
       "      <td>0</td>\n",
       "      <td>0</td>\n",
       "    </tr>\n",
       "    <tr>\n",
       "      <th>144</th>\n",
       "      <td>0</td>\n",
       "      <td>0</td>\n",
       "      <td>0</td>\n",
       "      <td>0</td>\n",
       "      <td>0</td>\n",
       "      <td>0</td>\n",
       "      <td>0</td>\n",
       "      <td>0</td>\n",
       "      <td>0</td>\n",
       "    </tr>\n",
       "    <tr>\n",
       "      <th>145</th>\n",
       "      <td>0</td>\n",
       "      <td>0</td>\n",
       "      <td>0</td>\n",
       "      <td>0</td>\n",
       "      <td>0</td>\n",
       "      <td>0</td>\n",
       "      <td>0</td>\n",
       "      <td>0</td>\n",
       "      <td>0</td>\n",
       "    </tr>\n",
       "    <tr>\n",
       "      <th>146</th>\n",
       "      <td>0</td>\n",
       "      <td>0</td>\n",
       "      <td>0</td>\n",
       "      <td>0</td>\n",
       "      <td>0</td>\n",
       "      <td>0</td>\n",
       "      <td>0</td>\n",
       "      <td>0</td>\n",
       "      <td>0</td>\n",
       "    </tr>\n",
       "  </tbody>\n",
       "</table>\n",
       "<p>9414 rows × 9 columns</p>\n",
       "</div>"
      ],
      "text/plain": [
       "    label label_A label_CH label_CR label_J label_LAW label_LTD label_TER  \\\n",
       "0       0       0        0        0       0         0         0         0   \n",
       "1       0       0        0        0       0         0         0         0   \n",
       "2       0       0        0        0       0         0         0         0   \n",
       "3       0       0        0        0       0         0         0         0   \n",
       "4       1       0        0        0       0         0         0         0   \n",
       "..    ...     ...      ...      ...     ...       ...       ...       ...   \n",
       "142     0       0        0        0       0         0         0         0   \n",
       "143     0       0        0        0       0         0         0         0   \n",
       "144     0       0        0        0       0         0         0         0   \n",
       "145     0       0        0        0       0         0         0         0   \n",
       "146     0       0        0        0       0         0         0         0   \n",
       "\n",
       "    label_USE  \n",
       "0           0  \n",
       "1           0  \n",
       "2           0  \n",
       "3           0  \n",
       "4           1  \n",
       "..        ...  \n",
       "142         0  \n",
       "143         0  \n",
       "144         0  \n",
       "145         0  \n",
       "146         0  \n",
       "\n",
       "[9414 rows x 9 columns]"
      ]
     },
     "execution_count": 8,
     "metadata": {},
     "output_type": "execute_result"
    }
   ],
   "source": [
    "clauses_df[['label', 'label_A', 'label_CH', 'label_CR', 'label_J', 'label_LAW', 'label_LTD', 'label_TER', 'label_USE']]"
   ]
  },
  {
   "cell_type": "code",
   "execution_count": 9,
   "id": "443264f5",
   "metadata": {},
   "outputs": [
    {
     "data": {
      "text/plain": [
       "50"
      ]
     },
     "execution_count": 9,
     "metadata": {},
     "output_type": "execute_result"
    }
   ],
   "source": [
    "logo = LeaveOneGroupOut()\n",
    "X = clauses_df['sentences']\n",
    "y = clauses_df[['label', 'label_A', 'label_CH', 'label_CR', 'label_J', 'label_LAW', 'label_LTD', 'label_TER', 'label_USE']]\n",
    "group = clauses_df['document']\n",
    "logo.get_n_splits(X, y, group)"
   ]
  },
  {
   "cell_type": "code",
   "execution_count": 10,
   "id": "e9e32e67",
   "metadata": {},
   "outputs": [],
   "source": [
    "train_val_test = []\n",
    "for train_val_index, test_index in logo.split(X, y, group):\n",
    "    train_val, test = clauses_df.iloc[train_val_index], clauses_df.iloc[test_index]\n",
    "    train_val_test.append((train_val, test))"
   ]
  },
  {
   "cell_type": "markdown",
   "id": "e0304b9e",
   "metadata": {},
   "source": [
    "### Train on Labels_A.txt"
   ]
  },
  {
   "cell_type": "code",
   "execution_count": 11,
   "id": "407e8598",
   "metadata": {},
   "outputs": [],
   "source": [
    "# TF - IDF extraction\n",
    "scores = []\n",
    "y_test_pred_A = []\n",
    "for batch in train_val_test:\n",
    "    X_train = batch[0][\"sentences\"]\n",
    "    y_train = batch[0][\"label_A\"]\n",
    "    train_groups = batch[0][\"document\"]\n",
    "    X_test = batch[1][\"sentences\"]\n",
    "    y_test = batch[1][\"label_A\"]\n",
    "    test_document = batch[1].document.unique()[0]\n",
    "    vectorizer = TfidfVectorizer()\n",
    "    X_train = vectorizer.fit_transform(X_train)\n",
    "    X_test = vectorizer.transform(X_test)\n",
    "    y_train = y_train.astype('int')\n",
    "    y_test = y_test.astype('int')\n",
    "    \n",
    "    svm = LinearSVC(random_state=0, max_iter = 5000)\n",
    "    Cs = [0.001, 0.01, 0.1, 1, 10]\n",
    "    clf = GridSearchCV(estimator=svm, param_grid=dict(C=Cs),n_jobs=-1, scoring = 'f1', refit = True)\n",
    "    clf_fit = clf.fit(X_train, y_train, groups = train_groups)\n",
    "    clf_best = clf_fit.best_estimator_\n",
    "    y_test_pred_A.extend(clf_best.predict(X_test))\n",
    "    score = clf.score(X_test, y_test)\n",
    "    scores.append(score)"
   ]
  },
  {
   "cell_type": "code",
   "execution_count": 12,
   "id": "bb2684f5",
   "metadata": {},
   "outputs": [
    {
     "name": "stdout",
     "output_type": "stream",
     "text": [
      "0.29999999999999993\n"
     ]
    }
   ],
   "source": [
    "print(sum(scores)/len(scores))"
   ]
  },
  {
   "cell_type": "markdown",
   "id": "7d00f2fa",
   "metadata": {},
   "source": [
    "### Train on Labels_CH.txt"
   ]
  },
  {
   "cell_type": "code",
   "execution_count": 13,
   "id": "39e1c123",
   "metadata": {},
   "outputs": [],
   "source": [
    "# TF - IDF extraction\n",
    "scores = []\n",
    "y_test_pred_CH = []\n",
    "for batch in train_val_test:\n",
    "    X_train = batch[0][\"sentences\"]\n",
    "    y_train = batch[0][\"label_CH\"]\n",
    "    train_groups = batch[0][\"document\"]\n",
    "    X_test = batch[1][\"sentences\"]\n",
    "    y_test = batch[1][\"label_CH\"]\n",
    "    \n",
    "    test_document = batch[1].document.unique()[0]\n",
    "    vectorizer = TfidfVectorizer()\n",
    "    X_train = vectorizer.fit_transform(X_train)\n",
    "    X_test = vectorizer.transform(X_test)\n",
    "    y_train = y_train.astype('int')\n",
    "    y_test = y_test.astype('int')\n",
    "    \n",
    "    svm = LinearSVC(random_state=0, max_iter = 5000)\n",
    "    Cs = [0.001, 0.01, 0.1, 1, 10]\n",
    "    clf = GridSearchCV(estimator=svm, param_grid=dict(C=Cs),n_jobs=-1, scoring = 'f1', refit = True)\n",
    "    clf_fit = clf.fit(X_train, y_train, groups = train_groups)\n",
    "    clf_best = clf_fit.best_estimator_\n",
    "    y_test_pred_CH.extend(clf_best.predict(X_test))\n",
    "    score = clf.score(X_test, y_test)\n",
    "    scores.append(score)"
   ]
  },
  {
   "cell_type": "code",
   "execution_count": 14,
   "id": "c321b9fb",
   "metadata": {},
   "outputs": [
    {
     "name": "stdout",
     "output_type": "stream",
     "text": [
      "0.6321932129173511\n"
     ]
    }
   ],
   "source": [
    "print(sum(scores)/len(scores))"
   ]
  },
  {
   "cell_type": "markdown",
   "id": "4c00ae08",
   "metadata": {},
   "source": [
    "### Train on Labels_CR.txt"
   ]
  },
  {
   "cell_type": "code",
   "execution_count": 15,
   "id": "9c1e4eec",
   "metadata": {},
   "outputs": [],
   "source": [
    "# TF - IDF extraction\n",
    "scores = []\n",
    "y_test_pred_CR = []\n",
    "for batch in train_val_test:\n",
    "    X_train = batch[0][\"sentences\"]\n",
    "    y_train = batch[0][\"label_CR\"]\n",
    "    train_groups = batch[0][\"document\"]\n",
    "    X_test = batch[1][\"sentences\"]\n",
    "    y_test = batch[1][\"label_CR\"]\n",
    "    \n",
    "    test_document = batch[1].document.unique()[0]\n",
    "    vectorizer = TfidfVectorizer()\n",
    "    X_train = vectorizer.fit_transform(X_train)\n",
    "    X_test = vectorizer.transform(X_test)\n",
    "    y_train = y_train.astype('int')\n",
    "    y_test = y_test.astype('int')\n",
    "    \n",
    "    svm = LinearSVC(random_state=0, max_iter = 5000)\n",
    "    Cs = [0.001, 0.01, 0.1, 1, 10]\n",
    "    clf = GridSearchCV(estimator=svm, param_grid=dict(C=Cs),n_jobs=-1, scoring = 'f1', refit = True)\n",
    "    clf_fit = clf.fit(X_train, y_train, groups = train_groups)\n",
    "    clf_best = clf_fit.best_estimator_\n",
    "    y_test_pred_CR.extend(clf_best.predict(X_test))\n",
    "    score = clf.score(X_test, y_test)\n",
    "    scores.append(score)"
   ]
  },
  {
   "cell_type": "code",
   "execution_count": 16,
   "id": "d2c3cd4a",
   "metadata": {},
   "outputs": [
    {
     "name": "stdout",
     "output_type": "stream",
     "text": [
      "0.5299740259740261\n"
     ]
    }
   ],
   "source": [
    "print(sum(scores)/len(scores))"
   ]
  },
  {
   "cell_type": "markdown",
   "id": "c3a0101e",
   "metadata": {},
   "source": [
    "### Train on Labels_J.txt"
   ]
  },
  {
   "cell_type": "code",
   "execution_count": 17,
   "id": "20a16091",
   "metadata": {},
   "outputs": [],
   "source": [
    "# TF - IDF extraction\n",
    "scores = []\n",
    "y_test_pred_J = []\n",
    "for batch in train_val_test:\n",
    "    X_train = batch[0][\"sentences\"]\n",
    "    y_train = batch[0][\"label_J\"]\n",
    "    train_groups = batch[0][\"document\"]\n",
    "    X_test = batch[1][\"sentences\"]\n",
    "    y_test = batch[1][\"label_J\"]\n",
    "    \n",
    "    test_document = batch[1].document.unique()[0]\n",
    "    vectorizer = TfidfVectorizer()\n",
    "    X_train = vectorizer.fit_transform(X_train)\n",
    "    X_test = vectorizer.transform(X_test)\n",
    "    y_train = y_train.astype('int')\n",
    "    y_test = y_test.astype('int')\n",
    "    \n",
    "    svm = LinearSVC(random_state=0, max_iter = 5000)\n",
    "    Cs = [0.001, 0.01, 0.1, 1, 10]\n",
    "    clf = GridSearchCV(estimator=svm, param_grid=dict(C=Cs),n_jobs=-1, scoring = 'f1', refit = True)\n",
    "    clf_fit = clf.fit(X_train, y_train, groups = train_groups)\n",
    "    clf_best = clf_fit.best_estimator_\n",
    "    y_test_pred_J.extend(clf_best.predict(X_test))\n",
    "    score = clf.score(X_test, y_test)\n",
    "    scores.append(score)"
   ]
  },
  {
   "cell_type": "code",
   "execution_count": 18,
   "id": "5d5a6dcf",
   "metadata": {},
   "outputs": [
    {
     "name": "stdout",
     "output_type": "stream",
     "text": [
      "0.6178484848484849\n"
     ]
    }
   ],
   "source": [
    "print(sum(scores)/len(scores))"
   ]
  },
  {
   "cell_type": "markdown",
   "id": "889c8305",
   "metadata": {},
   "source": [
    "### Train on Labels_LAW.txt"
   ]
  },
  {
   "cell_type": "code",
   "execution_count": 19,
   "id": "a757de07",
   "metadata": {},
   "outputs": [],
   "source": [
    "# TF - IDF extraction\n",
    "scores = []\n",
    "y_test_pred_LAW = []\n",
    "for batch in train_val_test:\n",
    "    X_train = batch[0][\"sentences\"]\n",
    "    y_train = batch[0][\"label_LAW\"]\n",
    "    train_groups = batch[0][\"document\"]\n",
    "    X_test = batch[1][\"sentences\"]\n",
    "    y_test = batch[1][\"label_LAW\"]\n",
    "    \n",
    "    test_document = batch[1].document.unique()[0]\n",
    "    vectorizer = TfidfVectorizer()\n",
    "    X_train = vectorizer.fit_transform(X_train)\n",
    "    X_test = vectorizer.transform(X_test)\n",
    "    y_train = y_train.astype('int')\n",
    "    y_test = y_test.astype('int')\n",
    "    \n",
    "    svm = LinearSVC(random_state=0, max_iter = 5000)\n",
    "    Cs = [0.001, 0.01, 0.1, 1, 10]\n",
    "    clf = GridSearchCV(estimator=svm, param_grid=dict(C=Cs),n_jobs=-1, scoring = 'f1', refit = True)\n",
    "    clf_fit = clf.fit(X_train, y_train, groups = train_groups)\n",
    "    clf_best = clf_fit.best_estimator_\n",
    "    y_test_pred_LAW.extend(clf_best.predict(X_test))\n",
    "    score = clf.score(X_test, y_test)\n",
    "    scores.append(score)"
   ]
  },
  {
   "cell_type": "code",
   "execution_count": 20,
   "id": "ca71109b",
   "metadata": {},
   "outputs": [
    {
     "name": "stdout",
     "output_type": "stream",
     "text": [
      "0.7746666666666667\n"
     ]
    }
   ],
   "source": [
    "print(sum(scores)/len(scores))"
   ]
  },
  {
   "cell_type": "markdown",
   "id": "a9205089",
   "metadata": {},
   "source": [
    "### Train on Labels_LTD.txt"
   ]
  },
  {
   "cell_type": "code",
   "execution_count": 21,
   "id": "73f7e0aa",
   "metadata": {},
   "outputs": [],
   "source": [
    "# TF - IDF extraction\n",
    "scores = []\n",
    "y_test_pred_LTD = []\n",
    "\n",
    "for batch in train_val_test:\n",
    "    X_train = batch[0][\"sentences\"]\n",
    "    y_train = batch[0][\"label_LTD\"]\n",
    "    train_groups = batch[0][\"document\"]\n",
    "    X_test = batch[1][\"sentences\"]\n",
    "    y_test = batch[1][\"label_LTD\"]\n",
    "    \n",
    "    test_document = batch[1].document.unique()[0]\n",
    "    vectorizer = TfidfVectorizer()\n",
    "    X_train = vectorizer.fit_transform(X_train)\n",
    "    X_test = vectorizer.transform(X_test)\n",
    "    y_train = y_train.astype('int')\n",
    "    y_test = y_test.astype('int')\n",
    "    \n",
    "    svm = LinearSVC(random_state=0, max_iter = 5000)\n",
    "    Cs = [0.001, 0.01, 0.1, 1, 10]\n",
    "    clf = GridSearchCV(estimator=svm, param_grid=dict(C=Cs),n_jobs=-1, scoring = 'f1', refit = True)\n",
    "    clf_fit = clf.fit(X_train, y_train, groups = train_groups)\n",
    "    clf_best = clf_fit.best_estimator_\n",
    "    y_test_pred_LTD.extend(clf_best.predict(X_test))\n",
    "    score = clf.score(X_test, y_test)\n",
    "    scores.append(score)"
   ]
  },
  {
   "cell_type": "code",
   "execution_count": 22,
   "id": "1be6b814",
   "metadata": {},
   "outputs": [
    {
     "name": "stdout",
     "output_type": "stream",
     "text": [
      "0.66821146139722\n"
     ]
    }
   ],
   "source": [
    "print(sum(scores)/len(scores))"
   ]
  },
  {
   "cell_type": "markdown",
   "id": "32b25187",
   "metadata": {},
   "source": [
    "### Train on Labels_TER.txt"
   ]
  },
  {
   "cell_type": "code",
   "execution_count": 23,
   "id": "64991865",
   "metadata": {},
   "outputs": [],
   "source": [
    "# TF - IDF extraction\n",
    "scores = []\n",
    "y_test_pred_TER = []\n",
    "for batch in train_val_test:\n",
    "    X_train = batch[0][\"sentences\"]\n",
    "    y_train = batch[0][\"label_TER\"]\n",
    "    train_groups = batch[0][\"document\"]\n",
    "    X_test = batch[1][\"sentences\"]\n",
    "    y_test = batch[1][\"label_TER\"]\n",
    "    \n",
    "    test_document = batch[1].document.unique()[0]\n",
    "    vectorizer = TfidfVectorizer()\n",
    "    X_train = vectorizer.fit_transform(X_train)\n",
    "    X_test = vectorizer.transform(X_test)\n",
    "    y_train = y_train.astype('int')\n",
    "    y_test = y_test.astype('int')\n",
    "    \n",
    "    svm = LinearSVC(random_state=0, max_iter = 5000)\n",
    "    Cs = [0.001, 0.01, 0.1, 1, 10]\n",
    "    clf = GridSearchCV(estimator=svm, param_grid=dict(C=Cs),n_jobs=-1, scoring = 'f1', refit = True)\n",
    "    clf_fit = clf.fit(X_train, y_train, groups = train_groups)\n",
    "    clf_best = clf_fit.best_estimator_\n",
    "    y_test_pred_TER.extend(clf_best.predict(X_test))\n",
    "    score = clf.score(X_test, y_test)\n",
    "    scores.append(score)"
   ]
  },
  {
   "cell_type": "code",
   "execution_count": 24,
   "id": "9d843421",
   "metadata": {},
   "outputs": [
    {
     "name": "stdout",
     "output_type": "stream",
     "text": [
      "0.6574006810183282\n"
     ]
    }
   ],
   "source": [
    "print(sum(scores)/len(scores))"
   ]
  },
  {
   "cell_type": "markdown",
   "id": "cffd6d32",
   "metadata": {},
   "source": [
    "### Train on Labels_USE.txt"
   ]
  },
  {
   "cell_type": "code",
   "execution_count": 25,
   "id": "a8801839",
   "metadata": {},
   "outputs": [],
   "source": [
    "# TF - IDF extraction\n",
    "scores = []\n",
    "y_test_pred_USE = []\n",
    "y_test_all = []\n",
    "for batch in train_val_test:\n",
    "    X_train = batch[0][\"sentences\"]\n",
    "    y_train = batch[0][\"label_USE\"]\n",
    "    train_groups = batch[0][\"document\"]\n",
    "    X_test = batch[1][\"sentences\"]\n",
    "    y_test = batch[1][\"label_USE\"]\n",
    "    test_document = batch[1].document.unique()[0]\n",
    "    vectorizer = TfidfVectorizer()\n",
    "    X_train = vectorizer.fit_transform(X_train)\n",
    "    X_test = vectorizer.transform(X_test)\n",
    "    y_train = y_train.astype('int')\n",
    "    y_test = y_test.astype('int')\n",
    "    y_test_all.extend(batch[1][\"label\"])\n",
    "    svm = LinearSVC(random_state=0, max_iter = 5000)\n",
    "    Cs = [0.001, 0.01, 0.1, 1, 10]\n",
    "    clf = GridSearchCV(estimator=svm, param_grid=dict(C=Cs),n_jobs=-1, scoring = 'f1', refit = True)\n",
    "    clf_fit = clf.fit(X_train, y_train, groups = train_groups)\n",
    "    clf_best = clf_fit.best_estimator_\n",
    "    y_test_pred_USE.extend(clf_best.predict(X_test))\n",
    "    score = clf.score(X_test, y_test)\n",
    "    scores.append(score)"
   ]
  },
  {
   "cell_type": "code",
   "execution_count": 26,
   "id": "b15689bd",
   "metadata": {},
   "outputs": [
    {
     "name": "stdout",
     "output_type": "stream",
     "text": [
      "0.7015714285714288\n"
     ]
    }
   ],
   "source": [
    "print(sum(scores)/len(scores))"
   ]
  },
  {
   "cell_type": "markdown",
   "id": "78bfe57c",
   "metadata": {},
   "source": [
    "### Combine predictions"
   ]
  },
  {
   "cell_type": "code",
   "execution_count": 27,
   "id": "96b8d823",
   "metadata": {},
   "outputs": [],
   "source": [
    "y_pred = []\n",
    "for idx in range(len(y_test_all)):\n",
    "    if y_test_pred_A[idx] == 1 or y_test_pred_CH[idx] == 1 or y_test_pred_CR[idx] == 1 or y_test_pred_J[idx] == 1 or y_test_pred_LTD[idx] == 1 or y_test_pred_TER[idx] == 1 or y_test_pred_USE[idx] == 1:\n",
    "        y_pred.append(1)\n",
    "    else:\n",
    "        y_pred.append(0)"
   ]
  },
  {
   "cell_type": "code",
   "execution_count": 28,
   "id": "339ef20f",
   "metadata": {},
   "outputs": [
    {
     "name": "stdout",
     "output_type": "stream",
     "text": [
      "              precision    recall  f1-score   support\n",
      "\n",
      "           0       0.95      0.98      0.97      8382\n",
      "           1       0.83      0.61      0.70      1032\n",
      "\n",
      "    accuracy                           0.94      9414\n",
      "   macro avg       0.89      0.80      0.83      9414\n",
      "weighted avg       0.94      0.94      0.94      9414\n",
      "\n"
     ]
    }
   ],
   "source": [
    "report = classification_report(y_test_all, y_pred)\n",
    "print(report)"
   ]
  },
  {
   "cell_type": "code",
   "execution_count": null,
   "id": "172a1f82",
   "metadata": {},
   "outputs": [],
   "source": []
  }
 ],
 "metadata": {
  "kernelspec": {
   "display_name": "Python 3 (ipykernel)",
   "language": "python",
   "name": "python3"
  },
  "language_info": {
   "codemirror_mode": {
    "name": "ipython",
    "version": 3
   },
   "file_extension": ".py",
   "mimetype": "text/x-python",
   "name": "python",
   "nbconvert_exporter": "python",
   "pygments_lexer": "ipython3",
   "version": "3.8.10"
  }
 },
 "nbformat": 4,
 "nbformat_minor": 5
}
