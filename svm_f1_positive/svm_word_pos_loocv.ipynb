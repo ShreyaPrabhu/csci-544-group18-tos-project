{
 "cells": [
  {
   "cell_type": "markdown",
   "id": "5e23e5f3",
   "metadata": {},
   "source": [
    "#### SVM with Words and Pos Tags Leave One Document Out Cross Validation"
   ]
  },
  {
   "cell_type": "code",
   "execution_count": 1,
   "id": "775a61fa",
   "metadata": {},
   "outputs": [],
   "source": [
    "import nltk\n",
    "import ssl\n",
    "\n",
    "try:\n",
    "    _create_unverified_https_context = ssl._create_unverified_context\n",
    "except AttributeError:\n",
    "    pass\n",
    "else:\n",
    "    ssl._create_default_https_context = _create_unverified_https_context\n",
    "nltk.download('wordnet', quiet=True)\n",
    "nltk.download('punkt', quiet=True)\n",
    "nltk.download('omw-1.4', quiet=True)\n",
    "from nltk.tokenize import word_tokenize\n",
    "import pandas as pd\n",
    "import numpy as np\n",
    "import re\n",
    "import string\n",
    "import os\n",
    "from nltk.stem import WordNetLemmatizer\n",
    "from sklearn.svm import LinearSVC\n",
    "from sklearn.metrics import classification_report\n",
    "from sklearn.model_selection import train_test_split\n",
    "from sklearn.feature_extraction.text import TfidfVectorizer\n",
    "from sklearn.model_selection import LeaveOneGroupOut\n",
    "from sklearn.model_selection import GridSearchCV, cross_val_score\n",
    "import nltk\n",
    "from nltk.corpus import stopwords\n",
    "import warnings\n",
    "import contractions\n",
    "import unicodedata\n",
    "warnings.filterwarnings(\"ignore\")"
   ]
  },
  {
   "cell_type": "markdown",
   "id": "b4eb77c7",
   "metadata": {},
   "source": [
    "##### Use following to merge words in sentences with its respective pos tags"
   ]
  },
  {
   "cell_type": "code",
   "execution_count": 2,
   "id": "8d775af6",
   "metadata": {},
   "outputs": [],
   "source": [
    "files = os.listdir(\"./data/Postags/\")\n",
    "prefix_sentences = \"./data/Sentences/\"\n",
    "prefix_pos = \"./data/Postags/\"\n",
    "prefix_label = \"./data/Labels/\"\n",
    "\n",
    "\n",
    "def merge(sentence1, sentence2):\n",
    "    sentence = \"\"\n",
    "    s1splits = sentence1.split()\n",
    "    s2splits = sentence2.split()\n",
    "    for w1,w2 in zip(s1splits,s2splits):\n",
    "        sentence = sentence + w1 + \"/\" + w2 + \" \"\n",
    "    sentence.strip()\n",
    "    return sentence\n",
    "    \n",
    "word_pos = []\n",
    "for file in files:\n",
    "    label_file_path = prefix_label + file\n",
    "    sentences_file_path = prefix_sentences + file\n",
    "    postag_file_path = prefix_pos + file\n",
    "    pos_df = pd.read_csv(postag_file_path, sep=\"dummy_separator\", header=None)\n",
    "    pos_df.columns = [\"postag\"]\n",
    "    \n",
    "    sentences_df = pd.read_csv(sentences_file_path, sep=\"dummy_separator\", header=None)\n",
    "    sentences_df.columns = [\"sentence\"]\n",
    "     \n",
    "    sentences_df[\"postag\"] = pos_df[\"postag\"]\n",
    "    sentences_df[\"merged\"] = \"dummy text\"\n",
    "    for index, row in sentences_df.iterrows():\n",
    "        row[\"merged\"] = merge(row['sentence'], row['postag'])\n",
    "        \n",
    "    label_df = pd.read_csv(label_file_path, sep=\" \", header=None)\n",
    "    label_df.columns = [\"label\"]\n",
    "    label_df[\"label_converted\"] = np.where(label_df[\"label\"] == -1, 0, 1)\n",
    "    sentences_df[\"document\"] = file\n",
    "    df_concat = pd.concat([label_df[\"label_converted\"], sentences_df[[\"merged\", \"document\"]]], axis=1)\n",
    "    word_pos.append(df_concat)"
   ]
  },
  {
   "cell_type": "code",
   "execution_count": 3,
   "id": "41ac0192",
   "metadata": {},
   "outputs": [],
   "source": [
    "colnames = [\"label_converted\", \"merged\", \"document\"]\n",
    "clauses_df = pd.DataFrame(columns = colnames)\n",
    "for df in word_pos:\n",
    "    clauses_df = clauses_df.append(df)"
   ]
  },
  {
   "cell_type": "code",
   "execution_count": 4,
   "id": "bcd3cf12",
   "metadata": {},
   "outputs": [],
   "source": [
    "clauses_df.rename(columns={'label_converted': 'label', 'merged': 'sentences', 'document' : 'document'}, inplace=True)\n",
    "clauses_df.to_csv(\"data/word_pos_merged.csv\", index = False)"
   ]
  },
  {
   "cell_type": "code",
   "execution_count": 5,
   "id": "e3bc09a7",
   "metadata": {},
   "outputs": [
    {
     "data": {
      "text/html": [
       "<div>\n",
       "<style scoped>\n",
       "    .dataframe tbody tr th:only-of-type {\n",
       "        vertical-align: middle;\n",
       "    }\n",
       "\n",
       "    .dataframe tbody tr th {\n",
       "        vertical-align: top;\n",
       "    }\n",
       "\n",
       "    .dataframe thead th {\n",
       "        text-align: right;\n",
       "    }\n",
       "</style>\n",
       "<table border=\"1\" class=\"dataframe\">\n",
       "  <thead>\n",
       "    <tr style=\"text-align: right;\">\n",
       "      <th></th>\n",
       "      <th>label</th>\n",
       "      <th>sentences</th>\n",
       "      <th>document</th>\n",
       "    </tr>\n",
       "  </thead>\n",
       "  <tbody>\n",
       "    <tr>\n",
       "      <th>0</th>\n",
       "      <td>0</td>\n",
       "      <td>thanks/NNS for/IN sending/VBG us/PRP good/JJ v...</td>\n",
       "      <td>Viber.txt</td>\n",
       "    </tr>\n",
       "    <tr>\n",
       "      <th>1</th>\n",
       "      <td>0</td>\n",
       "      <td>you/PRP may/MD be/VB surprised/VBN ,/, but/CC ...</td>\n",
       "      <td>Viber.txt</td>\n",
       "    </tr>\n",
       "    <tr>\n",
       "      <th>2</th>\n",
       "      <td>0</td>\n",
       "      <td>the/DT terms/NNS of/IN use/NN -lrb-/-LRB- or/C...</td>\n",
       "      <td>Viber.txt</td>\n",
       "    </tr>\n",
       "    <tr>\n",
       "      <th>3</th>\n",
       "      <td>0</td>\n",
       "      <td>the/DT language/NN of/IN the/DT terms/NNS will...</td>\n",
       "      <td>Viber.txt</td>\n",
       "    </tr>\n",
       "    <tr>\n",
       "      <th>4</th>\n",
       "      <td>1</td>\n",
       "      <td>when/WRB you/PRP use/VBP our/PRP$ services/NNP...</td>\n",
       "      <td>Viber.txt</td>\n",
       "    </tr>\n",
       "    <tr>\n",
       "      <th>...</th>\n",
       "      <td>...</td>\n",
       "      <td>...</td>\n",
       "      <td>...</td>\n",
       "    </tr>\n",
       "    <tr>\n",
       "      <th>142</th>\n",
       "      <td>0</td>\n",
       "      <td>the/DT failure/NN of/IN onavo/NNP to/TO enforc...</td>\n",
       "      <td>Onavo.txt</td>\n",
       "    </tr>\n",
       "    <tr>\n",
       "      <th>143</th>\n",
       "      <td>0</td>\n",
       "      <td>the/DT section/NN headings/NNS in/IN the/DT ag...</td>\n",
       "      <td>Onavo.txt</td>\n",
       "    </tr>\n",
       "    <tr>\n",
       "      <th>144</th>\n",
       "      <td>0</td>\n",
       "      <td>``/`` including/VBG ''/'' ,/, whether/IN capit...</td>\n",
       "      <td>Onavo.txt</td>\n",
       "    </tr>\n",
       "    <tr>\n",
       "      <th>145</th>\n",
       "      <td>0</td>\n",
       "      <td>this/DT agreement/NN may/MD not/RB be/VB assig...</td>\n",
       "      <td>Onavo.txt</td>\n",
       "    </tr>\n",
       "    <tr>\n",
       "      <th>146</th>\n",
       "      <td>0</td>\n",
       "      <td>last/JJ updated/VBN :/: december/NNP 20/CD ,/,...</td>\n",
       "      <td>Onavo.txt</td>\n",
       "    </tr>\n",
       "  </tbody>\n",
       "</table>\n",
       "<p>9414 rows × 3 columns</p>\n",
       "</div>"
      ],
      "text/plain": [
       "    label                                          sentences   document\n",
       "0       0  thanks/NNS for/IN sending/VBG us/PRP good/JJ v...  Viber.txt\n",
       "1       0  you/PRP may/MD be/VB surprised/VBN ,/, but/CC ...  Viber.txt\n",
       "2       0  the/DT terms/NNS of/IN use/NN -lrb-/-LRB- or/C...  Viber.txt\n",
       "3       0  the/DT language/NN of/IN the/DT terms/NNS will...  Viber.txt\n",
       "4       1  when/WRB you/PRP use/VBP our/PRP$ services/NNP...  Viber.txt\n",
       "..    ...                                                ...        ...\n",
       "142     0  the/DT failure/NN of/IN onavo/NNP to/TO enforc...  Onavo.txt\n",
       "143     0  the/DT section/NN headings/NNS in/IN the/DT ag...  Onavo.txt\n",
       "144     0  ``/`` including/VBG ''/'' ,/, whether/IN capit...  Onavo.txt\n",
       "145     0  this/DT agreement/NN may/MD not/RB be/VB assig...  Onavo.txt\n",
       "146     0  last/JJ updated/VBN :/: december/NNP 20/CD ,/,...  Onavo.txt\n",
       "\n",
       "[9414 rows x 3 columns]"
      ]
     },
     "execution_count": 5,
     "metadata": {},
     "output_type": "execute_result"
    }
   ],
   "source": [
    "clauses_df"
   ]
  },
  {
   "cell_type": "code",
   "execution_count": 6,
   "id": "98e993a4",
   "metadata": {},
   "outputs": [],
   "source": [
    "assert (clauses_df.isnull().sum().all() == 0)"
   ]
  },
  {
   "cell_type": "code",
   "execution_count": 7,
   "id": "0a51c9a1",
   "metadata": {},
   "outputs": [],
   "source": [
    "def to_lower(data: pd.Series):\n",
    "    return data.str.lower()\n",
    "\n",
    "def remove_accented_characters(data: pd.Series):\n",
    "    return data.apply(lambda x: unicodedata.normalize(\"NFKD\", x).encode(\"ascii\", \"ignore\").decode(\"utf-8\", \"ignore\"))\n",
    "\n",
    "def remove_html_encodings(data: pd.Series):\n",
    "    return data.str.replace(r\"\\d+;\", \" \", regex=True)\n",
    "\n",
    "def remove_html_tags(data: pd.Series):\n",
    "    return data.str.replace(r\"<[a-zA-Z]+\\s?/?>\", \" \", regex=True)\n",
    "\n",
    "def remove_url(data: pd.Series):\n",
    "    return data.str.replace(r\"https?://([\\w\\-\\._]+){2,}/[\\w\\-\\.\\-/=\\+_\\?]+\", \" \", regex=True)\n",
    "\n",
    "def remove_html_and_url(data: pd.Series):\n",
    "    data.str.replace(r\"\\d+;\", \" \", regex=True)\n",
    "    data.str.replace(r\"<[a-zA-Z]+\\s?/?>\", \" \", regex=True)\n",
    "    data.str.replace(r\"https?://([\\w\\-\\._]+){2,}/[\\w\\-\\.\\-/=\\+_\\?]+\", \" \", regex=True)\n",
    "    return data\n",
    "\n",
    "def remove_extra_spaces(data: pd.Series):\n",
    "    return data.str.replace(r\"^\\s*|\\s\\s*\", \" \", regex=True)\n",
    "                     \n",
    "def remove_non_alpha_characters(data: pd.Series):\n",
    "    return data.str.replace(r\"_+|\\\\|[^a-zA-Z0-9\\s]\", \" \", regex=True)\n",
    "\n",
    "def fix_contractions(data: pd.Series):\n",
    "    def contraction_fixer(txt: str):\n",
    "        return \" \".join([contractions.fix(word) for word in txt.split()])\n",
    "    return data.apply(contraction_fixer)\n",
    "\n",
    "def remove_special_words(data: pd.Series):\n",
    "    return data.str.replace(r\"\\-[^a-zA-Z]{3}\\-\", \" \", regex=True)\n",
    "                     \n",
    "data_cleaning_pipeline = {\n",
    "    \"sentences\": [\n",
    "        to_lower,\n",
    "        remove_special_words,\n",
    "        remove_accented_characters,\n",
    "        remove_html_encodings,\n",
    "        remove_html_tags,\n",
    "        remove_url,\n",
    "        fix_contractions,\n",
    "        remove_non_alpha_characters,\n",
    "        remove_extra_spaces,\n",
    "    ]\n",
    "}\n",
    "\n",
    "cleaned_data = clauses_df.copy()\n",
    "\n",
    "# for col, pipeline in data_cleaning_pipeline.items():\n",
    "#     temp_data = cleaned_data[col].copy()\n",
    "#     for func in pipeline:\n",
    "#         print(f\"Starting: {func.__name__}\")\n",
    "#         temp_data = func(temp_data)\n",
    "#         print(f\"Ended: {func.__name__}\")\n",
    "#     cleaned_data[col] = temp_data.copy()"
   ]
  },
  {
   "cell_type": "code",
   "execution_count": 8,
   "id": "d199175a",
   "metadata": {},
   "outputs": [
    {
     "data": {
      "text/plain": [
       "array(['Viber.txt', 'Nintendo.txt', 'Tinder.txt', 'Dropbox.txt',\n",
       "       'Microsoft.txt', 'Betterpoints_UK.txt', 'Airbnb.txt',\n",
       "       'musically.txt', 'Crowdtangle.txt', 'TripAdvisor.txt',\n",
       "       'Deliveroo.txt', 'Moves-app.txt', 'Spotify.txt', 'Supercell.txt',\n",
       "       '9gag.txt', 'Booking.txt', 'Headspace.txt', 'Fitbit.txt',\n",
       "       'Syncme.txt', 'Vimeo.txt', 'Oculus.txt', 'Endomondo.txt',\n",
       "       'Instagram.txt', 'LindenLab.txt', 'WorldOfWarcraft.txt',\n",
       "       'YouTube.txt', 'Academia.txt', 'Yahoo.txt', 'WhatsApp.txt',\n",
       "       'Google.txt', 'Zynga.txt', 'Facebook.txt', 'Amazon.txt',\n",
       "       'Vivino.txt', 'Netflix.txt', 'PokemonGo.txt', 'Skype.txt',\n",
       "       'Snap.txt', 'eBay.txt', 'Masquerade.txt', 'Twitter.txt',\n",
       "       'LinkedIn.txt', 'Skyscanner.txt', 'Duolingo.txt', 'TrueCaller.txt',\n",
       "       'Uber.txt', 'Rovio.txt', 'Atlas.txt', 'Evernote.txt', 'Onavo.txt'],\n",
       "      dtype=object)"
      ]
     },
     "execution_count": 8,
     "metadata": {},
     "output_type": "execute_result"
    }
   ],
   "source": [
    "cleaned_data.document.unique()"
   ]
  },
  {
   "cell_type": "code",
   "execution_count": 9,
   "id": "eff225b0",
   "metadata": {},
   "outputs": [
    {
     "data": {
      "text/plain": [
       "50"
      ]
     },
     "execution_count": 9,
     "metadata": {},
     "output_type": "execute_result"
    }
   ],
   "source": [
    "logo = LeaveOneGroupOut()\n",
    "X = cleaned_data['sentences']\n",
    "y = cleaned_data['label']\n",
    "group = cleaned_data['document']\n",
    "logo.get_n_splits(X, y, group)"
   ]
  },
  {
   "cell_type": "code",
   "execution_count": 10,
   "id": "b478f493",
   "metadata": {},
   "outputs": [],
   "source": [
    "train_val_test = []\n",
    "for train_val_index, test_index in logo.split(X, y, group):\n",
    "    train_val, test = cleaned_data.iloc[train_val_index], cleaned_data.iloc[test_index]\n",
    "    train_val_test.append((train_val, test))"
   ]
  },
  {
   "cell_type": "code",
   "execution_count": 11,
   "id": "b21a1657",
   "metadata": {},
   "outputs": [
    {
     "data": {
      "text/plain": [
       "{(1, 1): 0.7277559040443506,\n",
       " (1, 2): 0.7628525372712782,\n",
       " (2, 2): 0.7507132632645692,\n",
       " (1, 3): 0.7807430838056204,\n",
       " (2, 3): 0.7672602063181105,\n",
       " (3, 3): 0.7532668958661458}"
      ]
     },
     "execution_count": 11,
     "metadata": {},
     "output_type": "execute_result"
    }
   ],
   "source": [
    "ngram_ranges = [(1,1), (1,2), (2,2), (1,3), (2,3), (3,3)]\n",
    "scores_compare = {}\n",
    "for nrange in ngram_ranges:\n",
    "    scores = []\n",
    "    for batch in train_val_test:\n",
    "        X_train = batch[0][\"sentences\"]\n",
    "        y_train = batch[0][\"label\"]\n",
    "        train_groups = batch[0][\"document\"]\n",
    "        X_test = batch[1][\"sentences\"]\n",
    "        y_test = batch[1][\"label\"]\n",
    "    \n",
    "        test_document = batch[1].document.unique()[0]\n",
    "        vectorizer = TfidfVectorizer(lowercase = True, ngram_range = nrange)\n",
    "        X_train = vectorizer.fit_transform(X_train)\n",
    "        X_test = vectorizer.transform(X_test)\n",
    "        y_train = y_train.astype('int')\n",
    "        y_test = y_test.astype('int')\n",
    "    \n",
    "        svm = LinearSVC(random_state=0, max_iter = 5000)\n",
    "        Cs = [0.001, 0.01, 0.1, 1, 10]\n",
    "        clf = GridSearchCV(estimator=svm, param_grid=dict(C=Cs),n_jobs=-1, scoring = 'f1', refit = True)\n",
    "        clf.fit(X_train, y_train, groups = train_groups)\n",
    "        score = clf.score(X_test, y_test)\n",
    "        scores.append(score)\n",
    "    average_test_f1_score = sum(scores)/len(scores)\n",
    "    scores_compare[nrange] = average_test_f1_score\n",
    "\n",
    "scores_compare"
   ]
  },
  {
   "cell_type": "code",
   "execution_count": 12,
   "id": "b015fbe5",
   "metadata": {},
   "outputs": [
    {
     "name": "stdout",
     "output_type": "stream",
     "text": [
      "Average F1 score from Leave one out document : 0.7807430838056204\n"
     ]
    }
   ],
   "source": [
    "print(\"Average F1 score from Leave one out document : \" + str(max(scores_compare.values())))"
   ]
  },
  {
   "cell_type": "code",
   "execution_count": 13,
   "id": "75ddc047",
   "metadata": {},
   "outputs": [
    {
     "name": "stdout",
     "output_type": "stream",
     "text": [
      "N grams that gave maximum F1 score: (1, 3)\n"
     ]
    }
   ],
   "source": [
    "print(\"N grams that gave maximum F1 score: \" + str(max(scores_compare, key=scores_compare.get)))"
   ]
  }
 ],
 "metadata": {
  "kernelspec": {
   "display_name": "Python 3 (ipykernel)",
   "language": "python",
   "name": "python3"
  },
  "language_info": {
   "codemirror_mode": {
    "name": "ipython",
    "version": 3
   },
   "file_extension": ".py",
   "mimetype": "text/x-python",
   "name": "python",
   "nbconvert_exporter": "python",
   "pygments_lexer": "ipython3",
   "version": "3.8.10"
  },
  "vscode": {
   "interpreter": {
    "hash": "aee8b7b246df8f9039afb4144a1f6fd8d2ca17a180786b69acc140d282b71a49"
   }
  }
 },
 "nbformat": 4,
 "nbformat_minor": 5
}
