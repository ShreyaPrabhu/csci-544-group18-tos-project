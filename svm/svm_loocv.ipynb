{
 "cells": [
  {
   "cell_type": "markdown",
   "id": "5e23e5f3",
   "metadata": {},
   "source": [
    "#### SVM with Leave One Document Out Cross Validation"
   ]
  },
  {
   "cell_type": "code",
   "execution_count": 1,
   "id": "775a61fa",
   "metadata": {},
   "outputs": [],
   "source": [
    "import nltk\n",
    "import ssl\n",
    "\n",
    "try:\n",
    "    _create_unverified_https_context = ssl._create_unverified_context\n",
    "except AttributeError:\n",
    "    pass\n",
    "else:\n",
    "    ssl._create_default_https_context = _create_unverified_https_context\n",
    "nltk.download('wordnet', quiet=True)\n",
    "nltk.download('punkt', quiet=True)\n",
    "nltk.download('omw-1.4', quiet=True)\n",
    "import pandas as pd\n",
    "import numpy as np\n",
    "import re\n",
    "import string\n",
    "import os\n",
    "from nltk.stem import WordNetLemmatizer\n",
    "from sklearn.svm import LinearSVC\n",
    "from sklearn.metrics import classification_report\n",
    "from sklearn.model_selection import train_test_split\n",
    "from sklearn.feature_extraction.text import TfidfVectorizer\n",
    "from sklearn.model_selection import LeaveOneGroupOut\n",
    "from sklearn.model_selection import GridSearchCV, cross_val_score\n",
    "import nltk\n",
    "from nltk.corpus import stopwords\n",
    "import warnings\n",
    "warnings.filterwarnings(\"ignore\")"
   ]
  },
  {
   "cell_type": "code",
   "execution_count": 2,
   "id": "7472f74d",
   "metadata": {},
   "outputs": [],
   "source": [
    "files = os.listdir(\"./data/Sentences/\")\n",
    "prefix_sentence = \"./data/Sentences/\"\n",
    "prefix_label = \"./data/Labels/\"\n",
    "\n",
    "clauses = []\n",
    "for file in files:\n",
    "    sentence_file_path = prefix_sentence + file \n",
    "    label_file_path = prefix_label + file\n",
    "    sentences_df = pd.read_csv(sentence_file_path, sep=\"dummy_separator\", header=None)\n",
    "    sentences_df.columns = [\"sentences\"]\n",
    "    label_df = pd.read_csv(label_file_path, sep=\" \", header=None)\n",
    "    label_df.columns = [\"label\"]\n",
    "    label_df[\"label_converted\"] = np.where(label_df[\"label\"] == -1, 0, 1)\n",
    "    sentences_df[\"document\"] = file\n",
    "    df_concat = pd.concat([label_df[\"label_converted\"], sentences_df], axis=1)\n",
    "    clauses.append(df_concat)"
   ]
  },
  {
   "cell_type": "code",
   "execution_count": 3,
   "id": "41ac0192",
   "metadata": {},
   "outputs": [],
   "source": [
    "colnames = [\"sentences\", \"label_converted\", \"document\"]\n",
    "clauses_df = pd.DataFrame(columns = colnames)\n",
    "for df in clauses:\n",
    "    clauses_df = clauses_df.append(df)"
   ]
  },
  {
   "cell_type": "code",
   "execution_count": 4,
   "id": "bcd3cf12",
   "metadata": {},
   "outputs": [],
   "source": [
    "clauses_df.rename(columns={'label_converted': 'label', 'sentences': 'sentences', 'document' : 'document'}, inplace=True)"
   ]
  },
  {
   "cell_type": "code",
   "execution_count": 5,
   "id": "e3bc09a7",
   "metadata": {},
   "outputs": [
    {
     "data": {
      "text/html": [
       "<div>\n",
       "<style scoped>\n",
       "    .dataframe tbody tr th:only-of-type {\n",
       "        vertical-align: middle;\n",
       "    }\n",
       "\n",
       "    .dataframe tbody tr th {\n",
       "        vertical-align: top;\n",
       "    }\n",
       "\n",
       "    .dataframe thead th {\n",
       "        text-align: right;\n",
       "    }\n",
       "</style>\n",
       "<table border=\"1\" class=\"dataframe\">\n",
       "  <thead>\n",
       "    <tr style=\"text-align: right;\">\n",
       "      <th></th>\n",
       "      <th>sentences</th>\n",
       "      <th>label</th>\n",
       "      <th>document</th>\n",
       "    </tr>\n",
       "  </thead>\n",
       "  <tbody>\n",
       "    <tr>\n",
       "      <th>0</th>\n",
       "      <td>thanks for sending us good vibes by using the ...</td>\n",
       "      <td>0</td>\n",
       "      <td>Viber.txt</td>\n",
       "    </tr>\n",
       "    <tr>\n",
       "      <th>1</th>\n",
       "      <td>you may be surprised , but we will refer to al...</td>\n",
       "      <td>0</td>\n",
       "      <td>Viber.txt</td>\n",
       "    </tr>\n",
       "    <tr>\n",
       "      <th>2</th>\n",
       "      <td>the terms of use -lrb- or , the `` terms '' -r...</td>\n",
       "      <td>0</td>\n",
       "      <td>Viber.txt</td>\n",
       "    </tr>\n",
       "    <tr>\n",
       "      <th>3</th>\n",
       "      <td>the language of the terms will seem legal -lrb...</td>\n",
       "      <td>0</td>\n",
       "      <td>Viber.txt</td>\n",
       "    </tr>\n",
       "    <tr>\n",
       "      <th>4</th>\n",
       "      <td>when you use our services , in addition to enj...</td>\n",
       "      <td>1</td>\n",
       "      <td>Viber.txt</td>\n",
       "    </tr>\n",
       "    <tr>\n",
       "      <th>...</th>\n",
       "      <td>...</td>\n",
       "      <td>...</td>\n",
       "      <td>...</td>\n",
       "    </tr>\n",
       "    <tr>\n",
       "      <th>142</th>\n",
       "      <td>the failure of onavo to enforce any right or p...</td>\n",
       "      <td>0</td>\n",
       "      <td>Onavo.txt</td>\n",
       "    </tr>\n",
       "    <tr>\n",
       "      <th>143</th>\n",
       "      <td>the section headings in the agreement are incl...</td>\n",
       "      <td>0</td>\n",
       "      <td>Onavo.txt</td>\n",
       "    </tr>\n",
       "    <tr>\n",
       "      <th>144</th>\n",
       "      <td>`` including '' , whether capitalized or not ,...</td>\n",
       "      <td>0</td>\n",
       "      <td>Onavo.txt</td>\n",
       "    </tr>\n",
       "    <tr>\n",
       "      <th>145</th>\n",
       "      <td>this agreement may not be assigned by you with...</td>\n",
       "      <td>0</td>\n",
       "      <td>Onavo.txt</td>\n",
       "    </tr>\n",
       "    <tr>\n",
       "      <th>146</th>\n",
       "      <td>last updated : december 20 , 2013</td>\n",
       "      <td>0</td>\n",
       "      <td>Onavo.txt</td>\n",
       "    </tr>\n",
       "  </tbody>\n",
       "</table>\n",
       "<p>9414 rows × 3 columns</p>\n",
       "</div>"
      ],
      "text/plain": [
       "                                             sentences label   document\n",
       "0    thanks for sending us good vibes by using the ...     0  Viber.txt\n",
       "1    you may be surprised , but we will refer to al...     0  Viber.txt\n",
       "2    the terms of use -lrb- or , the `` terms '' -r...     0  Viber.txt\n",
       "3    the language of the terms will seem legal -lrb...     0  Viber.txt\n",
       "4    when you use our services , in addition to enj...     1  Viber.txt\n",
       "..                                                 ...   ...        ...\n",
       "142  the failure of onavo to enforce any right or p...     0  Onavo.txt\n",
       "143  the section headings in the agreement are incl...     0  Onavo.txt\n",
       "144  `` including '' , whether capitalized or not ,...     0  Onavo.txt\n",
       "145  this agreement may not be assigned by you with...     0  Onavo.txt\n",
       "146                  last updated : december 20 , 2013     0  Onavo.txt\n",
       "\n",
       "[9414 rows x 3 columns]"
      ]
     },
     "execution_count": 5,
     "metadata": {},
     "output_type": "execute_result"
    }
   ],
   "source": [
    "clauses_df"
   ]
  },
  {
   "cell_type": "code",
   "execution_count": 6,
   "id": "98e993a4",
   "metadata": {},
   "outputs": [],
   "source": [
    "assert (clauses_df.isnull().sum().all() == 0)"
   ]
  },
  {
   "cell_type": "code",
   "execution_count": 7,
   "id": "285f2778",
   "metadata": {},
   "outputs": [],
   "source": [
    "# perform lemmatization\n",
    "# not needed \n",
    "\n",
    "wnl = WordNetLemmatizer()\n",
    "clauses_df['sentences'] = clauses_df['sentences']\\\n",
    ".apply(lambda x: \" \".join([wnl.lemmatize(w) \n",
    "                           for w in nltk.word_tokenize(x)]))"
   ]
  },
  {
   "cell_type": "code",
   "execution_count": 8,
   "id": "d199175a",
   "metadata": {},
   "outputs": [
    {
     "data": {
      "text/plain": [
       "array(['Viber.txt', 'Nintendo.txt', 'Tinder.txt', 'Dropbox.txt',\n",
       "       'Microsoft.txt', 'Betterpoints_UK.txt', 'Airbnb.txt',\n",
       "       'musically.txt', 'Crowdtangle.txt', 'TripAdvisor.txt',\n",
       "       'Deliveroo.txt', 'Moves-app.txt', 'Spotify.txt', 'Supercell.txt',\n",
       "       '9gag.txt', 'Booking.txt', 'Headspace.txt', 'Fitbit.txt',\n",
       "       'Syncme.txt', 'Vimeo.txt', 'Oculus.txt', 'Endomondo.txt',\n",
       "       'Instagram.txt', 'LindenLab.txt', 'WorldOfWarcraft.txt',\n",
       "       'YouTube.txt', 'Academia.txt', 'Yahoo.txt', 'WhatsApp.txt',\n",
       "       'Google.txt', 'Zynga.txt', 'Facebook.txt', 'Amazon.txt',\n",
       "       'Vivino.txt', 'Netflix.txt', 'PokemonGo.txt', 'Skype.txt',\n",
       "       'Snap.txt', 'eBay.txt', 'Masquerade.txt', 'Twitter.txt',\n",
       "       'LinkedIn.txt', 'Skyscanner.txt', 'Duolingo.txt', 'TrueCaller.txt',\n",
       "       'Uber.txt', 'Rovio.txt', 'Atlas.txt', 'Evernote.txt', 'Onavo.txt'],\n",
       "      dtype=object)"
      ]
     },
     "execution_count": 8,
     "metadata": {},
     "output_type": "execute_result"
    }
   ],
   "source": [
    "clauses_df.document.unique()"
   ]
  },
  {
   "cell_type": "code",
   "execution_count": 9,
   "id": "eff225b0",
   "metadata": {},
   "outputs": [
    {
     "data": {
      "text/plain": [
       "50"
      ]
     },
     "execution_count": 9,
     "metadata": {},
     "output_type": "execute_result"
    }
   ],
   "source": [
    "logo = LeaveOneGroupOut()\n",
    "X = clauses_df['sentences']\n",
    "y = clauses_df['label']\n",
    "group = clauses_df['document']\n",
    "logo.get_n_splits(X, y, group)"
   ]
  },
  {
   "cell_type": "code",
   "execution_count": 10,
   "id": "b478f493",
   "metadata": {},
   "outputs": [],
   "source": [
    "train_val_test = []\n",
    "for train_val_index, test_index in logo.split(X, y, group):\n",
    "    train_val, test = clauses_df.iloc[train_val_index], clauses_df.iloc[test_index]\n",
    "    train_val_test.append((train_val, test))"
   ]
  },
  {
   "cell_type": "code",
   "execution_count": 11,
   "id": "b21a1657",
   "metadata": {},
   "outputs": [],
   "source": [
    "# TF - IDF extraction\n",
    "scores = []\n",
    "for batch in train_val_test:\n",
    "    X_train = batch[0][\"sentences\"]\n",
    "    y_train = batch[0][\"label\"]\n",
    "    train_groups = batch[0][\"document\"]\n",
    "    X_test = batch[1][\"sentences\"]\n",
    "    y_test = batch[1][\"label\"]\n",
    "    \n",
    "    test_document = batch[1].document.unique()[0]\n",
    "    vectorizer = TfidfVectorizer()\n",
    "    X_train = vectorizer.fit_transform(X_train)\n",
    "    X_test = vectorizer.transform(X_test)\n",
    "    y_train = y_train.astype('int')\n",
    "    y_test = y_test.astype('int')\n",
    "    \n",
    "    svm = LinearSVC(random_state=0, max_iter = 5000)\n",
    "    Cs = [0.001, 0.01, 0.1, 1, 10]\n",
    "    clf = GridSearchCV(estimator=svm, param_grid=dict(C=Cs),n_jobs=-1, scoring = 'f1_macro', refit = True)\n",
    "    clf.fit(X_train, y_train, groups = train_groups)\n",
    "    score = clf.score(X_test, y_test)\n",
    "    scores.append(score)"
   ]
  },
  {
   "cell_type": "code",
   "execution_count": 12,
   "id": "b015fbe5",
   "metadata": {},
   "outputs": [
    {
     "name": "stdout",
     "output_type": "stream",
     "text": [
      "Average F1 score from Leave one out document : 0.8438240413629698\n"
     ]
    }
   ],
   "source": [
    "average_test_f1_score = sum(scores)/len(scores)\n",
    "print(\"Average F1 score from Leave one out document : \" + str(average_test_f1_score))"
   ]
  },
  {
   "cell_type": "markdown",
   "id": "8758c759",
   "metadata": {},
   "source": [
    "### Contractions and stop words"
   ]
  },
  {
   "cell_type": "code",
   "execution_count": 13,
   "id": "f9bea441",
   "metadata": {},
   "outputs": [],
   "source": [
    "clauses_copy = clauses_df.copy()\n",
    "# contractions \n",
    "def handle_contractions(sentence):\n",
    "    sentence = re.sub(r\"won\\'t\", \"will not\", sentence)\n",
    "    sentence = re.sub(r\"can\\'t\", \"can not\", sentence)\n",
    "    sentence = re.sub(r\"n\\'t\", \" not\", sentence)\n",
    "    sentence = re.sub(r\"\\'re\", \" are\", sentence)\n",
    "    sentence = re.sub(r\"\\'s\", \" is\", sentence)\n",
    "    sentence = re.sub(r\"\\'d\", \" would\", sentence)\n",
    "    sentence = re.sub(r\"\\'ll\", \" will\", sentence)\n",
    "    sentence = re.sub(r\"\\'t\", \" not\", sentence)\n",
    "    sentence = re.sub(r\"\\'ve\", \" have\", sentence)\n",
    "    sentence = re.sub(r\"\\'m\", \" am\", sentence)\n",
    "    return sentence\n",
    "\n",
    "# stopwords\n",
    "def remove_stopwords(sentence):\n",
    "    filtered_words = [word for word in sentence.split() if word not in stopwords.words('english')]\n",
    "    return \" \".join(filtered_words)\n",
    "\n",
    "processed_clauses = clauses_copy.copy()\n",
    "processed_clauses['sentences'] = clauses_df['sentences'].apply(handle_contractions)\n",
    "#processed_clauses['sentences'] = clauses_df['sentences'].apply(remove_stopwords)"
   ]
  },
  {
   "cell_type": "code",
   "execution_count": 14,
   "id": "81327b9d",
   "metadata": {},
   "outputs": [
    {
     "data": {
      "text/plain": [
       "50"
      ]
     },
     "execution_count": 14,
     "metadata": {},
     "output_type": "execute_result"
    }
   ],
   "source": [
    "logo = LeaveOneGroupOut()\n",
    "X = processed_clauses['sentences']\n",
    "y = processed_clauses['label']\n",
    "group = processed_clauses['document']\n",
    "logo.get_n_splits(X, y, group)"
   ]
  },
  {
   "cell_type": "code",
   "execution_count": 15,
   "id": "03414caa",
   "metadata": {},
   "outputs": [],
   "source": [
    "train_val_test = []\n",
    "for train_val_index, test_index in logo.split(X, y, group):\n",
    "    train_val, test = processed_clauses.iloc[train_val_index], processed_clauses.iloc[test_index]\n",
    "    train_val_test.append((train_val, test))"
   ]
  },
  {
   "cell_type": "code",
   "execution_count": 16,
   "id": "cb6cd8aa",
   "metadata": {
    "scrolled": false
   },
   "outputs": [],
   "source": [
    "# TF - IDF extraction\n",
    "scores = []\n",
    "for batch in train_val_test:\n",
    "    X_train = batch[0][\"sentences\"]\n",
    "    y_train = batch[0][\"label\"]\n",
    "    train_groups = batch[0][\"document\"]\n",
    "    X_test = batch[1][\"sentences\"]\n",
    "    y_test = batch[1][\"label\"]\n",
    "    \n",
    "    test_document = batch[1].document.unique()[0]\n",
    "    vectorizer = TfidfVectorizer()\n",
    "    X_train = vectorizer.fit_transform(X_train)\n",
    "    X_test = vectorizer.transform(X_test)\n",
    "    y_train = y_train.astype('int')\n",
    "    y_test = y_test.astype('int')\n",
    "    \n",
    "    svm = LinearSVC(random_state=0, max_iter = 5000)\n",
    "    Cs = [0.001, 0.01, 0.1, 1, 10]\n",
    "    clf = GridSearchCV(estimator=svm, param_grid=dict(C=Cs),n_jobs=-1, scoring = 'f1_macro', refit = True)\n",
    "    clf.fit(X_train, y_train, groups = train_groups)\n",
    "    score = clf.score(X_test, y_test)\n",
    "    scores.append(score)"
   ]
  },
  {
   "cell_type": "code",
   "execution_count": 17,
   "id": "78cbe3af",
   "metadata": {},
   "outputs": [
    {
     "name": "stdout",
     "output_type": "stream",
     "text": [
      "Average F1 score from Leave one out document : 0.8415685757311704\n"
     ]
    }
   ],
   "source": [
    "average_test_f1_score = sum(scores)/len(scores)\n",
    "print(\"Average F1 score from Leave one out document : \" + str(average_test_f1_score))"
   ]
  },
  {
   "cell_type": "markdown",
   "id": "c954ad4f",
   "metadata": {},
   "source": [
    "#### Using stop words reduces F1 Score to 81%. Without stop words and contractions, the score obtained is higher."
   ]
  }
 ],
 "metadata": {
  "kernelspec": {
   "display_name": "Python 3 (ipykernel)",
   "language": "python",
   "name": "python3"
  },
  "language_info": {
   "codemirror_mode": {
    "name": "ipython",
    "version": 3
   },
   "file_extension": ".py",
   "mimetype": "text/x-python",
   "name": "python",
   "nbconvert_exporter": "python",
   "pygments_lexer": "ipython3",
   "version": "3.8.10"
  }
 },
 "nbformat": 4,
 "nbformat_minor": 5
}
